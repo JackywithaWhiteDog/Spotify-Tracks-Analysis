{
 "cells": [
  {
   "cell_type": "code",
   "execution_count": 1,
   "metadata": {},
   "outputs": [],
   "source": [
    "import spotipy\n",
    "from spotipy.oauth2 import SpotifyClientCredentials\n",
    "import os\n",
    "os.environ[\"SPOTIPY_CLIENT_ID\"] = 'b1511210915a4096988d72740d6d9b51'\n",
    "os.environ[\"SPOTIPY_CLIENT_SECRET\"] = '5c79e21e3a5e459792400e570e6e1d27'\n",
    "sp = spotipy.Spotify(client_credentials_manager=SpotifyClientCredentials(requests_timeout=None))"
   ]
  },
  {
   "cell_type": "code",
   "execution_count": 2,
   "metadata": {},
   "outputs": [],
   "source": [
    "import numpy as np\n",
    "import pandas as pd\n",
    "import random\n",
    "import sys\n",
    "\n",
    "def search_genre(genre, offset=0, max_n=None):\n",
    "    if max_n is None:\n",
    "        max_n = sp.search(q=f'genre:\"{genre}\"', offset=0, limit=1, type='track').get('tracks').get('total')\n",
    "    if max_n <= 50:\n",
    "        search = sp.search(q=f'genre:\"{genre}\"', offset=offset, limit=max_n, type='track').get('tracks')\n",
    "    else:\n",
    "        search = {}\n",
    "        search['total'] = 0\n",
    "        search['items'] = []\n",
    "        while search['total'] < max_n:\n",
    "            step = search['total']+1\n",
    "            print(f'\\r[{step}/{max_n}] (search)', end='')\n",
    "            num = min(50, max_n-search['total'])\n",
    "            try:\n",
    "                tmp = sp.search(q=f'genre:\"{genre}\"', offset=offset+search['total'], limit=num, type='track').get('tracks')\n",
    "            except:\n",
    "                break\n",
    "            search['items'].extend(tmp.get('items'))\n",
    "            search['total'] += len(tmp.get('items'))\n",
    "    return search\n",
    "\n",
    "def crawl(genres):\n",
    "    variables = ['id', \n",
    "                 'name', \n",
    "                 'genre', \n",
    "                 'url', \n",
    "                 'popularity', \n",
    "                 'acousticness', \n",
    "                 'danceability',\n",
    "                 'energy',\n",
    "                 'instrumentalness',\n",
    "                 'liveness',\n",
    "                 'speechiness',\n",
    "                 'duration_ms',\n",
    "                 'key',\n",
    "                 'loadness',\n",
    "                 'mode',\n",
    "                 'tempo',\n",
    "                 'valence',\n",
    "                 'available_market',\n",
    "                 'release_date',\n",
    "                 'explicit']\n",
    "    columns = {v:[] for v in variables}\n",
    "    data = pd.DataFrame(data=columns)\n",
    "    for i, genre in enumerate(genres):\n",
    "#         results = search_genre(genre)\n",
    "#         n = results.get('total')\n",
    "#         for j, result in enumerate(results.get('items')):\n",
    "        n = sp.search(q=f'genre:\"{genre}\"', offset=0, limit=1, type='track').get('tracks').get('total')\n",
    "        if n == 0:\n",
    "            continue\n",
    "        offsets = random.sample(list(np.arange(min(n-1, 1999))), k=min(n, 100))\n",
    "        for j, offset in enumerate(offsets):\n",
    "#             print(f'\\r[{j+1}/{n}] (process)', end='')\n",
    "            print(f'\\r[{j+1}/{len(offsets)}] (process)', end='')\n",
    "            items = search_genre(genre, offset=offset, max_n=1).get('items')\n",
    "            if items is None:\n",
    "                continue\n",
    "            result = items[0]\n",
    "#             if result is None: # do not find track\n",
    "#                 continue\n",
    "            feature = sp.audio_features(result.get('id'))[0]\n",
    "            row = {\n",
    "                'id': result.get('id') or '', \n",
    "                'name': result.get('name') or '', \n",
    "                'genre': genre, \n",
    "                'url': result.get('external_urls').get('spotify') or result.get('external_urls').get(list(result.get('external_urls').keys())[0]) or '',\n",
    "                'popularity': result.get('popularity'),\n",
    "                'available_market': len(result.get('available_markets')),\n",
    "                'duration_ms': result.get('duration_ms'),\n",
    "                'explicit': result.get('explicit'), # has explicit lyrics\n",
    "                'release_date': result.get('album').get('release_date'),\n",
    "                'acousticness': feature.get('acousticness'), \n",
    "                'danceability': feature.get('danceability'),\n",
    "                'energy': feature.get('energy'),\n",
    "                'instrumentalness': feature.get('instrumentalness'),\n",
    "                'liveness': feature.get('liveness'),\n",
    "                'speechiness': feature.get('speechiness'),\n",
    "                'key': feature.get('key'),\n",
    "                'loadness': feature.get('loudness'),\n",
    "                'mode': feature.get('mode'),\n",
    "                'tempo': feature.get('tempo'),\n",
    "                'valence': feature.get('valence')\n",
    "            }\n",
    "            \n",
    "            data = data.append(row, ignore_index=True)\n",
    "        print(f'\\r[{i+1}/{len(genres)}] genre: {genre}'.rjust(20, ' '))\n",
    "    return data"
   ]
  },
  {
   "cell_type": "code",
   "execution_count": 3,
   "metadata": {},
   "outputs": [
    {
     "name": "stdout",
     "output_type": "stream",
     "text": [
      "[1/126] genre: acoustic\n",
      "[2/126] genre: afrobeat\n",
      "[3/126] genre: alt-rock\n",
      "[4/126] genre: alternative\n",
      "[5/126] genre: ambient\n",
      "[6/126] genre: anime\n",
      "[7/126] genre: black-metal\n",
      "[8/126] genre: bluegrass\n",
      "[9/126] genre: blues\n",
      "[11/126] genre: brazil\n",
      "[12/126] genre: breakbeat\n",
      "[13/126] genre: british\n",
      "[14/126] genre: cantopop\n",
      "[15/126] genre: chicago-house\n",
      "[16/126] genre: children\n",
      "[17/126] genre: chill\n",
      "[18/126] genre: classical\n",
      "[19/126] genre: club\n",
      "[20/126] genre: comedy\n",
      "[21/126] genre: country\n",
      "[22/126] genre: dance\n",
      "[23/126] genre: dancehall\n",
      "[24/126] genre: death-metal\n",
      "[25/126] genre: deep-house\n",
      "[26/126] genre: detroit-techno\n",
      "[27/126] genre: disco\n",
      "[28/126] genre: disney\n",
      "[29/126] genre: drum-and-bass\n",
      "[30/126] genre: dub\n",
      "[31/126] genre: dubstep\n",
      "[32/126] genre: edm\n",
      "[33/126] genre: electro\n",
      "[34/126] genre: electronic\n",
      "[35/126] genre: emo\n",
      "[36/126] genre: folk\n",
      "[37/126] genre: forro\n",
      "[38/126] genre: french\n",
      "[39/126] genre: funk\n",
      "[40/126] genre: garage\n",
      "[41/126] genre: german\n",
      "[42/126] genre: gospel\n",
      "[43/126] genre: goth\n",
      "[44/126] genre: grindcore\n",
      "[45/126] genre: groove\n",
      "[46/126] genre: grunge\n",
      "[47/126] genre: guitar\n",
      "[48/126] genre: happy\n",
      "[49/126] genre: hard-rock\n",
      "[50/126] genre: hardcore\n",
      "[51/126] genre: hardstyle\n",
      "[52/126] genre: heavy-metal\n",
      "[53/126] genre: hip-hop\n",
      "[55/126] genre: honky-tonk\n",
      "[56/126] genre: house\n",
      "[57/126] genre: idm\n",
      "[58/126] genre: indian\n",
      "[59/126] genre: indie\n",
      "[60/126] genre: indie-pop\n",
      "[61/126] genre: industrial\n",
      "[62/126] genre: iranian\n",
      "[63/126] genre: j-dance\n",
      "[64/126] genre: j-idol\n",
      "[65/126] genre: j-pop\n",
      "[66/126] genre: j-rock\n",
      "[67/126] genre: jazz\n",
      "[68/126] genre: k-pop\n",
      "[69/126] genre: kids\n",
      "[70/126] genre: latin\n",
      "[71/126] genre: latino\n",
      "[72/126] genre: malay\n",
      "[73/126] genre: mandopop\n",
      "[74/126] genre: metal\n",
      "[76/126] genre: metalcore\n",
      "[77/126] genre: minimal-techno\n",
      "[79/126] genre: mpb\n",
      "[80/126] genre: new-age\n",
      "[82/126] genre: opera\n",
      "[83/126] genre: pagode\n",
      "[84/126] genre: party\n",
      "[86/126] genre: piano\n",
      "[87/126] genre: pop\n",
      "[88/126] genre: pop-film\n",
      "[90/126] genre: power-pop\n",
      "[91/126] genre: progressive-house\n",
      "[92/126] genre: psych-rock\n",
      "[93/126] genre: punk\n",
      "[94/126] genre: punk-rock\n",
      "[95/126] genre: r-n-b\n",
      "[97/126] genre: reggae\n",
      "[98/126] genre: reggaeton\n",
      "[100/126] genre: rock\n",
      "[101/126] genre: rock-n-roll\n",
      "[102/126] genre: rockabilly\n",
      "[103/126] genre: romance\n",
      "[105/126] genre: salsa\n",
      "[106/126] genre: samba\n",
      "[107/126] genre: sertanejo\n",
      "[108/126] genre: show-tunes\n",
      "[109/126] genre: singer-songwriter\n",
      "[110/126] genre: ska\n",
      "[111/126] genre: sleep\n",
      "[112/126] genre: songwriter\n",
      "[113/126] genre: soul\n",
      "[115/126] genre: spanish\n",
      "[118/126] genre: swedish\n",
      "[119/126] genre: synth-pop\n",
      "[120/126] genre: tango\n",
      "[121/126] genre: techno\n",
      "[122/126] genre: trance\n",
      "[123/126] genre: trip-hop\n",
      "[124/126] genre: turkish\n",
      "[126/126] genre: world-music\n"
     ]
    }
   ],
   "source": [
    "random.seed(113)\n",
    "np.random.seed(113)\n",
    "allGenres = sp.recommendation_genre_seeds()['genres']\n",
    "data = crawl(allGenres)"
   ]
  },
  {
   "cell_type": "code",
   "execution_count": 4,
   "metadata": {},
   "outputs": [
    {
     "name": "stdout",
     "output_type": "stream",
     "text": [
      "head:\n"
     ]
    },
    {
     "data": {
      "text/html": [
       "<div>\n",
       "<style scoped>\n",
       "    .dataframe tbody tr th:only-of-type {\n",
       "        vertical-align: middle;\n",
       "    }\n",
       "\n",
       "    .dataframe tbody tr th {\n",
       "        vertical-align: top;\n",
       "    }\n",
       "\n",
       "    .dataframe thead th {\n",
       "        text-align: right;\n",
       "    }\n",
       "</style>\n",
       "<table border=\"1\" class=\"dataframe\">\n",
       "  <thead>\n",
       "    <tr style=\"text-align: right;\">\n",
       "      <th></th>\n",
       "      <th>id</th>\n",
       "      <th>name</th>\n",
       "      <th>genre</th>\n",
       "      <th>url</th>\n",
       "      <th>popularity</th>\n",
       "      <th>acousticness</th>\n",
       "      <th>danceability</th>\n",
       "      <th>energy</th>\n",
       "      <th>instrumentalness</th>\n",
       "      <th>liveness</th>\n",
       "      <th>speechiness</th>\n",
       "      <th>duration_ms</th>\n",
       "      <th>key</th>\n",
       "      <th>loadness</th>\n",
       "      <th>mode</th>\n",
       "      <th>tempo</th>\n",
       "      <th>valence</th>\n",
       "      <th>available_market</th>\n",
       "      <th>release_date</th>\n",
       "      <th>explicit</th>\n",
       "    </tr>\n",
       "  </thead>\n",
       "  <tbody>\n",
       "    <tr>\n",
       "      <th>0</th>\n",
       "      <td>5OpjJ9qy54D3PzQJ1s4Q9X</td>\n",
       "      <td>TESTIFY</td>\n",
       "      <td>acoustic</td>\n",
       "      <td>https://open.spotify.com/track/5OpjJ9qy54D3PzQ...</td>\n",
       "      <td>59.0</td>\n",
       "      <td>0.471</td>\n",
       "      <td>0.495</td>\n",
       "      <td>0.710</td>\n",
       "      <td>0.000000</td>\n",
       "      <td>0.0703</td>\n",
       "      <td>0.0288</td>\n",
       "      <td>243800.0</td>\n",
       "      <td>0.0</td>\n",
       "      <td>-3.941</td>\n",
       "      <td>1.0</td>\n",
       "      <td>90.024</td>\n",
       "      <td>0.319</td>\n",
       "      <td>79.0</td>\n",
       "      <td>2016-07-15</td>\n",
       "      <td>0.0</td>\n",
       "    </tr>\n",
       "    <tr>\n",
       "      <th>1</th>\n",
       "      <td>6ZgaHk6yrHBbHrbTmKl2pZ</td>\n",
       "      <td>Learned A Lot</td>\n",
       "      <td>acoustic</td>\n",
       "      <td>https://open.spotify.com/track/6ZgaHk6yrHBbHrb...</td>\n",
       "      <td>39.0</td>\n",
       "      <td>0.850</td>\n",
       "      <td>0.556</td>\n",
       "      <td>0.285</td>\n",
       "      <td>0.068000</td>\n",
       "      <td>0.1090</td>\n",
       "      <td>0.0294</td>\n",
       "      <td>270786.0</td>\n",
       "      <td>0.0</td>\n",
       "      <td>-9.884</td>\n",
       "      <td>1.0</td>\n",
       "      <td>128.167</td>\n",
       "      <td>0.322</td>\n",
       "      <td>78.0</td>\n",
       "      <td>2011</td>\n",
       "      <td>0.0</td>\n",
       "    </tr>\n",
       "    <tr>\n",
       "      <th>2</th>\n",
       "      <td>4wQKyYfNDY7E8ybcp0hF61</td>\n",
       "      <td>Jupiter's Call</td>\n",
       "      <td>acoustic</td>\n",
       "      <td>https://open.spotify.com/track/4wQKyYfNDY7E8yb...</td>\n",
       "      <td>35.0</td>\n",
       "      <td>0.879</td>\n",
       "      <td>0.694</td>\n",
       "      <td>0.354</td>\n",
       "      <td>0.000083</td>\n",
       "      <td>0.3810</td>\n",
       "      <td>0.0829</td>\n",
       "      <td>180952.0</td>\n",
       "      <td>2.0</td>\n",
       "      <td>-12.275</td>\n",
       "      <td>1.0</td>\n",
       "      <td>130.346</td>\n",
       "      <td>0.652</td>\n",
       "      <td>79.0</td>\n",
       "      <td>2018-06-01</td>\n",
       "      <td>0.0</td>\n",
       "    </tr>\n",
       "    <tr>\n",
       "      <th>3</th>\n",
       "      <td>3JndPOkXLuhupgWnRrPSua</td>\n",
       "      <td>Rain</td>\n",
       "      <td>acoustic</td>\n",
       "      <td>https://open.spotify.com/track/3JndPOkXLuhupgW...</td>\n",
       "      <td>36.0</td>\n",
       "      <td>0.654</td>\n",
       "      <td>0.497</td>\n",
       "      <td>0.372</td>\n",
       "      <td>0.000000</td>\n",
       "      <td>0.0624</td>\n",
       "      <td>0.0261</td>\n",
       "      <td>248293.0</td>\n",
       "      <td>5.0</td>\n",
       "      <td>-8.094</td>\n",
       "      <td>1.0</td>\n",
       "      <td>94.604</td>\n",
       "      <td>0.290</td>\n",
       "      <td>56.0</td>\n",
       "      <td>2002-04-09</td>\n",
       "      <td>0.0</td>\n",
       "    </tr>\n",
       "    <tr>\n",
       "      <th>4</th>\n",
       "      <td>3tjQYh1H3c17IQMdd8AIBb</td>\n",
       "      <td>The Shining Barrier</td>\n",
       "      <td>acoustic</td>\n",
       "      <td>https://open.spotify.com/track/3tjQYh1H3c17IQM...</td>\n",
       "      <td>40.0</td>\n",
       "      <td>0.794</td>\n",
       "      <td>0.373</td>\n",
       "      <td>0.160</td>\n",
       "      <td>0.764000</td>\n",
       "      <td>0.1070</td>\n",
       "      <td>0.0407</td>\n",
       "      <td>251075.0</td>\n",
       "      <td>10.0</td>\n",
       "      <td>-21.342</td>\n",
       "      <td>1.0</td>\n",
       "      <td>112.578</td>\n",
       "      <td>0.144</td>\n",
       "      <td>79.0</td>\n",
       "      <td>2014-09-15</td>\n",
       "      <td>0.0</td>\n",
       "    </tr>\n",
       "  </tbody>\n",
       "</table>\n",
       "</div>"
      ],
      "text/plain": [
       "                       id                 name     genre  \\\n",
       "0  5OpjJ9qy54D3PzQJ1s4Q9X              TESTIFY  acoustic   \n",
       "1  6ZgaHk6yrHBbHrbTmKl2pZ        Learned A Lot  acoustic   \n",
       "2  4wQKyYfNDY7E8ybcp0hF61       Jupiter's Call  acoustic   \n",
       "3  3JndPOkXLuhupgWnRrPSua                 Rain  acoustic   \n",
       "4  3tjQYh1H3c17IQMdd8AIBb  The Shining Barrier  acoustic   \n",
       "\n",
       "                                                 url  popularity  \\\n",
       "0  https://open.spotify.com/track/5OpjJ9qy54D3PzQ...        59.0   \n",
       "1  https://open.spotify.com/track/6ZgaHk6yrHBbHrb...        39.0   \n",
       "2  https://open.spotify.com/track/4wQKyYfNDY7E8yb...        35.0   \n",
       "3  https://open.spotify.com/track/3JndPOkXLuhupgW...        36.0   \n",
       "4  https://open.spotify.com/track/3tjQYh1H3c17IQM...        40.0   \n",
       "\n",
       "   acousticness  danceability  energy  instrumentalness  liveness  \\\n",
       "0         0.471         0.495   0.710          0.000000    0.0703   \n",
       "1         0.850         0.556   0.285          0.068000    0.1090   \n",
       "2         0.879         0.694   0.354          0.000083    0.3810   \n",
       "3         0.654         0.497   0.372          0.000000    0.0624   \n",
       "4         0.794         0.373   0.160          0.764000    0.1070   \n",
       "\n",
       "   speechiness  duration_ms   key  loadness  mode    tempo  valence  \\\n",
       "0       0.0288     243800.0   0.0    -3.941   1.0   90.024    0.319   \n",
       "1       0.0294     270786.0   0.0    -9.884   1.0  128.167    0.322   \n",
       "2       0.0829     180952.0   2.0   -12.275   1.0  130.346    0.652   \n",
       "3       0.0261     248293.0   5.0    -8.094   1.0   94.604    0.290   \n",
       "4       0.0407     251075.0  10.0   -21.342   1.0  112.578    0.144   \n",
       "\n",
       "   available_market release_date  explicit  \n",
       "0              79.0   2016-07-15       0.0  \n",
       "1              78.0         2011       0.0  \n",
       "2              79.0   2018-06-01       0.0  \n",
       "3              56.0   2002-04-09       0.0  \n",
       "4              79.0   2014-09-15       0.0  "
      ]
     },
     "metadata": {},
     "output_type": "display_data"
    }
   ],
   "source": [
    "print('head:')\n",
    "display(data.head())"
   ]
  },
  {
   "cell_type": "code",
   "execution_count": 5,
   "metadata": {},
   "outputs": [
    {
     "name": "stdout",
     "output_type": "stream",
     "text": [
      "['acoustic' 'afrobeat' 'alt-rock' 'alternative' 'ambient' 'anime'\n",
      " 'black-metal' 'bluegrass' 'blues' 'brazil' 'breakbeat' 'british'\n",
      " 'cantopop' 'chicago-house' 'children' 'chill' 'classical' 'club' 'comedy'\n",
      " 'country' 'dance' 'dancehall' 'death-metal' 'deep-house' 'detroit-techno'\n",
      " 'disco' 'disney' 'drum-and-bass' 'dub' 'dubstep' 'edm' 'electro'\n",
      " 'electronic' 'emo' 'folk' 'forro' 'french' 'funk' 'garage' 'german'\n",
      " 'gospel' 'goth' 'grindcore' 'groove' 'grunge' 'guitar' 'happy'\n",
      " 'hard-rock' 'hardcore' 'hardstyle' 'heavy-metal' 'hip-hop' 'honky-tonk'\n",
      " 'house' 'idm' 'indian' 'indie' 'indie-pop' 'industrial' 'iranian'\n",
      " 'j-dance' 'j-idol' 'j-pop' 'j-rock' 'jazz' 'k-pop' 'kids' 'latin'\n",
      " 'latino' 'malay' 'mandopop' 'metal' 'metalcore' 'minimal-techno' 'mpb'\n",
      " 'new-age' 'opera' 'pagode' 'party' 'piano' 'pop' 'pop-film' 'power-pop'\n",
      " 'progressive-house' 'psych-rock' 'punk' 'punk-rock' 'r-n-b' 'reggae'\n",
      " 'reggaeton' 'rock' 'rock-n-roll' 'rockabilly' 'romance' 'salsa' 'samba'\n",
      " 'sertanejo' 'show-tunes' 'singer-songwriter' 'ska' 'sleep' 'songwriter'\n",
      " 'soul' 'spanish' 'swedish' 'synth-pop' 'tango' 'techno' 'trance'\n",
      " 'trip-hop' 'turkish' 'world-music']\n"
     ]
    }
   ],
   "source": [
    "print(data['genre'].unique())"
   ]
  },
  {
   "cell_type": "code",
   "execution_count": null,
   "metadata": {},
   "outputs": [],
   "source": []
  },
  {
   "cell_type": "code",
   "execution_count": 6,
   "metadata": {},
   "outputs": [],
   "source": [
    "data.to_csv('tracks.csv', encoding=\"utf-8\", index=False)"
   ]
  },
  {
   "cell_type": "code",
   "execution_count": 7,
   "metadata": {},
   "outputs": [],
   "source": [
    "import pandas as pd"
   ]
  },
  {
   "cell_type": "code",
   "execution_count": 8,
   "metadata": {},
   "outputs": [],
   "source": [
    "data = pd.read_csv('tracks.csv', encoding=\"utf-8\", index_col=False)"
   ]
  },
  {
   "cell_type": "code",
   "execution_count": 9,
   "metadata": {},
   "outputs": [
    {
     "data": {
      "text/plain": [
       "112"
      ]
     },
     "execution_count": 9,
     "metadata": {},
     "output_type": "execute_result"
    }
   ],
   "source": [
    "len(data['genre'].unique())"
   ]
  },
  {
   "cell_type": "code",
   "execution_count": 10,
   "metadata": {},
   "outputs": [
    {
     "data": {
      "image/png": "[encoded data removed]",
      "text/plain": [
       "<Figure size 432x288 with 1 Axes>"
      ]
     },
     "metadata": {
      "needs_background": "light"
     },
     "output_type": "display_data"
    }
   ],
   "source": [
    "import matplotlib.pyplot as plt\n",
    "for g in data['genre'].unique()[:5]:\n",
    "    plt.scatter(data['tempo'][data['genre'] == g], data['popularity'][data['genre'] == g], alpha=.5)\n",
    "plt.show()"
   ]
  },
  {
   "cell_type": "code",
   "execution_count": 11,
   "metadata": {},
   "outputs": [
    {
     "data": {
      "image/png": "[encoded data removed]",
      "text/plain": [
       "<Figure size 432x288 with 1 Axes>"
      ]
     },
     "metadata": {
      "needs_background": "light"
     },
     "output_type": "display_data"
    }
   ],
   "source": [
    "import matplotlib.pyplot as plt\n",
    "for g in data['genre'].unique()[:5]:\n",
    "    plt.hist(data['popularity'][data['genre'] == g], alpha=.5, density=True)\n",
    "plt.show()"
   ]
  },
  {
   "cell_type": "code",
   "execution_count": 12,
   "metadata": {},
   "outputs": [
    {
     "name": "stderr",
     "output_type": "stream",
     "text": [
      "c:\\users\\jacky\\.pyenv\\pyenv-win\\versions\\3.7.5-amd64\\lib\\site-packages\\numpy\\lib\\function_base.py:2534: RuntimeWarning: invalid value encountered in true_divide\n",
      "  c /= stddev[:, None]\n",
      "c:\\users\\jacky\\.pyenv\\pyenv-win\\versions\\3.7.5-amd64\\lib\\site-packages\\numpy\\lib\\function_base.py:2535: RuntimeWarning: invalid value encountered in true_divide\n",
      "  c /= stddev[None, :]\n"
     ]
    }
   ],
   "source": [
    "import numpy as np\n",
    "cov = np.corrcoef(data.loc[data['genre'] == 'anime', (data.dtypes != object).values], rowvar=False)"
   ]
  },
  {
   "cell_type": "code",
   "execution_count": 17,
   "metadata": {},
   "outputs": [
    {
     "data": {
      "text/plain": [
       "<matplotlib.axes._subplots.AxesSubplot at 0x281d3fad508>"
      ]
     },
     "execution_count": 17,
     "metadata": {},
     "output_type": "execute_result"
    },
    {
     "data": {
      "image/png": "[encoded data removed]",
      "text/plain": [
       "<Figure size 432x288 with 2 Axes>"
      ]
     },
     "metadata": {
      "needs_background": "light"
     },
     "output_type": "display_data"
    }
   ],
   "source": [
    "import seaborn as sns\n",
    "sns.heatmap(abs(cov))"
   ]
  },
  {
   "cell_type": "code",
   "execution_count": 14,
   "metadata": {},
   "outputs": [
    {
     "data": {
      "text/plain": [
       "112"
      ]
     },
     "execution_count": 14,
     "metadata": {},
     "output_type": "execute_result"
    }
   ],
   "source": [
    "len(data['genre'].unique())"
   ]
  },
  {
   "cell_type": "code",
   "execution_count": 15,
   "metadata": {},
   "outputs": [
    {
     "name": "stdout",
     "output_type": "stream",
     "text": [
      "['acoustic', 'afrobeat', 'alt-rock', 'alternative', 'ambient', 'anime', 'black-metal', 'bluegrass', 'blues', 'brazil', 'breakbeat', 'british', 'cantopop', 'chicago-house', 'children', 'chill', 'classical', 'club', 'comedy', 'country', 'dance', 'dancehall', 'death-metal', 'deep-house', 'detroit-techno', 'disco', 'disney', 'drum-and-bass', 'dub', 'dubstep', 'edm', 'electro', 'electronic', 'emo', 'folk', 'forro', 'french', 'funk', 'garage', 'german', 'gospel', 'goth', 'grindcore', 'groove', 'grunge', 'guitar', 'happy', 'hard-rock', 'hardcore', 'hardstyle', 'heavy-metal', 'hip-hop', 'honky-tonk', 'house', 'idm', 'indian', 'indie', 'indie-pop', 'industrial', 'iranian', 'j-dance', 'j-idol', 'j-pop', 'j-rock', 'jazz', 'k-pop', 'kids', 'latin', 'latino', 'malay', 'mandopop', 'metal', 'metalcore', 'minimal-techno', 'mpb', 'new-age', 'opera', 'pagode', 'party', 'piano', 'pop', 'pop-film', 'power-pop', 'progressive-house', 'psych-rock', 'punk', 'punk-rock', 'r-n-b', 'reggae', 'reggaeton', 'rock', 'rock-n-roll', 'rockabilly', 'romance', 'salsa', 'samba', 'sertanejo', 'show-tunes', 'singer-songwriter', 'ska', 'sleep', 'songwriter', 'soul', 'spanish', 'swedish', 'synth-pop', 'tango', 'techno', 'trance', 'trip-hop', 'turkish', 'world-music']\n"
     ]
    }
   ],
   "source": [
    "print(sorted(data['genre'].unique()))"
   ]
  },
  {
   "cell_type": "code",
   "execution_count": 18,
   "metadata": {},
   "outputs": [
    {
     "data": {
      "text/html": [
       "<div>\n",
       "<style scoped>\n",
       "    .dataframe tbody tr th:only-of-type {\n",
       "        vertical-align: middle;\n",
       "    }\n",
       "\n",
       "    .dataframe tbody tr th {\n",
       "        vertical-align: top;\n",
       "    }\n",
       "\n",
       "    .dataframe thead th {\n",
       "        text-align: right;\n",
       "    }\n",
       "</style>\n",
       "<table border=\"1\" class=\"dataframe\">\n",
       "  <thead>\n",
       "    <tr style=\"text-align: right;\">\n",
       "      <th></th>\n",
       "      <th>Unnamed: 0</th>\n",
       "      <th>id</th>\n",
       "      <th>name</th>\n",
       "      <th>genre</th>\n",
       "      <th>url</th>\n",
       "      <th>popularity</th>\n",
       "      <th>acousticness</th>\n",
       "      <th>danceability</th>\n",
       "      <th>energy</th>\n",
       "      <th>instrumentalness</th>\n",
       "      <th>...</th>\n",
       "      <th>speechiness</th>\n",
       "      <th>duration_ms</th>\n",
       "      <th>key</th>\n",
       "      <th>loadness</th>\n",
       "      <th>mode</th>\n",
       "      <th>tempo</th>\n",
       "      <th>valence</th>\n",
       "      <th>available_market</th>\n",
       "      <th>release_date</th>\n",
       "      <th>explicit</th>\n",
       "    </tr>\n",
       "  </thead>\n",
       "  <tbody>\n",
       "    <tr>\n",
       "      <th>3</th>\n",
       "      <td>3</td>\n",
       "      <td>3JndPOkXLuhupgWnRrPSua</td>\n",
       "      <td>Rain</td>\n",
       "      <td>acoustic</td>\n",
       "      <td>https://open.spotify.com/track/3JndPOkXLuhupgW...</td>\n",
       "      <td>36.0</td>\n",
       "      <td>0.65400</td>\n",
       "      <td>0.497</td>\n",
       "      <td>0.372</td>\n",
       "      <td>0.000000</td>\n",
       "      <td>...</td>\n",
       "      <td>0.0261</td>\n",
       "      <td>248293.0</td>\n",
       "      <td>5.0</td>\n",
       "      <td>-8.094</td>\n",
       "      <td>1.0</td>\n",
       "      <td>94.604</td>\n",
       "      <td>0.290</td>\n",
       "      <td>56.0</td>\n",
       "      <td>2002-04-09</td>\n",
       "      <td>0.0</td>\n",
       "    </tr>\n",
       "    <tr>\n",
       "      <th>17</th>\n",
       "      <td>17</td>\n",
       "      <td>2W9RK9VSTsJfJD0wwSkVyz</td>\n",
       "      <td>Wait</td>\n",
       "      <td>acoustic</td>\n",
       "      <td>https://open.spotify.com/track/2W9RK9VSTsJfJD0...</td>\n",
       "      <td>49.0</td>\n",
       "      <td>0.36600</td>\n",
       "      <td>0.346</td>\n",
       "      <td>0.560</td>\n",
       "      <td>0.000016</td>\n",
       "      <td>...</td>\n",
       "      <td>0.0368</td>\n",
       "      <td>250909.0</td>\n",
       "      <td>2.0</td>\n",
       "      <td>-7.004</td>\n",
       "      <td>1.0</td>\n",
       "      <td>175.870</td>\n",
       "      <td>0.209</td>\n",
       "      <td>79.0</td>\n",
       "      <td>2020-04-24</td>\n",
       "      <td>0.0</td>\n",
       "    </tr>\n",
       "    <tr>\n",
       "      <th>18</th>\n",
       "      <td>18</td>\n",
       "      <td>6zmGtaJ5If4EXZOijSHnx0</td>\n",
       "      <td>All I Need</td>\n",
       "      <td>acoustic</td>\n",
       "      <td>https://open.spotify.com/track/6zmGtaJ5If4EXZO...</td>\n",
       "      <td>40.0</td>\n",
       "      <td>0.88000</td>\n",
       "      <td>0.400</td>\n",
       "      <td>0.251</td>\n",
       "      <td>0.000005</td>\n",
       "      <td>...</td>\n",
       "      <td>0.0325</td>\n",
       "      <td>233320.0</td>\n",
       "      <td>1.0</td>\n",
       "      <td>-11.050</td>\n",
       "      <td>1.0</td>\n",
       "      <td>152.713</td>\n",
       "      <td>0.162</td>\n",
       "      <td>77.0</td>\n",
       "      <td>2019-05-03</td>\n",
       "      <td>0.0</td>\n",
       "    </tr>\n",
       "    <tr>\n",
       "      <th>30</th>\n",
       "      <td>30</td>\n",
       "      <td>5Ph2oeskX0U9IwhsBY2zKj</td>\n",
       "      <td>Fire</td>\n",
       "      <td>acoustic</td>\n",
       "      <td>https://open.spotify.com/track/5Ph2oeskX0U9Iwh...</td>\n",
       "      <td>48.0</td>\n",
       "      <td>0.00734</td>\n",
       "      <td>0.572</td>\n",
       "      <td>0.576</td>\n",
       "      <td>0.000000</td>\n",
       "      <td>...</td>\n",
       "      <td>0.0336</td>\n",
       "      <td>228520.0</td>\n",
       "      <td>7.0</td>\n",
       "      <td>-7.042</td>\n",
       "      <td>0.0</td>\n",
       "      <td>181.009</td>\n",
       "      <td>0.549</td>\n",
       "      <td>79.0</td>\n",
       "      <td>2014</td>\n",
       "      <td>0.0</td>\n",
       "    </tr>\n",
       "    <tr>\n",
       "      <th>37</th>\n",
       "      <td>37</td>\n",
       "      <td>2mtYt7WxFKIi2sCc3xntOj</td>\n",
       "      <td>Wait</td>\n",
       "      <td>acoustic</td>\n",
       "      <td>https://open.spotify.com/track/2mtYt7WxFKIi2sC...</td>\n",
       "      <td>38.0</td>\n",
       "      <td>0.78000</td>\n",
       "      <td>0.469</td>\n",
       "      <td>0.286</td>\n",
       "      <td>0.010300</td>\n",
       "      <td>...</td>\n",
       "      <td>0.0320</td>\n",
       "      <td>357306.0</td>\n",
       "      <td>6.0</td>\n",
       "      <td>-9.454</td>\n",
       "      <td>1.0</td>\n",
       "      <td>116.368</td>\n",
       "      <td>0.164</td>\n",
       "      <td>79.0</td>\n",
       "      <td>2006-06-06</td>\n",
       "      <td>0.0</td>\n",
       "    </tr>\n",
       "  </tbody>\n",
       "</table>\n",
       "<p>5 rows × 21 columns</p>\n",
       "</div>"
      ],
      "text/plain": [
       "    Unnamed: 0                      id        name     genre  \\\n",
       "3            3  3JndPOkXLuhupgWnRrPSua        Rain  acoustic   \n",
       "17          17  2W9RK9VSTsJfJD0wwSkVyz        Wait  acoustic   \n",
       "18          18  6zmGtaJ5If4EXZOijSHnx0  All I Need  acoustic   \n",
       "30          30  5Ph2oeskX0U9IwhsBY2zKj        Fire  acoustic   \n",
       "37          37  2mtYt7WxFKIi2sCc3xntOj        Wait  acoustic   \n",
       "\n",
       "                                                  url  popularity  \\\n",
       "3   https://open.spotify.com/track/3JndPOkXLuhupgW...        36.0   \n",
       "17  https://open.spotify.com/track/2W9RK9VSTsJfJD0...        49.0   \n",
       "18  https://open.spotify.com/track/6zmGtaJ5If4EXZO...        40.0   \n",
       "30  https://open.spotify.com/track/5Ph2oeskX0U9Iwh...        48.0   \n",
       "37  https://open.spotify.com/track/2mtYt7WxFKIi2sC...        38.0   \n",
       "\n",
       "    acousticness  danceability  energy  instrumentalness  ...  speechiness  \\\n",
       "3        0.65400         0.497   0.372          0.000000  ...       0.0261   \n",
       "17       0.36600         0.346   0.560          0.000016  ...       0.0368   \n",
       "18       0.88000         0.400   0.251          0.000005  ...       0.0325   \n",
       "30       0.00734         0.572   0.576          0.000000  ...       0.0336   \n",
       "37       0.78000         0.469   0.286          0.010300  ...       0.0320   \n",
       "\n",
       "    duration_ms  key  loadness  mode    tempo  valence  available_market  \\\n",
       "3      248293.0  5.0    -8.094   1.0   94.604    0.290              56.0   \n",
       "17     250909.0  2.0    -7.004   1.0  175.870    0.209              79.0   \n",
       "18     233320.0  1.0   -11.050   1.0  152.713    0.162              77.0   \n",
       "30     228520.0  7.0    -7.042   0.0  181.009    0.549              79.0   \n",
       "37     357306.0  6.0    -9.454   1.0  116.368    0.164              79.0   \n",
       "\n",
       "    release_date explicit  \n",
       "3     2002-04-09      0.0  \n",
       "17    2020-04-24      0.0  \n",
       "18    2019-05-03      0.0  \n",
       "30          2014      0.0  \n",
       "37    2006-06-06      0.0  \n",
       "\n",
       "[5 rows x 21 columns]"
      ]
     },
     "execution_count": 18,
     "metadata": {},
     "output_type": "execute_result"
    }
   ],
   "source": [
    "duplicates = data['name'].value_counts()[data['name'].value_counts() > 1].index\n",
    "tmp = data.loc[[n in duplicates for n in data['name']]]\n",
    "tmp.head()"
   ]
  },
  {
   "cell_type": "code",
   "execution_count": 25,
   "metadata": {},
   "outputs": [
    {
     "data": {
      "text/plain": [
       "7lL2lMWNtzOcf5HnEudNgn    3\n",
       "2P2pnAHSmG6ncp1ASv2SSy    3\n",
       "2472dNrjvduGFp6EsfZz0N    3\n",
       "56IszkEOG5lFShWevvEH3R    3\n",
       "3yQFmN8A5S8Kf1nUJuvb01    3\n",
       "                         ..\n",
       "0ylzWnJI24GSfaYbqYi5Pv    2\n",
       "7HSZigV3SjVlKrCfz2iR28    2\n",
       "51qNCY0lUymE88LPDUqFXd    2\n",
       "0AnZrWo2TuUX5BnFjsoy3N    2\n",
       "48bo7uexDvAThcRDvEB2W7    2\n",
       "Name: id, Length: 231, dtype: int64"
      ]
     },
     "execution_count": 25,
     "metadata": {},
     "output_type": "execute_result"
    }
   ],
   "source": [
    "data['id'].value_counts()[data['id'].value_counts() > 1]"
   ]
  },
  {
   "cell_type": "code",
   "execution_count": 27,
   "metadata": {},
   "outputs": [],
   "source": [
    "data['idx'] = data.index"
   ]
  },
  {
   "cell_type": "code",
   "execution_count": 29,
   "metadata": {},
   "outputs": [],
   "source": [
    "data.to_csv('tracks.csv', encoding=\"utf-8\", index=False)"
   ]
  },
  {
   "cell_type": "code",
   "execution_count": null,
   "metadata": {},
   "outputs": [],
   "source": []
  }
 ],
 "metadata": {
  "kernelspec": {
   "display_name": "Python 3",
   "language": "python",
   "name": "python3"
  },
  "language_info": {
   "codemirror_mode": {
    "name": "ipython",
    "version": 3
   },
   "file_extension": ".py",
   "mimetype": "text/x-python",
   "name": "python",
   "nbconvert_exporter": "python",
   "pygments_lexer": "ipython3",
   "version": "3.7.5"
  }
 },
 "nbformat": 4,
 "nbformat_minor": 4
}
