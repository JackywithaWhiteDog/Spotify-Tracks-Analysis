{
 "cells": [
  {
   "cell_type": "code",
   "execution_count": 1,
   "metadata": {},
   "outputs": [],
   "source": [
    "import numpy as np\n",
    "import pandas as pd\n",
    "import matplotlib.pyplot as plt\n",
    "import seaborn as sns\n",
    "import scipy.stats as stats\n",
    "import statsmodels.api as sm\n",
    "import statsmodels.stats.api as sms\n",
    "import statsmodels.formula.api as smf\n",
    "import statsmodels.stats.multicomp as smm\n",
    "import statsmodels\n",
    "import statsmodels.stats.outliers_influence as sso\n",
    "pd.options.display.max_rows = 999"
   ]
  },
  {
   "cell_type": "code",
   "execution_count": 2,
   "metadata": {},
   "outputs": [],
   "source": [
    "df = pd.read_csv(\"./data/tracks_no_may.csv\")"
   ]
  },
  {
   "cell_type": "code",
   "execution_count": 3,
   "metadata": {},
   "outputs": [
    {
     "data": {
      "text/html": [
       "<div>\n",
       "<style scoped>\n",
       "    .dataframe tbody tr th:only-of-type {\n",
       "        vertical-align: middle;\n",
       "    }\n",
       "\n",
       "    .dataframe tbody tr th {\n",
       "        vertical-align: top;\n",
       "    }\n",
       "\n",
       "    .dataframe thead th {\n",
       "        text-align: right;\n",
       "    }\n",
       "</style>\n",
       "<table border=\"1\" class=\"dataframe\">\n",
       "  <thead>\n",
       "    <tr style=\"text-align: right;\">\n",
       "      <th></th>\n",
       "      <th>Unnamed: 0</th>\n",
       "      <th>id</th>\n",
       "      <th>name</th>\n",
       "      <th>genre</th>\n",
       "      <th>url</th>\n",
       "      <th>popularity</th>\n",
       "      <th>acousticness</th>\n",
       "      <th>danceability</th>\n",
       "      <th>energy</th>\n",
       "      <th>instrumentalness</th>\n",
       "      <th>...</th>\n",
       "      <th>duration_ms</th>\n",
       "      <th>key</th>\n",
       "      <th>loadness</th>\n",
       "      <th>mode</th>\n",
       "      <th>tempo</th>\n",
       "      <th>valence</th>\n",
       "      <th>available_market</th>\n",
       "      <th>release_date</th>\n",
       "      <th>explicit</th>\n",
       "      <th>idx</th>\n",
       "    </tr>\n",
       "  </thead>\n",
       "  <tbody>\n",
       "    <tr>\n",
       "      <th>0</th>\n",
       "      <td>0</td>\n",
       "      <td>5OpjJ9qy54D3PzQJ1s4Q9X</td>\n",
       "      <td>TESTIFY</td>\n",
       "      <td>acoustic</td>\n",
       "      <td>https://open.spotify.com/track/5OpjJ9qy54D3PzQ...</td>\n",
       "      <td>59.0</td>\n",
       "      <td>0.471</td>\n",
       "      <td>0.495</td>\n",
       "      <td>0.710</td>\n",
       "      <td>0.000000</td>\n",
       "      <td>...</td>\n",
       "      <td>243800.0</td>\n",
       "      <td>0.0</td>\n",
       "      <td>-3.941</td>\n",
       "      <td>1.0</td>\n",
       "      <td>90.024</td>\n",
       "      <td>0.319</td>\n",
       "      <td>79.0</td>\n",
       "      <td>2016-07-15</td>\n",
       "      <td>0.0</td>\n",
       "      <td>0</td>\n",
       "    </tr>\n",
       "    <tr>\n",
       "      <th>1</th>\n",
       "      <td>1</td>\n",
       "      <td>6ZgaHk6yrHBbHrbTmKl2pZ</td>\n",
       "      <td>Learned A Lot</td>\n",
       "      <td>acoustic</td>\n",
       "      <td>https://open.spotify.com/track/6ZgaHk6yrHBbHrb...</td>\n",
       "      <td>39.0</td>\n",
       "      <td>0.850</td>\n",
       "      <td>0.556</td>\n",
       "      <td>0.285</td>\n",
       "      <td>0.068000</td>\n",
       "      <td>...</td>\n",
       "      <td>270786.0</td>\n",
       "      <td>0.0</td>\n",
       "      <td>-9.884</td>\n",
       "      <td>1.0</td>\n",
       "      <td>128.167</td>\n",
       "      <td>0.322</td>\n",
       "      <td>78.0</td>\n",
       "      <td>2011</td>\n",
       "      <td>0.0</td>\n",
       "      <td>1</td>\n",
       "    </tr>\n",
       "    <tr>\n",
       "      <th>2</th>\n",
       "      <td>2</td>\n",
       "      <td>4wQKyYfNDY7E8ybcp0hF61</td>\n",
       "      <td>Jupiter's Call</td>\n",
       "      <td>acoustic</td>\n",
       "      <td>https://open.spotify.com/track/4wQKyYfNDY7E8yb...</td>\n",
       "      <td>35.0</td>\n",
       "      <td>0.879</td>\n",
       "      <td>0.694</td>\n",
       "      <td>0.354</td>\n",
       "      <td>0.000083</td>\n",
       "      <td>...</td>\n",
       "      <td>180952.0</td>\n",
       "      <td>2.0</td>\n",
       "      <td>-12.275</td>\n",
       "      <td>1.0</td>\n",
       "      <td>130.346</td>\n",
       "      <td>0.652</td>\n",
       "      <td>79.0</td>\n",
       "      <td>2018-06-01</td>\n",
       "      <td>0.0</td>\n",
       "      <td>2</td>\n",
       "    </tr>\n",
       "    <tr>\n",
       "      <th>3</th>\n",
       "      <td>3</td>\n",
       "      <td>3JndPOkXLuhupgWnRrPSua</td>\n",
       "      <td>Rain</td>\n",
       "      <td>acoustic</td>\n",
       "      <td>https://open.spotify.com/track/3JndPOkXLuhupgW...</td>\n",
       "      <td>36.0</td>\n",
       "      <td>0.654</td>\n",
       "      <td>0.497</td>\n",
       "      <td>0.372</td>\n",
       "      <td>0.000000</td>\n",
       "      <td>...</td>\n",
       "      <td>248293.0</td>\n",
       "      <td>5.0</td>\n",
       "      <td>-8.094</td>\n",
       "      <td>1.0</td>\n",
       "      <td>94.604</td>\n",
       "      <td>0.290</td>\n",
       "      <td>56.0</td>\n",
       "      <td>2002-04-09</td>\n",
       "      <td>0.0</td>\n",
       "      <td>3</td>\n",
       "    </tr>\n",
       "    <tr>\n",
       "      <th>4</th>\n",
       "      <td>4</td>\n",
       "      <td>3tjQYh1H3c17IQMdd8AIBb</td>\n",
       "      <td>The Shining Barrier</td>\n",
       "      <td>acoustic</td>\n",
       "      <td>https://open.spotify.com/track/3tjQYh1H3c17IQM...</td>\n",
       "      <td>40.0</td>\n",
       "      <td>0.794</td>\n",
       "      <td>0.373</td>\n",
       "      <td>0.160</td>\n",
       "      <td>0.764000</td>\n",
       "      <td>...</td>\n",
       "      <td>251075.0</td>\n",
       "      <td>10.0</td>\n",
       "      <td>-21.342</td>\n",
       "      <td>1.0</td>\n",
       "      <td>112.578</td>\n",
       "      <td>0.144</td>\n",
       "      <td>79.0</td>\n",
       "      <td>2014-09-15</td>\n",
       "      <td>0.0</td>\n",
       "      <td>4</td>\n",
       "    </tr>\n",
       "  </tbody>\n",
       "</table>\n",
       "<p>5 rows × 22 columns</p>\n",
       "</div>"
      ],
      "text/plain": [
       "   Unnamed: 0                      id                 name     genre  \\\n",
       "0           0  5OpjJ9qy54D3PzQJ1s4Q9X              TESTIFY  acoustic   \n",
       "1           1  6ZgaHk6yrHBbHrbTmKl2pZ        Learned A Lot  acoustic   \n",
       "2           2  4wQKyYfNDY7E8ybcp0hF61       Jupiter's Call  acoustic   \n",
       "3           3  3JndPOkXLuhupgWnRrPSua                 Rain  acoustic   \n",
       "4           4  3tjQYh1H3c17IQMdd8AIBb  The Shining Barrier  acoustic   \n",
       "\n",
       "                                                 url  popularity  \\\n",
       "0  https://open.spotify.com/track/5OpjJ9qy54D3PzQ...        59.0   \n",
       "1  https://open.spotify.com/track/6ZgaHk6yrHBbHrb...        39.0   \n",
       "2  https://open.spotify.com/track/4wQKyYfNDY7E8yb...        35.0   \n",
       "3  https://open.spotify.com/track/3JndPOkXLuhupgW...        36.0   \n",
       "4  https://open.spotify.com/track/3tjQYh1H3c17IQM...        40.0   \n",
       "\n",
       "   acousticness  danceability  energy  instrumentalness  ...  duration_ms  \\\n",
       "0         0.471         0.495   0.710          0.000000  ...     243800.0   \n",
       "1         0.850         0.556   0.285          0.068000  ...     270786.0   \n",
       "2         0.879         0.694   0.354          0.000083  ...     180952.0   \n",
       "3         0.654         0.497   0.372          0.000000  ...     248293.0   \n",
       "4         0.794         0.373   0.160          0.764000  ...     251075.0   \n",
       "\n",
       "    key  loadness  mode    tempo  valence  available_market  release_date  \\\n",
       "0   0.0    -3.941   1.0   90.024    0.319              79.0    2016-07-15   \n",
       "1   0.0    -9.884   1.0  128.167    0.322              78.0          2011   \n",
       "2   2.0   -12.275   1.0  130.346    0.652              79.0    2018-06-01   \n",
       "3   5.0    -8.094   1.0   94.604    0.290              56.0    2002-04-09   \n",
       "4  10.0   -21.342   1.0  112.578    0.144              79.0    2014-09-15   \n",
       "\n",
       "   explicit idx  \n",
       "0       0.0   0  \n",
       "1       0.0   1  \n",
       "2       0.0   2  \n",
       "3       0.0   3  \n",
       "4       0.0   4  \n",
       "\n",
       "[5 rows x 22 columns]"
      ]
     },
     "metadata": {},
     "output_type": "display_data"
    },
    {
     "data": {
      "text/plain": [
       "(10292, 22)"
      ]
     },
     "execution_count": 3,
     "metadata": {},
     "output_type": "execute_result"
    }
   ],
   "source": [
    "display(df.head())\n",
    "df.shape"
   ]
  },
  {
   "cell_type": "code",
   "execution_count": 4,
   "metadata": {},
   "outputs": [],
   "source": [
    "df = df.drop(columns=['Unnamed: 0'])"
   ]
  },
  {
   "cell_type": "code",
   "execution_count": 5,
   "metadata": {},
   "outputs": [
    {
     "data": {
      "text/html": [
       "<div>\n",
       "<style scoped>\n",
       "    .dataframe tbody tr th:only-of-type {\n",
       "        vertical-align: middle;\n",
       "    }\n",
       "\n",
       "    .dataframe tbody tr th {\n",
       "        vertical-align: top;\n",
       "    }\n",
       "\n",
       "    .dataframe thead th {\n",
       "        text-align: right;\n",
       "    }\n",
       "</style>\n",
       "<table border=\"1\" class=\"dataframe\">\n",
       "  <thead>\n",
       "    <tr style=\"text-align: right;\">\n",
       "      <th></th>\n",
       "      <th>id</th>\n",
       "      <th>name</th>\n",
       "      <th>genre</th>\n",
       "      <th>url</th>\n",
       "      <th>popularity</th>\n",
       "      <th>acousticness</th>\n",
       "      <th>danceability</th>\n",
       "      <th>energy</th>\n",
       "      <th>instrumentalness</th>\n",
       "      <th>liveness</th>\n",
       "      <th>...</th>\n",
       "      <th>duration_ms</th>\n",
       "      <th>key</th>\n",
       "      <th>loadness</th>\n",
       "      <th>mode</th>\n",
       "      <th>tempo</th>\n",
       "      <th>valence</th>\n",
       "      <th>available_market</th>\n",
       "      <th>release_date</th>\n",
       "      <th>explicit</th>\n",
       "      <th>idx</th>\n",
       "    </tr>\n",
       "  </thead>\n",
       "  <tbody>\n",
       "    <tr>\n",
       "      <th>0</th>\n",
       "      <td>5OpjJ9qy54D3PzQJ1s4Q9X</td>\n",
       "      <td>TESTIFY</td>\n",
       "      <td>acoustic</td>\n",
       "      <td>https://open.spotify.com/track/5OpjJ9qy54D3PzQ...</td>\n",
       "      <td>59.0</td>\n",
       "      <td>0.471</td>\n",
       "      <td>0.495</td>\n",
       "      <td>0.710</td>\n",
       "      <td>0.000000</td>\n",
       "      <td>0.0703</td>\n",
       "      <td>...</td>\n",
       "      <td>243800.0</td>\n",
       "      <td>0.0</td>\n",
       "      <td>-3.941</td>\n",
       "      <td>1.0</td>\n",
       "      <td>90.024</td>\n",
       "      <td>0.319</td>\n",
       "      <td>79.0</td>\n",
       "      <td>2016-07-15</td>\n",
       "      <td>0.0</td>\n",
       "      <td>0</td>\n",
       "    </tr>\n",
       "    <tr>\n",
       "      <th>1</th>\n",
       "      <td>6ZgaHk6yrHBbHrbTmKl2pZ</td>\n",
       "      <td>Learned A Lot</td>\n",
       "      <td>acoustic</td>\n",
       "      <td>https://open.spotify.com/track/6ZgaHk6yrHBbHrb...</td>\n",
       "      <td>39.0</td>\n",
       "      <td>0.850</td>\n",
       "      <td>0.556</td>\n",
       "      <td>0.285</td>\n",
       "      <td>0.068000</td>\n",
       "      <td>0.1090</td>\n",
       "      <td>...</td>\n",
       "      <td>270786.0</td>\n",
       "      <td>0.0</td>\n",
       "      <td>-9.884</td>\n",
       "      <td>1.0</td>\n",
       "      <td>128.167</td>\n",
       "      <td>0.322</td>\n",
       "      <td>78.0</td>\n",
       "      <td>2011</td>\n",
       "      <td>0.0</td>\n",
       "      <td>1</td>\n",
       "    </tr>\n",
       "    <tr>\n",
       "      <th>2</th>\n",
       "      <td>4wQKyYfNDY7E8ybcp0hF61</td>\n",
       "      <td>Jupiter's Call</td>\n",
       "      <td>acoustic</td>\n",
       "      <td>https://open.spotify.com/track/4wQKyYfNDY7E8yb...</td>\n",
       "      <td>35.0</td>\n",
       "      <td>0.879</td>\n",
       "      <td>0.694</td>\n",
       "      <td>0.354</td>\n",
       "      <td>0.000083</td>\n",
       "      <td>0.3810</td>\n",
       "      <td>...</td>\n",
       "      <td>180952.0</td>\n",
       "      <td>2.0</td>\n",
       "      <td>-12.275</td>\n",
       "      <td>1.0</td>\n",
       "      <td>130.346</td>\n",
       "      <td>0.652</td>\n",
       "      <td>79.0</td>\n",
       "      <td>2018-06-01</td>\n",
       "      <td>0.0</td>\n",
       "      <td>2</td>\n",
       "    </tr>\n",
       "    <tr>\n",
       "      <th>3</th>\n",
       "      <td>3JndPOkXLuhupgWnRrPSua</td>\n",
       "      <td>Rain</td>\n",
       "      <td>acoustic</td>\n",
       "      <td>https://open.spotify.com/track/3JndPOkXLuhupgW...</td>\n",
       "      <td>36.0</td>\n",
       "      <td>0.654</td>\n",
       "      <td>0.497</td>\n",
       "      <td>0.372</td>\n",
       "      <td>0.000000</td>\n",
       "      <td>0.0624</td>\n",
       "      <td>...</td>\n",
       "      <td>248293.0</td>\n",
       "      <td>5.0</td>\n",
       "      <td>-8.094</td>\n",
       "      <td>1.0</td>\n",
       "      <td>94.604</td>\n",
       "      <td>0.290</td>\n",
       "      <td>56.0</td>\n",
       "      <td>2002-04-09</td>\n",
       "      <td>0.0</td>\n",
       "      <td>3</td>\n",
       "    </tr>\n",
       "    <tr>\n",
       "      <th>4</th>\n",
       "      <td>3tjQYh1H3c17IQMdd8AIBb</td>\n",
       "      <td>The Shining Barrier</td>\n",
       "      <td>acoustic</td>\n",
       "      <td>https://open.spotify.com/track/3tjQYh1H3c17IQM...</td>\n",
       "      <td>40.0</td>\n",
       "      <td>0.794</td>\n",
       "      <td>0.373</td>\n",
       "      <td>0.160</td>\n",
       "      <td>0.764000</td>\n",
       "      <td>0.1070</td>\n",
       "      <td>...</td>\n",
       "      <td>251075.0</td>\n",
       "      <td>10.0</td>\n",
       "      <td>-21.342</td>\n",
       "      <td>1.0</td>\n",
       "      <td>112.578</td>\n",
       "      <td>0.144</td>\n",
       "      <td>79.0</td>\n",
       "      <td>2014-09-15</td>\n",
       "      <td>0.0</td>\n",
       "      <td>4</td>\n",
       "    </tr>\n",
       "  </tbody>\n",
       "</table>\n",
       "<p>5 rows × 21 columns</p>\n",
       "</div>"
      ],
      "text/plain": [
       "                       id                 name     genre  \\\n",
       "0  5OpjJ9qy54D3PzQJ1s4Q9X              TESTIFY  acoustic   \n",
       "1  6ZgaHk6yrHBbHrbTmKl2pZ        Learned A Lot  acoustic   \n",
       "2  4wQKyYfNDY7E8ybcp0hF61       Jupiter's Call  acoustic   \n",
       "3  3JndPOkXLuhupgWnRrPSua                 Rain  acoustic   \n",
       "4  3tjQYh1H3c17IQMdd8AIBb  The Shining Barrier  acoustic   \n",
       "\n",
       "                                                 url  popularity  \\\n",
       "0  https://open.spotify.com/track/5OpjJ9qy54D3PzQ...        59.0   \n",
       "1  https://open.spotify.com/track/6ZgaHk6yrHBbHrb...        39.0   \n",
       "2  https://open.spotify.com/track/4wQKyYfNDY7E8yb...        35.0   \n",
       "3  https://open.spotify.com/track/3JndPOkXLuhupgW...        36.0   \n",
       "4  https://open.spotify.com/track/3tjQYh1H3c17IQM...        40.0   \n",
       "\n",
       "   acousticness  danceability  energy  instrumentalness  liveness  ...  \\\n",
       "0         0.471         0.495   0.710          0.000000    0.0703  ...   \n",
       "1         0.850         0.556   0.285          0.068000    0.1090  ...   \n",
       "2         0.879         0.694   0.354          0.000083    0.3810  ...   \n",
       "3         0.654         0.497   0.372          0.000000    0.0624  ...   \n",
       "4         0.794         0.373   0.160          0.764000    0.1070  ...   \n",
       "\n",
       "   duration_ms   key  loadness  mode    tempo  valence  available_market  \\\n",
       "0     243800.0   0.0    -3.941   1.0   90.024    0.319              79.0   \n",
       "1     270786.0   0.0    -9.884   1.0  128.167    0.322              78.0   \n",
       "2     180952.0   2.0   -12.275   1.0  130.346    0.652              79.0   \n",
       "3     248293.0   5.0    -8.094   1.0   94.604    0.290              56.0   \n",
       "4     251075.0  10.0   -21.342   1.0  112.578    0.144              79.0   \n",
       "\n",
       "   release_date explicit  idx  \n",
       "0    2016-07-15      0.0    0  \n",
       "1          2011      0.0    1  \n",
       "2    2018-06-01      0.0    2  \n",
       "3    2002-04-09      0.0    3  \n",
       "4    2014-09-15      0.0    4  \n",
       "\n",
       "[5 rows x 21 columns]"
      ]
     },
     "metadata": {},
     "output_type": "display_data"
    },
    {
     "data": {
      "text/plain": [
       "(10292, 21)"
      ]
     },
     "execution_count": 5,
     "metadata": {},
     "output_type": "execute_result"
    }
   ],
   "source": [
    "display(df.head())\n",
    "df.shape"
   ]
  },
  {
   "cell_type": "code",
   "execution_count": 6,
   "metadata": {},
   "outputs": [
    {
     "data": {
      "image/png": "[encoded data removed]",
      "text/plain": [
       "<Figure size 432x288 with 1 Axes>"
      ]
     },
     "metadata": {
      "needs_background": "light"
     },
     "output_type": "display_data"
    },
    {
     "data": {
      "image/png": "[encoded data removed]",
      "text/plain": [
       "<Figure size 432x288 with 1 Axes>"
      ]
     },
     "metadata": {
      "needs_background": "light"
     },
     "output_type": "display_data"
    },
    {
     "data": {
      "image/png": "[encoded data removed]",
      "text/plain": [
       "<Figure size 432x288 with 1 Axes>"
      ]
     },
     "metadata": {
      "needs_background": "light"
     },
     "output_type": "display_data"
    },
    {
     "data": {
      "image/png": "[encoded data removed]",
      "text/plain": [
       "<Figure size 432x288 with 1 Axes>"
      ]
     },
     "metadata": {
      "needs_background": "light"
     },
     "output_type": "display_data"
    },
    {
     "data": {
      "image/png": "[encoded data removed]",
      "text/plain": [
       "<Figure size 432x288 with 1 Axes>"
      ]
     },
     "metadata": {
      "needs_background": "light"
     },
     "output_type": "display_data"
    },
    {
     "data": {
      "image/png": "[encoded data removed]",
      "text/plain": [
       "<Figure size 432x288 with 1 Axes>"
      ]
     },
     "metadata": {
      "needs_background": "light"
     },
     "output_type": "display_data"
    },
    {
     "data": {
      "image/png": "[encoded data removed]",
      "text/plain": [
       "<Figure size 432x288 with 1 Axes>"
      ]
     },
     "metadata": {
      "needs_background": "light"
     },
     "output_type": "display_data"
    },
    {
     "data": {
      "image/png": "[encoded data removed]",
      "text/plain": [
       "<Figure size 432x288 with 1 Axes>"
      ]
     },
     "metadata": {
      "needs_background": "light"
     },
     "output_type": "display_data"
    },
    {
     "data": {
      "image/png": "[encoded data removed]",
      "text/plain": [
       "<Figure size 432x288 with 1 Axes>"
      ]
     },
     "metadata": {
      "needs_background": "light"
     },
     "output_type": "display_data"
    },
    {
     "data": {
      "image/png": "[encoded data removed]",
      "text/plain": [
       "<Figure size 432x288 with 1 Axes>"
      ]
     },
     "metadata": {
      "needs_background": "light"
     },
     "output_type": "display_data"
    },
    {
     "data": {
      "image/png": "[encoded data removed]",
      "text/plain": [
       "<Figure size 432x288 with 1 Axes>"
      ]
     },
     "metadata": {
      "needs_background": "light"
     },
     "output_type": "display_data"
    },
    {
     "data": {
      "image/png": "[encoded data removed]",
      "text/plain": [
       "<Figure size 432x288 with 1 Axes>"
      ]
     },
     "metadata": {
      "needs_background": "light"
     },
     "output_type": "display_data"
    },
    {
     "data": {
      "image/png": "[encoded data removed]",
      "text/plain": [
       "<Figure size 432x288 with 1 Axes>"
      ]
     },
     "metadata": {
      "needs_background": "light"
     },
     "output_type": "display_data"
    }
   ],
   "source": [
    "for i in range(5,18):\n",
    "    histogram = plt.hist(df.iloc[:,i])\n",
    "    plt.ylabel(\"frequency\")\n",
    "    columns_name = df.columns.values.tolist()[i]\n",
    "    plt.xlabel(columns_name)\n",
    "    plt.show()"
   ]
  },
  {
   "cell_type": "code",
   "execution_count": 20,
   "metadata": {},
   "outputs": [
    {
     "data": {
      "text/html": [
       "<div>\n",
       "<style scoped>\n",
       "    .dataframe tbody tr th:only-of-type {\n",
       "        vertical-align: middle;\n",
       "    }\n",
       "\n",
       "    .dataframe tbody tr th {\n",
       "        vertical-align: top;\n",
       "    }\n",
       "\n",
       "    .dataframe thead th {\n",
       "        text-align: right;\n",
       "    }\n",
       "</style>\n",
       "<table border=\"1\" class=\"dataframe\">\n",
       "  <thead>\n",
       "    <tr style=\"text-align: right;\">\n",
       "      <th></th>\n",
       "      <th>genre</th>\n",
       "    </tr>\n",
       "  </thead>\n",
       "  <tbody>\n",
       "    <tr>\n",
       "      <th>acoustic</th>\n",
       "      <td>98</td>\n",
       "    </tr>\n",
       "    <tr>\n",
       "      <th>afrobeat</th>\n",
       "      <td>97</td>\n",
       "    </tr>\n",
       "    <tr>\n",
       "      <th>alt-rock</th>\n",
       "      <td>93</td>\n",
       "    </tr>\n",
       "    <tr>\n",
       "      <th>alternative</th>\n",
       "      <td>88</td>\n",
       "    </tr>\n",
       "    <tr>\n",
       "      <th>ambient</th>\n",
       "      <td>96</td>\n",
       "    </tr>\n",
       "    <tr>\n",
       "      <th>anime</th>\n",
       "      <td>100</td>\n",
       "    </tr>\n",
       "    <tr>\n",
       "      <th>black-metal</th>\n",
       "      <td>91</td>\n",
       "    </tr>\n",
       "    <tr>\n",
       "      <th>bluegrass</th>\n",
       "      <td>94</td>\n",
       "    </tr>\n",
       "    <tr>\n",
       "      <th>blues</th>\n",
       "      <td>91</td>\n",
       "    </tr>\n",
       "    <tr>\n",
       "      <th>brazil</th>\n",
       "      <td>72</td>\n",
       "    </tr>\n",
       "    <tr>\n",
       "      <th>breakbeat</th>\n",
       "      <td>100</td>\n",
       "    </tr>\n",
       "    <tr>\n",
       "      <th>british</th>\n",
       "      <td>92</td>\n",
       "    </tr>\n",
       "    <tr>\n",
       "      <th>cantopop</th>\n",
       "      <td>100</td>\n",
       "    </tr>\n",
       "    <tr>\n",
       "      <th>chicago-house</th>\n",
       "      <td>95</td>\n",
       "    </tr>\n",
       "    <tr>\n",
       "      <th>children</th>\n",
       "      <td>93</td>\n",
       "    </tr>\n",
       "    <tr>\n",
       "      <th>chill</th>\n",
       "      <td>95</td>\n",
       "    </tr>\n",
       "    <tr>\n",
       "      <th>classical</th>\n",
       "      <td>4</td>\n",
       "    </tr>\n",
       "    <tr>\n",
       "      <th>club</th>\n",
       "      <td>100</td>\n",
       "    </tr>\n",
       "    <tr>\n",
       "      <th>comedy</th>\n",
       "      <td>97</td>\n",
       "    </tr>\n",
       "    <tr>\n",
       "      <th>country</th>\n",
       "      <td>96</td>\n",
       "    </tr>\n",
       "    <tr>\n",
       "      <th>dance</th>\n",
       "      <td>90</td>\n",
       "    </tr>\n",
       "    <tr>\n",
       "      <th>dancehall</th>\n",
       "      <td>98</td>\n",
       "    </tr>\n",
       "    <tr>\n",
       "      <th>death-metal</th>\n",
       "      <td>96</td>\n",
       "    </tr>\n",
       "    <tr>\n",
       "      <th>deep-house</th>\n",
       "      <td>88</td>\n",
       "    </tr>\n",
       "    <tr>\n",
       "      <th>detroit-techno</th>\n",
       "      <td>97</td>\n",
       "    </tr>\n",
       "    <tr>\n",
       "      <th>disco</th>\n",
       "      <td>95</td>\n",
       "    </tr>\n",
       "    <tr>\n",
       "      <th>disney</th>\n",
       "      <td>99</td>\n",
       "    </tr>\n",
       "    <tr>\n",
       "      <th>drum-and-bass</th>\n",
       "      <td>97</td>\n",
       "    </tr>\n",
       "    <tr>\n",
       "      <th>dub</th>\n",
       "      <td>95</td>\n",
       "    </tr>\n",
       "    <tr>\n",
       "      <th>dubstep</th>\n",
       "      <td>97</td>\n",
       "    </tr>\n",
       "    <tr>\n",
       "      <th>edm</th>\n",
       "      <td>85</td>\n",
       "    </tr>\n",
       "    <tr>\n",
       "      <th>electro</th>\n",
       "      <td>88</td>\n",
       "    </tr>\n",
       "    <tr>\n",
       "      <th>electronic</th>\n",
       "      <td>95</td>\n",
       "    </tr>\n",
       "    <tr>\n",
       "      <th>emo</th>\n",
       "      <td>89</td>\n",
       "    </tr>\n",
       "    <tr>\n",
       "      <th>folk</th>\n",
       "      <td>97</td>\n",
       "    </tr>\n",
       "    <tr>\n",
       "      <th>forro</th>\n",
       "      <td>84</td>\n",
       "    </tr>\n",
       "    <tr>\n",
       "      <th>french</th>\n",
       "      <td>79</td>\n",
       "    </tr>\n",
       "    <tr>\n",
       "      <th>funk</th>\n",
       "      <td>86</td>\n",
       "    </tr>\n",
       "    <tr>\n",
       "      <th>garage</th>\n",
       "      <td>97</td>\n",
       "    </tr>\n",
       "    <tr>\n",
       "      <th>german</th>\n",
       "      <td>5</td>\n",
       "    </tr>\n",
       "    <tr>\n",
       "      <th>gospel</th>\n",
       "      <td>96</td>\n",
       "    </tr>\n",
       "    <tr>\n",
       "      <th>goth</th>\n",
       "      <td>95</td>\n",
       "    </tr>\n",
       "    <tr>\n",
       "      <th>grindcore</th>\n",
       "      <td>99</td>\n",
       "    </tr>\n",
       "    <tr>\n",
       "      <th>groove</th>\n",
       "      <td>93</td>\n",
       "    </tr>\n",
       "    <tr>\n",
       "      <th>grunge</th>\n",
       "      <td>89</td>\n",
       "    </tr>\n",
       "    <tr>\n",
       "      <th>guitar</th>\n",
       "      <td>98</td>\n",
       "    </tr>\n",
       "    <tr>\n",
       "      <th>happy</th>\n",
       "      <td>99</td>\n",
       "    </tr>\n",
       "    <tr>\n",
       "      <th>hard-rock</th>\n",
       "      <td>95</td>\n",
       "    </tr>\n",
       "    <tr>\n",
       "      <th>hardcore</th>\n",
       "      <td>100</td>\n",
       "    </tr>\n",
       "    <tr>\n",
       "      <th>hardstyle</th>\n",
       "      <td>93</td>\n",
       "    </tr>\n",
       "    <tr>\n",
       "      <th>heavy-metal</th>\n",
       "      <td>100</td>\n",
       "    </tr>\n",
       "    <tr>\n",
       "      <th>hip-hop</th>\n",
       "      <td>80</td>\n",
       "    </tr>\n",
       "    <tr>\n",
       "      <th>honky-tonk</th>\n",
       "      <td>100</td>\n",
       "    </tr>\n",
       "    <tr>\n",
       "      <th>house</th>\n",
       "      <td>80</td>\n",
       "    </tr>\n",
       "    <tr>\n",
       "      <th>idm</th>\n",
       "      <td>99</td>\n",
       "    </tr>\n",
       "    <tr>\n",
       "      <th>indian</th>\n",
       "      <td>94</td>\n",
       "    </tr>\n",
       "    <tr>\n",
       "      <th>indie</th>\n",
       "      <td>87</td>\n",
       "    </tr>\n",
       "    <tr>\n",
       "      <th>indie-pop</th>\n",
       "      <td>93</td>\n",
       "    </tr>\n",
       "    <tr>\n",
       "      <th>industrial</th>\n",
       "      <td>97</td>\n",
       "    </tr>\n",
       "    <tr>\n",
       "      <th>iranian</th>\n",
       "      <td>98</td>\n",
       "    </tr>\n",
       "    <tr>\n",
       "      <th>j-dance</th>\n",
       "      <td>96</td>\n",
       "    </tr>\n",
       "    <tr>\n",
       "      <th>j-idol</th>\n",
       "      <td>100</td>\n",
       "    </tr>\n",
       "    <tr>\n",
       "      <th>j-pop</th>\n",
       "      <td>96</td>\n",
       "    </tr>\n",
       "    <tr>\n",
       "      <th>j-rock</th>\n",
       "      <td>97</td>\n",
       "    </tr>\n",
       "    <tr>\n",
       "      <th>jazz</th>\n",
       "      <td>98</td>\n",
       "    </tr>\n",
       "    <tr>\n",
       "      <th>k-pop</th>\n",
       "      <td>94</td>\n",
       "    </tr>\n",
       "    <tr>\n",
       "      <th>kids</th>\n",
       "      <td>98</td>\n",
       "    </tr>\n",
       "    <tr>\n",
       "      <th>latin</th>\n",
       "      <td>94</td>\n",
       "    </tr>\n",
       "    <tr>\n",
       "      <th>latino</th>\n",
       "      <td>93</td>\n",
       "    </tr>\n",
       "    <tr>\n",
       "      <th>malay</th>\n",
       "      <td>98</td>\n",
       "    </tr>\n",
       "    <tr>\n",
       "      <th>mandopop</th>\n",
       "      <td>98</td>\n",
       "    </tr>\n",
       "    <tr>\n",
       "      <th>metal</th>\n",
       "      <td>91</td>\n",
       "    </tr>\n",
       "    <tr>\n",
       "      <th>metalcore</th>\n",
       "      <td>100</td>\n",
       "    </tr>\n",
       "    <tr>\n",
       "      <th>minimal-techno</th>\n",
       "      <td>93</td>\n",
       "    </tr>\n",
       "    <tr>\n",
       "      <th>mpb</th>\n",
       "      <td>88</td>\n",
       "    </tr>\n",
       "    <tr>\n",
       "      <th>new-age</th>\n",
       "      <td>93</td>\n",
       "    </tr>\n",
       "    <tr>\n",
       "      <th>opera</th>\n",
       "      <td>81</td>\n",
       "    </tr>\n",
       "    <tr>\n",
       "      <th>pagode</th>\n",
       "      <td>77</td>\n",
       "    </tr>\n",
       "    <tr>\n",
       "      <th>party</th>\n",
       "      <td>91</td>\n",
       "    </tr>\n",
       "    <tr>\n",
       "      <th>piano</th>\n",
       "      <td>97</td>\n",
       "    </tr>\n",
       "    <tr>\n",
       "      <th>pop</th>\n",
       "      <td>88</td>\n",
       "    </tr>\n",
       "    <tr>\n",
       "      <th>pop-film</th>\n",
       "      <td>89</td>\n",
       "    </tr>\n",
       "    <tr>\n",
       "      <th>power-pop</th>\n",
       "      <td>97</td>\n",
       "    </tr>\n",
       "    <tr>\n",
       "      <th>progressive-house</th>\n",
       "      <td>86</td>\n",
       "    </tr>\n",
       "    <tr>\n",
       "      <th>psych-rock</th>\n",
       "      <td>94</td>\n",
       "    </tr>\n",
       "    <tr>\n",
       "      <th>punk</th>\n",
       "      <td>96</td>\n",
       "    </tr>\n",
       "    <tr>\n",
       "      <th>punk-rock</th>\n",
       "      <td>96</td>\n",
       "    </tr>\n",
       "    <tr>\n",
       "      <th>r-n-b</th>\n",
       "      <td>91</td>\n",
       "    </tr>\n",
       "    <tr>\n",
       "      <th>reggae</th>\n",
       "      <td>93</td>\n",
       "    </tr>\n",
       "    <tr>\n",
       "      <th>reggaeton</th>\n",
       "      <td>89</td>\n",
       "    </tr>\n",
       "    <tr>\n",
       "      <th>rock</th>\n",
       "      <td>93</td>\n",
       "    </tr>\n",
       "    <tr>\n",
       "      <th>rock-n-roll</th>\n",
       "      <td>96</td>\n",
       "    </tr>\n",
       "    <tr>\n",
       "      <th>rockabilly</th>\n",
       "      <td>96</td>\n",
       "    </tr>\n",
       "    <tr>\n",
       "      <th>romance</th>\n",
       "      <td>97</td>\n",
       "    </tr>\n",
       "    <tr>\n",
       "      <th>salsa</th>\n",
       "      <td>96</td>\n",
       "    </tr>\n",
       "    <tr>\n",
       "      <th>samba</th>\n",
       "      <td>91</td>\n",
       "    </tr>\n",
       "    <tr>\n",
       "      <th>sertanejo</th>\n",
       "      <td>85</td>\n",
       "    </tr>\n",
       "    <tr>\n",
       "      <th>show-tunes</th>\n",
       "      <td>100</td>\n",
       "    </tr>\n",
       "    <tr>\n",
       "      <th>singer-songwriter</th>\n",
       "      <td>91</td>\n",
       "    </tr>\n",
       "    <tr>\n",
       "      <th>ska</th>\n",
       "      <td>97</td>\n",
       "    </tr>\n",
       "    <tr>\n",
       "      <th>sleep</th>\n",
       "      <td>99</td>\n",
       "    </tr>\n",
       "    <tr>\n",
       "      <th>songwriter</th>\n",
       "      <td>95</td>\n",
       "    </tr>\n",
       "    <tr>\n",
       "      <th>soul</th>\n",
       "      <td>95</td>\n",
       "    </tr>\n",
       "    <tr>\n",
       "      <th>spanish</th>\n",
       "      <td>91</td>\n",
       "    </tr>\n",
       "    <tr>\n",
       "      <th>swedish</th>\n",
       "      <td>97</td>\n",
       "    </tr>\n",
       "    <tr>\n",
       "      <th>synth-pop</th>\n",
       "      <td>96</td>\n",
       "    </tr>\n",
       "    <tr>\n",
       "      <th>tango</th>\n",
       "      <td>97</td>\n",
       "    </tr>\n",
       "    <tr>\n",
       "      <th>techno</th>\n",
       "      <td>92</td>\n",
       "    </tr>\n",
       "    <tr>\n",
       "      <th>trance</th>\n",
       "      <td>73</td>\n",
       "    </tr>\n",
       "    <tr>\n",
       "      <th>trip-hop</th>\n",
       "      <td>93</td>\n",
       "    </tr>\n",
       "    <tr>\n",
       "      <th>turkish</th>\n",
       "      <td>98</td>\n",
       "    </tr>\n",
       "    <tr>\n",
       "      <th>world-music</th>\n",
       "      <td>98</td>\n",
       "    </tr>\n",
       "  </tbody>\n",
       "</table>\n",
       "</div>"
      ],
      "text/plain": [
       "                   genre\n",
       "acoustic              98\n",
       "afrobeat              97\n",
       "alt-rock              93\n",
       "alternative           88\n",
       "ambient               96\n",
       "anime                100\n",
       "black-metal           91\n",
       "bluegrass             94\n",
       "blues                 91\n",
       "brazil                72\n",
       "breakbeat            100\n",
       "british               92\n",
       "cantopop             100\n",
       "chicago-house         95\n",
       "children              93\n",
       "chill                 95\n",
       "classical              4\n",
       "club                 100\n",
       "comedy                97\n",
       "country               96\n",
       "dance                 90\n",
       "dancehall             98\n",
       "death-metal           96\n",
       "deep-house            88\n",
       "detroit-techno        97\n",
       "disco                 95\n",
       "disney                99\n",
       "drum-and-bass         97\n",
       "dub                   95\n",
       "dubstep               97\n",
       "edm                   85\n",
       "electro               88\n",
       "electronic            95\n",
       "emo                   89\n",
       "folk                  97\n",
       "forro                 84\n",
       "french                79\n",
       "funk                  86\n",
       "garage                97\n",
       "german                 5\n",
       "gospel                96\n",
       "goth                  95\n",
       "grindcore             99\n",
       "groove                93\n",
       "grunge                89\n",
       "guitar                98\n",
       "happy                 99\n",
       "hard-rock             95\n",
       "hardcore             100\n",
       "hardstyle             93\n",
       "heavy-metal          100\n",
       "hip-hop               80\n",
       "honky-tonk           100\n",
       "house                 80\n",
       "idm                   99\n",
       "indian                94\n",
       "indie                 87\n",
       "indie-pop             93\n",
       "industrial            97\n",
       "iranian               98\n",
       "j-dance               96\n",
       "j-idol               100\n",
       "j-pop                 96\n",
       "j-rock                97\n",
       "jazz                  98\n",
       "k-pop                 94\n",
       "kids                  98\n",
       "latin                 94\n",
       "latino                93\n",
       "malay                 98\n",
       "mandopop              98\n",
       "metal                 91\n",
       "metalcore            100\n",
       "minimal-techno        93\n",
       "mpb                   88\n",
       "new-age               93\n",
       "opera                 81\n",
       "pagode                77\n",
       "party                 91\n",
       "piano                 97\n",
       "pop                   88\n",
       "pop-film              89\n",
       "power-pop             97\n",
       "progressive-house     86\n",
       "psych-rock            94\n",
       "punk                  96\n",
       "punk-rock             96\n",
       "r-n-b                 91\n",
       "reggae                93\n",
       "reggaeton             89\n",
       "rock                  93\n",
       "rock-n-roll           96\n",
       "rockabilly            96\n",
       "romance               97\n",
       "salsa                 96\n",
       "samba                 91\n",
       "sertanejo             85\n",
       "show-tunes           100\n",
       "singer-songwriter     91\n",
       "ska                   97\n",
       "sleep                 99\n",
       "songwriter            95\n",
       "soul                  95\n",
       "spanish               91\n",
       "swedish               97\n",
       "synth-pop             96\n",
       "tango                 97\n",
       "techno                92\n",
       "trance                73\n",
       "trip-hop              93\n",
       "turkish               98\n",
       "world-music           98"
      ]
     },
     "metadata": {},
     "output_type": "display_data"
    },
    {
     "name": "stdout",
     "output_type": "stream",
     "text": [
      "Index(['acoustic', 'afrobeat', 'alt-rock', 'alternative', 'ambient', 'anime',\n",
      "       'black-metal', 'bluegrass', 'blues', 'brazil',\n",
      "       ...\n",
      "       'soul', 'spanish', 'swedish', 'synth-pop', 'tango', 'techno', 'trance',\n",
      "       'trip-hop', 'turkish', 'world-music'],\n",
      "      dtype='object', length=112)\n",
      "(112, 1)\n"
     ]
    }
   ],
   "source": [
    "genre_catogory = pd.DataFrame(df['genre'].value_counts().sort_index())\n",
    "display(genre_catogory)\n",
    "print(genre_catogory.index)\n",
    "print(genre_catogory.shape)"
   ]
  },
  {
   "cell_type": "code",
   "execution_count": 8,
   "metadata": {},
   "outputs": [
    {
     "data": {
      "text/html": [
       "<div>\n",
       "<style scoped>\n",
       "    .dataframe tbody tr th:only-of-type {\n",
       "        vertical-align: middle;\n",
       "    }\n",
       "\n",
       "    .dataframe tbody tr th {\n",
       "        vertical-align: top;\n",
       "    }\n",
       "\n",
       "    .dataframe thead th {\n",
       "        text-align: right;\n",
       "    }\n",
       "</style>\n",
       "<table border=\"1\" class=\"dataframe\">\n",
       "  <thead>\n",
       "    <tr style=\"text-align: right;\">\n",
       "      <th></th>\n",
       "      <th>popularity</th>\n",
       "    </tr>\n",
       "  </thead>\n",
       "  <tbody>\n",
       "    <tr>\n",
       "      <th>0.0</th>\n",
       "      <td>205</td>\n",
       "    </tr>\n",
       "    <tr>\n",
       "      <th>1.0</th>\n",
       "      <td>28</td>\n",
       "    </tr>\n",
       "    <tr>\n",
       "      <th>2.0</th>\n",
       "      <td>19</td>\n",
       "    </tr>\n",
       "    <tr>\n",
       "      <th>3.0</th>\n",
       "      <td>13</td>\n",
       "    </tr>\n",
       "    <tr>\n",
       "      <th>4.0</th>\n",
       "      <td>17</td>\n",
       "    </tr>\n",
       "    <tr>\n",
       "      <th>5.0</th>\n",
       "      <td>22</td>\n",
       "    </tr>\n",
       "    <tr>\n",
       "      <th>6.0</th>\n",
       "      <td>28</td>\n",
       "    </tr>\n",
       "    <tr>\n",
       "      <th>7.0</th>\n",
       "      <td>26</td>\n",
       "    </tr>\n",
       "    <tr>\n",
       "      <th>8.0</th>\n",
       "      <td>49</td>\n",
       "    </tr>\n",
       "    <tr>\n",
       "      <th>9.0</th>\n",
       "      <td>43</td>\n",
       "    </tr>\n",
       "    <tr>\n",
       "      <th>10.0</th>\n",
       "      <td>54</td>\n",
       "    </tr>\n",
       "    <tr>\n",
       "      <th>11.0</th>\n",
       "      <td>62</td>\n",
       "    </tr>\n",
       "    <tr>\n",
       "      <th>12.0</th>\n",
       "      <td>62</td>\n",
       "    </tr>\n",
       "    <tr>\n",
       "      <th>13.0</th>\n",
       "      <td>59</td>\n",
       "    </tr>\n",
       "    <tr>\n",
       "      <th>14.0</th>\n",
       "      <td>51</td>\n",
       "    </tr>\n",
       "    <tr>\n",
       "      <th>15.0</th>\n",
       "      <td>52</td>\n",
       "    </tr>\n",
       "    <tr>\n",
       "      <th>16.0</th>\n",
       "      <td>68</td>\n",
       "    </tr>\n",
       "    <tr>\n",
       "      <th>17.0</th>\n",
       "      <td>51</td>\n",
       "    </tr>\n",
       "    <tr>\n",
       "      <th>18.0</th>\n",
       "      <td>44</td>\n",
       "    </tr>\n",
       "    <tr>\n",
       "      <th>19.0</th>\n",
       "      <td>44</td>\n",
       "    </tr>\n",
       "    <tr>\n",
       "      <th>20.0</th>\n",
       "      <td>43</td>\n",
       "    </tr>\n",
       "    <tr>\n",
       "      <th>21.0</th>\n",
       "      <td>58</td>\n",
       "    </tr>\n",
       "    <tr>\n",
       "      <th>22.0</th>\n",
       "      <td>54</td>\n",
       "    </tr>\n",
       "    <tr>\n",
       "      <th>23.0</th>\n",
       "      <td>60</td>\n",
       "    </tr>\n",
       "    <tr>\n",
       "      <th>24.0</th>\n",
       "      <td>77</td>\n",
       "    </tr>\n",
       "    <tr>\n",
       "      <th>25.0</th>\n",
       "      <td>78</td>\n",
       "    </tr>\n",
       "    <tr>\n",
       "      <th>26.0</th>\n",
       "      <td>97</td>\n",
       "    </tr>\n",
       "    <tr>\n",
       "      <th>27.0</th>\n",
       "      <td>117</td>\n",
       "    </tr>\n",
       "    <tr>\n",
       "      <th>28.0</th>\n",
       "      <td>125</td>\n",
       "    </tr>\n",
       "    <tr>\n",
       "      <th>29.0</th>\n",
       "      <td>129</td>\n",
       "    </tr>\n",
       "    <tr>\n",
       "      <th>30.0</th>\n",
       "      <td>176</td>\n",
       "    </tr>\n",
       "    <tr>\n",
       "      <th>31.0</th>\n",
       "      <td>166</td>\n",
       "    </tr>\n",
       "    <tr>\n",
       "      <th>32.0</th>\n",
       "      <td>185</td>\n",
       "    </tr>\n",
       "    <tr>\n",
       "      <th>33.0</th>\n",
       "      <td>203</td>\n",
       "    </tr>\n",
       "    <tr>\n",
       "      <th>34.0</th>\n",
       "      <td>211</td>\n",
       "    </tr>\n",
       "    <tr>\n",
       "      <th>35.0</th>\n",
       "      <td>193</td>\n",
       "    </tr>\n",
       "    <tr>\n",
       "      <th>36.0</th>\n",
       "      <td>216</td>\n",
       "    </tr>\n",
       "    <tr>\n",
       "      <th>37.0</th>\n",
       "      <td>243</td>\n",
       "    </tr>\n",
       "    <tr>\n",
       "      <th>38.0</th>\n",
       "      <td>249</td>\n",
       "    </tr>\n",
       "    <tr>\n",
       "      <th>39.0</th>\n",
       "      <td>279</td>\n",
       "    </tr>\n",
       "    <tr>\n",
       "      <th>40.0</th>\n",
       "      <td>239</td>\n",
       "    </tr>\n",
       "    <tr>\n",
       "      <th>41.0</th>\n",
       "      <td>231</td>\n",
       "    </tr>\n",
       "    <tr>\n",
       "      <th>42.0</th>\n",
       "      <td>254</td>\n",
       "    </tr>\n",
       "    <tr>\n",
       "      <th>43.0</th>\n",
       "      <td>244</td>\n",
       "    </tr>\n",
       "    <tr>\n",
       "      <th>44.0</th>\n",
       "      <td>232</td>\n",
       "    </tr>\n",
       "    <tr>\n",
       "      <th>45.0</th>\n",
       "      <td>238</td>\n",
       "    </tr>\n",
       "    <tr>\n",
       "      <th>46.0</th>\n",
       "      <td>219</td>\n",
       "    </tr>\n",
       "    <tr>\n",
       "      <th>47.0</th>\n",
       "      <td>257</td>\n",
       "    </tr>\n",
       "    <tr>\n",
       "      <th>48.0</th>\n",
       "      <td>252</td>\n",
       "    </tr>\n",
       "    <tr>\n",
       "      <th>49.0</th>\n",
       "      <td>254</td>\n",
       "    </tr>\n",
       "    <tr>\n",
       "      <th>50.0</th>\n",
       "      <td>229</td>\n",
       "    </tr>\n",
       "    <tr>\n",
       "      <th>51.0</th>\n",
       "      <td>242</td>\n",
       "    </tr>\n",
       "    <tr>\n",
       "      <th>52.0</th>\n",
       "      <td>246</td>\n",
       "    </tr>\n",
       "    <tr>\n",
       "      <th>53.0</th>\n",
       "      <td>250</td>\n",
       "    </tr>\n",
       "    <tr>\n",
       "      <th>54.0</th>\n",
       "      <td>253</td>\n",
       "    </tr>\n",
       "    <tr>\n",
       "      <th>55.0</th>\n",
       "      <td>218</td>\n",
       "    </tr>\n",
       "    <tr>\n",
       "      <th>56.0</th>\n",
       "      <td>203</td>\n",
       "    </tr>\n",
       "    <tr>\n",
       "      <th>57.0</th>\n",
       "      <td>208</td>\n",
       "    </tr>\n",
       "    <tr>\n",
       "      <th>58.0</th>\n",
       "      <td>204</td>\n",
       "    </tr>\n",
       "    <tr>\n",
       "      <th>59.0</th>\n",
       "      <td>198</td>\n",
       "    </tr>\n",
       "    <tr>\n",
       "      <th>60.0</th>\n",
       "      <td>181</td>\n",
       "    </tr>\n",
       "    <tr>\n",
       "      <th>61.0</th>\n",
       "      <td>137</td>\n",
       "    </tr>\n",
       "    <tr>\n",
       "      <th>62.0</th>\n",
       "      <td>152</td>\n",
       "    </tr>\n",
       "    <tr>\n",
       "      <th>63.0</th>\n",
       "      <td>146</td>\n",
       "    </tr>\n",
       "    <tr>\n",
       "      <th>64.0</th>\n",
       "      <td>135</td>\n",
       "    </tr>\n",
       "    <tr>\n",
       "      <th>65.0</th>\n",
       "      <td>96</td>\n",
       "    </tr>\n",
       "    <tr>\n",
       "      <th>66.0</th>\n",
       "      <td>111</td>\n",
       "    </tr>\n",
       "    <tr>\n",
       "      <th>67.0</th>\n",
       "      <td>99</td>\n",
       "    </tr>\n",
       "    <tr>\n",
       "      <th>68.0</th>\n",
       "      <td>83</td>\n",
       "    </tr>\n",
       "    <tr>\n",
       "      <th>69.0</th>\n",
       "      <td>82</td>\n",
       "    </tr>\n",
       "    <tr>\n",
       "      <th>70.0</th>\n",
       "      <td>74</td>\n",
       "    </tr>\n",
       "    <tr>\n",
       "      <th>71.0</th>\n",
       "      <td>67</td>\n",
       "    </tr>\n",
       "    <tr>\n",
       "      <th>72.0</th>\n",
       "      <td>47</td>\n",
       "    </tr>\n",
       "    <tr>\n",
       "      <th>73.0</th>\n",
       "      <td>45</td>\n",
       "    </tr>\n",
       "    <tr>\n",
       "      <th>74.0</th>\n",
       "      <td>40</td>\n",
       "    </tr>\n",
       "    <tr>\n",
       "      <th>75.0</th>\n",
       "      <td>24</td>\n",
       "    </tr>\n",
       "    <tr>\n",
       "      <th>76.0</th>\n",
       "      <td>31</td>\n",
       "    </tr>\n",
       "    <tr>\n",
       "      <th>77.0</th>\n",
       "      <td>25</td>\n",
       "    </tr>\n",
       "    <tr>\n",
       "      <th>78.0</th>\n",
       "      <td>20</td>\n",
       "    </tr>\n",
       "    <tr>\n",
       "      <th>79.0</th>\n",
       "      <td>19</td>\n",
       "    </tr>\n",
       "    <tr>\n",
       "      <th>80.0</th>\n",
       "      <td>9</td>\n",
       "    </tr>\n",
       "    <tr>\n",
       "      <th>81.0</th>\n",
       "      <td>8</td>\n",
       "    </tr>\n",
       "    <tr>\n",
       "      <th>82.0</th>\n",
       "      <td>12</td>\n",
       "    </tr>\n",
       "    <tr>\n",
       "      <th>83.0</th>\n",
       "      <td>7</td>\n",
       "    </tr>\n",
       "    <tr>\n",
       "      <th>84.0</th>\n",
       "      <td>3</td>\n",
       "    </tr>\n",
       "    <tr>\n",
       "      <th>85.0</th>\n",
       "      <td>1</td>\n",
       "    </tr>\n",
       "    <tr>\n",
       "      <th>86.0</th>\n",
       "      <td>4</td>\n",
       "    </tr>\n",
       "    <tr>\n",
       "      <th>87.0</th>\n",
       "      <td>1</td>\n",
       "    </tr>\n",
       "    <tr>\n",
       "      <th>88.0</th>\n",
       "      <td>1</td>\n",
       "    </tr>\n",
       "    <tr>\n",
       "      <th>89.0</th>\n",
       "      <td>3</td>\n",
       "    </tr>\n",
       "    <tr>\n",
       "      <th>90.0</th>\n",
       "      <td>1</td>\n",
       "    </tr>\n",
       "    <tr>\n",
       "      <th>94.0</th>\n",
       "      <td>1</td>\n",
       "    </tr>\n",
       "  </tbody>\n",
       "</table>\n",
       "</div>"
      ],
      "text/plain": [
       "      popularity\n",
       "0.0          205\n",
       "1.0           28\n",
       "2.0           19\n",
       "3.0           13\n",
       "4.0           17\n",
       "5.0           22\n",
       "6.0           28\n",
       "7.0           26\n",
       "8.0           49\n",
       "9.0           43\n",
       "10.0          54\n",
       "11.0          62\n",
       "12.0          62\n",
       "13.0          59\n",
       "14.0          51\n",
       "15.0          52\n",
       "16.0          68\n",
       "17.0          51\n",
       "18.0          44\n",
       "19.0          44\n",
       "20.0          43\n",
       "21.0          58\n",
       "22.0          54\n",
       "23.0          60\n",
       "24.0          77\n",
       "25.0          78\n",
       "26.0          97\n",
       "27.0         117\n",
       "28.0         125\n",
       "29.0         129\n",
       "30.0         176\n",
       "31.0         166\n",
       "32.0         185\n",
       "33.0         203\n",
       "34.0         211\n",
       "35.0         193\n",
       "36.0         216\n",
       "37.0         243\n",
       "38.0         249\n",
       "39.0         279\n",
       "40.0         239\n",
       "41.0         231\n",
       "42.0         254\n",
       "43.0         244\n",
       "44.0         232\n",
       "45.0         238\n",
       "46.0         219\n",
       "47.0         257\n",
       "48.0         252\n",
       "49.0         254\n",
       "50.0         229\n",
       "51.0         242\n",
       "52.0         246\n",
       "53.0         250\n",
       "54.0         253\n",
       "55.0         218\n",
       "56.0         203\n",
       "57.0         208\n",
       "58.0         204\n",
       "59.0         198\n",
       "60.0         181\n",
       "61.0         137\n",
       "62.0         152\n",
       "63.0         146\n",
       "64.0         135\n",
       "65.0          96\n",
       "66.0         111\n",
       "67.0          99\n",
       "68.0          83\n",
       "69.0          82\n",
       "70.0          74\n",
       "71.0          67\n",
       "72.0          47\n",
       "73.0          45\n",
       "74.0          40\n",
       "75.0          24\n",
       "76.0          31\n",
       "77.0          25\n",
       "78.0          20\n",
       "79.0          19\n",
       "80.0           9\n",
       "81.0           8\n",
       "82.0          12\n",
       "83.0           7\n",
       "84.0           3\n",
       "85.0           1\n",
       "86.0           4\n",
       "87.0           1\n",
       "88.0           1\n",
       "89.0           3\n",
       "90.0           1\n",
       "94.0           1"
      ]
     },
     "metadata": {},
     "output_type": "display_data"
    }
   ],
   "source": [
    "popularity_catogory = pd.DataFrame(df['popularity'].value_counts())\n",
    "popularity_catogory = popularity_catogory.sort_index() #根據index調整順序\n",
    "display(popularity_catogory)"
   ]
  },
  {
   "cell_type": "code",
   "execution_count": 9,
   "metadata": {},
   "outputs": [
    {
     "data": {
      "image/png": "[encoded data removed]",
      "text/plain": [
       "<Figure size 432x288 with 1 Axes>"
      ]
     },
     "metadata": {
      "needs_background": "light"
     },
     "output_type": "display_data"
    }
   ],
   "source": [
    "plt.hist(df['popularity'],bins = 10) \n",
    "plt.xlabel(\"popularity\")\n",
    "plt.ylabel(\"numbers of song\")\n",
    "title = \"popularity distribution for all\"\n",
    "plt.title(title)\n",
    "plt.show()"
   ]
  },
  {
   "cell_type": "markdown",
   "metadata": {},
   "source": [
    "## 看誰的popularity有0分"
   ]
  },
  {
   "cell_type": "code",
   "execution_count": 10,
   "metadata": {},
   "outputs": [
    {
     "data": {
      "text/html": [
       "<div>\n",
       "<style scoped>\n",
       "    .dataframe tbody tr th:only-of-type {\n",
       "        vertical-align: middle;\n",
       "    }\n",
       "\n",
       "    .dataframe tbody tr th {\n",
       "        vertical-align: top;\n",
       "    }\n",
       "\n",
       "    .dataframe thead th {\n",
       "        text-align: right;\n",
       "    }\n",
       "</style>\n",
       "<table border=\"1\" class=\"dataframe\">\n",
       "  <thead>\n",
       "    <tr style=\"text-align: right;\">\n",
       "      <th></th>\n",
       "      <th>genre</th>\n",
       "    </tr>\n",
       "  </thead>\n",
       "  <tbody>\n",
       "    <tr>\n",
       "      <th>detroit-techno</th>\n",
       "      <td>35</td>\n",
       "    </tr>\n",
       "    <tr>\n",
       "      <th>heavy-metal</th>\n",
       "      <td>1</td>\n",
       "    </tr>\n",
       "    <tr>\n",
       "      <th>iranian</th>\n",
       "      <td>55</td>\n",
       "    </tr>\n",
       "    <tr>\n",
       "      <th>kids</th>\n",
       "      <td>48</td>\n",
       "    </tr>\n",
       "    <tr>\n",
       "      <th>romance</th>\n",
       "      <td>66</td>\n",
       "    </tr>\n",
       "  </tbody>\n",
       "</table>\n",
       "</div>"
      ],
      "text/plain": [
       "                genre\n",
       "detroit-techno     35\n",
       "heavy-metal         1\n",
       "iranian            55\n",
       "kids               48\n",
       "romance            66"
      ]
     },
     "metadata": {},
     "output_type": "display_data"
    },
    {
     "data": {
      "text/plain": [
       "(5, 1)"
      ]
     },
     "execution_count": 10,
     "metadata": {},
     "output_type": "execute_result"
    }
   ],
   "source": [
    "pop_is_0 = df['popularity'] == 0 \n",
    "df_pop_0 = df[pop_is_0]\n",
    "genre_catogory_0 = pd.DataFrame(df_pop_0['genre'].value_counts().sort_index())\n",
    "display(genre_catogory_0)\n",
    "genre_catogory_0.shape"
   ]
  },
  {
   "cell_type": "markdown",
   "metadata": {},
   "source": [
    "## 小分類的popularity"
   ]
  },
  {
   "cell_type": "code",
   "execution_count": 11,
   "metadata": {},
   "outputs": [],
   "source": [
    "cato = [ 'j-pop',  'k-pop', 'rock', 'metal', 'classical', 'hip-hop', 'opera', 'country', 'dance', 'jazz', 'pop', 'blues',  'j-idol', 'disney']"
   ]
  },
  {
   "cell_type": "code",
   "execution_count": 21,
   "metadata": {},
   "outputs": [
    {
     "data": {
      "image/png": "[encoded data removed]",
      "text/plain": [
       "<Figure size 432x288 with 1 Axes>"
      ]
     },
     "metadata": {
      "needs_background": "light"
     },
     "output_type": "display_data"
    },
    {
     "name": "stdout",
     "output_type": "stream",
     "text": [
      "mean of popularity  49.291666666666664\n",
      "min of popularity  39.0\n",
      "max of popularity  69.0\n",
      "standard deviation of popularity  7.346917243474037\n",
      "skewness of popularity  0.6929780661163695\n",
      "kurtosis of popularity  -0.4024851529691178\n"
     ]
    },
    {
     "data": {
      "image/png": "[encoded data removed]",
      "text/plain": [
       "<Figure size 432x288 with 1 Axes>"
      ]
     },
     "metadata": {
      "needs_background": "light"
     },
     "output_type": "display_data"
    },
    {
     "name": "stdout",
     "output_type": "stream",
     "text": [
      "mean of popularity  57.54255319148936\n",
      "min of popularity  47.0\n",
      "max of popularity  77.0\n",
      "standard deviation of popularity  6.559348403281751\n",
      "skewness of popularity  0.7978654828632658\n",
      "kurtosis of popularity  0.423048458697024\n"
     ]
    },
    {
     "data": {
      "image/png": "[encoded data removed]",
      "text/plain": [
       "<Figure size 432x288 with 1 Axes>"
      ]
     },
     "metadata": {
      "needs_background": "light"
     },
     "output_type": "display_data"
    },
    {
     "name": "stdout",
     "output_type": "stream",
     "text": [
      "mean of popularity  68.47311827956989\n",
      "min of popularity  60.0\n",
      "max of popularity  83.0\n",
      "standard deviation of popularity  5.339743109456512\n",
      "skewness of popularity  0.756332009344692\n",
      "kurtosis of popularity  0.1210006505595227\n"
     ]
    },
    {
     "data": {
      "image/png": "[encoded data removed]",
      "text/plain": [
       "<Figure size 432x288 with 1 Axes>"
      ]
     },
     "metadata": {
      "needs_background": "light"
     },
     "output_type": "display_data"
    },
    {
     "name": "stdout",
     "output_type": "stream",
     "text": [
      "mean of popularity  60.07692307692308\n",
      "min of popularity  50.0\n",
      "max of popularity  81.0\n",
      "standard deviation of popularity  6.384409429280343\n",
      "skewness of popularity  0.8519002270976225\n",
      "kurtosis of popularity  0.6004357095681678\n"
     ]
    },
    {
     "data": {
      "image/png": "[encoded data removed]",
      "text/plain": [
       "<Figure size 432x288 with 1 Axes>"
      ]
     },
     "metadata": {
      "needs_background": "light"
     },
     "output_type": "display_data"
    },
    {
     "name": "stdout",
     "output_type": "stream",
     "text": [
      "mean of popularity  63.5\n",
      "min of popularity  61.0\n",
      "max of popularity  67.0\n",
      "standard deviation of popularity  2.6457513110645907\n",
      "skewness of popularity  0.4987837491108397\n",
      "kurtosis of popularity  -1.2380952380952381\n"
     ]
    },
    {
     "data": {
      "image/png": "[encoded data removed]",
      "text/plain": [
       "<Figure size 432x288 with 1 Axes>"
      ]
     },
     "metadata": {
      "needs_background": "light"
     },
     "output_type": "display_data"
    },
    {
     "name": "stdout",
     "output_type": "stream",
     "text": [
      "mean of popularity  68.9125\n",
      "min of popularity  60.0\n",
      "max of popularity  86.0\n",
      "standard deviation of popularity  5.774658190333854\n",
      "skewness of popularity  0.8799568929287541\n",
      "kurtosis of popularity  0.45772898318637845\n"
     ]
    },
    {
     "data": {
      "image/png": "[encoded data removed]",
      "text/plain": [
       "<Figure size 432x288 with 1 Axes>"
      ]
     },
     "metadata": {
      "needs_background": "light"
     },
     "output_type": "display_data"
    },
    {
     "name": "stdout",
     "output_type": "stream",
     "text": [
      "mean of popularity  37.25925925925926\n",
      "min of popularity  21.0\n",
      "max of popularity  53.0\n",
      "standard deviation of popularity  7.461195912482425\n",
      "skewness of popularity  -0.09303452227746001\n",
      "kurtosis of popularity  -0.33878830792962455\n"
     ]
    },
    {
     "data": {
      "image/png": "[encoded data removed]",
      "text/plain": [
       "<Figure size 432x288 with 1 Axes>"
      ]
     },
     "metadata": {
      "needs_background": "light"
     },
     "output_type": "display_data"
    },
    {
     "name": "stdout",
     "output_type": "stream",
     "text": [
      "mean of popularity  61.989583333333336\n",
      "min of popularity  54.0\n",
      "max of popularity  82.0\n",
      "standard deviation of popularity  6.072361530854658\n",
      "skewness of popularity  0.9170206175208505\n",
      "kurtosis of popularity  0.34562439793597965\n"
     ]
    },
    {
     "data": {
      "image/png": "[encoded data removed]",
      "text/plain": [
       "<Figure size 432x288 with 1 Axes>"
      ]
     },
     "metadata": {
      "needs_background": "light"
     },
     "output_type": "display_data"
    },
    {
     "name": "stdout",
     "output_type": "stream",
     "text": [
      "mean of popularity  69.23333333333333\n",
      "min of popularity  57.0\n",
      "max of popularity  89.0\n",
      "standard deviation of popularity  6.14625125538991\n",
      "skewness of popularity  0.5013524717490567\n",
      "kurtosis of popularity  0.6098109940109495\n"
     ]
    },
    {
     "data": {
      "image/png": "[encoded data removed]",
      "text/plain": [
       "<Figure size 432x288 with 1 Axes>"
      ]
     },
     "metadata": {
      "needs_background": "light"
     },
     "output_type": "display_data"
    },
    {
     "name": "stdout",
     "output_type": "stream",
     "text": [
      "mean of popularity  51.45918367346939\n",
      "min of popularity  39.0\n",
      "max of popularity  65.0\n",
      "standard deviation of popularity  5.133613440414755\n",
      "skewness of popularity  0.25965050179938787\n",
      "kurtosis of popularity  0.0816017783148899\n"
     ]
    },
    {
     "data": {
      "image/png": "[encoded data removed]",
      "text/plain": [
       "<Figure size 432x288 with 1 Axes>"
      ]
     },
     "metadata": {
      "needs_background": "light"
     },
     "output_type": "display_data"
    },
    {
     "name": "stdout",
     "output_type": "stream",
     "text": [
      "mean of popularity  74.19318181818181\n",
      "min of popularity  66.0\n",
      "max of popularity  94.0\n",
      "standard deviation of popularity  5.014594686972034\n",
      "skewness of popularity  1.3484128528030743\n",
      "kurtosis of popularity  2.8739840419693037\n"
     ]
    },
    {
     "data": {
      "image/png": "[encoded data removed]",
      "text/plain": [
       "<Figure size 432x288 with 1 Axes>"
      ]
     },
     "metadata": {
      "needs_background": "light"
     },
     "output_type": "display_data"
    },
    {
     "name": "stdout",
     "output_type": "stream",
     "text": [
      "mean of popularity  51.34065934065934\n",
      "min of popularity  38.0\n",
      "max of popularity  74.0\n",
      "standard deviation of popularity  7.820514021497537\n",
      "skewness of popularity  1.0877268284029413\n",
      "kurtosis of popularity  0.9821078346370067\n"
     ]
    },
    {
     "data": {
      "image/png": "[encoded data removed]",
      "text/plain": [
       "<Figure size 432x288 with 1 Axes>"
      ]
     },
     "metadata": {
      "needs_background": "light"
     },
     "output_type": "display_data"
    },
    {
     "name": "stdout",
     "output_type": "stream",
     "text": [
      "mean of popularity  30.47\n",
      "min of popularity  13.0\n",
      "max of popularity  53.0\n",
      "standard deviation of popularity  9.82622239035157\n",
      "skewness of popularity  0.5664259121595978\n",
      "kurtosis of popularity  -0.42453877024001985\n"
     ]
    },
    {
     "data": {
      "image/png": "[encoded data removed]",
      "text/plain": [
       "<Figure size 432x288 with 1 Axes>"
      ]
     },
     "metadata": {
      "needs_background": "light"
     },
     "output_type": "display_data"
    },
    {
     "name": "stdout",
     "output_type": "stream",
     "text": [
      "mean of popularity  26.07070707070707\n",
      "min of popularity  8.0\n",
      "max of popularity  68.0\n",
      "standard deviation of popularity  12.784120032491622\n",
      "skewness of popularity  1.048023482053721\n",
      "kurtosis of popularity  0.7835789220041547\n"
     ]
    }
   ],
   "source": [
    "mean_group = []\n",
    "max_group = []\n",
    "min_group = []\n",
    "\n",
    "for i in range(0,len(cato)):\n",
    "    data_cato = df[df['genre'] == cato[i]]\n",
    "    #display(data_cato.head())\n",
    "        \n",
    "    #作圖，繪出popularity散佈圖\n",
    "    plt.hist(data_cato['popularity'],bins = 10) \n",
    "    plt.xlabel(\"popularity\")\n",
    "    plt.ylabel(\"numbers of song\")\n",
    "    title = \"popularity distribution for \"+cato[i]\n",
    "    plt.title(title)\n",
    "    plt.show()\n",
    "    \n",
    "    mean = data_cato['popularity'].mean()\n",
    "    minimum = min(data_cato['popularity'])\n",
    "    maximum = max(data_cato['popularity'])\n",
    "    kurtosis = stats.kurtosis(data_cato['popularity'].values)\n",
    "    skewness = stats.skew(data_cato['popularity'].values)\n",
    "    std = data_cato['popularity'].std()\n",
    "    \n",
    "\n",
    "    print(\"mean of popularity \",mean)\n",
    "    print(\"min of popularity \",minimum)\n",
    "    print(\"max of popularity \",maximum)\n",
    "    print(\"standard deviation of popularity \",std)\n",
    "    print(\"skewness of popularity \",skewness)\n",
    "    print(\"kurtosis of popularity \",kurtosis)\n",
    "    \n",
    "    mean_group.append(mean)\n",
    "    max_group.append(maximum)\n",
    "    min_group.append(minimum)"
   ]
  },
  {
   "cell_type": "markdown",
   "metadata": {},
   "source": [
    "## 檢查Outliers"
   ]
  },
  {
   "cell_type": "code",
   "execution_count": 38,
   "metadata": {},
   "outputs": [
    {
     "data": {
      "image/png": "[encoded data removed]",
      "text/plain": [
       "<Figure size 1500x6000 with 14 Axes>"
      ]
     },
     "metadata": {
      "needs_background": "light"
     },
     "output_type": "display_data"
    }
   ],
   "source": [
    "fig, axs = plt.subplots(int(len(cato)/2), 2, figsize=(10,40))\n",
    "\n",
    "for i in range(0,len(cato)):\n",
    "    data_cato = df[df['genre'] == cato[i]]\n",
    "    #display(data_cato.head())\n",
    "    \n",
    "    #作圖，繪出popularity盒狀圖\n",
    "    #data_cato['popularity'].plot(kind=\"box\")\n",
    "    axs[int(i/2), i%2].boxplot(data_cato['popularity'])\n",
    "    title = \"boxplot for \"+cato[i]\n",
    "    axs[int(i/2), i%2].set_title(title)\n",
    "\n",
    "plt.show()"
   ]
  },
  {
   "cell_type": "code",
   "execution_count": 24,
   "metadata": {},
   "outputs": [
    {
     "data": {
      "image/png": "[encoded data removed]",
      "text/plain": [
       "<Figure size 432x288 with 1 Axes>"
      ]
     },
     "metadata": {
      "needs_background": "light"
     },
     "output_type": "display_data"
    },
    {
     "data": {
      "image/png": "[encoded data removed]",
      "text/plain": [
       "<Figure size 432x288 with 1 Axes>"
      ]
     },
     "metadata": {
      "needs_background": "light"
     },
     "output_type": "display_data"
    },
    {
     "data": {
      "image/png": "[encoded data removed]",
      "text/plain": [
       "<Figure size 432x288 with 1 Axes>"
      ]
     },
     "metadata": {
      "needs_background": "light"
     },
     "output_type": "display_data"
    }
   ],
   "source": [
    "x = np.linspace(1,14,14)\n",
    "y = mean_group\n",
    "plt.bar(x,y)\n",
    "plt.xlabel(\"cato\")\n",
    "plt.ylabel(\"mean of popularity\")\n",
    "plt.title(\"popularity distribution\")\n",
    "plt.show()\n",
    "\n",
    "x = np.linspace(1,14,14)\n",
    "y = min_group\n",
    "plt.bar(x,y)\n",
    "plt.xlabel(\"cato\")\n",
    "plt.ylabel(\"min of popularity\")\n",
    "plt.title(\"popularity distribution\")\n",
    "plt.show()\n",
    "\n",
    "x = np.linspace(1,14,14)\n",
    "y = max_group\n",
    "plt.bar(x,y)\n",
    "plt.xlabel(\"group\")\n",
    "plt.ylabel(\"max of popularity\")\n",
    "plt.title(\"popularity distribution\")\n",
    "plt.show()"
   ]
  },
  {
   "cell_type": "markdown",
   "metadata": {},
   "source": [
    "## 曲風分類的popularity"
   ]
  },
  {
   "cell_type": "code",
   "execution_count": 15,
   "metadata": {},
   "outputs": [
    {
     "data": {
      "text/html": [
       "<div>\n",
       "<style scoped>\n",
       "    .dataframe tbody tr th:only-of-type {\n",
       "        vertical-align: middle;\n",
       "    }\n",
       "\n",
       "    .dataframe tbody tr th {\n",
       "        vertical-align: top;\n",
       "    }\n",
       "\n",
       "    .dataframe thead th {\n",
       "        text-align: right;\n",
       "    }\n",
       "</style>\n",
       "<table border=\"1\" class=\"dataframe\">\n",
       "  <thead>\n",
       "    <tr style=\"text-align: right;\">\n",
       "      <th></th>\n",
       "      <th>genre</th>\n",
       "    </tr>\n",
       "  </thead>\n",
       "  <tbody>\n",
       "    <tr>\n",
       "      <th>black-metal</th>\n",
       "      <td>91</td>\n",
       "    </tr>\n",
       "    <tr>\n",
       "      <th>death-metal</th>\n",
       "      <td>96</td>\n",
       "    </tr>\n",
       "    <tr>\n",
       "      <th>emo</th>\n",
       "      <td>89</td>\n",
       "    </tr>\n",
       "    <tr>\n",
       "      <th>grindcore</th>\n",
       "      <td>99</td>\n",
       "    </tr>\n",
       "    <tr>\n",
       "      <th>hardcore</th>\n",
       "      <td>100</td>\n",
       "    </tr>\n",
       "    <tr>\n",
       "      <th>heavy-metal</th>\n",
       "      <td>100</td>\n",
       "    </tr>\n",
       "    <tr>\n",
       "      <th>metal</th>\n",
       "      <td>91</td>\n",
       "    </tr>\n",
       "    <tr>\n",
       "      <th>metalcore</th>\n",
       "      <td>100</td>\n",
       "    </tr>\n",
       "  </tbody>\n",
       "</table>\n",
       "</div>"
      ],
      "text/plain": [
       "             genre\n",
       "black-metal     91\n",
       "death-metal     96\n",
       "emo             89\n",
       "grindcore       99\n",
       "hardcore       100\n",
       "heavy-metal    100\n",
       "metal           91\n",
       "metalcore      100"
      ]
     },
     "metadata": {},
     "output_type": "display_data"
    },
    {
     "name": "stdout",
     "output_type": "stream",
     "text": [
      "Index(['black-metal', 'death-metal', 'emo', 'grindcore', 'hardcore',\n",
      "       'heavy-metal', 'metal', 'metalcore'],\n",
      "      dtype='object')\n",
      "(8, 1)\n",
      "mean of popularity  39.08093994778068\n",
      "min of popularity  0.0\n",
      "max of popularity  83.0\n"
     ]
    },
    {
     "data": {
      "image/png": "[encoded data removed]",
      "text/plain": [
       "<Figure size 432x288 with 1 Axes>"
      ]
     },
     "metadata": {
      "needs_background": "light"
     },
     "output_type": "display_data"
    },
    {
     "data": {
      "text/html": [
       "<div>\n",
       "<style scoped>\n",
       "    .dataframe tbody tr th:only-of-type {\n",
       "        vertical-align: middle;\n",
       "    }\n",
       "\n",
       "    .dataframe tbody tr th {\n",
       "        vertical-align: top;\n",
       "    }\n",
       "\n",
       "    .dataframe thead th {\n",
       "        text-align: right;\n",
       "    }\n",
       "</style>\n",
       "<table border=\"1\" class=\"dataframe\">\n",
       "  <thead>\n",
       "    <tr style=\"text-align: right;\">\n",
       "      <th></th>\n",
       "      <th>genre</th>\n",
       "    </tr>\n",
       "  </thead>\n",
       "  <tbody>\n",
       "    <tr>\n",
       "      <th>alt-rock</th>\n",
       "      <td>93</td>\n",
       "    </tr>\n",
       "    <tr>\n",
       "      <th>goth</th>\n",
       "      <td>95</td>\n",
       "    </tr>\n",
       "    <tr>\n",
       "      <th>grunge</th>\n",
       "      <td>89</td>\n",
       "    </tr>\n",
       "    <tr>\n",
       "      <th>hard-rock</th>\n",
       "      <td>95</td>\n",
       "    </tr>\n",
       "    <tr>\n",
       "      <th>j-rock</th>\n",
       "      <td>97</td>\n",
       "    </tr>\n",
       "    <tr>\n",
       "      <th>psych-rock</th>\n",
       "      <td>94</td>\n",
       "    </tr>\n",
       "    <tr>\n",
       "      <th>punk</th>\n",
       "      <td>96</td>\n",
       "    </tr>\n",
       "    <tr>\n",
       "      <th>punk-rock</th>\n",
       "      <td>96</td>\n",
       "    </tr>\n",
       "    <tr>\n",
       "      <th>rock</th>\n",
       "      <td>93</td>\n",
       "    </tr>\n",
       "    <tr>\n",
       "      <th>rock-n-roll</th>\n",
       "      <td>96</td>\n",
       "    </tr>\n",
       "    <tr>\n",
       "      <th>rockabilly</th>\n",
       "      <td>96</td>\n",
       "    </tr>\n",
       "  </tbody>\n",
       "</table>\n",
       "</div>"
      ],
      "text/plain": [
       "             genre\n",
       "alt-rock        93\n",
       "goth            95\n",
       "grunge          89\n",
       "hard-rock       95\n",
       "j-rock          97\n",
       "psych-rock      94\n",
       "punk            96\n",
       "punk-rock       96\n",
       "rock            93\n",
       "rock-n-roll     96\n",
       "rockabilly      96"
      ]
     },
     "metadata": {},
     "output_type": "display_data"
    },
    {
     "name": "stdout",
     "output_type": "stream",
     "text": [
      "Index(['alt-rock', 'goth', 'grunge', 'hard-rock', 'j-rock', 'psych-rock',\n",
      "       'punk', 'punk-rock', 'rock', 'rock-n-roll', 'rockabilly'],\n",
      "      dtype='object')\n",
      "(11, 1)\n",
      "mean of popularity  51.13365384615385\n",
      "min of popularity  22.0\n",
      "max of popularity  83.0\n"
     ]
    },
    {
     "data": {
      "image/png": "[encoded data removed]",
      "text/plain": [
       "<Figure size 432x288 with 1 Axes>"
      ]
     },
     "metadata": {
      "needs_background": "light"
     },
     "output_type": "display_data"
    },
    {
     "data": {
      "text/html": [
       "<div>\n",
       "<style scoped>\n",
       "    .dataframe tbody tr th:only-of-type {\n",
       "        vertical-align: middle;\n",
       "    }\n",
       "\n",
       "    .dataframe tbody tr th {\n",
       "        vertical-align: top;\n",
       "    }\n",
       "\n",
       "    .dataframe thead th {\n",
       "        text-align: right;\n",
       "    }\n",
       "</style>\n",
       "<table border=\"1\" class=\"dataframe\">\n",
       "  <thead>\n",
       "    <tr style=\"text-align: right;\">\n",
       "      <th></th>\n",
       "      <th>genre</th>\n",
       "    </tr>\n",
       "  </thead>\n",
       "  <tbody>\n",
       "    <tr>\n",
       "      <th>cantopop</th>\n",
       "      <td>100</td>\n",
       "    </tr>\n",
       "    <tr>\n",
       "      <th>indie-pop</th>\n",
       "      <td>93</td>\n",
       "    </tr>\n",
       "    <tr>\n",
       "      <th>j-pop</th>\n",
       "      <td>96</td>\n",
       "    </tr>\n",
       "    <tr>\n",
       "      <th>mandopop</th>\n",
       "      <td>98</td>\n",
       "    </tr>\n",
       "    <tr>\n",
       "      <th>pop</th>\n",
       "      <td>88</td>\n",
       "    </tr>\n",
       "    <tr>\n",
       "      <th>pop-film</th>\n",
       "      <td>89</td>\n",
       "    </tr>\n",
       "    <tr>\n",
       "      <th>power-pop</th>\n",
       "      <td>97</td>\n",
       "    </tr>\n",
       "    <tr>\n",
       "      <th>synth-pop</th>\n",
       "      <td>96</td>\n",
       "    </tr>\n",
       "  </tbody>\n",
       "</table>\n",
       "</div>"
      ],
      "text/plain": [
       "           genre\n",
       "cantopop     100\n",
       "indie-pop     93\n",
       "j-pop         96\n",
       "mandopop      98\n",
       "pop           88\n",
       "pop-film      89\n",
       "power-pop     97\n",
       "synth-pop     96"
      ]
     },
     "metadata": {},
     "output_type": "display_data"
    },
    {
     "name": "stdout",
     "output_type": "stream",
     "text": [
      "Index(['cantopop', 'indie-pop', 'j-pop', 'mandopop', 'pop', 'pop-film',\n",
      "       'power-pop', 'synth-pop'],\n",
      "      dtype='object')\n",
      "(8, 1)\n",
      "mean of popularity  48.09114927344782\n",
      "min of popularity  17.0\n",
      "max of popularity  94.0\n"
     ]
    },
    {
     "data": {
      "image/png": "[encoded data removed]",
      "text/plain": [
       "<Figure size 432x288 with 1 Axes>"
      ]
     },
     "metadata": {
      "needs_background": "light"
     },
     "output_type": "display_data"
    },
    {
     "data": {
      "text/html": [
       "<div>\n",
       "<style scoped>\n",
       "    .dataframe tbody tr th:only-of-type {\n",
       "        vertical-align: middle;\n",
       "    }\n",
       "\n",
       "    .dataframe tbody tr th {\n",
       "        vertical-align: top;\n",
       "    }\n",
       "\n",
       "    .dataframe thead th {\n",
       "        text-align: right;\n",
       "    }\n",
       "</style>\n",
       "<table border=\"1\" class=\"dataframe\">\n",
       "  <thead>\n",
       "    <tr style=\"text-align: right;\">\n",
       "      <th></th>\n",
       "      <th>genre</th>\n",
       "    </tr>\n",
       "  </thead>\n",
       "  <tbody>\n",
       "    <tr>\n",
       "      <th>afrobeat</th>\n",
       "      <td>97</td>\n",
       "    </tr>\n",
       "    <tr>\n",
       "      <th>blues</th>\n",
       "      <td>91</td>\n",
       "    </tr>\n",
       "    <tr>\n",
       "      <th>chill</th>\n",
       "      <td>95</td>\n",
       "    </tr>\n",
       "    <tr>\n",
       "      <th>funk</th>\n",
       "      <td>86</td>\n",
       "    </tr>\n",
       "    <tr>\n",
       "      <th>groove</th>\n",
       "      <td>93</td>\n",
       "    </tr>\n",
       "    <tr>\n",
       "      <th>jazz</th>\n",
       "      <td>98</td>\n",
       "    </tr>\n",
       "    <tr>\n",
       "      <th>r-n-b</th>\n",
       "      <td>91</td>\n",
       "    </tr>\n",
       "  </tbody>\n",
       "</table>\n",
       "</div>"
      ],
      "text/plain": [
       "          genre\n",
       "afrobeat     97\n",
       "blues        91\n",
       "chill        95\n",
       "funk         86\n",
       "groove       93\n",
       "jazz         98\n",
       "r-n-b        91"
      ]
     },
     "metadata": {},
     "output_type": "display_data"
    },
    {
     "name": "stdout",
     "output_type": "stream",
     "text": [
      "Index(['afrobeat', 'blues', 'chill', 'funk', 'groove', 'jazz', 'r-n-b'], dtype='object')\n",
      "(7, 1)\n",
      "mean of popularity  49.77112135176651\n",
      "min of popularity  16.0\n",
      "max of popularity  80.0\n"
     ]
    },
    {
     "data": {
      "image/png": "[encoded data removed]",
      "text/plain": [
       "<Figure size 432x288 with 1 Axes>"
      ]
     },
     "metadata": {
      "needs_background": "light"
     },
     "output_type": "display_data"
    },
    {
     "data": {
      "text/html": [
       "<div>\n",
       "<style scoped>\n",
       "    .dataframe tbody tr th:only-of-type {\n",
       "        vertical-align: middle;\n",
       "    }\n",
       "\n",
       "    .dataframe tbody tr th {\n",
       "        vertical-align: top;\n",
       "    }\n",
       "\n",
       "    .dataframe thead th {\n",
       "        text-align: right;\n",
       "    }\n",
       "</style>\n",
       "<table border=\"1\" class=\"dataframe\">\n",
       "  <thead>\n",
       "    <tr style=\"text-align: right;\">\n",
       "      <th></th>\n",
       "      <th>genre</th>\n",
       "    </tr>\n",
       "  </thead>\n",
       "  <tbody>\n",
       "    <tr>\n",
       "      <th>acoustic</th>\n",
       "      <td>98</td>\n",
       "    </tr>\n",
       "    <tr>\n",
       "      <th>drum-and-bass</th>\n",
       "      <td>97</td>\n",
       "    </tr>\n",
       "    <tr>\n",
       "      <th>guitar</th>\n",
       "      <td>98</td>\n",
       "    </tr>\n",
       "    <tr>\n",
       "      <th>piano</th>\n",
       "      <td>97</td>\n",
       "    </tr>\n",
       "  </tbody>\n",
       "</table>\n",
       "</div>"
      ],
      "text/plain": [
       "               genre\n",
       "acoustic          98\n",
       "drum-and-bass     97\n",
       "guitar            98\n",
       "piano             97"
      ]
     },
     "metadata": {},
     "output_type": "display_data"
    },
    {
     "name": "stdout",
     "output_type": "stream",
     "text": [
      "Index(['acoustic', 'drum-and-bass', 'guitar', 'piano'], dtype='object')\n",
      "(4, 1)\n",
      "mean of popularity  39.66410256410256\n",
      "min of popularity  14.0\n",
      "max of popularity  69.0\n"
     ]
    },
    {
     "data": {
      "image/png": "[encoded data removed]",
      "text/plain": [
       "<Figure size 432x288 with 1 Axes>"
      ]
     },
     "metadata": {
      "needs_background": "light"
     },
     "output_type": "display_data"
    },
    {
     "data": {
      "text/html": [
       "<div>\n",
       "<style scoped>\n",
       "    .dataframe tbody tr th:only-of-type {\n",
       "        vertical-align: middle;\n",
       "    }\n",
       "\n",
       "    .dataframe tbody tr th {\n",
       "        vertical-align: top;\n",
       "    }\n",
       "\n",
       "    .dataframe thead th {\n",
       "        text-align: right;\n",
       "    }\n",
       "</style>\n",
       "<table border=\"1\" class=\"dataframe\">\n",
       "  <thead>\n",
       "    <tr style=\"text-align: right;\">\n",
       "      <th></th>\n",
       "      <th>genre</th>\n",
       "    </tr>\n",
       "  </thead>\n",
       "  <tbody>\n",
       "    <tr>\n",
       "      <th>ambient</th>\n",
       "      <td>96</td>\n",
       "    </tr>\n",
       "    <tr>\n",
       "      <th>breakbeat</th>\n",
       "      <td>100</td>\n",
       "    </tr>\n",
       "    <tr>\n",
       "      <th>chicago-house</th>\n",
       "      <td>95</td>\n",
       "    </tr>\n",
       "    <tr>\n",
       "      <th>club</th>\n",
       "      <td>100</td>\n",
       "    </tr>\n",
       "    <tr>\n",
       "      <th>deep-house</th>\n",
       "      <td>88</td>\n",
       "    </tr>\n",
       "    <tr>\n",
       "      <th>detroit-techno</th>\n",
       "      <td>97</td>\n",
       "    </tr>\n",
       "    <tr>\n",
       "      <th>dub</th>\n",
       "      <td>95</td>\n",
       "    </tr>\n",
       "    <tr>\n",
       "      <th>dubstep</th>\n",
       "      <td>97</td>\n",
       "    </tr>\n",
       "    <tr>\n",
       "      <th>edm</th>\n",
       "      <td>85</td>\n",
       "    </tr>\n",
       "    <tr>\n",
       "      <th>electro</th>\n",
       "      <td>88</td>\n",
       "    </tr>\n",
       "    <tr>\n",
       "      <th>electronic</th>\n",
       "      <td>95</td>\n",
       "    </tr>\n",
       "    <tr>\n",
       "      <th>hardstyle</th>\n",
       "      <td>93</td>\n",
       "    </tr>\n",
       "    <tr>\n",
       "      <th>house</th>\n",
       "      <td>80</td>\n",
       "    </tr>\n",
       "    <tr>\n",
       "      <th>idm</th>\n",
       "      <td>99</td>\n",
       "    </tr>\n",
       "    <tr>\n",
       "      <th>industrial</th>\n",
       "      <td>97</td>\n",
       "    </tr>\n",
       "    <tr>\n",
       "      <th>minimal-techno</th>\n",
       "      <td>93</td>\n",
       "    </tr>\n",
       "    <tr>\n",
       "      <th>progressive-house</th>\n",
       "      <td>86</td>\n",
       "    </tr>\n",
       "    <tr>\n",
       "      <th>techno</th>\n",
       "      <td>92</td>\n",
       "    </tr>\n",
       "    <tr>\n",
       "      <th>trance</th>\n",
       "      <td>73</td>\n",
       "    </tr>\n",
       "    <tr>\n",
       "      <th>trip-hop</th>\n",
       "      <td>93</td>\n",
       "    </tr>\n",
       "  </tbody>\n",
       "</table>\n",
       "</div>"
      ],
      "text/plain": [
       "                   genre\n",
       "ambient               96\n",
       "breakbeat            100\n",
       "chicago-house         95\n",
       "club                 100\n",
       "deep-house            88\n",
       "detroit-techno        97\n",
       "dub                   95\n",
       "dubstep               97\n",
       "edm                   85\n",
       "electro               88\n",
       "electronic            95\n",
       "hardstyle             93\n",
       "house                 80\n",
       "idm                   99\n",
       "industrial            97\n",
       "minimal-techno        93\n",
       "progressive-house     86\n",
       "techno                92\n",
       "trance                73\n",
       "trip-hop              93"
      ]
     },
     "metadata": {},
     "output_type": "display_data"
    },
    {
     "name": "stdout",
     "output_type": "stream",
     "text": [
      "Index(['ambient', 'breakbeat', 'chicago-house', 'club', 'deep-house',\n",
      "       'detroit-techno', 'dub', 'dubstep', 'edm', 'electro', 'electronic',\n",
      "       'hardstyle', 'house', 'idm', 'industrial', 'minimal-techno',\n",
      "       'progressive-house', 'techno', 'trance', 'trip-hop'],\n",
      "      dtype='object')\n",
      "(20, 1)\n",
      "mean of popularity  39.306188925081436\n",
      "min of popularity  0.0\n",
      "max of popularity  84.0\n"
     ]
    },
    {
     "data": {
      "image/png": "[encoded data removed]",
      "text/plain": [
       "<Figure size 432x288 with 1 Axes>"
      ]
     },
     "metadata": {
      "needs_background": "light"
     },
     "output_type": "display_data"
    },
    {
     "data": {
      "text/html": [
       "<div>\n",
       "<style scoped>\n",
       "    .dataframe tbody tr th:only-of-type {\n",
       "        vertical-align: middle;\n",
       "    }\n",
       "\n",
       "    .dataframe tbody tr th {\n",
       "        vertical-align: top;\n",
       "    }\n",
       "\n",
       "    .dataframe thead th {\n",
       "        text-align: right;\n",
       "    }\n",
       "</style>\n",
       "<table border=\"1\" class=\"dataframe\">\n",
       "  <thead>\n",
       "    <tr style=\"text-align: right;\">\n",
       "      <th></th>\n",
       "      <th>genre</th>\n",
       "    </tr>\n",
       "  </thead>\n",
       "  <tbody>\n",
       "    <tr>\n",
       "      <th>children</th>\n",
       "      <td>93</td>\n",
       "    </tr>\n",
       "    <tr>\n",
       "      <th>kids</th>\n",
       "      <td>98</td>\n",
       "    </tr>\n",
       "  </tbody>\n",
       "</table>\n",
       "</div>"
      ],
      "text/plain": [
       "          genre\n",
       "children     93\n",
       "kids         98"
      ]
     },
     "metadata": {},
     "output_type": "display_data"
    },
    {
     "name": "stdout",
     "output_type": "stream",
     "text": [
      "Index(['children', 'kids'], dtype='object')\n",
      "(2, 1)\n",
      "mean of popularity  20.287958115183248\n",
      "min of popularity  0.0\n",
      "max of popularity  56.0\n"
     ]
    },
    {
     "data": {
      "image/png": "[encoded data removed]",
      "text/plain": [
       "<Figure size 432x288 with 1 Axes>"
      ]
     },
     "metadata": {
      "needs_background": "light"
     },
     "output_type": "display_data"
    },
    {
     "data": {
      "text/html": [
       "<div>\n",
       "<style scoped>\n",
       "    .dataframe tbody tr th:only-of-type {\n",
       "        vertical-align: middle;\n",
       "    }\n",
       "\n",
       "    .dataframe tbody tr th {\n",
       "        vertical-align: top;\n",
       "    }\n",
       "\n",
       "    .dataframe thead th {\n",
       "        text-align: right;\n",
       "    }\n",
       "</style>\n",
       "<table border=\"1\" class=\"dataframe\">\n",
       "  <thead>\n",
       "    <tr style=\"text-align: right;\">\n",
       "      <th></th>\n",
       "      <th>genre</th>\n",
       "    </tr>\n",
       "  </thead>\n",
       "  <tbody>\n",
       "    <tr>\n",
       "      <th>dance</th>\n",
       "      <td>90</td>\n",
       "    </tr>\n",
       "    <tr>\n",
       "      <th>dancehall</th>\n",
       "      <td>98</td>\n",
       "    </tr>\n",
       "    <tr>\n",
       "      <th>disco</th>\n",
       "      <td>95</td>\n",
       "    </tr>\n",
       "    <tr>\n",
       "      <th>garage</th>\n",
       "      <td>97</td>\n",
       "    </tr>\n",
       "    <tr>\n",
       "      <th>j-dance</th>\n",
       "      <td>96</td>\n",
       "    </tr>\n",
       "    <tr>\n",
       "      <th>tango</th>\n",
       "      <td>97</td>\n",
       "    </tr>\n",
       "  </tbody>\n",
       "</table>\n",
       "</div>"
      ],
      "text/plain": [
       "           genre\n",
       "dance         90\n",
       "dancehall     98\n",
       "disco         95\n",
       "garage        97\n",
       "j-dance       96\n",
       "tango         97"
      ]
     },
     "metadata": {},
     "output_type": "display_data"
    },
    {
     "name": "stdout",
     "output_type": "stream",
     "text": [
      "Index(['dance', 'dancehall', 'disco', 'garage', 'j-dance', 'tango'], dtype='object')\n",
      "(6, 1)\n",
      "mean of popularity  43.640488656195465\n",
      "min of popularity  4.0\n",
      "max of popularity  89.0\n"
     ]
    },
    {
     "data": {
      "image/png": "[encoded data removed]",
      "text/plain": [
       "<Figure size 432x288 with 1 Axes>"
      ]
     },
     "metadata": {
      "needs_background": "light"
     },
     "output_type": "display_data"
    },
    {
     "data": {
      "text/html": [
       "<div>\n",
       "<style scoped>\n",
       "    .dataframe tbody tr th:only-of-type {\n",
       "        vertical-align: middle;\n",
       "    }\n",
       "\n",
       "    .dataframe tbody tr th {\n",
       "        vertical-align: top;\n",
       "    }\n",
       "\n",
       "    .dataframe thead th {\n",
       "        text-align: right;\n",
       "    }\n",
       "</style>\n",
       "<table border=\"1\" class=\"dataframe\">\n",
       "  <thead>\n",
       "    <tr style=\"text-align: right;\">\n",
       "      <th></th>\n",
       "      <th>genre</th>\n",
       "    </tr>\n",
       "  </thead>\n",
       "  <tbody>\n",
       "    <tr>\n",
       "      <th>reggae</th>\n",
       "      <td>93</td>\n",
       "    </tr>\n",
       "    <tr>\n",
       "      <th>reggaeton</th>\n",
       "      <td>89</td>\n",
       "    </tr>\n",
       "    <tr>\n",
       "      <th>ska</th>\n",
       "      <td>97</td>\n",
       "    </tr>\n",
       "  </tbody>\n",
       "</table>\n",
       "</div>"
      ],
      "text/plain": [
       "           genre\n",
       "reggae        93\n",
       "reggaeton     89\n",
       "ska           97"
      ]
     },
     "metadata": {},
     "output_type": "display_data"
    },
    {
     "name": "stdout",
     "output_type": "stream",
     "text": [
      "Index(['reggae', 'reggaeton', 'ska'], dtype='object')\n",
      "(3, 1)\n",
      "mean of popularity  55.132616487455195\n",
      "min of popularity  32.0\n",
      "max of popularity  89.0\n"
     ]
    },
    {
     "data": {
      "image/png": "[encoded data removed]",
      "text/plain": [
       "<Figure size 432x288 with 1 Axes>"
      ]
     },
     "metadata": {
      "needs_background": "light"
     },
     "output_type": "display_data"
    },
    {
     "data": {
      "text/html": [
       "<div>\n",
       "<style scoped>\n",
       "    .dataframe tbody tr th:only-of-type {\n",
       "        vertical-align: middle;\n",
       "    }\n",
       "\n",
       "    .dataframe tbody tr th {\n",
       "        vertical-align: top;\n",
       "    }\n",
       "\n",
       "    .dataframe thead th {\n",
       "        text-align: right;\n",
       "    }\n",
       "</style>\n",
       "<table border=\"1\" class=\"dataframe\">\n",
       "  <thead>\n",
       "    <tr style=\"text-align: right;\">\n",
       "      <th></th>\n",
       "      <th>genre</th>\n",
       "    </tr>\n",
       "  </thead>\n",
       "  <tbody>\n",
       "    <tr>\n",
       "      <th>bluegrass</th>\n",
       "      <td>94</td>\n",
       "    </tr>\n",
       "    <tr>\n",
       "      <th>country</th>\n",
       "      <td>96</td>\n",
       "    </tr>\n",
       "    <tr>\n",
       "      <th>folk</th>\n",
       "      <td>97</td>\n",
       "    </tr>\n",
       "    <tr>\n",
       "      <th>honky-tonk</th>\n",
       "      <td>100</td>\n",
       "    </tr>\n",
       "    <tr>\n",
       "      <th>sertanejo</th>\n",
       "      <td>85</td>\n",
       "    </tr>\n",
       "  </tbody>\n",
       "</table>\n",
       "</div>"
      ],
      "text/plain": [
       "            genre\n",
       "bluegrass      94\n",
       "country        96\n",
       "folk           97\n",
       "honky-tonk    100\n",
       "sertanejo      85"
      ]
     },
     "metadata": {},
     "output_type": "display_data"
    },
    {
     "name": "stdout",
     "output_type": "stream",
     "text": [
      "Index(['bluegrass', 'country', 'folk', 'honky-tonk', 'sertanejo'], dtype='object')\n",
      "(5, 1)\n",
      "mean of popularity  45.25635593220339\n",
      "min of popularity  7.0\n",
      "max of popularity  82.0\n"
     ]
    },
    {
     "data": {
      "image/png": "[encoded data removed]",
      "text/plain": [
       "<Figure size 432x288 with 1 Axes>"
      ]
     },
     "metadata": {
      "needs_background": "light"
     },
     "output_type": "display_data"
    },
    {
     "data": {
      "text/html": [
       "<div>\n",
       "<style scoped>\n",
       "    .dataframe tbody tr th:only-of-type {\n",
       "        vertical-align: middle;\n",
       "    }\n",
       "\n",
       "    .dataframe tbody tr th {\n",
       "        vertical-align: top;\n",
       "    }\n",
       "\n",
       "    .dataframe thead th {\n",
       "        text-align: right;\n",
       "    }\n",
       "</style>\n",
       "<table border=\"1\" class=\"dataframe\">\n",
       "  <thead>\n",
       "    <tr style=\"text-align: right;\">\n",
       "      <th></th>\n",
       "      <th>genre</th>\n",
       "    </tr>\n",
       "  </thead>\n",
       "  <tbody>\n",
       "    <tr>\n",
       "      <th>comedy</th>\n",
       "      <td>97</td>\n",
       "    </tr>\n",
       "    <tr>\n",
       "      <th>happy</th>\n",
       "      <td>99</td>\n",
       "    </tr>\n",
       "  </tbody>\n",
       "</table>\n",
       "</div>"
      ],
      "text/plain": [
       "        genre\n",
       "comedy     97\n",
       "happy      99"
      ]
     },
     "metadata": {},
     "output_type": "display_data"
    },
    {
     "name": "stdout",
     "output_type": "stream",
     "text": [
      "Index(['comedy', 'happy'], dtype='object')\n",
      "(2, 1)\n",
      "mean of popularity  30.591836734693878\n",
      "min of popularity  9.0\n",
      "max of popularity  59.0\n"
     ]
    },
    {
     "data": {
      "image/png": "[encoded data removed]",
      "text/plain": [
       "<Figure size 432x288 with 1 Axes>"
      ]
     },
     "metadata": {
      "needs_background": "light"
     },
     "output_type": "display_data"
    },
    {
     "data": {
      "text/html": [
       "<div>\n",
       "<style scoped>\n",
       "    .dataframe tbody tr th:only-of-type {\n",
       "        vertical-align: middle;\n",
       "    }\n",
       "\n",
       "    .dataframe tbody tr th {\n",
       "        vertical-align: top;\n",
       "    }\n",
       "\n",
       "    .dataframe thead th {\n",
       "        text-align: right;\n",
       "    }\n",
       "</style>\n",
       "<table border=\"1\" class=\"dataframe\">\n",
       "  <thead>\n",
       "    <tr style=\"text-align: right;\">\n",
       "      <th></th>\n",
       "      <th>genre</th>\n",
       "    </tr>\n",
       "  </thead>\n",
       "  <tbody>\n",
       "    <tr>\n",
       "      <th>brazil</th>\n",
       "      <td>72</td>\n",
       "    </tr>\n",
       "    <tr>\n",
       "      <th>forro</th>\n",
       "      <td>84</td>\n",
       "    </tr>\n",
       "    <tr>\n",
       "      <th>latin</th>\n",
       "      <td>94</td>\n",
       "    </tr>\n",
       "    <tr>\n",
       "      <th>latino</th>\n",
       "      <td>93</td>\n",
       "    </tr>\n",
       "    <tr>\n",
       "      <th>mpb</th>\n",
       "      <td>88</td>\n",
       "    </tr>\n",
       "    <tr>\n",
       "      <th>pagode</th>\n",
       "      <td>77</td>\n",
       "    </tr>\n",
       "    <tr>\n",
       "      <th>salsa</th>\n",
       "      <td>96</td>\n",
       "    </tr>\n",
       "    <tr>\n",
       "      <th>samba</th>\n",
       "      <td>91</td>\n",
       "    </tr>\n",
       "  </tbody>\n",
       "</table>\n",
       "</div>"
      ],
      "text/plain": [
       "        genre\n",
       "brazil     72\n",
       "forro      84\n",
       "latin      94\n",
       "latino     93\n",
       "mpb        88\n",
       "pagode     77\n",
       "salsa      96\n",
       "samba      91"
      ]
     },
     "metadata": {},
     "output_type": "display_data"
    },
    {
     "name": "stdout",
     "output_type": "stream",
     "text": [
      "Index(['brazil', 'forro', 'latin', 'latino', 'mpb', 'pagode', 'salsa',\n",
      "       'samba'],\n",
      "      dtype='object')\n",
      "(8, 1)\n",
      "mean of popularity  46.65755395683453\n",
      "min of popularity  9.0\n",
      "max of popularity  87.0\n"
     ]
    },
    {
     "data": {
      "image/png": "[encoded data removed]",
      "text/plain": [
       "<Figure size 432x288 with 1 Axes>"
      ]
     },
     "metadata": {
      "needs_background": "light"
     },
     "output_type": "display_data"
    },
    {
     "data": {
      "text/html": [
       "<div>\n",
       "<style scoped>\n",
       "    .dataframe tbody tr th:only-of-type {\n",
       "        vertical-align: middle;\n",
       "    }\n",
       "\n",
       "    .dataframe tbody tr th {\n",
       "        vertical-align: top;\n",
       "    }\n",
       "\n",
       "    .dataframe thead th {\n",
       "        text-align: right;\n",
       "    }\n",
       "</style>\n",
       "<table border=\"1\" class=\"dataframe\">\n",
       "  <thead>\n",
       "    <tr style=\"text-align: right;\">\n",
       "      <th></th>\n",
       "      <th>genre</th>\n",
       "    </tr>\n",
       "  </thead>\n",
       "  <tbody>\n",
       "    <tr>\n",
       "      <th>alternative</th>\n",
       "      <td>88</td>\n",
       "    </tr>\n",
       "    <tr>\n",
       "      <th>hip-hop</th>\n",
       "      <td>80</td>\n",
       "    </tr>\n",
       "  </tbody>\n",
       "</table>\n",
       "</div>"
      ],
      "text/plain": [
       "             genre\n",
       "alternative     88\n",
       "hip-hop         80"
      ]
     },
     "metadata": {},
     "output_type": "display_data"
    },
    {
     "name": "stdout",
     "output_type": "stream",
     "text": [
      "Index(['alternative', 'hip-hop'], dtype='object')\n",
      "(2, 1)\n",
      "mean of popularity  66.14285714285714\n",
      "min of popularity  56.0\n",
      "max of popularity  86.0\n"
     ]
    },
    {
     "data": {
      "image/png": "[encoded data removed]",
      "text/plain": [
       "<Figure size 432x288 with 1 Axes>"
      ]
     },
     "metadata": {
      "needs_background": "light"
     },
     "output_type": "display_data"
    },
    {
     "data": {
      "text/html": [
       "<div>\n",
       "<style scoped>\n",
       "    .dataframe tbody tr th:only-of-type {\n",
       "        vertical-align: middle;\n",
       "    }\n",
       "\n",
       "    .dataframe tbody tr th {\n",
       "        vertical-align: top;\n",
       "    }\n",
       "\n",
       "    .dataframe thead th {\n",
       "        text-align: right;\n",
       "    }\n",
       "</style>\n",
       "<table border=\"1\" class=\"dataframe\">\n",
       "  <thead>\n",
       "    <tr style=\"text-align: right;\">\n",
       "      <th></th>\n",
       "      <th>genre</th>\n",
       "    </tr>\n",
       "  </thead>\n",
       "  <tbody>\n",
       "    <tr>\n",
       "      <th>british</th>\n",
       "      <td>92</td>\n",
       "    </tr>\n",
       "    <tr>\n",
       "      <th>french</th>\n",
       "      <td>79</td>\n",
       "    </tr>\n",
       "    <tr>\n",
       "      <th>german</th>\n",
       "      <td>5</td>\n",
       "    </tr>\n",
       "    <tr>\n",
       "      <th>indian</th>\n",
       "      <td>94</td>\n",
       "    </tr>\n",
       "    <tr>\n",
       "      <th>iranian</th>\n",
       "      <td>98</td>\n",
       "    </tr>\n",
       "    <tr>\n",
       "      <th>malay</th>\n",
       "      <td>98</td>\n",
       "    </tr>\n",
       "    <tr>\n",
       "      <th>spanish</th>\n",
       "      <td>91</td>\n",
       "    </tr>\n",
       "    <tr>\n",
       "      <th>swedish</th>\n",
       "      <td>97</td>\n",
       "    </tr>\n",
       "    <tr>\n",
       "      <th>turkish</th>\n",
       "      <td>98</td>\n",
       "    </tr>\n",
       "    <tr>\n",
       "      <th>world-music</th>\n",
       "      <td>98</td>\n",
       "    </tr>\n",
       "  </tbody>\n",
       "</table>\n",
       "</div>"
      ],
      "text/plain": [
       "             genre\n",
       "british         92\n",
       "french          79\n",
       "german           5\n",
       "indian          94\n",
       "iranian         98\n",
       "malay           98\n",
       "spanish         91\n",
       "swedish         97\n",
       "turkish         98\n",
       "world-music     98"
      ]
     },
     "metadata": {},
     "output_type": "display_data"
    },
    {
     "name": "stdout",
     "output_type": "stream",
     "text": [
      "Index(['british', 'french', 'german', 'indian', 'iranian', 'malay', 'spanish',\n",
      "       'swedish', 'turkish', 'world-music'],\n",
      "      dtype='object')\n",
      "(10, 1)\n",
      "mean of popularity  39.43764705882353\n",
      "min of popularity  0.0\n",
      "max of popularity  76.0\n"
     ]
    },
    {
     "data": {
      "image/png": "[encoded data removed]",
      "text/plain": [
       "<Figure size 432x288 with 1 Axes>"
      ]
     },
     "metadata": {
      "needs_background": "light"
     },
     "output_type": "display_data"
    },
    {
     "data": {
      "text/html": [
       "<div>\n",
       "<style scoped>\n",
       "    .dataframe tbody tr th:only-of-type {\n",
       "        vertical-align: middle;\n",
       "    }\n",
       "\n",
       "    .dataframe tbody tr th {\n",
       "        vertical-align: top;\n",
       "    }\n",
       "\n",
       "    .dataframe thead th {\n",
       "        text-align: right;\n",
       "    }\n",
       "</style>\n",
       "<table border=\"1\" class=\"dataframe\">\n",
       "  <thead>\n",
       "    <tr style=\"text-align: right;\">\n",
       "      <th></th>\n",
       "      <th>genre</th>\n",
       "    </tr>\n",
       "  </thead>\n",
       "  <tbody>\n",
       "    <tr>\n",
       "      <th>opera</th>\n",
       "      <td>81</td>\n",
       "    </tr>\n",
       "    <tr>\n",
       "      <th>show-tunes</th>\n",
       "      <td>100</td>\n",
       "    </tr>\n",
       "  </tbody>\n",
       "</table>\n",
       "</div>"
      ],
      "text/plain": [
       "            genre\n",
       "opera          81\n",
       "show-tunes    100"
      ]
     },
     "metadata": {},
     "output_type": "display_data"
    },
    {
     "name": "stdout",
     "output_type": "stream",
     "text": [
      "Index(['opera', 'show-tunes'], dtype='object')\n",
      "(2, 1)\n",
      "mean of popularity  38.668508287292816\n",
      "min of popularity  21.0\n",
      "max of popularity  72.0\n"
     ]
    },
    {
     "data": {
      "image/png": "[encoded data removed]",
      "text/plain": [
       "<Figure size 432x288 with 1 Axes>"
      ]
     },
     "metadata": {
      "needs_background": "light"
     },
     "output_type": "display_data"
    }
   ],
   "source": [
    "#抓取特定曲風並彙整成一組\n",
    "group_1 = ['death-metal', 'black-metal', 'heavy-metal', 'metal', 'metalcore', 'grindcore', 'hardcore', 'emo']\n",
    "group_2 = ['hard-rock', 'alt-rock',  'j-rock', 'rock', 'rock-n-roll', 'rockabilly', 'psych-rock', 'punk', 'punk-rock', 'grunge', 'goth']\n",
    "group_3 = ['cantopop', 'j-pop',  'j-idol' 'k-pop', 'pop', 'pop-film', 'power-pop', 'mandopop', 'synth-pop', 'indie-pop']\n",
    "group_4 = ['afrobeat', 'blues', 'chill', 'funk', 'r-n-b', 'groove', 'jazz']\n",
    "group_5 = ['acoustic', 'piano', 'drum-and-bass', 'guitar']\n",
    "group_6 = ['chicago-house', 'house', 'progressive-house', 'deep-house', 'ambient', 'electronic', 'breakbeat', 'industrial', 'techno', 'hardstyle',  'club', 'dub', 'dubstep', 'idm', 'detroit-techno', 'electro', 'edm', 'minimal-techno', 'trance', 'trip-hop']\n",
    "group_7 = ['children', 'kids']\n",
    "group_8 = ['dance', 'dancehall', 'j-dance', 'tango', 'disco', 'garage']\n",
    "group_9 = ['reggae', 'reggaeton', 'ska']\n",
    "group_10 = ['bluegrass', 'country', 'honky-tonk', 'sertanejo', 'folk']\n",
    "group_11 = ['comedy', 'happy']\n",
    "group_12 = ['latin', 'brazil', 'salsa', 'latino', 'samba', 'mpb', 'forro', 'pagode']\n",
    "group_13 = ['hip-hop', 'alternative']\n",
    "group_14 = ['british', 'french', 'german', 'indian','spanish', 'swedish', 'turkish', 'world-music','iranian','malay']\n",
    "group_15 = ['opera', 'show-tunes']\n",
    "\n",
    "group = [group_1,group_2,group_3,group_4,group_5,group_6,group_7,group_8,group_9,group_10,group_11,group_12,group_13,group_14,group_15]\n",
    "\n",
    "data_group = []\n",
    "genre_group = []\n",
    "popularity_group = []\n",
    "mean_group = []\n",
    "max_group = []\n",
    "min_group = []\n",
    "\n",
    "for i in range(0,15):\n",
    "    data = df.iloc[[g in group[i] for g in df[\"genre\"]], :]\n",
    "\n",
    "    #檢查曲風，並看看每種曲風歌曲數，存成genre_catogory_metal的dataframe\n",
    "    genre_catogory = pd.DataFrame(data['genre'].value_counts().sort_index())\n",
    "    display(genre_catogory)\n",
    "    print(genre_catogory.index)\n",
    "    print(genre_catogory.shape)\n",
    "\n",
    "    #將data的popularity存成popularity_catogory_metal的dataframe\n",
    "    popularity_catogory = pd.DataFrame(data['popularity'].value_counts())\n",
    "    popularity_catogory = popularity_catogory.rename(columns={'popularity':'numbers'}) #避免誤會，將popularity改成numbers\n",
    "    popularity_catogory = popularity_catogory.sort_index() #根據index調整順序\n",
    "    \n",
    "    #算popularity的平均\n",
    "    mean = data['popularity'].mean()\n",
    "    minimum = min(data['popularity'])\n",
    "    maximum = max(data['popularity'])\n",
    "    print(\"mean of popularity \",mean)\n",
    "    print(\"min of popularity \",minimum)\n",
    "    print(\"max of popularity \",maximum)\n",
    "    \n",
    "    #作圖，繪出popularity散佈圖\n",
    "    plt.hist(data['popularity'],bins=10) \n",
    "    plt.xlabel(\"popularity\")\n",
    "    plt.ylabel(\"numbers of song\")\n",
    "    title = \"popularity distribution for group \"+str(i+1)\n",
    "    plt.title(title)\n",
    "    plt.show()\n",
    "    \n",
    "    #將資料存起來\n",
    "    data_group.append(data)\n",
    "    genre_group.append(genre_catogory)\n",
    "    popularity_group.append(popularity_catogory)\n",
    "    mean_group.append(mean)\n",
    "    max_group.append(maximum)\n",
    "    min_group.append(minimum)"
   ]
  },
  {
   "cell_type": "code",
   "execution_count": 16,
   "metadata": {},
   "outputs": [
    {
     "data": {
      "image/png": "[encoded data removed]",
      "text/plain": [
       "<Figure size 432x288 with 1 Axes>"
      ]
     },
     "metadata": {
      "needs_background": "light"
     },
     "output_type": "display_data"
    },
    {
     "data": {
      "image/png": "[encoded data removed]",
      "text/plain": [
       "<Figure size 432x288 with 1 Axes>"
      ]
     },
     "metadata": {
      "needs_background": "light"
     },
     "output_type": "display_data"
    },
    {
     "data": {
      "image/png": "[encoded data removed]",
      "text/plain": [
       "<Figure size 432x288 with 1 Axes>"
      ]
     },
     "metadata": {
      "needs_background": "light"
     },
     "output_type": "display_data"
    }
   ],
   "source": [
    "x = np.linspace(1,15,15)\n",
    "y = mean_group\n",
    "plt.bar(x,y)\n",
    "plt.xlabel(\"group\")\n",
    "plt.ylabel(\"mean of popularity\")\n",
    "plt.title(\"popularity distribution\")\n",
    "plt.show()\n",
    "\n",
    "x = np.linspace(1,15,15)\n",
    "y = min_group\n",
    "plt.bar(x,y)\n",
    "plt.xlabel(\"group\")\n",
    "plt.ylabel(\"min of popularity\")\n",
    "plt.title(\"popularity distribution\")\n",
    "plt.show()\n",
    "\n",
    "x = np.linspace(1,15,15)\n",
    "y = max_group\n",
    "plt.bar(x,y)\n",
    "plt.xlabel(\"group\")\n",
    "plt.ylabel(\"max of popularity\")\n",
    "plt.title(\"popularity distribution\")\n",
    "plt.show()"
   ]
  },
  {
   "cell_type": "code",
   "execution_count": null,
   "metadata": {},
   "outputs": [],
   "source": []
  }
 ],
 "metadata": {
  "kernelspec": {
   "display_name": "Python 3",
   "language": "python",
   "name": "python3"
  },
  "language_info": {
   "codemirror_mode": {
    "name": "ipython",
    "version": 3
   },
   "file_extension": ".py",
   "mimetype": "text/x-python",
   "name": "python",
   "nbconvert_exporter": "python",
   "pygments_lexer": "ipython3",
   "version": "3.7.6"
  }
 },
 "nbformat": 4,
 "nbformat_minor": 4
}
