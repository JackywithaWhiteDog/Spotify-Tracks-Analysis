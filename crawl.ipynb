{
 "cells": [
  {
   "cell_type": "code",
   "execution_count": 1,
   "metadata": {},
   "outputs": [],
   "source": [
    "import spotipy\n",
    "from spotipy.oauth2 import SpotifyClientCredentials\n",
    "import os\n",
    "os.environ[\"SPOTIPY_CLIENT_ID\"] = 'b1511210915a4096988d72740d6d9b51'\n",
    "os.environ[\"SPOTIPY_CLIENT_SECRET\"] = '5c79e21e3a5e459792400e570e6e1d27'\n",
    "sp = spotipy.Spotify(client_credentials_manager=SpotifyClientCredentials(requests_timeout=None))"
   ]
  },
  {
   "cell_type": "code",
   "execution_count": 2,
   "metadata": {},
   "outputs": [],
   "source": [
    "import numpy as np\n",
    "import pandas as pd\n",
    "import random\n",
    "import sys\n",
    "\n",
    "def search_genre(genre, offset=0, max_n=None):\n",
    "    if max_n is None:\n",
    "        max_n = sp.search(q=f'genre:\"{genre}\"', offset=0, limit=1, type='track').get('tracks').get('total')\n",
    "    if max_n <= 50:\n",
    "        search = sp.search(q=f'genre:\"{genre}\"', offset=offset, limit=max_n, type='track').get('tracks')\n",
    "    else:\n",
    "        search = {}\n",
    "        search['total'] = 0\n",
    "        search['items'] = []\n",
    "        while search['total'] < max_n:\n",
    "            step = search['total']+1\n",
    "            print(f'\\r[{step}/{max_n}] (search)', end='')\n",
    "            num = min(50, max_n-search['total'])\n",
    "            try:\n",
    "                tmp = sp.search(q=f'genre:\"{genre}\"', offset=offset+search['total'], limit=num, type='track').get('tracks')\n",
    "            except:\n",
    "                break\n",
    "            search['items'].extend(tmp.get('items'))\n",
    "            search['total'] += len(tmp.get('items'))\n",
    "    return search\n",
    "\n",
    "def crawl(genres):\n",
    "    variables = ['id', \n",
    "                 'name', \n",
    "                 'artist', \n",
    "                 'genre', \n",
    "                 'popularity', \n",
    "                 'acousticness', \n",
    "                 'danceability',\n",
    "                 'energy',\n",
    "                 'instrumentalness',\n",
    "                 'liveness',\n",
    "                 'speechiness',\n",
    "                 'duration_ms',\n",
    "                 'key',\n",
    "                 'loadness',\n",
    "                 'mode',\n",
    "                 'tempo',\n",
    "                 'valence',\n",
    "                 'available_market',\n",
    "                 'release_date',\n",
    "                 'explicit']\n",
    "    columns = {v:[] for v in variables}\n",
    "    data = pd.DataFrame(data=columns)\n",
    "    for i, genre in enumerate(genres):\n",
    "#         results = search_genre(genre)\n",
    "#         n = results.get('total')\n",
    "#         for j, result in enumerate(results.get('items')):\n",
    "        n = sp.search(q=f'genre:\"{genre}\"', offset=0, limit=1, type='track').get('tracks').get('total')\n",
    "        if n == 0:\n",
    "            continue\n",
    "        offsets = random.sample(list(np.arange(min(n-1, 1999))), k=min(n, 100))\n",
    "        for j, offset in enumerate(offsets):\n",
    "#             print(f'\\r[{j+1}/{n}] (process)', end='')\n",
    "            print(f'\\r[{j+1}/{len(offsets)}] (process)', end='')\n",
    "            items = search_genre(genre, offset=offset, max_n=1).get('items')\n",
    "            if items is None:\n",
    "                continue\n",
    "            result = items[0]\n",
    "#             if result is None: # do not find track\n",
    "#                 continue\n",
    "            feature = sp.audio_features(result.get('id'))[0]\n",
    "            row = {\n",
    "                'id': result.get('id'), \n",
    "                'name': result.get('name'), \n",
    "                'artist': result.get('artists')[0].get('name'), \n",
    "                'genre': genre, \n",
    "                'popularity': result.get('popularity'),\n",
    "                'available_market': len(result.get('available_markets')),\n",
    "                'duration_ms': result.get('duration_ms'),\n",
    "                'explicit': result.get('explicit'), # has explicit lyrics\n",
    "                'release_date': result.get('album').get('release_date'),\n",
    "                'acousticness': feature.get('acousticness'), \n",
    "                'danceability': feature.get('danceability'),\n",
    "                'energy': feature.get('energy'),\n",
    "                'instrumentalness': feature.get('instrumentalness'),\n",
    "                'liveness': feature.get('liveness'),\n",
    "                'speechiness': feature.get('speechiness'),\n",
    "                'key': feature.get('key'),\n",
    "                'loadness': feature.get('loudness'),\n",
    "                'mode': feature.get('mode'),\n",
    "                'tempo': feature.get('tempo'),\n",
    "                'valence': feature.get('valence')\n",
    "            }\n",
    "            \n",
    "            data = data.append(row, ignore_index=True)\n",
    "        print(f'\\r[{i+1}/{len(genres)}] genre: {genre}'.rjust(20, ' '))\n",
    "    return data"
   ]
  },
  {
   "cell_type": "code",
   "execution_count": 3,
   "metadata": {},
   "outputs": [
    {
     "name": "stdout",
     "output_type": "stream",
     "text": [
      "[1/126] genre: acoustic\n",
      "[2/126] genre: afrobeat\n",
      "[3/126] genre: alt-rock\n",
      "[4/126] genre: alternative\n",
      "[5/126] genre: ambient\n",
      "[6/126] genre: anime\n",
      "[7/126] genre: black-metal\n",
      "[8/126] genre: bluegrass\n",
      "[9/126] genre: blues\n",
      "[11/126] genre: brazil\n",
      "[12/126] genre: breakbeat\n",
      "[13/126] genre: british\n",
      "[14/126] genre: cantopop\n",
      "[15/126] genre: chicago-house\n",
      "[16/126] genre: children\n",
      "[17/126] genre: chill\n",
      "[18/126] genre: classical\n",
      "[19/126] genre: club\n",
      "[20/126] genre: comedy\n",
      "[21/126] genre: country\n",
      "[22/126] genre: dance\n",
      "[23/126] genre: dancehall\n",
      "[24/126] genre: death-metal\n",
      "[25/126] genre: deep-house\n",
      "[26/126] genre: detroit-techno\n",
      "[27/126] genre: disco\n",
      "[28/126] genre: disney\n",
      "[29/126] genre: drum-and-bass\n",
      "[30/126] genre: dub\n",
      "[31/126] genre: dubstep\n",
      "[32/126] genre: edm\n",
      "[33/126] genre: electro\n",
      "[34/126] genre: electronic\n",
      "[35/126] genre: emo\n",
      "[36/126] genre: folk\n",
      "[37/126] genre: forro\n",
      "[38/126] genre: french\n",
      "[39/126] genre: funk\n",
      "[40/126] genre: garage\n",
      "[41/126] genre: german\n",
      "[42/126] genre: gospel\n",
      "[43/126] genre: goth\n",
      "[44/126] genre: grindcore\n",
      "[45/126] genre: groove\n",
      "[46/126] genre: grunge\n",
      "[47/126] genre: guitar\n",
      "[48/126] genre: happy\n",
      "[49/126] genre: hard-rock\n",
      "[50/126] genre: hardcore\n",
      "[51/126] genre: hardstyle\n",
      "[52/126] genre: heavy-metal\n",
      "[53/126] genre: hip-hop\n",
      "[55/126] genre: honky-tonk\n",
      "[56/126] genre: house\n",
      "[57/126] genre: idm\n",
      "[58/126] genre: indian\n",
      "[59/126] genre: indie\n",
      "[60/126] genre: indie-pop\n",
      "[61/126] genre: industrial\n",
      "[62/126] genre: iranian\n",
      "[63/126] genre: j-dance\n",
      "[64/126] genre: j-idol\n",
      "[65/126] genre: j-pop\n",
      "[66/126] genre: j-rock\n",
      "[67/126] genre: jazz\n",
      "[68/126] genre: k-pop\n",
      "[69/126] genre: kids\n",
      "[70/126] genre: latin\n",
      "[71/126] genre: latino\n",
      "[72/126] genre: malay\n",
      "[73/126] genre: mandopop\n",
      "[74/126] genre: metal\n",
      "[76/126] genre: metalcore\n",
      "[77/126] genre: minimal-techno\n",
      "[79/126] genre: mpb\n",
      "[80/126] genre: new-age\n",
      "[82/126] genre: opera\n",
      "[83/126] genre: pagode\n",
      "[84/126] genre: party\n",
      "[86/126] genre: piano\n",
      "[87/126] genre: pop\n",
      "[88/126] genre: pop-film\n",
      "[90/126] genre: power-pop\n",
      "[91/126] genre: progressive-house\n",
      "[92/126] genre: psych-rock\n",
      "[93/126] genre: punk\n",
      "[94/126] genre: punk-rock\n",
      "[95/126] genre: r-n-b\n",
      "[97/126] genre: reggae\n",
      "[98/126] genre: reggaeton\n",
      "[100/126] genre: rock\n",
      "[101/126] genre: rock-n-roll\n",
      "[102/126] genre: rockabilly\n",
      "[103/126] genre: romance\n",
      "[105/126] genre: salsa\n",
      "[106/126] genre: samba\n",
      "[107/126] genre: sertanejo\n",
      "[108/126] genre: show-tunes\n",
      "[109/126] genre: singer-songwriter\n",
      "[110/126] genre: ska\n",
      "[111/126] genre: sleep\n",
      "[112/126] genre: songwriter\n",
      "[113/126] genre: soul\n",
      "[115/126] genre: spanish\n",
      "[118/126] genre: swedish\n",
      "[119/126] genre: synth-pop\n",
      "[120/126] genre: tango\n",
      "[121/126] genre: techno\n",
      "[122/126] genre: trance\n",
      "[123/126] genre: trip-hop\n",
      "[124/126] genre: turkish\n",
      "[126/126] genre: world-music\n"
     ]
    }
   ],
   "source": [
    "random.seed(113)\n",
    "np.random.seed(113)\n",
    "allGenres = sp.recommendation_genre_seeds()['genres']\n",
    "data = crawl(allGenres)"
   ]
  },
  {
   "cell_type": "code",
   "execution_count": 4,
   "metadata": {},
   "outputs": [
    {
     "name": "stdout",
     "output_type": "stream",
     "text": [
      "head:\n"
     ]
    },
    {
     "data": {
      "text/html": [
       "<div>\n",
       "<style scoped>\n",
       "    .dataframe tbody tr th:only-of-type {\n",
       "        vertical-align: middle;\n",
       "    }\n",
       "\n",
       "    .dataframe tbody tr th {\n",
       "        vertical-align: top;\n",
       "    }\n",
       "\n",
       "    .dataframe thead th {\n",
       "        text-align: right;\n",
       "    }\n",
       "</style>\n",
       "<table border=\"1\" class=\"dataframe\">\n",
       "  <thead>\n",
       "    <tr style=\"text-align: right;\">\n",
       "      <th></th>\n",
       "      <th>id</th>\n",
       "      <th>name</th>\n",
       "      <th>artist</th>\n",
       "      <th>genre</th>\n",
       "      <th>popularity</th>\n",
       "      <th>acousticness</th>\n",
       "      <th>danceability</th>\n",
       "      <th>energy</th>\n",
       "      <th>instrumentalness</th>\n",
       "      <th>liveness</th>\n",
       "      <th>speechiness</th>\n",
       "      <th>duration_ms</th>\n",
       "      <th>key</th>\n",
       "      <th>loadness</th>\n",
       "      <th>mode</th>\n",
       "      <th>tempo</th>\n",
       "      <th>valence</th>\n",
       "      <th>available_market</th>\n",
       "      <th>release_date</th>\n",
       "      <th>explicit</th>\n",
       "    </tr>\n",
       "  </thead>\n",
       "  <tbody>\n",
       "    <tr>\n",
       "      <th>0</th>\n",
       "      <td>3XnDbrxxtA40HPIIRWLgRT</td>\n",
       "      <td>Eloise</td>\n",
       "      <td>Penny and Sparrow</td>\n",
       "      <td>acoustic</td>\n",
       "      <td>61.0</td>\n",
       "      <td>0.6950</td>\n",
       "      <td>0.606</td>\n",
       "      <td>0.415</td>\n",
       "      <td>0.001490</td>\n",
       "      <td>0.1740</td>\n",
       "      <td>0.0475</td>\n",
       "      <td>168712.0</td>\n",
       "      <td>7.0</td>\n",
       "      <td>-8.317</td>\n",
       "      <td>0.0</td>\n",
       "      <td>137.775</td>\n",
       "      <td>0.405</td>\n",
       "      <td>79.0</td>\n",
       "      <td>2019-08-02</td>\n",
       "      <td>0.0</td>\n",
       "    </tr>\n",
       "    <tr>\n",
       "      <th>1</th>\n",
       "      <td>74tjxbbaErZPocRtItsuWN</td>\n",
       "      <td>Ride</td>\n",
       "      <td>Cary Brothers</td>\n",
       "      <td>acoustic</td>\n",
       "      <td>42.0</td>\n",
       "      <td>0.1260</td>\n",
       "      <td>0.496</td>\n",
       "      <td>0.674</td>\n",
       "      <td>0.000333</td>\n",
       "      <td>0.0775</td>\n",
       "      <td>0.0323</td>\n",
       "      <td>220573.0</td>\n",
       "      <td>7.0</td>\n",
       "      <td>-7.768</td>\n",
       "      <td>1.0</td>\n",
       "      <td>117.980</td>\n",
       "      <td>0.196</td>\n",
       "      <td>79.0</td>\n",
       "      <td>2007-05-29</td>\n",
       "      <td>0.0</td>\n",
       "    </tr>\n",
       "    <tr>\n",
       "      <th>2</th>\n",
       "      <td>7KJvKmC0rCzGDEcD3YN6IV</td>\n",
       "      <td>Undercover</td>\n",
       "      <td>Wild Rivers</td>\n",
       "      <td>acoustic</td>\n",
       "      <td>39.0</td>\n",
       "      <td>0.6200</td>\n",
       "      <td>0.556</td>\n",
       "      <td>0.325</td>\n",
       "      <td>0.002890</td>\n",
       "      <td>0.1040</td>\n",
       "      <td>0.0322</td>\n",
       "      <td>217897.0</td>\n",
       "      <td>6.0</td>\n",
       "      <td>-13.709</td>\n",
       "      <td>1.0</td>\n",
       "      <td>165.913</td>\n",
       "      <td>0.195</td>\n",
       "      <td>79.0</td>\n",
       "      <td>2016-04-16</td>\n",
       "      <td>0.0</td>\n",
       "    </tr>\n",
       "    <tr>\n",
       "      <th>3</th>\n",
       "      <td>1WE055A5d1019EAx79Rg8Q</td>\n",
       "      <td>Mojo Hand</td>\n",
       "      <td>Lightnin' Hopkins</td>\n",
       "      <td>acoustic</td>\n",
       "      <td>43.0</td>\n",
       "      <td>0.6560</td>\n",
       "      <td>0.567</td>\n",
       "      <td>0.560</td>\n",
       "      <td>0.000102</td>\n",
       "      <td>0.1270</td>\n",
       "      <td>0.1470</td>\n",
       "      <td>182508.0</td>\n",
       "      <td>11.0</td>\n",
       "      <td>-8.356</td>\n",
       "      <td>0.0</td>\n",
       "      <td>147.008</td>\n",
       "      <td>0.766</td>\n",
       "      <td>79.0</td>\n",
       "      <td>2008-01-01</td>\n",
       "      <td>0.0</td>\n",
       "    </tr>\n",
       "    <tr>\n",
       "      <th>4</th>\n",
       "      <td>5I7ZntCRp2ecAQ7Pk2JDb1</td>\n",
       "      <td>Enemy, love.</td>\n",
       "      <td>John Mark McMillan</td>\n",
       "      <td>acoustic</td>\n",
       "      <td>39.0</td>\n",
       "      <td>0.0313</td>\n",
       "      <td>0.646</td>\n",
       "      <td>0.642</td>\n",
       "      <td>0.006150</td>\n",
       "      <td>0.1820</td>\n",
       "      <td>0.0342</td>\n",
       "      <td>258937.0</td>\n",
       "      <td>1.0</td>\n",
       "      <td>-8.478</td>\n",
       "      <td>0.0</td>\n",
       "      <td>101.947</td>\n",
       "      <td>0.203</td>\n",
       "      <td>66.0</td>\n",
       "      <td>2017-09-01</td>\n",
       "      <td>0.0</td>\n",
       "    </tr>\n",
       "  </tbody>\n",
       "</table>\n",
       "</div>"
      ],
      "text/plain": [
       "                       id          name              artist     genre  \\\n",
       "0  3XnDbrxxtA40HPIIRWLgRT        Eloise   Penny and Sparrow  acoustic   \n",
       "1  74tjxbbaErZPocRtItsuWN          Ride       Cary Brothers  acoustic   \n",
       "2  7KJvKmC0rCzGDEcD3YN6IV    Undercover         Wild Rivers  acoustic   \n",
       "3  1WE055A5d1019EAx79Rg8Q     Mojo Hand   Lightnin' Hopkins  acoustic   \n",
       "4  5I7ZntCRp2ecAQ7Pk2JDb1  Enemy, love.  John Mark McMillan  acoustic   \n",
       "\n",
       "   popularity  acousticness  danceability  energy  instrumentalness  liveness  \\\n",
       "0        61.0        0.6950         0.606   0.415          0.001490    0.1740   \n",
       "1        42.0        0.1260         0.496   0.674          0.000333    0.0775   \n",
       "2        39.0        0.6200         0.556   0.325          0.002890    0.1040   \n",
       "3        43.0        0.6560         0.567   0.560          0.000102    0.1270   \n",
       "4        39.0        0.0313         0.646   0.642          0.006150    0.1820   \n",
       "\n",
       "   speechiness  duration_ms   key  loadness  mode    tempo  valence  \\\n",
       "0       0.0475     168712.0   7.0    -8.317   0.0  137.775    0.405   \n",
       "1       0.0323     220573.0   7.0    -7.768   1.0  117.980    0.196   \n",
       "2       0.0322     217897.0   6.0   -13.709   1.0  165.913    0.195   \n",
       "3       0.1470     182508.0  11.0    -8.356   0.0  147.008    0.766   \n",
       "4       0.0342     258937.0   1.0    -8.478   0.0  101.947    0.203   \n",
       "\n",
       "   available_market release_date  explicit  \n",
       "0              79.0   2019-08-02       0.0  \n",
       "1              79.0   2007-05-29       0.0  \n",
       "2              79.0   2016-04-16       0.0  \n",
       "3              79.0   2008-01-01       0.0  \n",
       "4              66.0   2017-09-01       0.0  "
      ]
     },
     "metadata": {},
     "output_type": "display_data"
    }
   ],
   "source": [
    "print('head:')\n",
    "display(data.head())"
   ]
  },
  {
   "cell_type": "code",
   "execution_count": 5,
   "metadata": {},
   "outputs": [
    {
     "name": "stdout",
     "output_type": "stream",
     "text": [
      "['acoustic' 'afrobeat' 'alt-rock' 'alternative' 'ambient' 'anime'\n",
      " 'black-metal' 'bluegrass' 'blues' 'brazil' 'breakbeat' 'british'\n",
      " 'cantopop' 'chicago-house' 'children' 'chill' 'classical' 'club' 'comedy'\n",
      " 'country' 'dance' 'dancehall' 'death-metal' 'deep-house' 'detroit-techno'\n",
      " 'disco' 'disney' 'drum-and-bass' 'dub' 'dubstep' 'edm' 'electro'\n",
      " 'electronic' 'emo' 'folk' 'forro' 'french' 'funk' 'garage' 'german'\n",
      " 'gospel' 'goth' 'grindcore' 'groove' 'grunge' 'guitar' 'happy'\n",
      " 'hard-rock' 'hardcore' 'hardstyle' 'heavy-metal' 'hip-hop' 'honky-tonk'\n",
      " 'house' 'idm' 'indian' 'indie' 'indie-pop' 'industrial' 'iranian'\n",
      " 'j-dance' 'j-idol' 'j-pop' 'j-rock' 'jazz' 'k-pop' 'kids' 'latin'\n",
      " 'latino' 'malay' 'mandopop' 'metal' 'metalcore' 'minimal-techno' 'mpb'\n",
      " 'new-age' 'opera' 'pagode' 'party' 'piano' 'pop' 'pop-film' 'power-pop'\n",
      " 'progressive-house' 'psych-rock' 'punk' 'punk-rock' 'r-n-b' 'reggae'\n",
      " 'reggaeton' 'rock' 'rock-n-roll' 'rockabilly' 'romance' 'salsa' 'samba'\n",
      " 'sertanejo' 'show-tunes' 'singer-songwriter' 'ska' 'sleep' 'songwriter'\n",
      " 'soul' 'spanish' 'swedish' 'synth-pop' 'tango' 'techno' 'trance'\n",
      " 'trip-hop' 'turkish' 'world-music']\n"
     ]
    }
   ],
   "source": [
    "print(data['genre'].unique())"
   ]
  },
  {
   "cell_type": "code",
   "execution_count": 6,
   "metadata": {},
   "outputs": [],
   "source": [
    "data.to_csv('tracks.csv', encoding=\"utf-8\")"
   ]
  },
  {
   "cell_type": "code",
   "execution_count": 7,
   "metadata": {},
   "outputs": [],
   "source": [
    "import pandas as pd"
   ]
  },
  {
   "cell_type": "code",
   "execution_count": 8,
   "metadata": {},
   "outputs": [],
   "source": [
    "data = pd.read_csv('tracks.csv', encoding=\"utf-8\")"
   ]
  },
  {
   "cell_type": "code",
   "execution_count": 9,
   "metadata": {},
   "outputs": [
    {
     "data": {
      "text/plain": [
       "10496"
      ]
     },
     "execution_count": 9,
     "metadata": {},
     "output_type": "execute_result"
    }
   ],
   "source": [
    "len(data['name'].unique())"
   ]
  },
  {
   "cell_type": "code",
   "execution_count": 10,
   "metadata": {},
   "outputs": [
    {
     "data": {
      "image/png": "[encoded data removed]",
      "text/plain": [
       "<Figure size 432x288 with 1 Axes>"
      ]
     },
     "metadata": {
      "needs_background": "light"
     },
     "output_type": "display_data"
    }
   ],
   "source": [
    "import matplotlib.pyplot as plt\n",
    "for g in data['genre'].unique()[:5]:\n",
    "    plt.scatter(data['tempo'][data['genre'] == g], data['popularity'][data['genre'] == g], alpha=.5)\n",
    "plt.show()"
   ]
  },
  {
   "cell_type": "code",
   "execution_count": 11,
   "metadata": {},
   "outputs": [
    {
     "data": {
      "image/png": "[encoded data removed]",
      "text/plain": [
       "<Figure size 432x288 with 1 Axes>"
      ]
     },
     "metadata": {
      "needs_background": "light"
     },
     "output_type": "display_data"
    }
   ],
   "source": [
    "import matplotlib.pyplot as plt\n",
    "for g in data['genre'].unique()[:5]:\n",
    "    plt.hist(data['popularity'][data['genre'] == g], alpha=.5, density=True)\n",
    "plt.show()"
   ]
  },
  {
   "cell_type": "code",
   "execution_count": 12,
   "metadata": {},
   "outputs": [
    {
     "name": "stderr",
     "output_type": "stream",
     "text": [
      "c:\\users\\jacky\\.pyenv\\pyenv-win\\versions\\3.7.5-amd64\\lib\\site-packages\\numpy\\lib\\function_base.py:2534: RuntimeWarning: invalid value encountered in true_divide\n",
      "  c /= stddev[:, None]\n",
      "c:\\users\\jacky\\.pyenv\\pyenv-win\\versions\\3.7.5-amd64\\lib\\site-packages\\numpy\\lib\\function_base.py:2535: RuntimeWarning: invalid value encountered in true_divide\n",
      "  c /= stddev[None, :]\n"
     ]
    }
   ],
   "source": [
    "import numpy as np\n",
    "cov = np.corrcoef(data.loc[data['genre'] == 'anime', (data.dtypes != object).values], rowvar=False)"
   ]
  },
  {
   "cell_type": "code",
   "execution_count": 13,
   "metadata": {},
   "outputs": [
    {
     "data": {
      "text/plain": [
       "<matplotlib.axes._subplots.AxesSubplot at 0x13d45bb7648>"
      ]
     },
     "execution_count": 13,
     "metadata": {},
     "output_type": "execute_result"
    },
    {
     "data": {
      "image/png": "[encoded data removed]",
      "text/plain": [
       "<Figure size 432x288 with 2 Axes>"
      ]
     },
     "metadata": {
      "needs_background": "light"
     },
     "output_type": "display_data"
    }
   ],
   "source": [
    "import seaborn as sns\n",
    "sns.heatmap(np.abs(cov))"
   ]
  },
  {
   "cell_type": "code",
   "execution_count": 14,
   "metadata": {},
   "outputs": [
    {
     "data": {
      "text/plain": [
       "112"
      ]
     },
     "execution_count": 14,
     "metadata": {},
     "output_type": "execute_result"
    }
   ],
   "source": [
    "len(data['genre'].unique())"
   ]
  },
  {
   "cell_type": "code",
   "execution_count": 16,
   "metadata": {},
   "outputs": [
    {
     "name": "stdout",
     "output_type": "stream",
     "text": [
      "['acoustic', 'afrobeat', 'alt-rock', 'alternative', 'ambient', 'anime', 'black-metal', 'bluegrass', 'blues', 'brazil', 'breakbeat', 'british', 'cantopop', 'chicago-house', 'children', 'chill', 'classical', 'club', 'comedy', 'country', 'dance', 'dancehall', 'death-metal', 'deep-house', 'detroit-techno', 'disco', 'disney', 'drum-and-bass', 'dub', 'dubstep', 'edm', 'electro', 'electronic', 'emo', 'folk', 'forro', 'french', 'funk', 'garage', 'german', 'gospel', 'goth', 'grindcore', 'groove', 'grunge', 'guitar', 'happy', 'hard-rock', 'hardcore', 'hardstyle', 'heavy-metal', 'hip-hop', 'honky-tonk', 'house', 'idm', 'indian', 'indie', 'indie-pop', 'industrial', 'iranian', 'j-dance', 'j-idol', 'j-pop', 'j-rock', 'jazz', 'k-pop', 'kids', 'latin', 'latino', 'malay', 'mandopop', 'metal', 'metalcore', 'minimal-techno', 'mpb', 'new-age', 'opera', 'pagode', 'party', 'piano', 'pop', 'pop-film', 'power-pop', 'progressive-house', 'psych-rock', 'punk', 'punk-rock', 'r-n-b', 'reggae', 'reggaeton', 'rock', 'rock-n-roll', 'rockabilly', 'romance', 'salsa', 'samba', 'sertanejo', 'show-tunes', 'singer-songwriter', 'ska', 'sleep', 'songwriter', 'soul', 'spanish', 'swedish', 'synth-pop', 'tango', 'techno', 'trance', 'trip-hop', 'turkish', 'world-music']\n"
     ]
    }
   ],
   "source": [
    "print(sorted(data['genre'].unique()))"
   ]
  },
  {
   "cell_type": "code",
   "execution_count": null,
   "metadata": {},
   "outputs": [],
   "source": []
  }
 ],
 "metadata": {
  "kernelspec": {
   "display_name": "Python 3",
   "language": "python",
   "name": "python3"
  },
  "language_info": {
   "codemirror_mode": {
    "name": "ipython",
    "version": 3
   },
   "file_extension": ".py",
   "mimetype": "text/x-python",
   "name": "python",
   "nbconvert_exporter": "python",
   "pygments_lexer": "ipython3",
   "version": "3.7.5"
  }
 },
 "nbformat": 4,
 "nbformat_minor": 4
}
