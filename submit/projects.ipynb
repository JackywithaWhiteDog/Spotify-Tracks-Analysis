{
 "cells": [
  {
   "cell_type": "markdown",
   "metadata": {},
   "source": [
    "Statistics (I)(2) Final Project\n",
    "===\n",
    "\n",
    "<font face=\"微軟正黑體\">\n",
    "<b>組長</b> : 劉鎮霆 B07705015 <br>\n",
    "<b>組員</b> : 黃煒勛 B07705010 | 黃　心 B07705013 | 康　崴 B07705014 | 張宇承 B07705017 | 李旻叡 B07705037\n",
    "</font>"
   ]
  },
  {
   "cell_type": "markdown",
   "metadata": {},
   "source": [
    "<font face=\"微軟正黑體\">\n",
    "讀取函式庫\n",
    "</font>"
   ]
  },
  {
   "cell_type": "code",
   "execution_count": 27,
   "metadata": {},
   "outputs": [],
   "source": [
    "import os\n",
    "import sys\n",
    "import random\n",
    "\n",
    "import spotipy\n",
    "from spotipy.oauth2 import SpotifyClientCredentials\n",
    "\n",
    "import numpy as np\n",
    "import pandas as pd\n",
    "pd.options.display.max_rows = 999\n",
    "\n",
    "import matplotlib.pyplot as plt\n",
    "%matplotlib inline\n",
    "plt.style.use('ggplot')\n",
    "\n",
    "import seaborn as sns\n",
    "import scipy.stats as stats\n",
    "import statsmodels.api as sm\n",
    "import statsmodels.stats.api as sms\n",
    "import statsmodels.formula.api as smf\n",
    "import statsmodels.stats.multicomp as smm\n",
    "import statsmodels\n",
    "import statsmodels.stats.outliers_influence as sso"
   ]
  },
  {
   "cell_type": "markdown",
   "metadata": {},
   "source": [
    "## <center>Table of Contents</center>\n",
    "\n",
    "---\n",
    "\n",
    "[<center><font face=\"微軟正黑體\">分析主題</font></center>](#分析主題)\n",
    "[<center><font face=\"微軟正黑體\">前言</font></center>](#前言)\n",
    "[<center><font face=\"微軟正黑體\">敘述統計 & 視覺化</font></center>](#敘述統計-&-視覺化)\n",
    "[<center><font face=\"微軟正黑體\">迴歸分析</font></center>](#迴歸分析)\n",
    "[<center><font face=\"微軟正黑體\">假設檢定</font></center>](#假設檢定)\n",
    "[<center><font face=\"微軟正黑體\">結論與建議</font></center>](#結論與建議)\n",
    "\n",
    "---\n"
   ]
  },
  {
   "cell_type": "markdown",
   "metadata": {},
   "source": [
    "**<font face=\"微軟正黑體\">分析主題</font>**\n",
    "---"
   ]
  },
  {
   "cell_type": "markdown",
   "metadata": {},
   "source": [
    "<font face=\"微軟正黑體\">Spotify 串流平台中歌曲特性對熱門程度的影響</font>"
   ]
  },
  {
   "cell_type": "markdown",
   "metadata": {},
   "source": [
    "**<font face=\"微軟正黑體\">前言</font>**\n",
    "---"
   ]
  },
  {
   "cell_type": "markdown",
   "metadata": {},
   "source": [
    "<font face=\"微軟正黑體\">\n",
    "&emsp;&emsp;現今社會串流音樂蔚為主流，全世界有數億人在使用這類的服務。而在眾多的串流服務中又以 Spotify 為箇中翹楚，它有著 2.86 億個使用者，想必各個音樂發行商的競爭也是十分激烈。我們這些平時熱愛音樂的學生不禁好奇，一首歌要有怎麼樣的特性才可以在 Spotify 的使用環境中脫穎而出，得到較高的熱門程度。若是知道熱門程度與歌曲各項特性的關係，或許發行商可以根據此關係調整策略，獲得較高的觸及率和收益。我們先由敘述統計觀察不同曲風熱門程度分佈，接著做回歸分析發現曲風影響熱門程度，最後由假設檢定看曲風的差異性是怎麼決定熱門程度以及曲風之間哪些特性有差異。\n",
    "</font>"
   ]
  },
  {
   "cell_type": "markdown",
   "metadata": {},
   "source": [
    "**<font face=\"微軟正黑體\">資料集</font>**\n",
    "---"
   ]
  },
  {
   "cell_type": "markdown",
   "metadata": {},
   "source": [
    "### 1. **<font face=\"微軟正黑體\">資料蒐集</font>**\n",
    "\n",
    "<font face=\"微軟正黑體\">\n",
    "    &emsp;&emsp;我們首先在 kaggle 上找到\n",
    "    <a href='https://www.kaggle.com/zaheenhamidani/ultimate-spotify-tracks-db'>Spotify 歌曲資料集</a>,\n",
    "    其中包含了每一首歌的歌曲類型、歌手、流行度 (popularity)、原聲性 (acousticness) 等數據。\n",
    "    由於 kaggle 上的資料比較舊 (2019 年 3 月)，再加上其中的歌曲類型有經過人為處理 (例如將 kids 與 children 合併為一種類型)，因此我們決定參考它蒐集資料的方法，重新蒐集歌曲資料。<br>\n",
    "    &emsp;&emsp;抽樣時，我們採用 stratified sampling，透過 Soptipy 函式庫搜尋 Spotify 上各個類型的歌曲 (會回傳歌曲資料的 list)，再各自隨機抽樣出 100 首歌，程式碼如下：<br>\n",
    "    (由於不同時間的搜尋結果會不一樣，因此即使設定相同的 random seeds 也無法 reproduce，因此底下只是展示 api 的程式碼)\n",
    "</font>"
   ]
  },
  {
   "cell_type": "markdown",
   "metadata": {},
   "source": [
    "<font face=\"微軟正黑體\">\n",
    "    取得授權 (考量安全性問題，我們將用戶資料以 dictionary 的形式存在 <b>auth.npy</b>，資料的取得方式見此\n",
    "    <a href='https://developer.spotify.com/documentation/general/guides/app-settings/'>連結</a>)\n",
    "</font>"
   ]
  },
  {
   "cell_type": "code",
   "execution_count": 1,
   "metadata": {},
   "outputs": [],
   "source": [
    "auth = np.load('auth.npy', allow_pickle=True)\n",
    "os.environ[\"SPOTIPY_CLIENT_ID\"] = auth.item().get('id')\n",
    "os.environ[\"SPOTIPY_CLIENT_SECRET\"] = auth.item().get('secret')\n",
    "sp = spotipy.Spotify(client_credentials_manager=SpotifyClientCredentials(requests_timeout=None))"
   ]
  },
  {
   "cell_type": "markdown",
   "metadata": {},
   "source": [
    "<font face=\"微軟正黑體\">\n",
    "    定義搜尋歌曲的函數\n",
    "</font>"
   ]
  },
  {
   "cell_type": "code",
   "execution_count": 4,
   "metadata": {},
   "outputs": [],
   "source": [
    "def search_genre(genre, offset=0, max_n=None):\n",
    "    if max_n is None:\n",
    "        max_n = sp.search(q=f'genre:\"{genre}\"', offset=0, limit=1, type='track').get('tracks').get('total')\n",
    "    if max_n <= 50:\n",
    "        search = sp.search(q=f'genre:\"{genre}\"', offset=offset, limit=max_n, type='track').get('tracks')\n",
    "    else:\n",
    "        search = {}\n",
    "        search['total'] = 0\n",
    "        search['items'] = []\n",
    "        while search['total'] < max_n:\n",
    "            step = search['total']+1\n",
    "            print(f'\\r[{step}/{max_n}] (search)', end='')\n",
    "            num = min(50, max_n-search['total'])\n",
    "            try:\n",
    "                tmp = sp.search(q=f'genre:\"{genre}\"', offset=offset+search['total'], limit=num, type='track').get('tracks')\n",
    "            except:\n",
    "                break\n",
    "            search['items'].extend(tmp.get('items'))\n",
    "            search['total'] += len(tmp.get('items'))\n",
    "    return search\n",
    "\n",
    "def crawl(genres):\n",
    "    variables = ['id', \n",
    "                 'name', \n",
    "                 'genre', \n",
    "                 'url', \n",
    "                 'popularity', \n",
    "                 'acousticness', \n",
    "                 'danceability',\n",
    "                 'energy',\n",
    "                 'instrumentalness',\n",
    "                 'liveness',\n",
    "                 'speechiness',\n",
    "                 'duration_ms',\n",
    "                 'key',\n",
    "                 'loudness',\n",
    "                 'mode',\n",
    "                 'tempo',\n",
    "                 'valence',\n",
    "                 'available_market',\n",
    "                 'release_date',\n",
    "                 'explicit']\n",
    "    columns = {v:[] for v in variables}\n",
    "    data = pd.DataFrame(data=columns)\n",
    "    for i, genre in enumerate(genres):\n",
    "        n = sp.search(q=f'genre:\"{genre}\"', offset=0, limit=1, type='track').get('tracks').get('total')\n",
    "        if n == 0:\n",
    "            continue\n",
    "        offsets = random.sample(list(np.arange(min(n-1, 1999))), k=min(n, 100))\n",
    "        for j, offset in enumerate(offsets):\n",
    "            print(f'\\r[{j+1}/{len(offsets)}] (process)', end='')\n",
    "            items = search_genre(genre, offset=offset, max_n=1).get('items')\n",
    "            if items is None:\n",
    "                continue\n",
    "            result = items[0]\n",
    "            feature = sp.audio_features(result.get('id'))[0]\n",
    "            row = {\n",
    "                'id': result.get('id') or '', \n",
    "                'name': result.get('name') or '', \n",
    "                'genre': genre, \n",
    "                'url': result.get('external_urls').get('spotify') or result.get('external_urls').get(list(result.get('external_urls').keys())[0]) or '',\n",
    "                'popularity': result.get('popularity'),\n",
    "                'available_market': len(result.get('available_markets')),\n",
    "                'duration_ms': result.get('duration_ms'),\n",
    "                'explicit': result.get('explicit'), # has explicit lyrics\n",
    "                'release_date': result.get('album').get('release_date'),\n",
    "                'acousticness': feature.get('acousticness'), \n",
    "                'danceability': feature.get('danceability'),\n",
    "                'energy': feature.get('energy'),\n",
    "                'instrumentalness': feature.get('instrumentalness'),\n",
    "                'liveness': feature.get('liveness'),\n",
    "                'speechiness': feature.get('speechiness'),\n",
    "                'key': feature.get('key'),\n",
    "                'loudness': feature.get('loudness'),\n",
    "                'mode': feature.get('mode'),\n",
    "                'tempo': feature.get('tempo'),\n",
    "                'valence': feature.get('valence')\n",
    "            }\n",
    "            \n",
    "            data = data.append(row, ignore_index=True)\n",
    "        print(f'\\r[{i+1}/{len(genres)}] genre: {genre}'.rjust(20, ' '))\n",
    "    return data"
   ]
  },
  {
   "cell_type": "markdown",
   "metadata": {},
   "source": [
    "<font face=\"微軟正黑體\">\n",
    "    開始搜尋，每項歌曲類型取 100 首歌\n",
    "</font>"
   ]
  },
  {
   "cell_type": "code",
   "execution_count": 5,
   "metadata": {},
   "outputs": [
    {
     "name": "stdout",
     "output_type": "stream",
     "text": [
      "[1/126] genre: acoustic\n",
      "[2/126] genre: afrobeat\n",
      "[3/126] genre: alt-rock\n",
      "[4/126] genre: alternative\n",
      "[5/126] genre: ambient\n",
      "[6/126] genre: anime\n",
      "[7/126] genre: black-metal\n",
      "[8/126] genre: bluegrass\n",
      "[9/126] genre: blues\n",
      "[11/126] genre: brazil\n",
      "[12/126] genre: breakbeat\n",
      "[13/126] genre: british\n",
      "[14/126] genre: cantopop\n",
      "[15/126] genre: chicago-house\n",
      "[16/126] genre: children\n",
      "[17/126] genre: chill\n",
      "[18/126] genre: classical\n",
      "[19/126] genre: club\n",
      "[20/126] genre: comedy\n",
      "[21/126] genre: country\n",
      "[22/126] genre: dance\n",
      "[23/126] genre: dancehall\n",
      "[24/126] genre: death-metal\n",
      "[25/126] genre: deep-house\n",
      "[26/126] genre: detroit-techno\n",
      "[27/126] genre: disco\n",
      "[28/126] genre: disney\n",
      "[29/126] genre: drum-and-bass\n",
      "[30/126] genre: dub\n",
      "[31/126] genre: dubstep\n",
      "[32/126] genre: edm\n",
      "[33/126] genre: electro\n",
      "[34/126] genre: electronic\n",
      "[35/126] genre: emo\n",
      "[36/126] genre: folk\n",
      "[37/126] genre: forro\n",
      "[38/126] genre: french\n",
      "[39/126] genre: funk\n",
      "[40/126] genre: garage\n",
      "[41/126] genre: german\n",
      "[42/126] genre: gospel\n",
      "[43/126] genre: goth\n",
      "[44/126] genre: grindcore\n",
      "[45/126] genre: groove\n",
      "[46/126] genre: grunge\n",
      "[47/126] genre: guitar\n",
      "[48/126] genre: happy\n",
      "[49/126] genre: hard-rock\n",
      "[50/126] genre: hardcore\n",
      "[51/126] genre: hardstyle\n",
      "[52/126] genre: heavy-metal\n",
      "[53/126] genre: hip-hop\n",
      "[55/126] genre: honky-tonk\n",
      "[56/126] genre: house\n",
      "[57/126] genre: idm\n",
      "[58/126] genre: indian\n",
      "[59/126] genre: indie\n",
      "[60/126] genre: indie-pop\n",
      "[61/126] genre: industrial\n",
      "[62/126] genre: iranian\n",
      "[63/126] genre: j-dance\n",
      "[64/126] genre: j-idol\n",
      "[65/126] genre: j-pop\n",
      "[66/126] genre: j-rock\n",
      "[67/126] genre: jazz\n",
      "[68/126] genre: k-pop\n",
      "[69/126] genre: kids\n",
      "[70/126] genre: latin\n",
      "[71/126] genre: latino\n",
      "[72/126] genre: malay\n",
      "[73/126] genre: mandopop\n",
      "[74/126] genre: metal\n",
      "[76/126] genre: metalcore\n",
      "[77/126] genre: minimal-techno\n",
      "[79/126] genre: mpb\n",
      "[80/126] genre: new-age\n",
      "[82/126] genre: opera\n",
      "[83/126] genre: pagode\n",
      "[84/126] genre: party\n",
      "[86/126] genre: piano\n",
      "[87/126] genre: pop\n",
      "[88/126] genre: pop-film\n",
      "[90/126] genre: power-pop\n",
      "[91/126] genre: progressive-house\n",
      "[92/126] genre: psych-rock\n",
      "[93/126] genre: punk\n",
      "[94/126] genre: punk-rock\n",
      "[95/126] genre: r-n-b\n",
      "[97/126] genre: reggae\n",
      "[98/126] genre: reggaeton\n",
      "[100/126] genre: rock\n",
      "[101/126] genre: rock-n-roll\n",
      "[102/126] genre: rockabilly\n",
      "[103/126] genre: romance\n",
      "[105/126] genre: salsa\n",
      "[106/126] genre: samba\n",
      "[107/126] genre: sertanejo\n",
      "[108/126] genre: show-tunes\n",
      "[109/126] genre: singer-songwriter\n",
      "[110/126] genre: ska\n",
      "[111/126] genre: sleep\n",
      "[112/126] genre: songwriter\n",
      "[113/126] genre: soul\n",
      "[115/126] genre: spanish\n",
      "[118/126] genre: swedish\n",
      "[119/126] genre: synth-pop\n",
      "[120/126] genre: tango\n",
      "[121/126] genre: techno\n",
      "[122/126] genre: trance\n",
      "[123/126] genre: trip-hop\n",
      "[124/126] genre: turkish\n",
      "[126/126] genre: world-music\n"
     ]
    }
   ],
   "source": [
    "random.seed(113)\n",
    "np.random.seed(113)\n",
    "allGenres = sp.recommendation_genre_seeds()['genres']\n",
    "data = crawl(allGenres)"
   ]
  },
  {
   "cell_type": "markdown",
   "metadata": {},
   "source": [
    "<font face=\"微軟正黑體\">\n",
    "    檢查搜尋結果\n",
    "</font>"
   ]
  },
  {
   "cell_type": "code",
   "execution_count": 20,
   "metadata": {},
   "outputs": [
    {
     "name": "stdout",
     "output_type": "stream",
     "text": [
      "head:\n"
     ]
    },
    {
     "data": {
      "text/html": [
       "<div>\n",
       "<style scoped>\n",
       "    .dataframe tbody tr th:only-of-type {\n",
       "        vertical-align: middle;\n",
       "    }\n",
       "\n",
       "    .dataframe tbody tr th {\n",
       "        vertical-align: top;\n",
       "    }\n",
       "\n",
       "    .dataframe thead th {\n",
       "        text-align: right;\n",
       "    }\n",
       "</style>\n",
       "<table border=\"1\" class=\"dataframe\">\n",
       "  <thead>\n",
       "    <tr style=\"text-align: right;\">\n",
       "      <th></th>\n",
       "      <th>id</th>\n",
       "      <th>name</th>\n",
       "      <th>genre</th>\n",
       "      <th>url</th>\n",
       "      <th>popularity</th>\n",
       "      <th>acousticness</th>\n",
       "      <th>danceability</th>\n",
       "      <th>energy</th>\n",
       "      <th>instrumentalness</th>\n",
       "      <th>liveness</th>\n",
       "      <th>...</th>\n",
       "      <th>duration_ms</th>\n",
       "      <th>key</th>\n",
       "      <th>loudness</th>\n",
       "      <th>mode</th>\n",
       "      <th>tempo</th>\n",
       "      <th>valence</th>\n",
       "      <th>available_market</th>\n",
       "      <th>release_date</th>\n",
       "      <th>explicit</th>\n",
       "      <th>idx</th>\n",
       "    </tr>\n",
       "  </thead>\n",
       "  <tbody>\n",
       "    <tr>\n",
       "      <th>0</th>\n",
       "      <td>3d3LHam2Lc5ADEyJxG3fXE</td>\n",
       "      <td>Thinking 'Bout Love</td>\n",
       "      <td>acoustic</td>\n",
       "      <td>https://open.spotify.com/track/3d3LHam2Lc5ADEy...</td>\n",
       "      <td>61.0</td>\n",
       "      <td>0.4870</td>\n",
       "      <td>0.732</td>\n",
       "      <td>0.328</td>\n",
       "      <td>0.000000</td>\n",
       "      <td>0.0677</td>\n",
       "      <td>...</td>\n",
       "      <td>199391.0</td>\n",
       "      <td>5.0</td>\n",
       "      <td>-8.130</td>\n",
       "      <td>1.0</td>\n",
       "      <td>141.789</td>\n",
       "      <td>0.385</td>\n",
       "      <td>79.0</td>\n",
       "      <td>2020-05-01</td>\n",
       "      <td>0.0</td>\n",
       "      <td>0</td>\n",
       "    </tr>\n",
       "    <tr>\n",
       "      <th>1</th>\n",
       "      <td>62h7AycdIWjq6uYWC0LBht</td>\n",
       "      <td>River</td>\n",
       "      <td>acoustic</td>\n",
       "      <td>https://open.spotify.com/track/62h7AycdIWjq6uY...</td>\n",
       "      <td>40.0</td>\n",
       "      <td>0.6150</td>\n",
       "      <td>0.322</td>\n",
       "      <td>0.265</td>\n",
       "      <td>0.000313</td>\n",
       "      <td>0.1000</td>\n",
       "      <td>...</td>\n",
       "      <td>323591.0</td>\n",
       "      <td>6.0</td>\n",
       "      <td>-12.899</td>\n",
       "      <td>1.0</td>\n",
       "      <td>176.398</td>\n",
       "      <td>0.236</td>\n",
       "      <td>77.0</td>\n",
       "      <td>2019-03-08</td>\n",
       "      <td>0.0</td>\n",
       "      <td>1</td>\n",
       "    </tr>\n",
       "    <tr>\n",
       "      <th>2</th>\n",
       "      <td>40zCruc5lh9gHw8QgZcNLi</td>\n",
       "      <td>Falling Faster</td>\n",
       "      <td>acoustic</td>\n",
       "      <td>https://open.spotify.com/track/40zCruc5lh9gHw8...</td>\n",
       "      <td>36.0</td>\n",
       "      <td>0.0726</td>\n",
       "      <td>0.580</td>\n",
       "      <td>0.832</td>\n",
       "      <td>0.002790</td>\n",
       "      <td>0.0902</td>\n",
       "      <td>...</td>\n",
       "      <td>266173.0</td>\n",
       "      <td>5.0</td>\n",
       "      <td>-6.180</td>\n",
       "      <td>1.0</td>\n",
       "      <td>121.994</td>\n",
       "      <td>0.676</td>\n",
       "      <td>79.0</td>\n",
       "      <td>2015-10-16</td>\n",
       "      <td>0.0</td>\n",
       "      <td>2</td>\n",
       "    </tr>\n",
       "    <tr>\n",
       "      <th>3</th>\n",
       "      <td>6gvlSiOrZQ4tIWquhRTC2W</td>\n",
       "      <td>Don't Cry For Me</td>\n",
       "      <td>acoustic</td>\n",
       "      <td>https://open.spotify.com/track/6gvlSiOrZQ4tIWq...</td>\n",
       "      <td>35.0</td>\n",
       "      <td>0.1130</td>\n",
       "      <td>0.703</td>\n",
       "      <td>0.651</td>\n",
       "      <td>0.000002</td>\n",
       "      <td>0.2220</td>\n",
       "      <td>...</td>\n",
       "      <td>182826.0</td>\n",
       "      <td>0.0</td>\n",
       "      <td>-5.758</td>\n",
       "      <td>0.0</td>\n",
       "      <td>149.943</td>\n",
       "      <td>0.338</td>\n",
       "      <td>79.0</td>\n",
       "      <td>2018-05-04</td>\n",
       "      <td>0.0</td>\n",
       "      <td>3</td>\n",
       "    </tr>\n",
       "    <tr>\n",
       "      <th>4</th>\n",
       "      <td>0mD8Oey9zR0TR8XyiOx3NO</td>\n",
       "      <td>Nothing More (feat. Lily Costner)</td>\n",
       "      <td>acoustic</td>\n",
       "      <td>https://open.spotify.com/track/0mD8Oey9zR0TR8X...</td>\n",
       "      <td>37.0</td>\n",
       "      <td>0.0589</td>\n",
       "      <td>0.498</td>\n",
       "      <td>0.599</td>\n",
       "      <td>0.000000</td>\n",
       "      <td>0.1170</td>\n",
       "      <td>...</td>\n",
       "      <td>200960.0</td>\n",
       "      <td>0.0</td>\n",
       "      <td>-4.723</td>\n",
       "      <td>1.0</td>\n",
       "      <td>88.068</td>\n",
       "      <td>0.222</td>\n",
       "      <td>79.0</td>\n",
       "      <td>2013-09-30</td>\n",
       "      <td>0.0</td>\n",
       "      <td>4</td>\n",
       "    </tr>\n",
       "  </tbody>\n",
       "</table>\n",
       "<p>5 rows × 21 columns</p>\n",
       "</div>"
      ],
      "text/plain": [
       "                       id                               name     genre  \\\n",
       "0  3d3LHam2Lc5ADEyJxG3fXE                Thinking 'Bout Love  acoustic   \n",
       "1  62h7AycdIWjq6uYWC0LBht                              River  acoustic   \n",
       "2  40zCruc5lh9gHw8QgZcNLi                     Falling Faster  acoustic   \n",
       "3  6gvlSiOrZQ4tIWquhRTC2W                   Don't Cry For Me  acoustic   \n",
       "4  0mD8Oey9zR0TR8XyiOx3NO  Nothing More (feat. Lily Costner)  acoustic   \n",
       "\n",
       "                                                 url  popularity  \\\n",
       "0  https://open.spotify.com/track/3d3LHam2Lc5ADEy...        61.0   \n",
       "1  https://open.spotify.com/track/62h7AycdIWjq6uY...        40.0   \n",
       "2  https://open.spotify.com/track/40zCruc5lh9gHw8...        36.0   \n",
       "3  https://open.spotify.com/track/6gvlSiOrZQ4tIWq...        35.0   \n",
       "4  https://open.spotify.com/track/0mD8Oey9zR0TR8X...        37.0   \n",
       "\n",
       "   acousticness  danceability  energy  instrumentalness  liveness  ...  \\\n",
       "0        0.4870         0.732   0.328          0.000000    0.0677  ...   \n",
       "1        0.6150         0.322   0.265          0.000313    0.1000  ...   \n",
       "2        0.0726         0.580   0.832          0.002790    0.0902  ...   \n",
       "3        0.1130         0.703   0.651          0.000002    0.2220  ...   \n",
       "4        0.0589         0.498   0.599          0.000000    0.1170  ...   \n",
       "\n",
       "   duration_ms  key  loudness  mode    tempo  valence  available_market  \\\n",
       "0     199391.0  5.0    -8.130   1.0  141.789    0.385              79.0   \n",
       "1     323591.0  6.0   -12.899   1.0  176.398    0.236              77.0   \n",
       "2     266173.0  5.0    -6.180   1.0  121.994    0.676              79.0   \n",
       "3     182826.0  0.0    -5.758   0.0  149.943    0.338              79.0   \n",
       "4     200960.0  0.0    -4.723   1.0   88.068    0.222              79.0   \n",
       "\n",
       "   release_date explicit  idx  \n",
       "0    2020-05-01      0.0    0  \n",
       "1    2019-03-08      0.0    1  \n",
       "2    2015-10-16      0.0    2  \n",
       "3    2018-05-04      0.0    3  \n",
       "4    2013-09-30      0.0    4  \n",
       "\n",
       "[5 rows x 21 columns]"
      ]
     },
     "metadata": {},
     "output_type": "display_data"
    },
    {
     "name": "stdout",
     "output_type": "stream",
     "text": [
      "genre counts: 112\n",
      "genre:\n",
      "['acoustic' 'afrobeat' 'alt-rock' 'alternative' 'ambient' 'anime'\n",
      " 'black-metal' 'bluegrass' 'blues' 'brazil' 'breakbeat' 'british'\n",
      " 'cantopop' 'chicago-house' 'children' 'chill' 'classical' 'club' 'comedy'\n",
      " 'country' 'dance' 'dancehall' 'death-metal' 'deep-house' 'detroit-techno'\n",
      " 'disco' 'disney' 'drum-and-bass' 'dub' 'dubstep' 'edm' 'electro'\n",
      " 'electronic' 'emo' 'folk' 'forro' 'french' 'funk' 'garage' 'german'\n",
      " 'gospel' 'goth' 'grindcore' 'groove' 'grunge' 'guitar' 'happy'\n",
      " 'hard-rock' 'hardcore' 'hardstyle' 'heavy-metal' 'hip-hop' 'honky-tonk'\n",
      " 'house' 'idm' 'indian' 'indie' 'indie-pop' 'industrial' 'iranian'\n",
      " 'j-dance' 'j-idol' 'j-pop' 'j-rock' 'jazz' 'k-pop' 'kids' 'latin'\n",
      " 'latino' 'malay' 'mandopop' 'metal' 'metalcore' 'minimal-techno' 'mpb'\n",
      " 'new-age' 'opera' 'pagode' 'party' 'piano' 'pop' 'pop-film' 'power-pop'\n",
      " 'progressive-house' 'psych-rock' 'punk' 'punk-rock' 'r-n-b' 'reggae'\n",
      " 'reggaeton' 'rock' 'rock-n-roll' 'rockabilly' 'romance' 'salsa' 'samba'\n",
      " 'sertanejo' 'show-tunes' 'singer-songwriter' 'ska' 'sleep' 'songwriter'\n",
      " 'soul' 'spanish' 'swedish' 'synth-pop' 'tango' 'techno' 'trance'\n",
      " 'trip-hop' 'turkish' 'world-music']\n"
     ]
    }
   ],
   "source": [
    "data['idx'] = data.index\n",
    "print('head:')\n",
    "display(data.head())\n",
    "print(f'genre counts: {len(data[\"genre\"].unique())}')\n",
    "print('genre:')\n",
    "print(data['genre'].unique())"
   ]
  },
  {
   "cell_type": "markdown",
   "metadata": {},
   "source": [
    "<font face=\"微軟正黑體\">\n",
    "    我們可以看出 126 項歌曲類型中，有 112 項爬取成功，接著檢查每項歌曲種類成功爬取的歌曲數\n",
    "</font>"
   ]
  },
  {
   "cell_type": "code",
   "execution_count": 21,
   "metadata": {},
   "outputs": [
    {
     "data": {
      "text/plain": [
       "electro              100\n",
       "alternative          100\n",
       "alt-rock             100\n",
       "heavy-metal          100\n",
       "turkish              100\n",
       "ambient              100\n",
       "sertanejo            100\n",
       "disco                100\n",
       "comedy               100\n",
       "mandopop             100\n",
       "british              100\n",
       "rock-n-roll          100\n",
       "k-pop                100\n",
       "idm                  100\n",
       "pagode               100\n",
       "j-idol               100\n",
       "opera                100\n",
       "new-age              100\n",
       "guitar               100\n",
       "rockabilly           100\n",
       "sleep                100\n",
       "r-n-b                100\n",
       "minimal-techno       100\n",
       "ska                  100\n",
       "goth                 100\n",
       "reggaeton            100\n",
       "acoustic             100\n",
       "indie-pop            100\n",
       "dubstep              100\n",
       "blues                100\n",
       "mpb                  100\n",
       "swedish              100\n",
       "edm                  100\n",
       "metalcore            100\n",
       "kids                 100\n",
       "emo                  100\n",
       "reggae               100\n",
       "show-tunes           100\n",
       "j-rock               100\n",
       "pop-film             100\n",
       "j-dance              100\n",
       "detroit-techno       100\n",
       "french               100\n",
       "dancehall            100\n",
       "techno               100\n",
       "groove               100\n",
       "brazil               100\n",
       "hardcore             100\n",
       "cantopop             100\n",
       "j-pop                100\n",
       "songwriter           100\n",
       "rock                 100\n",
       "piano                100\n",
       "german               100\n",
       "honky-tonk           100\n",
       "synth-pop            100\n",
       "funk                 100\n",
       "spanish              100\n",
       "dub                  100\n",
       "party                100\n",
       "samba                100\n",
       "jazz                 100\n",
       "grindcore            100\n",
       "trance               100\n",
       "hard-rock            100\n",
       "latin                100\n",
       "dance                100\n",
       "soul                 100\n",
       "trip-hop             100\n",
       "house                100\n",
       "salsa                100\n",
       "pop                  100\n",
       "malay                100\n",
       "forro                100\n",
       "grunge               100\n",
       "club                 100\n",
       "world-music          100\n",
       "metal                100\n",
       "deep-house           100\n",
       "hip-hop              100\n",
       "psych-rock           100\n",
       "indian               100\n",
       "black-metal          100\n",
       "hardstyle            100\n",
       "drum-and-bass        100\n",
       "romance              100\n",
       "folk                 100\n",
       "disney               100\n",
       "classical            100\n",
       "gospel               100\n",
       "indie                100\n",
       "anime                100\n",
       "country              100\n",
       "industrial           100\n",
       "death-metal          100\n",
       "tango                100\n",
       "punk-rock            100\n",
       "breakbeat            100\n",
       "latino               100\n",
       "electronic           100\n",
       "power-pop            100\n",
       "bluegrass            100\n",
       "chill                100\n",
       "garage               100\n",
       "afrobeat             100\n",
       "chicago-house        100\n",
       "iranian              100\n",
       "singer-songwriter    100\n",
       "happy                100\n",
       "punk                 100\n",
       "children             100\n",
       "progressive-house    100\n",
       "Name: genre, dtype: int64"
      ]
     },
     "execution_count": 21,
     "metadata": {},
     "output_type": "execute_result"
    }
   ],
   "source": [
    "data['genre'].value_counts()"
   ]
  },
  {
   "cell_type": "markdown",
   "metadata": {},
   "source": [
    "<font face=\"微軟正黑體\">\n",
    "    112 項歌曲種類皆爬取 100 首歌，我們先將資料存取起來\n",
    "</font>"
   ]
  },
  {
   "cell_type": "code",
   "execution_count": 22,
   "metadata": {},
   "outputs": [],
   "source": [
    "data.to_csv('example.csv', encoding=\"utf-8\", index=False)"
   ]
  },
  {
   "cell_type": "markdown",
   "metadata": {},
   "source": [
    "<font face=\"微軟正黑體\">\n",
    "    由於有些歌可能同時被歸類在多種歌曲類型，因此我們需要刪除重複的項目，在這裡我們使用 <b>random.randint</b> 函數隨機選取要留下的歌曲\n",
    "</font>"
   ]
  },
  {
   "cell_type": "code",
   "execution_count": 49,
   "metadata": {},
   "outputs": [
    {
     "name": "stdout",
     "output_type": "stream",
     "text": [
      "Head of data:\n"
     ]
    },
    {
     "data": {
      "text/html": [
       "<div>\n",
       "<style scoped>\n",
       "    .dataframe tbody tr th:only-of-type {\n",
       "        vertical-align: middle;\n",
       "    }\n",
       "\n",
       "    .dataframe tbody tr th {\n",
       "        vertical-align: top;\n",
       "    }\n",
       "\n",
       "    .dataframe thead th {\n",
       "        text-align: right;\n",
       "    }\n",
       "</style>\n",
       "<table border=\"1\" class=\"dataframe\">\n",
       "  <thead>\n",
       "    <tr style=\"text-align: right;\">\n",
       "      <th></th>\n",
       "      <th>id</th>\n",
       "      <th>name</th>\n",
       "      <th>genre</th>\n",
       "      <th>url</th>\n",
       "      <th>popularity</th>\n",
       "      <th>acousticness</th>\n",
       "      <th>danceability</th>\n",
       "      <th>energy</th>\n",
       "      <th>instrumentalness</th>\n",
       "      <th>liveness</th>\n",
       "      <th>...</th>\n",
       "      <th>duration_ms</th>\n",
       "      <th>key</th>\n",
       "      <th>loudness</th>\n",
       "      <th>mode</th>\n",
       "      <th>tempo</th>\n",
       "      <th>valence</th>\n",
       "      <th>available_market</th>\n",
       "      <th>release_date</th>\n",
       "      <th>explicit</th>\n",
       "      <th>idx</th>\n",
       "    </tr>\n",
       "  </thead>\n",
       "  <tbody>\n",
       "    <tr>\n",
       "      <th>0</th>\n",
       "      <td>3d3LHam2Lc5ADEyJxG3fXE</td>\n",
       "      <td>Thinking 'Bout Love</td>\n",
       "      <td>acoustic</td>\n",
       "      <td>https://open.spotify.com/track/3d3LHam2Lc5ADEy...</td>\n",
       "      <td>61.0</td>\n",
       "      <td>0.4870</td>\n",
       "      <td>0.732</td>\n",
       "      <td>0.328</td>\n",
       "      <td>0.000000</td>\n",
       "      <td>0.0677</td>\n",
       "      <td>...</td>\n",
       "      <td>199391.0</td>\n",
       "      <td>5.0</td>\n",
       "      <td>-8.130</td>\n",
       "      <td>1.0</td>\n",
       "      <td>141.789</td>\n",
       "      <td>0.385</td>\n",
       "      <td>79.0</td>\n",
       "      <td>2020-05-01</td>\n",
       "      <td>0.0</td>\n",
       "      <td>0</td>\n",
       "    </tr>\n",
       "    <tr>\n",
       "      <th>1</th>\n",
       "      <td>62h7AycdIWjq6uYWC0LBht</td>\n",
       "      <td>River</td>\n",
       "      <td>acoustic</td>\n",
       "      <td>https://open.spotify.com/track/62h7AycdIWjq6uY...</td>\n",
       "      <td>40.0</td>\n",
       "      <td>0.6150</td>\n",
       "      <td>0.322</td>\n",
       "      <td>0.265</td>\n",
       "      <td>0.000313</td>\n",
       "      <td>0.1000</td>\n",
       "      <td>...</td>\n",
       "      <td>323591.0</td>\n",
       "      <td>6.0</td>\n",
       "      <td>-12.899</td>\n",
       "      <td>1.0</td>\n",
       "      <td>176.398</td>\n",
       "      <td>0.236</td>\n",
       "      <td>77.0</td>\n",
       "      <td>2019-03-08</td>\n",
       "      <td>0.0</td>\n",
       "      <td>1</td>\n",
       "    </tr>\n",
       "    <tr>\n",
       "      <th>2</th>\n",
       "      <td>40zCruc5lh9gHw8QgZcNLi</td>\n",
       "      <td>Falling Faster</td>\n",
       "      <td>acoustic</td>\n",
       "      <td>https://open.spotify.com/track/40zCruc5lh9gHw8...</td>\n",
       "      <td>36.0</td>\n",
       "      <td>0.0726</td>\n",
       "      <td>0.580</td>\n",
       "      <td>0.832</td>\n",
       "      <td>0.002790</td>\n",
       "      <td>0.0902</td>\n",
       "      <td>...</td>\n",
       "      <td>266173.0</td>\n",
       "      <td>5.0</td>\n",
       "      <td>-6.180</td>\n",
       "      <td>1.0</td>\n",
       "      <td>121.994</td>\n",
       "      <td>0.676</td>\n",
       "      <td>79.0</td>\n",
       "      <td>2015-10-16</td>\n",
       "      <td>0.0</td>\n",
       "      <td>2</td>\n",
       "    </tr>\n",
       "    <tr>\n",
       "      <th>3</th>\n",
       "      <td>6gvlSiOrZQ4tIWquhRTC2W</td>\n",
       "      <td>Don't Cry For Me</td>\n",
       "      <td>acoustic</td>\n",
       "      <td>https://open.spotify.com/track/6gvlSiOrZQ4tIWq...</td>\n",
       "      <td>35.0</td>\n",
       "      <td>0.1130</td>\n",
       "      <td>0.703</td>\n",
       "      <td>0.651</td>\n",
       "      <td>0.000002</td>\n",
       "      <td>0.2220</td>\n",
       "      <td>...</td>\n",
       "      <td>182826.0</td>\n",
       "      <td>0.0</td>\n",
       "      <td>-5.758</td>\n",
       "      <td>0.0</td>\n",
       "      <td>149.943</td>\n",
       "      <td>0.338</td>\n",
       "      <td>79.0</td>\n",
       "      <td>2018-05-04</td>\n",
       "      <td>0.0</td>\n",
       "      <td>3</td>\n",
       "    </tr>\n",
       "    <tr>\n",
       "      <th>4</th>\n",
       "      <td>0mD8Oey9zR0TR8XyiOx3NO</td>\n",
       "      <td>Nothing More (feat. Lily Costner)</td>\n",
       "      <td>acoustic</td>\n",
       "      <td>https://open.spotify.com/track/0mD8Oey9zR0TR8X...</td>\n",
       "      <td>37.0</td>\n",
       "      <td>0.0589</td>\n",
       "      <td>0.498</td>\n",
       "      <td>0.599</td>\n",
       "      <td>0.000000</td>\n",
       "      <td>0.1170</td>\n",
       "      <td>...</td>\n",
       "      <td>200960.0</td>\n",
       "      <td>0.0</td>\n",
       "      <td>-4.723</td>\n",
       "      <td>1.0</td>\n",
       "      <td>88.068</td>\n",
       "      <td>0.222</td>\n",
       "      <td>79.0</td>\n",
       "      <td>2013-09-30</td>\n",
       "      <td>0.0</td>\n",
       "      <td>4</td>\n",
       "    </tr>\n",
       "  </tbody>\n",
       "</table>\n",
       "<p>5 rows × 21 columns</p>\n",
       "</div>"
      ],
      "text/plain": [
       "                       id                               name     genre  \\\n",
       "0  3d3LHam2Lc5ADEyJxG3fXE                Thinking 'Bout Love  acoustic   \n",
       "1  62h7AycdIWjq6uYWC0LBht                              River  acoustic   \n",
       "2  40zCruc5lh9gHw8QgZcNLi                     Falling Faster  acoustic   \n",
       "3  6gvlSiOrZQ4tIWquhRTC2W                   Don't Cry For Me  acoustic   \n",
       "4  0mD8Oey9zR0TR8XyiOx3NO  Nothing More (feat. Lily Costner)  acoustic   \n",
       "\n",
       "                                                 url  popularity  \\\n",
       "0  https://open.spotify.com/track/3d3LHam2Lc5ADEy...        61.0   \n",
       "1  https://open.spotify.com/track/62h7AycdIWjq6uY...        40.0   \n",
       "2  https://open.spotify.com/track/40zCruc5lh9gHw8...        36.0   \n",
       "3  https://open.spotify.com/track/6gvlSiOrZQ4tIWq...        35.0   \n",
       "4  https://open.spotify.com/track/0mD8Oey9zR0TR8X...        37.0   \n",
       "\n",
       "   acousticness  danceability  energy  instrumentalness  liveness  ...  \\\n",
       "0        0.4870         0.732   0.328          0.000000    0.0677  ...   \n",
       "1        0.6150         0.322   0.265          0.000313    0.1000  ...   \n",
       "2        0.0726         0.580   0.832          0.002790    0.0902  ...   \n",
       "3        0.1130         0.703   0.651          0.000002    0.2220  ...   \n",
       "4        0.0589         0.498   0.599          0.000000    0.1170  ...   \n",
       "\n",
       "   duration_ms  key  loudness  mode    tempo  valence  available_market  \\\n",
       "0     199391.0  5.0    -8.130   1.0  141.789    0.385              79.0   \n",
       "1     323591.0  6.0   -12.899   1.0  176.398    0.236              77.0   \n",
       "2     266173.0  5.0    -6.180   1.0  121.994    0.676              79.0   \n",
       "3     182826.0  0.0    -5.758   0.0  149.943    0.338              79.0   \n",
       "4     200960.0  0.0    -4.723   1.0   88.068    0.222              79.0   \n",
       "\n",
       "   release_date explicit  idx  \n",
       "0    2020-05-01      0.0    0  \n",
       "1    2019-03-08      0.0    1  \n",
       "2    2015-10-16      0.0    2  \n",
       "3    2018-05-04      0.0    3  \n",
       "4    2013-09-30      0.0    4  \n",
       "\n",
       "[5 rows x 21 columns]"
      ]
     },
     "metadata": {},
     "output_type": "display_data"
    }
   ],
   "source": [
    "data = pd.read_csv('example.csv', encoding=\"utf-8\", index_col=False)\n",
    "duplicates = data['id'].value_counts()[data['id'].value_counts() > 1].index\n",
    "tmp = data.loc[[n in duplicates for n in data['id']]]\n",
    "tmp = tmp.sort_values(by=['id', 'idx'])\n",
    "\n",
    "random.seed(113)\n",
    "n = len(tmp['id'].unique())\n",
    "for i, ID in enumerate(tmp['id'].unique()):\n",
    "    print(f'[{i+1}/{n}]', end='\\r')\n",
    "    remove = tmp[tmp['id'] == ID]['idx'].values\n",
    "    leave = random.randint(0, len(tmp[tmp['id'] == ID])-1)\n",
    "    remove = np.delete(remove, leave)\n",
    "    data = data[[i not in remove for i in data['idx']]]\n",
    "print('Head of data:')\n",
    "display(data.head())"
   ]
  },
  {
   "cell_type": "code",
   "execution_count": 24,
   "metadata": {},
   "outputs": [],
   "source": [
    "data.to_csv('example_no_duplicate.csv', encoding=\"utf-8\", index=False)"
   ]
  },
  {
   "cell_type": "markdown",
   "metadata": {},
   "source": [
    "<font face=\"微軟正黑體\">\n",
    "    接著，我們發現 2020 年 5 月份以後的熱門度普遍偏低，且分布呈現 right-skewed，有可能是因為 Spotify 使用歌曲的總播放數與近期播放數衡量它的熱門程度，導致新出的歌曲熱門度不高，如下：\n",
    "</font>"
   ]
  },
  {
   "cell_type": "code",
   "execution_count": 46,
   "metadata": {},
   "outputs": [
    {
     "data": {
      "image/png": "[encoded data removed]",
      "text/plain": [
       "<Figure size 432x288 with 1 Axes>"
      ]
     },
     "metadata": {},
     "output_type": "display_data"
    },
    {
     "data": {
      "image/png": "[encoded data removed]",
      "text/plain": [
       "<Figure size 1152x288 with 2 Axes>"
      ]
     },
     "metadata": {},
     "output_type": "display_data"
    }
   ],
   "source": [
    "data = pd.read_csv('example_no_duplicate.csv', encoding=\"utf-8\", index_col=False)\n",
    "data['popularity'].hist()\n",
    "plt.title('Popularity All the Time')\n",
    "plt.xlabel('Popularity')\n",
    "plt.ylabel('Frequency')\n",
    "plt.show()\n",
    "\n",
    "fig, axs = plt.subplots(1, 2, figsize=(16, 4))\n",
    "data.loc[np.array([d < '2020-05' for d in data['release_date']]), 'popularity'].hist(ax=axs[0])\n",
    "axs[0].set_title('Popularity Before May, 2020')\n",
    "axs[0].set_xlabel('Popularity')\n",
    "axs[0].set_ylabel('Frequency')\n",
    "data.loc[np.array([d >= '2020-05' for d in data['release_date']]), 'popularity'].hist(ax=axs[1])\n",
    "axs[1].set_title('Popularity After May, 2020')\n",
    "axs[1].set_xlabel('Popularity')\n",
    "axs[1].set_ylabel('Frequency')\n",
    "plt.show()"
   ]
  },
  {
   "cell_type": "markdown",
   "metadata": {},
   "source": [
    "<font face=\"微軟正黑體\">\n",
    "    基於以上因素，我們認為 2020 年 5 月以後歌曲的熱門程度可能沒辦法代表這首歌真實的熱門度，因此我們選擇將這些歌曲移除，並檢查移除後每個歌曲類型剩下的歌曲數\n",
    "</font>"
   ]
  },
  {
   "cell_type": "code",
   "execution_count": 48,
   "metadata": {},
   "outputs": [
    {
     "data": {
      "text/plain": [
       "goth                 100\n",
       "grindcore            100\n",
       "show-tunes           100\n",
       "kids                 100\n",
       "gospel                99\n",
       "trip-hop              99\n",
       "j-rock                99\n",
       "disney                99\n",
       "comedy                98\n",
       "iranian               98\n",
       "heavy-metal           98\n",
       "j-idol                98\n",
       "mandopop              97\n",
       "breakbeat             97\n",
       "club                  97\n",
       "ambient               97\n",
       "detroit-techno        97\n",
       "new-age               97\n",
       "sleep                 97\n",
       "romance               97\n",
       "honky-tonk            97\n",
       "bluegrass             97\n",
       "cantopop              97\n",
       "rockabilly            97\n",
       "hardcore              96\n",
       "idm                   96\n",
       "industrial            96\n",
       "ska                   96\n",
       "afrobeat              96\n",
       "dub                   96\n",
       "malay                 96\n",
       "children              96\n",
       "piano                 95\n",
       "chicago-house         95\n",
       "tango                 95\n",
       "j-dance               95\n",
       "singer-songwriter     95\n",
       "anime                 95\n",
       "dubstep               94\n",
       "drum-and-bass         94\n",
       "happy                 94\n",
       "country               93\n",
       "power-pop             93\n",
       "garage                93\n",
       "swedish               92\n",
       "world-music           92\n",
       "blues                 92\n",
       "french                92\n",
       "k-pop                 92\n",
       "turkish               92\n",
       "j-pop                 92\n",
       "pop                   92\n",
       "songwriter            92\n",
       "rock-n-roll           92\n",
       "sertanejo             92\n",
       "hardstyle             91\n",
       "minimal-techno        91\n",
       "black-metal           91\n",
       "acoustic              91\n",
       "synth-pop             91\n",
       "metalcore             91\n",
       "guitar                91\n",
       "brazil                91\n",
       "salsa                 91\n",
       "hard-rock             91\n",
       "latino                91\n",
       "death-metal           90\n",
       "pop-film              90\n",
       "party                 90\n",
       "grunge                90\n",
       "soul                  90\n",
       "chill                 90\n",
       "rock                  90\n",
       "pagode                90\n",
       "reggaeton             89\n",
       "dance                 88\n",
       "emo                   88\n",
       "alt-rock              88\n",
       "jazz                  88\n",
       "forro                 88\n",
       "dancehall             88\n",
       "punk                  87\n",
       "r-n-b                 87\n",
       "psych-rock            87\n",
       "groove                87\n",
       "techno                87\n",
       "indie-pop             87\n",
       "metal                 87\n",
       "british               86\n",
       "funk                  86\n",
       "electronic            86\n",
       "samba                 86\n",
       "folk                  86\n",
       "alternative           85\n",
       "deep-house            85\n",
       "punk-rock             85\n",
       "house                 84\n",
       "disco                 84\n",
       "indie                 84\n",
       "mpb                   83\n",
       "electro               83\n",
       "progressive-house     83\n",
       "opera                 82\n",
       "spanish               82\n",
       "hip-hop               82\n",
       "indian                81\n",
       "edm                   77\n",
       "latin                 76\n",
       "reggae                74\n",
       "trance                74\n",
       "german                26\n",
       "classical              3\n",
       "Name: genre, dtype: int64"
      ]
     },
     "execution_count": 48,
     "metadata": {},
     "output_type": "execute_result"
    }
   ],
   "source": [
    "data = data.iloc[np.array(data['release_date'] < '2020-05'), :]\n",
    "data['genre'].value_counts()"
   ]
  },
  {
   "cell_type": "markdown",
   "metadata": {},
   "source": [
    "<font face=\"微軟正黑體\">\n",
    "    可以發現大多數歌曲都還有 70 首以上的歌，但是 german 與 classical 的歌只剩下 26 首與 3 首\n",
    "</font>"
   ]
  },
  {
   "cell_type": "markdown",
   "metadata": {},
   "source": [
    "<font face=\"微軟正黑體\">\n",
    "    將資料存取起來\n",
    "</font>"
   ]
  },
  {
   "cell_type": "code",
   "execution_count": 50,
   "metadata": {},
   "outputs": [],
   "source": [
    "data.to_csv('example_no_may.csv', encoding=\"utf-8\", index=False)"
   ]
  },
  {
   "cell_type": "markdown",
   "metadata": {},
   "source": [
    "### 2. **<font face=\"微軟正黑體\">欄位介紹</font>**"
   ]
  },
  {
   "cell_type": "code",
   "execution_count": 58,
   "metadata": {},
   "outputs": [],
   "source": [
    "df = pd.read_csv(\"tracks.csv\")"
   ]
  },
  {
   "cell_type": "markdown",
   "metadata": {},
   "source": [
    "- name: 歌曲名稱<br>\n",
    "- available_market: 歌曲在多少地區可以被取得<br>\n",
    "- explicit: 是否有明確的歌詞 (由提供者標示)<br>\n",
    "- genre: 歌曲種類，共 112 種 (每種各 100 首歌)<br>\n",
    "- popularity: 流行程度，數值範圍為 0到100。評分標準主要基於播放總數及近期播放數。一般來說，最近常播放的歌曲比過去常播放的歌曲有更高的流行度。<br>\n",
    "- acousticness: 原聲性，數值範圍為 0到1。1 代表有很高的信心認定這首歌是不經過電子音效處理，可以聽到最直接的樂音及人聲。<br>\n",
    "- danceability: 舞蹈性，數值範圍為 0到1。根據拍子、節奏和整體規律來決定是否適合跳舞。<br>\n",
    "- duration_ms: 歌曲長度，以毫秒為單位。<br>\n",
    "- energy: 能量，數值範圍為 0到1。代表感受上的強度與活力。一般來說，從有能量的歌曲會感受到快、大聲與嘈雜，而評分的特徵包含dynamic range、 perceived loudness, timbre, onset rate, 和general entropy。<br>\n",
    "- instrumentalness: 樂器性，數值範圍為 0到1。偵測歌曲是否沒有人聲 (哼唱算樂器，而說唱或言語則為人聲)，此數值 >0.5 即可代表純樂器，不過越接近 1 信心水準越高。<br>\n",
    "- key: 調，代表不同 standard Pitch Class notation，如 0=C, 1=C♯/D♭, 2=D，若無則為-1。<br>\n",
    "- liveness: 數值範圍為 0到1。越高代表現場演奏的可能性高，>0.8表示極有可能為現場演奏。<br>\n",
    "- loudness: 歌曲整體的響度，單位為分貝 (dB)，數值為整首歌的平均值，大部分在 -60至0。<br>\n",
    "- mode: 調式，大調為1，小調為0。<br>\n",
    "- speechiness: 言語性，數值範圍為 0到1。越接近純粹的言語 (如:脫口秀、有聲書、誦詩)，此數值越接近 1，>0.66 代表很有可能皆為言語所構成，0.33到0.66 則可能有部分為言語(如:說唱)，<0.33 為音樂或其他非言語性歌曲。<br>\n",
    "- tempo: 節奏，單位為 beats per minute (BPM)。<br>\n",
    "- valence: 正向性，數值範圍為 0到1，較高代表此音樂聽起來較為正面，較低則為負面。"
   ]
  },
  {
   "cell_type": "markdown",
   "metadata": {},
   "source": [
    "**<font face=\"微軟正黑體\">敘述統計 & 視覺化</font>**\n",
    "---"
   ]
  },
  {
   "cell_type": "markdown",
   "metadata": {},
   "source": [
    "### 1. **<font face=\"微軟正黑體\">歌曲類型選擇與熱門度觀察</font>**"
   ]
  },
  {
   "cell_type": "code",
   "execution_count": 2,
   "metadata": {},
   "outputs": [],
   "source": [
    "cato = [ 'j-pop', 'k-pop', 'hip-hop','country', 'dance', 'jazz', 'pop', 'blues']"
   ]
  },
  {
   "cell_type": "markdown",
   "metadata": {},
   "source": [
    "我們選擇了'j-pop', 'k-pop', 'hip-hop','country', 'dance', 'jazz', 'pop', 'blues'共8種歌曲類型"
   ]
  },
  {
   "cell_type": "code",
   "execution_count": 3,
   "metadata": {},
   "outputs": [
    {
     "data": {
      "image/png": "[encoded data removed]",
      "text/plain": [
       "<Figure size 432x288 with 1 Axes>"
      ]
     },
     "metadata": {
      "needs_background": "light"
     },
     "output_type": "display_data"
    },
    {
     "name": "stdout",
     "output_type": "stream",
     "text": [
      "mean of popularity  49.291666666666664\n",
      "min of popularity  39.0\n",
      "max of popularity  69.0\n",
      "standard deviation of popularity  7.346917243474037\n",
      "skewness of popularity  0.6929780661163695\n",
      "kurtosis of popularity  -0.4024851529691178\n"
     ]
    },
    {
     "data": {
      "image/png": "[encoded data removed]",
      "text/plain": [
       "<Figure size 432x288 with 1 Axes>"
      ]
     },
     "metadata": {
      "needs_background": "light"
     },
     "output_type": "display_data"
    },
    {
     "name": "stdout",
     "output_type": "stream",
     "text": [
      "mean of popularity  57.54255319148936\n",
      "min of popularity  47.0\n",
      "max of popularity  77.0\n",
      "standard deviation of popularity  6.559348403281751\n",
      "skewness of popularity  0.7978654828632658\n",
      "kurtosis of popularity  0.423048458697024\n"
     ]
    },
    {
     "data": {
      "image/png": "[encoded data removed]",
      "text/plain": [
       "<Figure size 432x288 with 1 Axes>"
      ]
     },
     "metadata": {
      "needs_background": "light"
     },
     "output_type": "display_data"
    },
    {
     "name": "stdout",
     "output_type": "stream",
     "text": [
      "mean of popularity  68.9125\n",
      "min of popularity  60.0\n",
      "max of popularity  86.0\n",
      "standard deviation of popularity  5.774658190333854\n",
      "skewness of popularity  0.8799568929287541\n",
      "kurtosis of popularity  0.45772898318637845\n"
     ]
    },
    {
     "data": {
      "image/png": "[encoded data removed]",
      "text/plain": [
       "<Figure size 432x288 with 1 Axes>"
      ]
     },
     "metadata": {
      "needs_background": "light"
     },
     "output_type": "display_data"
    },
    {
     "name": "stdout",
     "output_type": "stream",
     "text": [
      "mean of popularity  61.989583333333336\n",
      "min of popularity  54.0\n",
      "max of popularity  82.0\n",
      "standard deviation of popularity  6.072361530854658\n",
      "skewness of popularity  0.9170206175208505\n",
      "kurtosis of popularity  0.34562439793597965\n"
     ]
    },
    {
     "data": {
      "image/png": "[encoded data removed]",
      "text/plain": [
       "<Figure size 432x288 with 1 Axes>"
      ]
     },
     "metadata": {
      "needs_background": "light"
     },
     "output_type": "display_data"
    },
    {
     "name": "stdout",
     "output_type": "stream",
     "text": [
      "mean of popularity  69.23333333333333\n",
      "min of popularity  57.0\n",
      "max of popularity  89.0\n",
      "standard deviation of popularity  6.14625125538991\n",
      "skewness of popularity  0.5013524717490567\n",
      "kurtosis of popularity  0.6098109940109495\n"
     ]
    },
    {
     "data": {
      "image/png": "[encoded data removed]",
      "text/plain": [
       "<Figure size 432x288 with 1 Axes>"
      ]
     },
     "metadata": {
      "needs_background": "light"
     },
     "output_type": "display_data"
    },
    {
     "name": "stdout",
     "output_type": "stream",
     "text": [
      "mean of popularity  51.45918367346939\n",
      "min of popularity  39.0\n",
      "max of popularity  65.0\n",
      "standard deviation of popularity  5.133613440414755\n",
      "skewness of popularity  0.25965050179938787\n",
      "kurtosis of popularity  0.0816017783148899\n"
     ]
    },
    {
     "data": {
      "image/png": "[encoded data removed]",
      "text/plain": [
       "<Figure size 432x288 with 1 Axes>"
      ]
     },
     "metadata": {
      "needs_background": "light"
     },
     "output_type": "display_data"
    },
    {
     "name": "stdout",
     "output_type": "stream",
     "text": [
      "mean of popularity  74.19318181818181\n",
      "min of popularity  66.0\n",
      "max of popularity  94.0\n",
      "standard deviation of popularity  5.014594686972034\n",
      "skewness of popularity  1.3484128528030743\n",
      "kurtosis of popularity  2.8739840419693037\n"
     ]
    },
    {
     "data": {
      "image/png": "[encoded data removed]",
      "text/plain": [
       "<Figure size 432x288 with 1 Axes>"
      ]
     },
     "metadata": {
      "needs_background": "light"
     },
     "output_type": "display_data"
    },
    {
     "name": "stdout",
     "output_type": "stream",
     "text": [
      "mean of popularity  51.34065934065934\n",
      "min of popularity  38.0\n",
      "max of popularity  74.0\n",
      "standard deviation of popularity  7.820514021497537\n",
      "skewness of popularity  1.0877268284029413\n",
      "kurtosis of popularity  0.9821078346370067\n"
     ]
    }
   ],
   "source": [
    "data_collect = pd.DataFrame(columns=df.columns) \n",
    "\n",
    "for i in range(0,len(cato)):\n",
    "    data_cato = df[df['genre'] == cato[i]]\n",
    "    #display(data_cato.head())\n",
    "        \n",
    "    #作圖，繪出popularity散佈圖\n",
    "    plt.hist(data_cato['popularity'],bins = 10) \n",
    "    plt.xlabel(\"popularity\")\n",
    "    plt.ylabel(\"numbers of song\")\n",
    "    title = \"popularity distribution for \"+cato[i]\n",
    "    plt.title(title)\n",
    "    plt.show()\n",
    "    \n",
    "    mean = data_cato['popularity'].mean()\n",
    "    minimum = min(data_cato['popularity'])\n",
    "    maximum = max(data_cato['popularity'])\n",
    "    kurtosis = stats.kurtosis(data_cato['popularity'].values)\n",
    "    skewness = stats.skew(data_cato['popularity'].values)\n",
    "    std = data_cato['popularity'].std()\n",
    "    \n",
    "\n",
    "    print(\"mean of popularity \",mean)\n",
    "    print(\"min of popularity \",minimum)\n",
    "    print(\"max of popularity \",maximum)\n",
    "    print(\"standard deviation of popularity \",std)\n",
    "    print(\"skewness of popularity \",skewness)\n",
    "    print(\"kurtosis of popularity \",kurtosis)\n",
    "    \n",
    "    data_collect = pd.concat([data_collect,data_cato])\n",
    "    \n",
    "# 看每種歌曲的popularity相關資料\n",
    "summary = data_collect[['popularity','genre']].groupby('genre').describe()"
   ]
  },
  {
   "cell_type": "code",
   "execution_count": 4,
   "metadata": {},
   "outputs": [
    {
     "data": {
      "text/html": [
       "<div>\n",
       "<style scoped>\n",
       "    .dataframe tbody tr th:only-of-type {\n",
       "        vertical-align: middle;\n",
       "    }\n",
       "\n",
       "    .dataframe tbody tr th {\n",
       "        vertical-align: top;\n",
       "    }\n",
       "\n",
       "    .dataframe thead tr th {\n",
       "        text-align: left;\n",
       "    }\n",
       "\n",
       "    .dataframe thead tr:last-of-type th {\n",
       "        text-align: right;\n",
       "    }\n",
       "</style>\n",
       "<table border=\"1\" class=\"dataframe\">\n",
       "  <thead>\n",
       "    <tr>\n",
       "      <th></th>\n",
       "      <th colspan=\"8\" halign=\"left\">popularity</th>\n",
       "    </tr>\n",
       "    <tr>\n",
       "      <th></th>\n",
       "      <th>count</th>\n",
       "      <th>mean</th>\n",
       "      <th>std</th>\n",
       "      <th>min</th>\n",
       "      <th>25%</th>\n",
       "      <th>50%</th>\n",
       "      <th>75%</th>\n",
       "      <th>max</th>\n",
       "    </tr>\n",
       "    <tr>\n",
       "      <th>genre</th>\n",
       "      <th></th>\n",
       "      <th></th>\n",
       "      <th></th>\n",
       "      <th></th>\n",
       "      <th></th>\n",
       "      <th></th>\n",
       "      <th></th>\n",
       "      <th></th>\n",
       "    </tr>\n",
       "  </thead>\n",
       "  <tbody>\n",
       "    <tr>\n",
       "      <td>blues</td>\n",
       "      <td>91.0</td>\n",
       "      <td>51.340659</td>\n",
       "      <td>7.820514</td>\n",
       "      <td>38.0</td>\n",
       "      <td>46.00</td>\n",
       "      <td>50.0</td>\n",
       "      <td>55.0</td>\n",
       "      <td>74.0</td>\n",
       "    </tr>\n",
       "    <tr>\n",
       "      <td>country</td>\n",
       "      <td>96.0</td>\n",
       "      <td>61.989583</td>\n",
       "      <td>6.072362</td>\n",
       "      <td>54.0</td>\n",
       "      <td>58.00</td>\n",
       "      <td>61.0</td>\n",
       "      <td>66.0</td>\n",
       "      <td>82.0</td>\n",
       "    </tr>\n",
       "    <tr>\n",
       "      <td>dance</td>\n",
       "      <td>90.0</td>\n",
       "      <td>69.233333</td>\n",
       "      <td>6.146251</td>\n",
       "      <td>57.0</td>\n",
       "      <td>65.00</td>\n",
       "      <td>69.0</td>\n",
       "      <td>73.0</td>\n",
       "      <td>89.0</td>\n",
       "    </tr>\n",
       "    <tr>\n",
       "      <td>hip-hop</td>\n",
       "      <td>80.0</td>\n",
       "      <td>68.912500</td>\n",
       "      <td>5.774658</td>\n",
       "      <td>60.0</td>\n",
       "      <td>64.75</td>\n",
       "      <td>68.0</td>\n",
       "      <td>72.0</td>\n",
       "      <td>86.0</td>\n",
       "    </tr>\n",
       "    <tr>\n",
       "      <td>j-pop</td>\n",
       "      <td>96.0</td>\n",
       "      <td>49.291667</td>\n",
       "      <td>7.346917</td>\n",
       "      <td>39.0</td>\n",
       "      <td>44.00</td>\n",
       "      <td>47.5</td>\n",
       "      <td>55.0</td>\n",
       "      <td>69.0</td>\n",
       "    </tr>\n",
       "    <tr>\n",
       "      <td>jazz</td>\n",
       "      <td>98.0</td>\n",
       "      <td>51.459184</td>\n",
       "      <td>5.133613</td>\n",
       "      <td>39.0</td>\n",
       "      <td>48.00</td>\n",
       "      <td>51.0</td>\n",
       "      <td>55.0</td>\n",
       "      <td>65.0</td>\n",
       "    </tr>\n",
       "    <tr>\n",
       "      <td>k-pop</td>\n",
       "      <td>94.0</td>\n",
       "      <td>57.542553</td>\n",
       "      <td>6.559348</td>\n",
       "      <td>47.0</td>\n",
       "      <td>52.00</td>\n",
       "      <td>57.0</td>\n",
       "      <td>61.0</td>\n",
       "      <td>77.0</td>\n",
       "    </tr>\n",
       "    <tr>\n",
       "      <td>pop</td>\n",
       "      <td>88.0</td>\n",
       "      <td>74.193182</td>\n",
       "      <td>5.014595</td>\n",
       "      <td>66.0</td>\n",
       "      <td>71.00</td>\n",
       "      <td>73.0</td>\n",
       "      <td>77.0</td>\n",
       "      <td>94.0</td>\n",
       "    </tr>\n",
       "  </tbody>\n",
       "</table>\n",
       "</div>"
      ],
      "text/plain": [
       "        popularity                                                    \n",
       "             count       mean       std   min    25%   50%   75%   max\n",
       "genre                                                                 \n",
       "blues         91.0  51.340659  7.820514  38.0  46.00  50.0  55.0  74.0\n",
       "country       96.0  61.989583  6.072362  54.0  58.00  61.0  66.0  82.0\n",
       "dance         90.0  69.233333  6.146251  57.0  65.00  69.0  73.0  89.0\n",
       "hip-hop       80.0  68.912500  5.774658  60.0  64.75  68.0  72.0  86.0\n",
       "j-pop         96.0  49.291667  7.346917  39.0  44.00  47.5  55.0  69.0\n",
       "jazz          98.0  51.459184  5.133613  39.0  48.00  51.0  55.0  65.0\n",
       "k-pop         94.0  57.542553  6.559348  47.0  52.00  57.0  61.0  77.0\n",
       "pop           88.0  74.193182  5.014595  66.0  71.00  73.0  77.0  94.0"
      ]
     },
     "execution_count": 4,
     "metadata": {},
     "output_type": "execute_result"
    }
   ],
   "source": [
    "summary"
   ]
  },
  {
   "cell_type": "markdown",
   "metadata": {},
   "source": [
    "### 2.1 觀察每個歌曲類型的熱門程度平均數"
   ]
  },
  {
   "cell_type": "code",
   "execution_count": 5,
   "metadata": {},
   "outputs": [
    {
     "name": "stdout",
     "output_type": "stream",
     "text": [
      "genre\n",
      "j-pop      49.291667\n",
      "blues      51.340659\n",
      "jazz       51.459184\n",
      "k-pop      57.542553\n",
      "country    61.989583\n",
      "hip-hop    68.912500\n",
      "dance      69.233333\n",
      "pop        74.193182\n",
      "Name: (popularity, mean), dtype: float64\n"
     ]
    }
   ],
   "source": [
    "data_mean = summary.iloc[:,1] #取mean欄位\n",
    "data_mean = data_mean.sort_values() #由小到大排序\n",
    "print(data_mean)"
   ]
  },
  {
   "cell_type": "markdown",
   "metadata": {},
   "source": [
    "我們發現pop的平均熱門程度最高，j-pop最低。這個結果顯示各分類的熱門程度的平均數有明顯的差異，而不同分類的歌曲在各項特性會有差異，這讓我們好奇不同的特性會對歌曲的熱門程度造成什麼影響"
   ]
  },
  {
   "cell_type": "markdown",
   "metadata": {},
   "source": [
    "### 2.2 觀察每個歌曲類型的熱門程度標準差"
   ]
  },
  {
   "cell_type": "code",
   "execution_count": 6,
   "metadata": {},
   "outputs": [
    {
     "name": "stdout",
     "output_type": "stream",
     "text": [
      "genre\n",
      "pop        5.014595\n",
      "jazz       5.133613\n",
      "hip-hop    5.774658\n",
      "country    6.072362\n",
      "dance      6.146251\n",
      "k-pop      6.559348\n",
      "j-pop      7.346917\n",
      "blues      7.820514\n",
      "Name: (popularity, std), dtype: float64\n"
     ]
    }
   ],
   "source": [
    "data_std = summary.iloc[:,2] #取std欄位\n",
    "data_std = data_std.sort_values() #由小到大排序\n",
    "print(data_std)"
   ]
  },
  {
   "cell_type": "markdown",
   "metadata": {},
   "source": [
    "我們發現pop的標準差最低，blues最高，這邊有一個十分有趣的現象，先前mean較高的歌曲類型通常會有較低的標準差"
   ]
  },
  {
   "cell_type": "markdown",
   "metadata": {},
   "source": [
    "### 2.3 skewness and kurtosis"
   ]
  },
  {
   "cell_type": "markdown",
   "metadata": {},
   "source": [
    "我們發現大部分的歌曲類型的熱門程度分佈都具備right-skewed的性質，而在kurtosis方面，只有pop超過1和blues接近1，顯示他們的分佈較為集中"
   ]
  },
  {
   "cell_type": "markdown",
   "metadata": {},
   "source": [
    "### 2.4 檢查Outliers"
   ]
  },
  {
   "cell_type": "code",
   "execution_count": 7,
   "metadata": {},
   "outputs": [
    {
     "data": {
      "image/png": "[encoded data removed]",
      "text/plain": [
       "<Figure size 720x2880 with 8 Axes>"
      ]
     },
     "metadata": {
      "needs_background": "light"
     },
     "output_type": "display_data"
    }
   ],
   "source": [
    "fig, axs = plt.subplots(int(len(cato)/2), 2, figsize=(10,40))\n",
    "\n",
    "for i in range(0,len(cato)):\n",
    "    data_cato = df[df['genre'] == cato[i]]\n",
    "    #display(data_cato.head())\n",
    "    \n",
    "    #作圖，繪出popularity盒狀圖\n",
    "    #data_cato['popularity'].plot(kind=\"box\")\n",
    "    axs[int(i/2), i%2].boxplot(data_cato['popularity'])\n",
    "    title = \"boxplot for \"+cato[i]\n",
    "    axs[int(i/2), i%2].set_title(title)\n",
    "\n",
    "plt.show()"
   ]
  },
  {
   "cell_type": "markdown",
   "metadata": {},
   "source": [
    "從各個歌曲分類的boxplot來看，outliers並不多"
   ]
  },
  {
   "cell_type": "markdown",
   "metadata": {},
   "source": [
    "**<font face=\"微軟正黑體\">迴歸分析</font>**\n",
    "---"
   ]
  },
  {
   "cell_type": "markdown",
   "metadata": {},
   "source": [
    "使用 forward selection"
   ]
  },
  {
   "cell_type": "code",
   "execution_count": 194,
   "metadata": {},
   "outputs": [],
   "source": [
    "def forward_selection(input_df, depv=\"y\", indepv = [\"x1\"]):\n",
    "    selected = []\n",
    "    candidates = indepv.copy()\n",
    "\n",
    "    best_adjr2 = -1\n",
    "    best_subset = []\n",
    "\n",
    "    while len(candidates) > 0:\n",
    "        #print(\"Current Candidates: \", candidates)\n",
    "        tmp_indep_subset = []\n",
    "        tmp_model_adjr = []\n",
    "        tmp_model_nindep = []\n",
    "\n",
    "        for acandidate in candidates:\n",
    "            tmplist = selected.copy()\n",
    "            tmplist.append(acandidate)\n",
    "            modelstr = depv + \" ~ \" + \"+\".join(tmplist)\n",
    "            result6tmp = smf.ols(modelstr, data=input_df).fit()\n",
    "            #print(df18_result6tmp.summary())\n",
    "            tmp_indep_subset.append(tmplist)\n",
    "            tmp_model_adjr.append(result6tmp.rsquared_adj)\n",
    "            tmp_model_nindep.append(len(tmplist))\n",
    "        \n",
    "        #find the best element\n",
    "        tmp_adjr2 = np.array(tmp_model_adjr)\n",
    "        tmpind = tmp_adjr2.argmax()\n",
    "        this_adjr2 = tmp_adjr2[tmpind]\n",
    "        selected = tmp_indep_subset[tmpind]\n",
    "\n",
    "        if this_adjr2 <= 0:\n",
    "            raise(\"Encounterd negative Adj R2. Stop.\")\n",
    "            \n",
    "        #print(\"Current best model: \", selected)\n",
    "        print(f\"\\rCurrent best AdjR2: {this_adjr2} / Best AdjR2: {best_adjr2}\", end='')\n",
    "\n",
    "\n",
    "        if this_adjr2 > best_adjr2:\n",
    "            #print(\" best result updated\")\n",
    "            best_adjr2 = this_adjr2\n",
    "            best_subset = selected\n",
    "\n",
    "\n",
    "        candidates = set(candidates) - set(selected)\n",
    "        candidates = list(candidates)\n",
    "\n",
    "    #print out the best result\n",
    "    print(\"\\rbest_adjr2 = \", best_adjr2)\n",
    "    print(\"best_subset = \", best_subset)\n",
    "\n",
    "    #run the best model again\n",
    "    modelstr = depv + \" ~ \" + \"+\".join(best_subset)\n",
    "    result6b = smf.ols(modelstr, data=input_df).fit()\n",
    "    print(result6b.summary())"
   ]
  },
  {
   "cell_type": "code",
   "execution_count": 188,
   "metadata": {},
   "outputs": [],
   "source": [
    "cato = ['j-pop', 'k-pop', 'hip-hop', 'country', 'dance', 'jazz', 'pop', 'blues']\n",
    "df = df.iloc[[g in cato for g in df['genre']],:]"
   ]
  },
  {
   "cell_type": "markdown",
   "metadata": {},
   "source": [
    "考慮多元共線性問題"
   ]
  },
  {
   "cell_type": "code",
   "execution_count": 198,
   "metadata": {},
   "outputs": [
    {
     "name": "stderr",
     "output_type": "stream",
     "text": [
      "C:\\Users\\ray\\Anaconda3\\lib\\site-packages\\pandas\\core\\computation\\expressions.py:180: UserWarning: evaluating in Python space because the '*' operator is not supported by numexpr for the bool dtype, use '&' instead\n",
      "  .format(op=op_str, alt_op=unsupported[op_str]))\n"
     ]
    },
    {
     "data": {
      "text/plain": [
       "<matplotlib.axes._subplots.AxesSubplot at 0x20e64d5cb70>"
      ]
     },
     "execution_count": 198,
     "metadata": {},
     "output_type": "execute_result"
    },
    {
     "data": {
      "image/png": "[encoded data removed]",
      "text/plain": [
       "<Figure size 432x288 with 2 Axes>"
      ]
     },
     "metadata": {
      "needs_background": "light"
     },
     "output_type": "display_data"
    }
   ],
   "source": [
    "corr = np.sort(np.abs(df.corr()).values.reshape(-1))\n",
    "sns.heatmap((np.abs(df.corr()) >= .75) * (np.abs(df.corr()) < 1))"
   ]
  },
  {
   "cell_type": "markdown",
   "metadata": {},
   "source": [
    "選擇 loudness，去除 energy"
   ]
  },
  {
   "cell_type": "markdown",
   "metadata": {},
   "source": [
    "## 1. 考慮歌曲特性"
   ]
  },
  {
   "cell_type": "code",
   "execution_count": 191,
   "metadata": {},
   "outputs": [
    {
     "data": {
      "text/html": [
       "<div>\n",
       "<style scoped>\n",
       "    .dataframe tbody tr th:only-of-type {\n",
       "        vertical-align: middle;\n",
       "    }\n",
       "\n",
       "    .dataframe tbody tr th {\n",
       "        vertical-align: top;\n",
       "    }\n",
       "\n",
       "    .dataframe thead th {\n",
       "        text-align: right;\n",
       "    }\n",
       "</style>\n",
       "<table border=\"1\" class=\"dataframe\">\n",
       "  <thead>\n",
       "    <tr style=\"text-align: right;\">\n",
       "      <th></th>\n",
       "      <th>Unnamed: 0</th>\n",
       "      <th>id</th>\n",
       "      <th>name</th>\n",
       "      <th>genre</th>\n",
       "      <th>url</th>\n",
       "      <th>popularity</th>\n",
       "      <th>acousticness</th>\n",
       "      <th>danceability</th>\n",
       "      <th>energy</th>\n",
       "      <th>instrumentalness</th>\n",
       "      <th>...</th>\n",
       "      <th>key__2.0</th>\n",
       "      <th>key__3.0</th>\n",
       "      <th>key__4.0</th>\n",
       "      <th>key__5.0</th>\n",
       "      <th>key__6.0</th>\n",
       "      <th>key__7.0</th>\n",
       "      <th>key__8.0</th>\n",
       "      <th>key__9.0</th>\n",
       "      <th>key__10.0</th>\n",
       "      <th>key__11.0</th>\n",
       "    </tr>\n",
       "  </thead>\n",
       "  <tbody>\n",
       "    <tr>\n",
       "      <th>757</th>\n",
       "      <td>778</td>\n",
       "      <td>36KStm44i8gAqnQkm3PY9c</td>\n",
       "      <td>Undecided</td>\n",
       "      <td>blues</td>\n",
       "      <td>https://open.spotify.com/track/36KStm44i8gAqnQ...</td>\n",
       "      <td>52.0</td>\n",
       "      <td>0.88900</td>\n",
       "      <td>0.701</td>\n",
       "      <td>0.296</td>\n",
       "      <td>0.000002</td>\n",
       "      <td>...</td>\n",
       "      <td>0</td>\n",
       "      <td>0</td>\n",
       "      <td>1</td>\n",
       "      <td>0</td>\n",
       "      <td>0</td>\n",
       "      <td>0</td>\n",
       "      <td>0</td>\n",
       "      <td>0</td>\n",
       "      <td>0</td>\n",
       "      <td>0</td>\n",
       "    </tr>\n",
       "    <tr>\n",
       "      <th>758</th>\n",
       "      <td>779</td>\n",
       "      <td>7cy1bEJV6FCtDaYpsk8aG6</td>\n",
       "      <td>China Grove</td>\n",
       "      <td>blues</td>\n",
       "      <td>https://open.spotify.com/track/7cy1bEJV6FCtDaY...</td>\n",
       "      <td>68.0</td>\n",
       "      <td>0.31900</td>\n",
       "      <td>0.623</td>\n",
       "      <td>0.910</td>\n",
       "      <td>0.000448</td>\n",
       "      <td>...</td>\n",
       "      <td>0</td>\n",
       "      <td>0</td>\n",
       "      <td>0</td>\n",
       "      <td>0</td>\n",
       "      <td>0</td>\n",
       "      <td>0</td>\n",
       "      <td>0</td>\n",
       "      <td>1</td>\n",
       "      <td>0</td>\n",
       "      <td>0</td>\n",
       "    </tr>\n",
       "    <tr>\n",
       "      <th>759</th>\n",
       "      <td>780</td>\n",
       "      <td>0l4mKN097GpgeBGaoVQ1wh</td>\n",
       "      <td>Let Go Of Your Plans</td>\n",
       "      <td>blues</td>\n",
       "      <td>https://open.spotify.com/track/0l4mKN097GpgeBG...</td>\n",
       "      <td>44.0</td>\n",
       "      <td>0.02570</td>\n",
       "      <td>0.459</td>\n",
       "      <td>0.494</td>\n",
       "      <td>0.000000</td>\n",
       "      <td>...</td>\n",
       "      <td>0</td>\n",
       "      <td>0</td>\n",
       "      <td>0</td>\n",
       "      <td>0</td>\n",
       "      <td>0</td>\n",
       "      <td>0</td>\n",
       "      <td>0</td>\n",
       "      <td>0</td>\n",
       "      <td>0</td>\n",
       "      <td>1</td>\n",
       "    </tr>\n",
       "    <tr>\n",
       "      <th>760</th>\n",
       "      <td>781</td>\n",
       "      <td>3VyJPsb2ucaaVptLSDpJNH</td>\n",
       "      <td>I Love You</td>\n",
       "      <td>blues</td>\n",
       "      <td>https://open.spotify.com/track/3VyJPsb2ucaaVpt...</td>\n",
       "      <td>51.0</td>\n",
       "      <td>0.60800</td>\n",
       "      <td>0.559</td>\n",
       "      <td>0.446</td>\n",
       "      <td>0.000131</td>\n",
       "      <td>...</td>\n",
       "      <td>0</td>\n",
       "      <td>0</td>\n",
       "      <td>0</td>\n",
       "      <td>0</td>\n",
       "      <td>0</td>\n",
       "      <td>0</td>\n",
       "      <td>0</td>\n",
       "      <td>0</td>\n",
       "      <td>1</td>\n",
       "      <td>0</td>\n",
       "    </tr>\n",
       "    <tr>\n",
       "      <th>761</th>\n",
       "      <td>782</td>\n",
       "      <td>5aYVqxyetmT5OYmvZCA90X</td>\n",
       "      <td>Slow Ride</td>\n",
       "      <td>blues</td>\n",
       "      <td>https://open.spotify.com/track/5aYVqxyetmT5OYm...</td>\n",
       "      <td>56.0</td>\n",
       "      <td>0.00608</td>\n",
       "      <td>0.449</td>\n",
       "      <td>0.642</td>\n",
       "      <td>0.007070</td>\n",
       "      <td>...</td>\n",
       "      <td>1</td>\n",
       "      <td>0</td>\n",
       "      <td>0</td>\n",
       "      <td>0</td>\n",
       "      <td>0</td>\n",
       "      <td>0</td>\n",
       "      <td>0</td>\n",
       "      <td>0</td>\n",
       "      <td>0</td>\n",
       "      <td>0</td>\n",
       "    </tr>\n",
       "  </tbody>\n",
       "</table>\n",
       "<p>5 rows × 34 columns</p>\n",
       "</div>"
      ],
      "text/plain": [
       "     Unnamed: 0                      id                  name  genre  \\\n",
       "757         778  36KStm44i8gAqnQkm3PY9c             Undecided  blues   \n",
       "758         779  7cy1bEJV6FCtDaYpsk8aG6           China Grove  blues   \n",
       "759         780  0l4mKN097GpgeBGaoVQ1wh  Let Go Of Your Plans  blues   \n",
       "760         781  3VyJPsb2ucaaVptLSDpJNH            I Love You  blues   \n",
       "761         782  5aYVqxyetmT5OYmvZCA90X             Slow Ride  blues   \n",
       "\n",
       "                                                   url  popularity  \\\n",
       "757  https://open.spotify.com/track/36KStm44i8gAqnQ...        52.0   \n",
       "758  https://open.spotify.com/track/7cy1bEJV6FCtDaY...        68.0   \n",
       "759  https://open.spotify.com/track/0l4mKN097GpgeBG...        44.0   \n",
       "760  https://open.spotify.com/track/3VyJPsb2ucaaVpt...        51.0   \n",
       "761  https://open.spotify.com/track/5aYVqxyetmT5OYm...        56.0   \n",
       "\n",
       "     acousticness  danceability  energy  instrumentalness    ...     key__2.0  \\\n",
       "757       0.88900         0.701   0.296          0.000002    ...            0   \n",
       "758       0.31900         0.623   0.910          0.000448    ...            0   \n",
       "759       0.02570         0.459   0.494          0.000000    ...            0   \n",
       "760       0.60800         0.559   0.446          0.000131    ...            0   \n",
       "761       0.00608         0.449   0.642          0.007070    ...            1   \n",
       "\n",
       "     key__3.0  key__4.0  key__5.0  key__6.0  key__7.0  key__8.0  key__9.0  \\\n",
       "757         0         1         0         0         0         0         0   \n",
       "758         0         0         0         0         0         0         1   \n",
       "759         0         0         0         0         0         0         0   \n",
       "760         0         0         0         0         0         0         0   \n",
       "761         0         0         0         0         0         0         0   \n",
       "\n",
       "     key__10.0 key__11.0  \n",
       "757          0         0  \n",
       "758          0         0  \n",
       "759          0         1  \n",
       "760          1         0  \n",
       "761          0         0  \n",
       "\n",
       "[5 rows x 34 columns]"
      ]
     },
     "execution_count": 191,
     "metadata": {},
     "output_type": "execute_result"
    }
   ],
   "source": [
    "one_hot = pd.get_dummies(df['key'], prefix = 'key_')\n",
    "df_key = pd.concat([df,one_hot],axis=1)\n",
    "df_key.head()"
   ]
  },
  {
   "cell_type": "code",
   "execution_count": 192,
   "metadata": {},
   "outputs": [],
   "source": [
    "remove = ['Unnamed: 0', 'release_date', 'genre', 'id', 'url', 'idx', 'popularity', 'name', 'key', 'energy']\n",
    "indepv = list(df_key.columns)\n",
    "for feature in remove :\n",
    "    indepv.remove(feature)\n",
    "indepv = [f'Q(\"{v}\")' for v in indepv]"
   ]
  },
  {
   "cell_type": "code",
   "execution_count": 195,
   "metadata": {},
   "outputs": [
    {
     "name": "stdout",
     "output_type": "stream",
     "text": [
      "best_adjr2 =  0.24787578271166577\n",
      "best_subset =  ['Q(\"explicit\")', 'Q(\"loudness\")', 'Q(\"danceability\")', 'Q(\"available_market\")', 'Q(\"duration_ms\")', 'Q(\"valence\")', 'Q(\"instrumentalness\")', 'Q(\"speechiness\")', 'Q(\"mode\")', 'Q(\"acousticness\")', 'Q(\"key__8.0\")', 'Q(\"key__0.0\")', 'Q(\"key__10.0\")', 'Q(\"key__2.0\")']\n",
      "                            OLS Regression Results                            \n",
      "==============================================================================\n",
      "Dep. Variable:             popularity   R-squared:                       0.262\n",
      "Model:                            OLS   Adj. R-squared:                  0.248\n",
      "Method:                 Least Squares   F-statistic:                     18.23\n",
      "Date:                Mon, 22 Jun 2020   Prob (F-statistic):           4.06e-39\n",
      "Time:                        15:27:05   Log-Likelihood:                -2677.3\n",
      "No. Observations:                 733   AIC:                             5385.\n",
      "Df Residuals:                     718   BIC:                             5454.\n",
      "Df Model:                          14                                         \n",
      "Covariance Type:            nonrobust                                         \n",
      "=========================================================================================\n",
      "                            coef    std err          t      P>|t|      [0.025      0.975]\n",
      "-----------------------------------------------------------------------------------------\n",
      "Intercept                57.5724      2.826     20.375      0.000      52.025      63.120\n",
      "Q(\"explicit\")             7.7204      1.102      7.006      0.000       5.557       9.884\n",
      "Q(\"loudness\")             0.3209      0.115      2.795      0.005       0.095       0.546\n",
      "Q(\"danceability\")        12.1684      2.822      4.311      0.000       6.627      17.710\n",
      "Q(\"available_market\")     0.0553      0.016      3.411      0.001       0.023       0.087\n",
      "Q(\"duration_ms\")      -2.047e-05    5.9e-06     -3.469      0.001    -3.2e-05   -8.88e-06\n",
      "Q(\"valence\")             -5.4381      1.732     -3.139      0.002      -8.839      -2.037\n",
      "Q(\"instrumentalness\")    -4.3176      2.032     -2.125      0.034      -8.307      -0.329\n",
      "Q(\"speechiness\")        -10.3355      4.097     -2.523      0.012     -18.380      -2.291\n",
      "Q(\"mode\")                 1.3337      0.743      1.794      0.073      -0.126       2.793\n",
      "Q(\"acousticness\")        -3.3899      1.654     -2.050      0.041      -6.637      -0.143\n",
      "Q(\"key__8.0\")             3.2048      1.411      2.271      0.023       0.434       5.976\n",
      "Q(\"key__0.0\")             2.1636      1.156      1.872      0.062      -0.105       4.433\n",
      "Q(\"key__10.0\")            2.3800      1.481      1.607      0.109      -0.528       5.288\n",
      "Q(\"key__2.0\")             1.6510      1.212      1.362      0.173      -0.728       4.030\n",
      "==============================================================================\n",
      "Omnibus:                        7.569   Durbin-Watson:                   1.150\n",
      "Prob(Omnibus):                  0.023   Jarque-Bera (JB):                7.475\n",
      "Skew:                           0.220   Prob(JB):                       0.0238\n",
      "Kurtosis:                       2.774   Cond. No.                     2.78e+06\n",
      "==============================================================================\n",
      "\n",
      "Warnings:\n",
      "[1] Standard Errors assume that the covariance matrix of the errors is correctly specified.\n",
      "[2] The condition number is large, 2.78e+06. This might indicate that there are\n",
      "strong multicollinearity or other numerical problems.\n"
     ]
    }
   ],
   "source": [
    "forward_selection(df_key, \"popularity\", indepv)"
   ]
  },
  {
   "cell_type": "markdown",
   "metadata": {},
   "source": [
    "## 2. 考慮歌曲類型"
   ]
  },
  {
   "cell_type": "code",
   "execution_count": 201,
   "metadata": {},
   "outputs": [
    {
     "data": {
      "text/html": [
       "<div>\n",
       "<style scoped>\n",
       "    .dataframe tbody tr th:only-of-type {\n",
       "        vertical-align: middle;\n",
       "    }\n",
       "\n",
       "    .dataframe tbody tr th {\n",
       "        vertical-align: top;\n",
       "    }\n",
       "\n",
       "    .dataframe thead th {\n",
       "        text-align: right;\n",
       "    }\n",
       "</style>\n",
       "<table border=\"1\" class=\"dataframe\">\n",
       "  <thead>\n",
       "    <tr style=\"text-align: right;\">\n",
       "      <th></th>\n",
       "      <th>Unnamed: 0</th>\n",
       "      <th>id</th>\n",
       "      <th>name</th>\n",
       "      <th>genre</th>\n",
       "      <th>url</th>\n",
       "      <th>popularity</th>\n",
       "      <th>acousticness</th>\n",
       "      <th>danceability</th>\n",
       "      <th>energy</th>\n",
       "      <th>instrumentalness</th>\n",
       "      <th>...</th>\n",
       "      <th>key__10.0</th>\n",
       "      <th>key__11.0</th>\n",
       "      <th>genre__blues</th>\n",
       "      <th>genre__country</th>\n",
       "      <th>genre__dance</th>\n",
       "      <th>genre__hip-hop</th>\n",
       "      <th>genre__j-pop</th>\n",
       "      <th>genre__jazz</th>\n",
       "      <th>genre__k-pop</th>\n",
       "      <th>genre__pop</th>\n",
       "    </tr>\n",
       "  </thead>\n",
       "  <tbody>\n",
       "    <tr>\n",
       "      <th>757</th>\n",
       "      <td>778</td>\n",
       "      <td>36KStm44i8gAqnQkm3PY9c</td>\n",
       "      <td>Undecided</td>\n",
       "      <td>blues</td>\n",
       "      <td>https://open.spotify.com/track/36KStm44i8gAqnQ...</td>\n",
       "      <td>52.0</td>\n",
       "      <td>0.88900</td>\n",
       "      <td>0.701</td>\n",
       "      <td>0.296</td>\n",
       "      <td>0.000002</td>\n",
       "      <td>...</td>\n",
       "      <td>0</td>\n",
       "      <td>0</td>\n",
       "      <td>1</td>\n",
       "      <td>0</td>\n",
       "      <td>0</td>\n",
       "      <td>0</td>\n",
       "      <td>0</td>\n",
       "      <td>0</td>\n",
       "      <td>0</td>\n",
       "      <td>0</td>\n",
       "    </tr>\n",
       "    <tr>\n",
       "      <th>758</th>\n",
       "      <td>779</td>\n",
       "      <td>7cy1bEJV6FCtDaYpsk8aG6</td>\n",
       "      <td>China Grove</td>\n",
       "      <td>blues</td>\n",
       "      <td>https://open.spotify.com/track/7cy1bEJV6FCtDaY...</td>\n",
       "      <td>68.0</td>\n",
       "      <td>0.31900</td>\n",
       "      <td>0.623</td>\n",
       "      <td>0.910</td>\n",
       "      <td>0.000448</td>\n",
       "      <td>...</td>\n",
       "      <td>0</td>\n",
       "      <td>0</td>\n",
       "      <td>1</td>\n",
       "      <td>0</td>\n",
       "      <td>0</td>\n",
       "      <td>0</td>\n",
       "      <td>0</td>\n",
       "      <td>0</td>\n",
       "      <td>0</td>\n",
       "      <td>0</td>\n",
       "    </tr>\n",
       "    <tr>\n",
       "      <th>759</th>\n",
       "      <td>780</td>\n",
       "      <td>0l4mKN097GpgeBGaoVQ1wh</td>\n",
       "      <td>Let Go Of Your Plans</td>\n",
       "      <td>blues</td>\n",
       "      <td>https://open.spotify.com/track/0l4mKN097GpgeBG...</td>\n",
       "      <td>44.0</td>\n",
       "      <td>0.02570</td>\n",
       "      <td>0.459</td>\n",
       "      <td>0.494</td>\n",
       "      <td>0.000000</td>\n",
       "      <td>...</td>\n",
       "      <td>0</td>\n",
       "      <td>1</td>\n",
       "      <td>1</td>\n",
       "      <td>0</td>\n",
       "      <td>0</td>\n",
       "      <td>0</td>\n",
       "      <td>0</td>\n",
       "      <td>0</td>\n",
       "      <td>0</td>\n",
       "      <td>0</td>\n",
       "    </tr>\n",
       "    <tr>\n",
       "      <th>760</th>\n",
       "      <td>781</td>\n",
       "      <td>3VyJPsb2ucaaVptLSDpJNH</td>\n",
       "      <td>I Love You</td>\n",
       "      <td>blues</td>\n",
       "      <td>https://open.spotify.com/track/3VyJPsb2ucaaVpt...</td>\n",
       "      <td>51.0</td>\n",
       "      <td>0.60800</td>\n",
       "      <td>0.559</td>\n",
       "      <td>0.446</td>\n",
       "      <td>0.000131</td>\n",
       "      <td>...</td>\n",
       "      <td>1</td>\n",
       "      <td>0</td>\n",
       "      <td>1</td>\n",
       "      <td>0</td>\n",
       "      <td>0</td>\n",
       "      <td>0</td>\n",
       "      <td>0</td>\n",
       "      <td>0</td>\n",
       "      <td>0</td>\n",
       "      <td>0</td>\n",
       "    </tr>\n",
       "    <tr>\n",
       "      <th>761</th>\n",
       "      <td>782</td>\n",
       "      <td>5aYVqxyetmT5OYmvZCA90X</td>\n",
       "      <td>Slow Ride</td>\n",
       "      <td>blues</td>\n",
       "      <td>https://open.spotify.com/track/5aYVqxyetmT5OYm...</td>\n",
       "      <td>56.0</td>\n",
       "      <td>0.00608</td>\n",
       "      <td>0.449</td>\n",
       "      <td>0.642</td>\n",
       "      <td>0.007070</td>\n",
       "      <td>...</td>\n",
       "      <td>0</td>\n",
       "      <td>0</td>\n",
       "      <td>1</td>\n",
       "      <td>0</td>\n",
       "      <td>0</td>\n",
       "      <td>0</td>\n",
       "      <td>0</td>\n",
       "      <td>0</td>\n",
       "      <td>0</td>\n",
       "      <td>0</td>\n",
       "    </tr>\n",
       "  </tbody>\n",
       "</table>\n",
       "<p>5 rows × 42 columns</p>\n",
       "</div>"
      ],
      "text/plain": [
       "     Unnamed: 0                      id                  name  genre  \\\n",
       "757         778  36KStm44i8gAqnQkm3PY9c             Undecided  blues   \n",
       "758         779  7cy1bEJV6FCtDaYpsk8aG6           China Grove  blues   \n",
       "759         780  0l4mKN097GpgeBGaoVQ1wh  Let Go Of Your Plans  blues   \n",
       "760         781  3VyJPsb2ucaaVptLSDpJNH            I Love You  blues   \n",
       "761         782  5aYVqxyetmT5OYmvZCA90X             Slow Ride  blues   \n",
       "\n",
       "                                                   url  popularity  \\\n",
       "757  https://open.spotify.com/track/36KStm44i8gAqnQ...        52.0   \n",
       "758  https://open.spotify.com/track/7cy1bEJV6FCtDaY...        68.0   \n",
       "759  https://open.spotify.com/track/0l4mKN097GpgeBG...        44.0   \n",
       "760  https://open.spotify.com/track/3VyJPsb2ucaaVpt...        51.0   \n",
       "761  https://open.spotify.com/track/5aYVqxyetmT5OYm...        56.0   \n",
       "\n",
       "     acousticness  danceability  energy  instrumentalness    ...      \\\n",
       "757       0.88900         0.701   0.296          0.000002    ...       \n",
       "758       0.31900         0.623   0.910          0.000448    ...       \n",
       "759       0.02570         0.459   0.494          0.000000    ...       \n",
       "760       0.60800         0.559   0.446          0.000131    ...       \n",
       "761       0.00608         0.449   0.642          0.007070    ...       \n",
       "\n",
       "     key__10.0  key__11.0  genre__blues  genre__country  genre__dance  \\\n",
       "757          0          0             1               0             0   \n",
       "758          0          0             1               0             0   \n",
       "759          0          1             1               0             0   \n",
       "760          1          0             1               0             0   \n",
       "761          0          0             1               0             0   \n",
       "\n",
       "     genre__hip-hop  genre__j-pop  genre__jazz  genre__k-pop genre__pop  \n",
       "757               0             0            0             0          0  \n",
       "758               0             0            0             0          0  \n",
       "759               0             0            0             0          0  \n",
       "760               0             0            0             0          0  \n",
       "761               0             0            0             0          0  \n",
       "\n",
       "[5 rows x 42 columns]"
      ]
     },
     "execution_count": 201,
     "metadata": {},
     "output_type": "execute_result"
    }
   ],
   "source": [
    "one_hot = pd.get_dummies(df_key['genre'], prefix='genre_')\n",
    "df_genre = pd.concat([df_key, one_hot[:]], axis=1)\n",
    "df_genre.head()"
   ]
  },
  {
   "cell_type": "code",
   "execution_count": 202,
   "metadata": {},
   "outputs": [],
   "source": [
    "remove = ['Unnamed: 0', 'release_date', 'genre', 'id', 'url', 'idx', 'popularity', 'name', 'key', 'energy']\n",
    "indepv = list(df_genre.columns)\n",
    "for feature in remove :\n",
    "    indepv.remove(feature)\n",
    "indepv = [f'Q(\"{v}\")' for v in indepv]"
   ]
  },
  {
   "cell_type": "code",
   "execution_count": 203,
   "metadata": {},
   "outputs": [
    {
     "name": "stdout",
     "output_type": "stream",
     "text": [
      "best_adjr2 =  0.6870253246036999\n",
      "best_subset =  ['Q(\"genre__pop\")', 'Q(\"genre__dance\")', 'Q(\"genre__hip-hop\")', 'Q(\"genre__country\")', 'Q(\"genre__k-pop\")', 'Q(\"available_market\")', 'Q(\"genre__j-pop\")', 'Q(\"instrumentalness\")', 'Q(\"key__6.0\")', 'Q(\"key__5.0\")', 'Q(\"speechiness\")', 'Q(\"danceability\")', 'Q(\"key__11.0\")', 'Q(\"liveness\")', 'Q(\"key__7.0\")']\n",
      "                            OLS Regression Results                            \n",
      "==============================================================================\n",
      "Dep. Variable:             popularity   R-squared:                       0.693\n",
      "Model:                            OLS   Adj. R-squared:                  0.687\n",
      "Method:                 Least Squares   F-statistic:                     108.1\n",
      "Date:                Mon, 22 Jun 2020   Prob (F-statistic):          1.77e-172\n",
      "Time:                        15:30:25   Log-Likelihood:                -2355.4\n",
      "No. Observations:                 733   AIC:                             4743.\n",
      "Df Residuals:                     717   BIC:                             4816.\n",
      "Df Model:                          15                                         \n",
      "Covariance Type:            nonrobust                                         \n",
      "=========================================================================================\n",
      "                            coef    std err          t      P>|t|      [0.025      0.975]\n",
      "-----------------------------------------------------------------------------------------\n",
      "Intercept                45.9188      1.287     35.667      0.000      43.391      48.446\n",
      "Q(\"genre__pop\")          22.2244      0.841     26.413      0.000      20.572      23.876\n",
      "Q(\"genre__dance\")        17.6194      0.843     20.912      0.000      15.965      19.274\n",
      "Q(\"genre__hip-hop\")      16.7535      0.975     17.177      0.000      14.839      18.668\n",
      "Q(\"genre__country\")       9.9611      0.804     12.393      0.000       8.383      11.539\n",
      "Q(\"genre__k-pop\")         5.3635      0.827      6.489      0.000       3.741       6.986\n",
      "Q(\"available_market\")     0.0661      0.010      6.334      0.000       0.046       0.087\n",
      "Q(\"genre__j-pop\")        -2.5081      0.806     -3.111      0.002      -4.091      -0.926\n",
      "Q(\"instrumentalness\")    -2.3342      1.272     -1.835      0.067      -4.831       0.163\n",
      "Q(\"key__6.0\")            -2.0241      1.034     -1.957      0.051      -4.055       0.007\n",
      "Q(\"key__5.0\")            -1.2921      0.820     -1.575      0.116      -2.903       0.319\n",
      "Q(\"speechiness\")         -4.8032      2.627     -1.828      0.068      -9.961       0.355\n",
      "Q(\"danceability\")         2.7789      1.703      1.632      0.103      -0.564       6.121\n",
      "Q(\"key__11.0\")           -0.9971      0.803     -1.242      0.215      -2.574       0.579\n",
      "Q(\"liveness\")             1.7229      1.652      1.043      0.297      -1.521       4.966\n",
      "Q(\"key__7.0\")             0.7656      0.738      1.037      0.300      -0.684       2.215\n",
      "==============================================================================\n",
      "Omnibus:                       82.504   Durbin-Watson:                   2.063\n",
      "Prob(Omnibus):                  0.000   Jarque-Bera (JB):              110.096\n",
      "Skew:                           0.866   Prob(JB):                     1.24e-24\n",
      "Kurtosis:                       3.776   Cond. No.                         882.\n",
      "==============================================================================\n",
      "\n",
      "Warnings:\n",
      "[1] Standard Errors assume that the covariance matrix of the errors is correctly specified.\n"
     ]
    }
   ],
   "source": [
    "forward_selection(df_genre, \"popularity\", indepv)"
   ]
  },
  {
   "cell_type": "markdown",
   "metadata": {},
   "source": [
    "## 3. 考慮交叉項"
   ]
  },
  {
   "cell_type": "code",
   "execution_count": 251,
   "metadata": {},
   "outputs": [
    {
     "data": {
      "text/html": [
       "<div>\n",
       "<style scoped>\n",
       "    .dataframe tbody tr th:only-of-type {\n",
       "        vertical-align: middle;\n",
       "    }\n",
       "\n",
       "    .dataframe tbody tr th {\n",
       "        vertical-align: top;\n",
       "    }\n",
       "\n",
       "    .dataframe thead th {\n",
       "        text-align: right;\n",
       "    }\n",
       "</style>\n",
       "<table border=\"1\" class=\"dataframe\">\n",
       "  <thead>\n",
       "    <tr style=\"text-align: right;\">\n",
       "      <th></th>\n",
       "      <th>Unnamed: 0</th>\n",
       "      <th>id</th>\n",
       "      <th>name</th>\n",
       "      <th>genre</th>\n",
       "      <th>url</th>\n",
       "      <th>popularity</th>\n",
       "      <th>acousticness</th>\n",
       "      <th>danceability</th>\n",
       "      <th>energy</th>\n",
       "      <th>instrumentalness</th>\n",
       "      <th>...</th>\n",
       "      <th>key__2.0_genre__pop</th>\n",
       "      <th>key__3.0_genre__pop</th>\n",
       "      <th>key__4.0_genre__pop</th>\n",
       "      <th>key__5.0_genre__pop</th>\n",
       "      <th>key__6.0_genre__pop</th>\n",
       "      <th>key__7.0_genre__pop</th>\n",
       "      <th>key__8.0_genre__pop</th>\n",
       "      <th>key__9.0_genre__pop</th>\n",
       "      <th>key__10.0_genre__pop</th>\n",
       "      <th>key__11.0_genre__pop</th>\n",
       "    </tr>\n",
       "  </thead>\n",
       "  <tbody>\n",
       "    <tr>\n",
       "      <th>0</th>\n",
       "      <td>778</td>\n",
       "      <td>36KStm44i8gAqnQkm3PY9c</td>\n",
       "      <td>Undecided</td>\n",
       "      <td>blues</td>\n",
       "      <td>https://open.spotify.com/track/36KStm44i8gAqnQ...</td>\n",
       "      <td>52.0</td>\n",
       "      <td>0.88900</td>\n",
       "      <td>0.701</td>\n",
       "      <td>0.296</td>\n",
       "      <td>0.000002</td>\n",
       "      <td>...</td>\n",
       "      <td>0.0</td>\n",
       "      <td>0.0</td>\n",
       "      <td>0.0</td>\n",
       "      <td>0.0</td>\n",
       "      <td>0.0</td>\n",
       "      <td>0.0</td>\n",
       "      <td>0.0</td>\n",
       "      <td>0.0</td>\n",
       "      <td>0.0</td>\n",
       "      <td>0.0</td>\n",
       "    </tr>\n",
       "    <tr>\n",
       "      <th>1</th>\n",
       "      <td>779</td>\n",
       "      <td>7cy1bEJV6FCtDaYpsk8aG6</td>\n",
       "      <td>China Grove</td>\n",
       "      <td>blues</td>\n",
       "      <td>https://open.spotify.com/track/7cy1bEJV6FCtDaY...</td>\n",
       "      <td>68.0</td>\n",
       "      <td>0.31900</td>\n",
       "      <td>0.623</td>\n",
       "      <td>0.910</td>\n",
       "      <td>0.000448</td>\n",
       "      <td>...</td>\n",
       "      <td>0.0</td>\n",
       "      <td>0.0</td>\n",
       "      <td>0.0</td>\n",
       "      <td>0.0</td>\n",
       "      <td>0.0</td>\n",
       "      <td>0.0</td>\n",
       "      <td>0.0</td>\n",
       "      <td>0.0</td>\n",
       "      <td>0.0</td>\n",
       "      <td>0.0</td>\n",
       "    </tr>\n",
       "    <tr>\n",
       "      <th>2</th>\n",
       "      <td>780</td>\n",
       "      <td>0l4mKN097GpgeBGaoVQ1wh</td>\n",
       "      <td>Let Go Of Your Plans</td>\n",
       "      <td>blues</td>\n",
       "      <td>https://open.spotify.com/track/0l4mKN097GpgeBG...</td>\n",
       "      <td>44.0</td>\n",
       "      <td>0.02570</td>\n",
       "      <td>0.459</td>\n",
       "      <td>0.494</td>\n",
       "      <td>0.000000</td>\n",
       "      <td>...</td>\n",
       "      <td>0.0</td>\n",
       "      <td>0.0</td>\n",
       "      <td>0.0</td>\n",
       "      <td>0.0</td>\n",
       "      <td>0.0</td>\n",
       "      <td>0.0</td>\n",
       "      <td>0.0</td>\n",
       "      <td>0.0</td>\n",
       "      <td>0.0</td>\n",
       "      <td>0.0</td>\n",
       "    </tr>\n",
       "    <tr>\n",
       "      <th>3</th>\n",
       "      <td>781</td>\n",
       "      <td>3VyJPsb2ucaaVptLSDpJNH</td>\n",
       "      <td>I Love You</td>\n",
       "      <td>blues</td>\n",
       "      <td>https://open.spotify.com/track/3VyJPsb2ucaaVpt...</td>\n",
       "      <td>51.0</td>\n",
       "      <td>0.60800</td>\n",
       "      <td>0.559</td>\n",
       "      <td>0.446</td>\n",
       "      <td>0.000131</td>\n",
       "      <td>...</td>\n",
       "      <td>0.0</td>\n",
       "      <td>0.0</td>\n",
       "      <td>0.0</td>\n",
       "      <td>0.0</td>\n",
       "      <td>0.0</td>\n",
       "      <td>0.0</td>\n",
       "      <td>0.0</td>\n",
       "      <td>0.0</td>\n",
       "      <td>0.0</td>\n",
       "      <td>0.0</td>\n",
       "    </tr>\n",
       "    <tr>\n",
       "      <th>4</th>\n",
       "      <td>782</td>\n",
       "      <td>5aYVqxyetmT5OYmvZCA90X</td>\n",
       "      <td>Slow Ride</td>\n",
       "      <td>blues</td>\n",
       "      <td>https://open.spotify.com/track/5aYVqxyetmT5OYm...</td>\n",
       "      <td>56.0</td>\n",
       "      <td>0.00608</td>\n",
       "      <td>0.449</td>\n",
       "      <td>0.642</td>\n",
       "      <td>0.007070</td>\n",
       "      <td>...</td>\n",
       "      <td>0.0</td>\n",
       "      <td>0.0</td>\n",
       "      <td>0.0</td>\n",
       "      <td>0.0</td>\n",
       "      <td>0.0</td>\n",
       "      <td>0.0</td>\n",
       "      <td>0.0</td>\n",
       "      <td>0.0</td>\n",
       "      <td>0.0</td>\n",
       "      <td>0.0</td>\n",
       "    </tr>\n",
       "  </tbody>\n",
       "</table>\n",
       "<p>5 rows × 234 columns</p>\n",
       "</div>"
      ],
      "text/plain": [
       "   Unnamed: 0                      id                  name  genre  \\\n",
       "0         778  36KStm44i8gAqnQkm3PY9c             Undecided  blues   \n",
       "1         779  7cy1bEJV6FCtDaYpsk8aG6           China Grove  blues   \n",
       "2         780  0l4mKN097GpgeBGaoVQ1wh  Let Go Of Your Plans  blues   \n",
       "3         781  3VyJPsb2ucaaVptLSDpJNH            I Love You  blues   \n",
       "4         782  5aYVqxyetmT5OYmvZCA90X             Slow Ride  blues   \n",
       "\n",
       "                                                 url  popularity  \\\n",
       "0  https://open.spotify.com/track/36KStm44i8gAqnQ...        52.0   \n",
       "1  https://open.spotify.com/track/7cy1bEJV6FCtDaY...        68.0   \n",
       "2  https://open.spotify.com/track/0l4mKN097GpgeBG...        44.0   \n",
       "3  https://open.spotify.com/track/3VyJPsb2ucaaVpt...        51.0   \n",
       "4  https://open.spotify.com/track/5aYVqxyetmT5OYm...        56.0   \n",
       "\n",
       "   acousticness  danceability  energy  instrumentalness         ...           \\\n",
       "0       0.88900         0.701   0.296          0.000002         ...            \n",
       "1       0.31900         0.623   0.910          0.000448         ...            \n",
       "2       0.02570         0.459   0.494          0.000000         ...            \n",
       "3       0.60800         0.559   0.446          0.000131         ...            \n",
       "4       0.00608         0.449   0.642          0.007070         ...            \n",
       "\n",
       "   key__2.0_genre__pop  key__3.0_genre__pop  key__4.0_genre__pop  \\\n",
       "0                  0.0                  0.0                  0.0   \n",
       "1                  0.0                  0.0                  0.0   \n",
       "2                  0.0                  0.0                  0.0   \n",
       "3                  0.0                  0.0                  0.0   \n",
       "4                  0.0                  0.0                  0.0   \n",
       "\n",
       "   key__5.0_genre__pop  key__6.0_genre__pop  key__7.0_genre__pop  \\\n",
       "0                  0.0                  0.0                  0.0   \n",
       "1                  0.0                  0.0                  0.0   \n",
       "2                  0.0                  0.0                  0.0   \n",
       "3                  0.0                  0.0                  0.0   \n",
       "4                  0.0                  0.0                  0.0   \n",
       "\n",
       "   key__8.0_genre__pop  key__9.0_genre__pop  key__10.0_genre__pop  \\\n",
       "0                  0.0                  0.0                   0.0   \n",
       "1                  0.0                  0.0                   0.0   \n",
       "2                  0.0                  0.0                   0.0   \n",
       "3                  0.0                  0.0                   0.0   \n",
       "4                  0.0                  0.0                   0.0   \n",
       "\n",
       "  key__11.0_genre__pop  \n",
       "0                  0.0  \n",
       "1                  0.0  \n",
       "2                  0.0  \n",
       "3                  0.0  \n",
       "4                  0.0  \n",
       "\n",
       "[5 rows x 234 columns]"
      ]
     },
     "execution_count": 251,
     "metadata": {},
     "output_type": "execute_result"
    }
   ],
   "source": [
    "gen_col = ['genre__blues', 'genre__country', 'genre__dance', 'genre__hip-hop', 'genre__j-pop', 'genre__jazz', 'genre__k-pop', 'genre__pop']\n",
    "remove = ['Unnamed: 0', 'release_date', 'genre', 'id', 'url', 'idx', 'popularity', 'name', 'key', 'energy']\n",
    "col = [c for c in df_genre.columns if c not in gen_col and c not in remove]\n",
    "\n",
    "df_inter = df_genre.copy()\n",
    "df_inter = df_inter.reset_index()\n",
    "for g in gen_col:\n",
    "    inter = pd.DataFrame(df_genre[col].values * df_genre[g].values.reshape(-1,1), columns=[c+'_'+g  for c in col])\n",
    "    new_col = np.hstack([np.array(df_inter.columns), np.array(inter.columns)])\n",
    "    df_inter = pd.concat([df_inter, inter], ignore_index=True, axis=1)\n",
    "    df_inter.columns = new_col\n",
    "del df_inter['index']\n",
    "df_inter.head()"
   ]
  },
  {
   "cell_type": "code",
   "execution_count": 253,
   "metadata": {},
   "outputs": [],
   "source": [
    "remove = ['Unnamed: 0', 'release_date', 'genre', 'id', 'url', 'idx', 'popularity', 'name', 'key', 'energy']\n",
    "indepv = list(df_inter.columns)\n",
    "for feature in remove :\n",
    "    indepv.remove(feature)\n",
    "indepv = [f'Q(\"{v}\")' for v in indepv]"
   ]
  },
  {
   "cell_type": "code",
   "execution_count": 254,
   "metadata": {},
   "outputs": [
    {
     "name": "stdout",
     "output_type": "stream",
     "text": [
      "best_adjr2 =  0.7268081867192906\n",
      "best_subset =  ['Q(\"genre__pop\")', 'Q(\"genre__dance\")', 'Q(\"available_market_genre__hip-hop\")', 'Q(\"danceability_genre__country\")', 'Q(\"duration_ms_genre__k-pop\")', 'Q(\"available_market\")', 'Q(\"genre__hip-hop\")', 'Q(\"duration_ms_genre__j-pop\")', 'Q(\"key__2.0_genre__j-pop\")', 'Q(\"key__7.0_genre__hip-hop\")', 'Q(\"valence_genre__country\")', 'Q(\"key__8.0_genre__j-pop\")', 'Q(\"key__6.0_genre__dance\")', 'Q(\"key__4.0_genre__dance\")', 'Q(\"key__7.0_genre__blues\")', 'Q(\"key__7.0\")', 'Q(\"instrumentalness\")', 'Q(\"key__5.0_genre__country\")', 'Q(\"valence_genre__k-pop\")', 'Q(\"acousticness_genre__k-pop\")', 'Q(\"explicit_genre__jazz\")', 'Q(\"liveness_genre__hip-hop\")', 'Q(\"acousticness_genre__blues\")', 'Q(\"mode_genre__blues\")', 'Q(\"key__10.0_genre__k-pop\")', 'Q(\"key__5.0_genre__hip-hop\")', 'Q(\"key__4.0_genre__j-pop\")', 'Q(\"danceability_genre__pop\")', 'Q(\"speechiness\")', 'Q(\"key__9.0_genre__k-pop\")', 'Q(\"available_market_genre__country\")', 'Q(\"duration_ms_genre__country\")', 'Q(\"key__4.0_genre__country\")', 'Q(\"tempo\")', 'Q(\"key__1.0_genre__blues\")', 'Q(\"key__4.0_genre__blues\")', 'Q(\"key__1.0_genre__country\")', 'Q(\"key__9.0_genre__dance\")', 'Q(\"key__3.0_genre__j-pop\")', 'Q(\"explicit_genre__hip-hop\")', 'Q(\"key__3.0_genre__blues\")', 'Q(\"key__8.0_genre__blues\")', 'Q(\"key__9.0_genre__jazz\")', 'Q(\"key__7.0_genre__pop\")', 'Q(\"key__5.0_genre__k-pop\")', 'Q(\"key__7.0_genre__dance\")', 'Q(\"loudness_genre__dance\")', 'Q(\"key__10.0\")', 'Q(\"key__10.0_genre__j-pop\")', 'Q(\"key__0.0_genre__k-pop\")', 'Q(\"loudness_genre__blues\")', 'Q(\"tempo_genre__blues\")', 'Q(\"genre__blues\")', 'Q(\"instrumentalness_genre__blues\")', 'Q(\"key__1.0_genre__k-pop\")', 'Q(\"key__8.0_genre__k-pop\")', 'Q(\"key__6.0_genre__j-pop\")', 'Q(\"key__8.0_genre__country\")', 'Q(\"acousticness_genre__hip-hop\")', 'Q(\"acousticness\")', 'Q(\"genre__jazz\")', 'Q(\"available_market_genre__jazz\")', 'Q(\"valence_genre__hip-hop\")', 'Q(\"instrumentalness_genre__dance\")']\n",
      "                            OLS Regression Results                            \n",
      "==============================================================================\n",
      "Dep. Variable:             popularity   R-squared:                       0.751\n",
      "Model:                            OLS   Adj. R-squared:                  0.727\n",
      "Method:                 Least Squares   F-statistic:                     31.43\n",
      "Date:                Mon, 22 Jun 2020   Prob (F-statistic):          4.06e-161\n",
      "Time:                        16:51:41   Log-Likelihood:                -2279.7\n",
      "No. Observations:                 733   AIC:                             4689.\n",
      "Df Residuals:                     668   BIC:                             4988.\n",
      "Df Model:                          64                                         \n",
      "Covariance Type:            nonrobust                                         \n",
      "========================================================================================================\n",
      "                                           coef    std err          t      P>|t|      [0.025      0.975]\n",
      "--------------------------------------------------------------------------------------------------------\n",
      "Intercept                               48.5673      2.563     18.948      0.000      43.534      53.600\n",
      "Q(\"genre__pop\")                         17.0018      3.516      4.835      0.000      10.097      23.906\n",
      "Q(\"genre__dance\")                       20.4366      2.822      7.243      0.000      14.896      25.977\n",
      "Q(\"available_market_genre__hip-hop\")     0.0828      0.051      1.638      0.102      -0.016       0.182\n",
      "Q(\"danceability_genre__country\")         7.3037      5.399      1.353      0.177      -3.298      17.905\n",
      "Q(\"duration_ms_genre__k-pop\")         4.025e-05   1.23e-05      3.285      0.001    1.62e-05    6.43e-05\n",
      "Q(\"available_market\")                    0.0673      0.012      5.602      0.000       0.044       0.091\n",
      "Q(\"genre__hip-hop\")                     13.6304      5.317      2.563      0.011       3.189      24.071\n",
      "Q(\"duration_ms_genre__j-pop\")        -2.036e-05   8.73e-06     -2.331      0.020   -3.75e-05   -3.21e-06\n",
      "Q(\"key__2.0_genre__j-pop\")               7.3399      2.043      3.593      0.000       3.328      11.351\n",
      "Q(\"key__7.0_genre__hip-hop\")             2.3725      2.495      0.951      0.342      -2.527       7.272\n",
      "Q(\"valence_genre__country\")              8.3413      2.818      2.960      0.003       2.809      13.874\n",
      "Q(\"key__8.0_genre__j-pop\")               7.9023      2.470      3.200      0.001       3.053      12.751\n",
      "Q(\"key__6.0_genre__dance\")              -5.0658      2.035     -2.490      0.013      -9.061      -1.071\n",
      "Q(\"key__4.0_genre__dance\")              -8.0460      3.403     -2.365      0.018     -14.727      -1.365\n",
      "Q(\"key__7.0_genre__blues\")              -6.8287      2.100     -3.251      0.001     -10.953      -2.705\n",
      "Q(\"key__7.0\")                            3.6294      0.938      3.870      0.000       1.788       5.471\n",
      "Q(\"instrumentalness\")                   -0.7391      1.414     -0.523      0.601      -3.516       2.038\n",
      "Q(\"key__5.0_genre__country\")            -2.0271      2.063     -0.983      0.326      -6.077       2.023\n",
      "Q(\"valence_genre__k-pop\")               -7.7937      2.997     -2.601      0.010     -13.678      -1.909\n",
      "Q(\"acousticness_genre__k-pop\")          -6.1271      2.935     -2.087      0.037     -11.891      -0.364\n",
      "Q(\"explicit_genre__jazz\")               -4.3554      3.036     -1.434      0.152     -10.318       1.607\n",
      "Q(\"liveness_genre__hip-hop\")             9.4713      4.320      2.193      0.029       0.989      17.953\n",
      "Q(\"acousticness_genre__blues\")         -10.1784      2.723     -3.738      0.000     -15.525      -4.832\n",
      "Q(\"mode_genre__blues\")                   1.7224      1.293      1.332      0.183      -0.817       4.261\n",
      "Q(\"key__10.0_genre__k-pop\")             -5.0423      2.872     -1.756      0.080     -10.682       0.597\n",
      "Q(\"key__5.0_genre__hip-hop\")            -3.8535      2.447     -1.575      0.116      -8.658       0.951\n",
      "Q(\"key__4.0_genre__j-pop\")               4.2154      2.431      1.734      0.083      -0.559       8.990\n",
      "Q(\"danceability_genre__pop\")             6.8926      4.087      1.687      0.092      -1.132      14.917\n",
      "Q(\"speechiness\")                        -4.2489      2.560     -1.660      0.097      -9.275       0.777\n",
      "Q(\"key__9.0_genre__k-pop\")               5.1261      2.212      2.317      0.021       0.783       9.469\n",
      "Q(\"available_market_genre__country\")    -0.0611      0.027     -2.272      0.023      -0.114      -0.008\n",
      "Q(\"duration_ms_genre__country\")       1.498e-05   1.11e-05      1.344      0.180   -6.91e-06    3.69e-05\n",
      "Q(\"key__4.0_genre__country\")             4.5678      2.300      1.986      0.047       0.051       9.084\n",
      "Q(\"tempo\")                              -0.0059      0.008     -0.724      0.469      -0.022       0.010\n",
      "Q(\"key__1.0_genre__blues\")               4.9964      2.456      2.035      0.042       0.175       9.818\n",
      "Q(\"key__4.0_genre__blues\")               2.7496      2.046      1.344      0.179      -1.268       6.767\n",
      "Q(\"key__1.0_genre__country\")             3.2117      1.895      1.695      0.091      -0.509       6.932\n",
      "Q(\"key__9.0_genre__dance\")               4.0601      2.480      1.637      0.102      -0.809       8.930\n",
      "Q(\"key__3.0_genre__j-pop\")               6.6806      4.191      1.594      0.111      -1.548      14.909\n",
      "Q(\"explicit_genre__hip-hop\")            -3.3463      1.935     -1.729      0.084      -7.146       0.454\n",
      "Q(\"key__3.0_genre__blues\")               9.3879      5.847      1.606      0.109      -2.092      20.868\n",
      "Q(\"key__8.0_genre__blues\")              -7.5440      5.794     -1.302      0.193     -18.921       3.833\n",
      "Q(\"key__9.0_genre__jazz\")                3.3106      1.919      1.725      0.085      -0.458       7.079\n",
      "Q(\"key__7.0_genre__pop\")                -4.2125      2.443     -1.724      0.085      -9.009       0.584\n",
      "Q(\"key__5.0_genre__k-pop\")               3.6053      2.065      1.746      0.081      -0.450       7.660\n",
      "Q(\"key__7.0_genre__dance\")              -3.5230      2.344     -1.503      0.133      -8.126       1.080\n",
      "Q(\"loudness_genre__dance\")               0.4961      0.301      1.648      0.100      -0.095       1.087\n",
      "Q(\"key__10.0\")                           1.7615      1.009      1.746      0.081      -0.219       3.742\n",
      "Q(\"key__10.0_genre__j-pop\")             -5.1968      3.515     -1.478      0.140     -12.099       1.705\n",
      "Q(\"key__0.0_genre__k-pop\")               3.9816      2.686      1.482      0.139      -1.293       9.256\n",
      "Q(\"loudness_genre__blues\")              -0.2092      0.188     -1.113      0.266      -0.578       0.160\n",
      "Q(\"tempo_genre__blues\")                 -0.0518      0.023     -2.229      0.026      -0.097      -0.006\n",
      "Q(\"genre__blues\")                        5.0717      4.146      1.223      0.222      -3.069      13.212\n",
      "Q(\"instrumentalness_genre__blues\")      -5.2581      3.998     -1.315      0.189     -13.109       2.593\n",
      "Q(\"key__1.0_genre__k-pop\")               2.4766      1.909      1.297      0.195      -1.273       6.226\n",
      "Q(\"key__8.0_genre__k-pop\")               2.7617      2.200      1.255      0.210      -1.558       7.081\n",
      "Q(\"key__6.0_genre__j-pop\")               4.2549      3.438      1.238      0.216      -2.496      11.006\n",
      "Q(\"key__8.0_genre__country\")             3.7284      3.419      1.091      0.276      -2.984      10.441\n",
      "Q(\"acousticness_genre__hip-hop\")        -5.8801      4.242     -1.386      0.166     -14.209       2.449\n",
      "Q(\"acousticness\")                        1.3483      1.129      1.194      0.233      -0.869       3.565\n",
      "Q(\"genre__jazz\")                        -5.6729      3.265     -1.737      0.083     -12.084       0.738\n",
      "Q(\"available_market_genre__jazz\")        0.0445      0.033      1.368      0.172      -0.019       0.108\n",
      "Q(\"valence_genre__hip-hop\")             -3.2673      3.174     -1.029      0.304      -9.500       2.965\n",
      "Q(\"instrumentalness_genre__dance\")      -7.6688      7.620     -1.006      0.315     -22.631       7.293\n",
      "==============================================================================\n",
      "Omnibus:                       49.142   Durbin-Watson:                   2.078\n",
      "Prob(Omnibus):                  0.000   Jarque-Bera (JB):               60.955\n",
      "Skew:                           0.599   Prob(JB):                     5.80e-14\n",
      "Kurtosis:                       3.748   Cond. No.                     3.35e+06\n",
      "==============================================================================\n",
      "\n",
      "Warnings:\n",
      "[1] Standard Errors assume that the covariance matrix of the errors is correctly specified.\n",
      "[2] The condition number is large, 3.35e+06. This might indicate that there are\n",
      "strong multicollinearity or other numerical problems.\n"
     ]
    }
   ],
   "source": [
    "forward_selection(df_inter, \"popularity\", indepv)"
   ]
  },
  {
   "cell_type": "markdown",
   "metadata": {},
   "source": [
    "**<font face=\"微軟正黑體\">假設檢定</font>**\n",
    "---"
   ]
  },
  {
   "cell_type": "markdown",
   "metadata": {},
   "source": [
    "### 1.檢驗各種歌曲類型的熱們程度及各項獨立變數是否為常態分佈"
   ]
  },
  {
   "cell_type": "markdown",
   "metadata": {},
   "source": [
    "### 對每個歌曲類型的每個獨立變數的 shapiro-wilk test:\n",
    "### $H_0$:此項變數為常態分佈\n",
    "### $H_1$:此變數非常態分佈"
   ]
  },
  {
   "cell_type": "code",
   "execution_count": 8,
   "metadata": {},
   "outputs": [
    {
     "name": "stderr",
     "output_type": "stream",
     "text": [
      "D:\\STATISTIC\\WPy64-3741\\python-3.7.4.amd64\\lib\\site-packages\\ipykernel_launcher.py:18: SettingWithCopyWarning: \n",
      "A value is trying to be set on a copy of a slice from a DataFrame\n",
      "\n",
      "See the caveats in the documentation: http://pandas.pydata.org/pandas-docs/stable/user_guide/indexing.html#returning-a-view-versus-a-copy\n"
     ]
    }
   ],
   "source": [
    "a = ['popularity', 'acousticness', 'danceability', 'energy', 'instrumentalness', 'liveness', 'speechiness', 'duration_ms', 'key', 'loudness', 'tempo', 'valence', 'available_market']\n",
    "\n",
    "group = []\n",
    "group.append(' ')\n",
    "group.append('j-pop')\n",
    "group.append('k-pop')\n",
    "group.append('pop')\n",
    "group.append('hip-hop')\n",
    "group.append('dance')\n",
    "group.append('jazz')\n",
    "group.append('blues')\n",
    "group.append('country')\n",
    "\n",
    "df['group'] = 0\n",
    "for i in range(df.shape[0]):\n",
    "    for j in range(len(group)):\n",
    "        if df['genre'][i] in group[j]:\n",
    "            df['group'][i] = j\n",
    "df_group = []\n",
    "for i in range(len(group) + 1):\n",
    "    df_group.append(df[df['group'] == i])"
   ]
  },
  {
   "cell_type": "code",
   "execution_count": 9,
   "metadata": {},
   "outputs": [],
   "source": [
    "def all_normality_test(print_all):\n",
    "    pri = 1000\n",
    "    if print_all == False:\n",
    "        pri = 5\n",
    "    count = 0\n",
    "    for i in range(1,len(group)):\n",
    "        if pri > 0:\n",
    "            print('\\n\\nfor %s:\\ntest normality of all attribute\\n' % (group[i]))\n",
    "        for j in range(len(a)):\n",
    "            if pri > 0:\n",
    "                print('%s of %s' % (a[j], group[i]))\n",
    "                fig, axs = plt.subplots(1, 2, figsize=(10,3))\n",
    "                axs[0].hist(df_group[i][a[j]])\n",
    "                sm.qqplot(df_group[i][a[j]], stats.norm, fit=True, line='45', ax=axs[1])\n",
    "                plt.show()\n",
    "            stat, p = stats.shapiro(df_group[i][a[j]])\n",
    "            if pri > 0:\n",
    "                print(f'Shapiro test: statistics = {stat:.4f}, p = {p:.4f}\\n')\n",
    "            if p < 0.05 :\n",
    "                count = count + 1\n",
    "            pri = pri - 1\n",
    "            if pri == 0:\n",
    "                print('*************************************************************************************************************************\\n')\n",
    "                print('******************* we only show five results of the normality test since there are too many of them. *******************\\n')\n",
    "                print('*************************** modify the only input \\'print_all\\' to TRUE to see all results. *****************************\\n')\n",
    "                print('*************************************************************************************************************************\\n')\n",
    "    print('%d/%d of variables are not normally distributed' % (count, len(a)*(len(group)-1)))"
   ]
  },
  {
   "cell_type": "code",
   "execution_count": 10,
   "metadata": {},
   "outputs": [
    {
     "name": "stdout",
     "output_type": "stream",
     "text": [
      "\n",
      "\n",
      "for j-pop:\n",
      "test normality of all attribute\n",
      "\n",
      "popularity of j-pop\n"
     ]
    },
    {
     "data": {
      "image/png": "[encoded data removed]",
      "text/plain": [
       "<Figure size 720x216 with 2 Axes>"
      ]
     },
     "metadata": {
      "needs_background": "light"
     },
     "output_type": "display_data"
    },
    {
     "name": "stdout",
     "output_type": "stream",
     "text": [
      "Shapiro test: statistics = 0.9347, p = 0.0001\n",
      "\n",
      "acousticness of j-pop\n"
     ]
    },
    {
     "data": {
      "image/png": "[encoded data removed]",
      "text/plain": [
       "<Figure size 720x216 with 2 Axes>"
      ]
     },
     "metadata": {
      "needs_background": "light"
     },
     "output_type": "display_data"
    },
    {
     "name": "stdout",
     "output_type": "stream",
     "text": [
      "Shapiro test: statistics = 0.8441, p = 0.0000\n",
      "\n",
      "danceability of j-pop\n"
     ]
    },
    {
     "data": {
      "image/png": "[encoded data removed]",
      "text/plain": [
       "<Figure size 720x216 with 2 Axes>"
      ]
     },
     "metadata": {
      "needs_background": "light"
     },
     "output_type": "display_data"
    },
    {
     "name": "stdout",
     "output_type": "stream",
     "text": [
      "Shapiro test: statistics = 0.9872, p = 0.4843\n",
      "\n",
      "energy of j-pop\n"
     ]
    },
    {
     "data": {
      "image/png": "[encoded data removed]",
      "text/plain": [
       "<Figure size 720x216 with 2 Axes>"
      ]
     },
     "metadata": {
      "needs_background": "light"
     },
     "output_type": "display_data"
    },
    {
     "name": "stdout",
     "output_type": "stream",
     "text": [
      "Shapiro test: statistics = 0.9579, p = 0.0036\n",
      "\n",
      "instrumentalness of j-pop\n"
     ]
    },
    {
     "data": {
      "image/png": "[encoded data removed]",
      "text/plain": [
       "<Figure size 720x216 with 2 Axes>"
      ]
     },
     "metadata": {
      "needs_background": "light"
     },
     "output_type": "display_data"
    },
    {
     "name": "stdout",
     "output_type": "stream",
     "text": [
      "Shapiro test: statistics = 0.1550, p = 0.0000\n",
      "\n",
      "*************************************************************************************************************************\n",
      "\n",
      "******************* we only show five results of the normality test since there are too many of them. *******************\n",
      "\n",
      "*************************** modify the only input 'print_all' to TRUE to see all results. *****************************\n",
      "\n",
      "*************************************************************************************************************************\n",
      "\n",
      "84/104 of variables are not normally distributed\n"
     ]
    }
   ],
   "source": [
    "all_normality_test(False) #因為總共有104個dataset要測試，這裡只列出前5個做為範例，若要檢查所有normality test，將函數的input改成False即可"
   ]
  },
  {
   "cell_type": "markdown",
   "metadata": {},
   "source": [
    "有84/104的獨立變數並非常態分佈，因此我們後面都會使用nonparamatric statistic來做假設檢定"
   ]
  },
  {
   "cell_type": "markdown",
   "metadata": {},
   "source": [
    "### 2.檢驗各種歌曲類型之間的熱門程度是否有差\n",
    "### $H_0$:所有的歌曲類型有相同的熱門程度\n",
    "### $H_1$:有些歌曲類型的熱門程度與其他類型不同"
   ]
  },
  {
   "cell_type": "code",
   "execution_count": 11,
   "metadata": {},
   "outputs": [],
   "source": [
    "def compare_mean(attribute, index, alt = 'greater'):\n",
    "    if len(index) == 2:\n",
    "        stat, p = stats.mannwhitneyu(df_group[index[0]][attribute],df_group[index[1]][attribute],alternative = alt)\n",
    "        if p < 0.05:\n",
    "            print('conduct Wilcoxon rank sum test\\n')\n",
    "            print('Null hypothesis: the population location(distribution) of %s of %s and %s music are the same' % (attribute, group[index[0]], group[index[1]]))\n",
    "            print('Alternative hypothesis: %s of %s music is %s than %s music\\n' % (attribute, group[index[0]], alt, group[index[1]]))\n",
    "            print('statistics = %f, p = %f\\n' % (stat, p))\n",
    "    elif len(index) == 3:\n",
    "        print(attribute,':\\n')\n",
    "        print('conduct Kruskal-Wallis Test\\n')\n",
    "        Group1 = []\n",
    "        Group2 = []\n",
    "        for i in range(len(index)):\n",
    "            Group1.append(df_group[index[i]][attribute])\n",
    "            Group2.append(group[index[i]])\n",
    "        stat, p = stats.kruskal(Group1[0], Group1[1],Group1[2])\n",
    "        print('statistics = %f, p = %f\\n\\n' % (stat, p))\n",
    "        plt.boxplot(Group1, labels = Group2,vert = 0)\n",
    "        plt.show()\n",
    "        if p < 0.05:\n",
    "            print('\\n')\n",
    "            for j in range(3):\n",
    "                for k in range(3):\n",
    "                    if j != k:\n",
    "                        compare_mean(attribute,[index[j],index[k]])\n",
    "    else :\n",
    "        print('len(index) must be less than 4')\n",
    "def compare(index):\n",
    "    for i in range(len(a)):\n",
    "        compare_mean(a[i], index)\n",
    "        print('\\n\\n')"
   ]
  },
  {
   "cell_type": "code",
   "execution_count": 12,
   "metadata": {},
   "outputs": [],
   "source": [
    "def compare_all_mean(attribute):\n",
    "    print(attribute,':\\n')\n",
    "    print('conduct Kruskal-Wallis Test\\n')\n",
    "    Group1 = []\n",
    "    Group2 = []\n",
    "    for i in range(1,len(group)):\n",
    "        Group1.append(df_group[i][attribute])\n",
    "        Group2.append(group[i])\n",
    "    stat, p = stats.kruskal(Group1[0], Group1[1], Group1[2], Group1[3], Group1[3], Group1[4], Group1[5], Group1[6], Group1[7])\n",
    "    print('statistics = %f, p = %f\\n\\n' % (stat, p))\n",
    "    plt.boxplot(Group1, labels = Group2,vert = 0)\n",
    "    plt.show()\n",
    "def compare_all():\n",
    "    for i in range(len(a)):\n",
    "        compare_all_mean(a[i])\n",
    "        print('\\n\\n')"
   ]
  },
  {
   "cell_type": "code",
   "execution_count": 13,
   "metadata": {},
   "outputs": [],
   "source": [
    "def index(genre):\n",
    "    for i in range(len(group)):\n",
    "        if group[i] == genre:\n",
    "            return i"
   ]
  },
  {
   "cell_type": "code",
   "execution_count": 14,
   "metadata": {},
   "outputs": [
    {
     "name": "stdout",
     "output_type": "stream",
     "text": [
      "popularity :\n",
      "\n",
      "conduct Kruskal-Wallis Test\n",
      "\n",
      "statistics = 559.168151, p = 0.000000\n",
      "\n",
      "\n"
     ]
    },
    {
     "data": {
      "image/png": "[encoded data removed]",
      "text/plain": [
       "<Figure size 432x288 with 1 Axes>"
      ]
     },
     "metadata": {
      "needs_background": "light"
     },
     "output_type": "display_data"
    }
   ],
   "source": [
    "compare_all_mean('popularity')"
   ]
  },
  {
   "cell_type": "markdown",
   "metadata": {},
   "source": [
    "### 3.檢驗相近歌曲類型的獨立變數差異"
   ]
  },
  {
   "cell_type": "markdown",
   "metadata": {},
   "source": [
    "### 1. j-pop, k-pop and pop"
   ]
  },
  {
   "cell_type": "code",
   "execution_count": 15,
   "metadata": {},
   "outputs": [
    {
     "name": "stdout",
     "output_type": "stream",
     "text": [
      "acousticness :\n",
      "\n",
      "conduct Kruskal-Wallis Test\n",
      "\n",
      "statistics = 0.876115, p = 0.645289\n",
      "\n",
      "\n"
     ]
    },
    {
     "data": {
      "image/png": "[encoded data removed]",
      "text/plain": [
       "<Figure size 432x288 with 1 Axes>"
      ]
     },
     "metadata": {
      "needs_background": "light"
     },
     "output_type": "display_data"
    }
   ],
   "source": [
    "compare_mean(a[1],[index('j-pop'),index('k-pop'),index('pop')])"
   ]
  },
  {
   "cell_type": "code",
   "execution_count": 16,
   "metadata": {},
   "outputs": [
    {
     "name": "stdout",
     "output_type": "stream",
     "text": [
      "danceability :\n",
      "\n",
      "conduct Kruskal-Wallis Test\n",
      "\n",
      "statistics = 4.267493, p = 0.118393\n",
      "\n",
      "\n"
     ]
    },
    {
     "data": {
      "image/png": "[encoded data removed]",
      "text/plain": [
       "<Figure size 432x288 with 1 Axes>"
      ]
     },
     "metadata": {
      "needs_background": "light"
     },
     "output_type": "display_data"
    }
   ],
   "source": [
    "compare_mean(a[2],[index('j-pop'),index('k-pop'),index('pop')])"
   ]
  },
  {
   "cell_type": "code",
   "execution_count": 17,
   "metadata": {},
   "outputs": [
    {
     "name": "stdout",
     "output_type": "stream",
     "text": [
      "energy :\n",
      "\n",
      "conduct Kruskal-Wallis Test\n",
      "\n",
      "statistics = 20.080653, p = 0.000044\n",
      "\n",
      "\n"
     ]
    },
    {
     "data": {
      "image/png": "[encoded data removed]",
      "text/plain": [
       "<Figure size 432x288 with 1 Axes>"
      ]
     },
     "metadata": {
      "needs_background": "light"
     },
     "output_type": "display_data"
    },
    {
     "name": "stdout",
     "output_type": "stream",
     "text": [
      "\n",
      "\n",
      "conduct Wilcoxon rank sum test\n",
      "\n",
      "Null hypothesis: the population location(distribution) of energy of k-pop and j-pop music are the same\n",
      "Alternative hypothesis: energy of k-pop music is greater than j-pop music\n",
      "\n",
      "statistics = 5765.500000, p = 0.000473\n",
      "\n",
      "conduct Wilcoxon rank sum test\n",
      "\n",
      "Null hypothesis: the population location(distribution) of energy of k-pop and pop music are the same\n",
      "Alternative hypothesis: energy of k-pop music is greater than pop music\n",
      "\n",
      "statistics = 5700.500000, p = 0.000005\n",
      "\n"
     ]
    }
   ],
   "source": [
    "compare_mean(a[3],[index('j-pop'),index('k-pop'),index('pop')])"
   ]
  },
  {
   "cell_type": "code",
   "execution_count": 18,
   "metadata": {},
   "outputs": [
    {
     "name": "stdout",
     "output_type": "stream",
     "text": [
      "instrumentalness :\n",
      "\n",
      "conduct Kruskal-Wallis Test\n",
      "\n",
      "statistics = 8.882891, p = 0.011779\n",
      "\n",
      "\n"
     ]
    },
    {
     "data": {
      "image/png": "[encoded data removed]",
      "text/plain": [
       "<Figure size 432x288 with 1 Axes>"
      ]
     },
     "metadata": {
      "needs_background": "light"
     },
     "output_type": "display_data"
    },
    {
     "name": "stdout",
     "output_type": "stream",
     "text": [
      "\n",
      "\n",
      "conduct Wilcoxon rank sum test\n",
      "\n",
      "Null hypothesis: the population location(distribution) of instrumentalness of j-pop and k-pop music are the same\n",
      "Alternative hypothesis: instrumentalness of j-pop music is greater than k-pop music\n",
      "\n",
      "statistics = 5480.500000, p = 0.001447\n",
      "\n",
      "conduct Wilcoxon rank sum test\n",
      "\n",
      "Null hypothesis: the population location(distribution) of instrumentalness of pop and k-pop music are the same\n",
      "Alternative hypothesis: instrumentalness of pop music is greater than k-pop music\n",
      "\n",
      "statistics = 4612.000000, p = 0.049713\n",
      "\n"
     ]
    }
   ],
   "source": [
    "compare_mean(a[4],[index('j-pop'),index('k-pop'),index('pop')])"
   ]
  },
  {
   "cell_type": "code",
   "execution_count": 19,
   "metadata": {},
   "outputs": [
    {
     "name": "stdout",
     "output_type": "stream",
     "text": [
      "liveness :\n",
      "\n",
      "conduct Kruskal-Wallis Test\n",
      "\n",
      "statistics = 6.829741, p = 0.032881\n",
      "\n",
      "\n"
     ]
    },
    {
     "data": {
      "image/png": "[encoded data removed]",
      "text/plain": [
       "<Figure size 432x288 with 1 Axes>"
      ]
     },
     "metadata": {
      "needs_background": "light"
     },
     "output_type": "display_data"
    },
    {
     "name": "stdout",
     "output_type": "stream",
     "text": [
      "\n",
      "\n",
      "conduct Wilcoxon rank sum test\n",
      "\n",
      "Null hypothesis: the population location(distribution) of liveness of k-pop and pop music are the same\n",
      "Alternative hypothesis: liveness of k-pop music is greater than pop music\n",
      "\n",
      "statistics = 5076.000000, p = 0.004081\n",
      "\n"
     ]
    }
   ],
   "source": [
    "compare_mean(a[5],[index('j-pop'),index('k-pop'),index('pop')])"
   ]
  },
  {
   "cell_type": "code",
   "execution_count": 20,
   "metadata": {},
   "outputs": [
    {
     "name": "stdout",
     "output_type": "stream",
     "text": [
      "speechiness :\n",
      "\n",
      "conduct Kruskal-Wallis Test\n",
      "\n",
      "statistics = 7.598574, p = 0.022387\n",
      "\n",
      "\n"
     ]
    },
    {
     "data": {
      "image/png": "[encoded data removed]",
      "text/plain": [
       "<Figure size 432x288 with 1 Axes>"
      ]
     },
     "metadata": {
      "needs_background": "light"
     },
     "output_type": "display_data"
    },
    {
     "name": "stdout",
     "output_type": "stream",
     "text": [
      "\n",
      "\n",
      "conduct Wilcoxon rank sum test\n",
      "\n",
      "Null hypothesis: the population location(distribution) of speechiness of k-pop and j-pop music are the same\n",
      "Alternative hypothesis: speechiness of k-pop music is greater than j-pop music\n",
      "\n",
      "statistics = 5546.000000, p = 0.003195\n",
      "\n",
      "conduct Wilcoxon rank sum test\n",
      "\n",
      "Null hypothesis: the population location(distribution) of speechiness of k-pop and pop music are the same\n",
      "Alternative hypothesis: speechiness of k-pop music is greater than pop music\n",
      "\n",
      "statistics = 4732.500000, p = 0.046667\n",
      "\n"
     ]
    }
   ],
   "source": [
    "compare_mean(a[6],[index('j-pop'),index('k-pop'),index('pop')])"
   ]
  },
  {
   "cell_type": "code",
   "execution_count": 21,
   "metadata": {},
   "outputs": [
    {
     "name": "stdout",
     "output_type": "stream",
     "text": [
      "duration_ms :\n",
      "\n",
      "conduct Kruskal-Wallis Test\n",
      "\n",
      "statistics = 42.508532, p = 0.000000\n",
      "\n",
      "\n"
     ]
    },
    {
     "data": {
      "image/png": "[encoded data removed]",
      "text/plain": [
       "<Figure size 432x288 with 1 Axes>"
      ]
     },
     "metadata": {
      "needs_background": "light"
     },
     "output_type": "display_data"
    },
    {
     "name": "stdout",
     "output_type": "stream",
     "text": [
      "\n",
      "\n",
      "conduct Wilcoxon rank sum test\n",
      "\n",
      "Null hypothesis: the population location(distribution) of duration_ms of j-pop and k-pop music are the same\n",
      "Alternative hypothesis: duration_ms of j-pop music is greater than k-pop music\n",
      "\n",
      "statistics = 6550.000000, p = 0.000000\n",
      "\n",
      "conduct Wilcoxon rank sum test\n",
      "\n",
      "Null hypothesis: the population location(distribution) of duration_ms of j-pop and pop music are the same\n",
      "Alternative hypothesis: duration_ms of j-pop music is greater than pop music\n",
      "\n",
      "statistics = 6279.000000, p = 0.000000\n",
      "\n"
     ]
    }
   ],
   "source": [
    "compare_mean(a[7],[index('j-pop'),index('k-pop'),index('pop')])"
   ]
  },
  {
   "cell_type": "code",
   "execution_count": 22,
   "metadata": {},
   "outputs": [
    {
     "name": "stdout",
     "output_type": "stream",
     "text": [
      "key :\n",
      "\n",
      "conduct Kruskal-Wallis Test\n",
      "\n",
      "statistics = 0.254362, p = 0.880574\n",
      "\n",
      "\n"
     ]
    },
    {
     "data": {
      "image/png": "[encoded data removed]",
      "text/plain": [
       "<Figure size 432x288 with 1 Axes>"
      ]
     },
     "metadata": {
      "needs_background": "light"
     },
     "output_type": "display_data"
    }
   ],
   "source": [
    "compare_mean(a[8],[index('j-pop'),index('k-pop'),index('pop')])"
   ]
  },
  {
   "cell_type": "code",
   "execution_count": 23,
   "metadata": {},
   "outputs": [
    {
     "name": "stdout",
     "output_type": "stream",
     "text": [
      "loudness :\n",
      "\n",
      "conduct Kruskal-Wallis Test\n",
      "\n",
      "statistics = 54.270956, p = 0.000000\n",
      "\n",
      "\n"
     ]
    },
    {
     "data": {
      "image/png": "[encoded data removed]",
      "text/plain": [
       "<Figure size 432x288 with 1 Axes>"
      ]
     },
     "metadata": {
      "needs_background": "light"
     },
     "output_type": "display_data"
    },
    {
     "name": "stdout",
     "output_type": "stream",
     "text": [
      "\n",
      "\n",
      "conduct Wilcoxon rank sum test\n",
      "\n",
      "Null hypothesis: the population location(distribution) of loudness of k-pop and j-pop music are the same\n",
      "Alternative hypothesis: loudness of k-pop music is greater than j-pop music\n",
      "\n",
      "statistics = 6981.500000, p = 0.000000\n",
      "\n",
      "conduct Wilcoxon rank sum test\n",
      "\n",
      "Null hypothesis: the population location(distribution) of loudness of k-pop and pop music are the same\n",
      "Alternative hypothesis: loudness of k-pop music is greater than pop music\n",
      "\n",
      "statistics = 6175.000000, p = 0.000000\n",
      "\n",
      "conduct Wilcoxon rank sum test\n",
      "\n",
      "Null hypothesis: the population location(distribution) of loudness of pop and j-pop music are the same\n",
      "Alternative hypothesis: loudness of pop music is greater than j-pop music\n",
      "\n",
      "statistics = 5158.000000, p = 0.004845\n",
      "\n"
     ]
    }
   ],
   "source": [
    "compare_mean(a[9],[index('j-pop'),index('k-pop'),index('pop')])"
   ]
  },
  {
   "cell_type": "code",
   "execution_count": 24,
   "metadata": {},
   "outputs": [
    {
     "name": "stdout",
     "output_type": "stream",
     "text": [
      "tempo :\n",
      "\n",
      "conduct Kruskal-Wallis Test\n",
      "\n",
      "statistics = 0.413623, p = 0.813173\n",
      "\n",
      "\n"
     ]
    },
    {
     "data": {
      "image/png": "[encoded data removed]",
      "text/plain": [
       "<Figure size 432x288 with 1 Axes>"
      ]
     },
     "metadata": {
      "needs_background": "light"
     },
     "output_type": "display_data"
    }
   ],
   "source": [
    "compare_mean(a[10],[index('j-pop'),index('k-pop'),index('pop')])"
   ]
  },
  {
   "cell_type": "code",
   "execution_count": 25,
   "metadata": {},
   "outputs": [
    {
     "name": "stdout",
     "output_type": "stream",
     "text": [
      "valence :\n",
      "\n",
      "conduct Kruskal-Wallis Test\n",
      "\n",
      "statistics = 14.205258, p = 0.000823\n",
      "\n",
      "\n"
     ]
    },
    {
     "data": {
      "image/png": "[encoded data removed]",
      "text/plain": [
       "<Figure size 432x288 with 1 Axes>"
      ]
     },
     "metadata": {
      "needs_background": "light"
     },
     "output_type": "display_data"
    },
    {
     "name": "stdout",
     "output_type": "stream",
     "text": [
      "\n",
      "\n",
      "conduct Wilcoxon rank sum test\n",
      "\n",
      "Null hypothesis: the population location(distribution) of valence of j-pop and k-pop music are the same\n",
      "Alternative hypothesis: valence of j-pop music is greater than k-pop music\n",
      "\n",
      "statistics = 5304.500000, p = 0.018318\n",
      "\n",
      "conduct Wilcoxon rank sum test\n",
      "\n",
      "Null hypothesis: the population location(distribution) of valence of j-pop and pop music are the same\n",
      "Alternative hypothesis: valence of j-pop music is greater than pop music\n",
      "\n",
      "statistics = 5548.500000, p = 0.000122\n",
      "\n",
      "conduct Wilcoxon rank sum test\n",
      "\n",
      "Null hypothesis: the population location(distribution) of valence of k-pop and pop music are the same\n",
      "Alternative hypothesis: valence of k-pop music is greater than pop music\n",
      "\n",
      "statistics = 4800.500000, p = 0.030775\n",
      "\n"
     ]
    }
   ],
   "source": [
    "compare_mean(a[11],[index('j-pop'),index('k-pop'),index('pop')])"
   ]
  },
  {
   "cell_type": "code",
   "execution_count": 26,
   "metadata": {},
   "outputs": [
    {
     "name": "stdout",
     "output_type": "stream",
     "text": [
      "available_market :\n",
      "\n",
      "conduct Kruskal-Wallis Test\n",
      "\n",
      "statistics = 2.952772, p = 0.228462\n",
      "\n",
      "\n"
     ]
    },
    {
     "data": {
      "image/png": "[encoded data removed]",
      "text/plain": [
       "<Figure size 432x288 with 1 Axes>"
      ]
     },
     "metadata": {
      "needs_background": "light"
     },
     "output_type": "display_data"
    }
   ],
   "source": [
    "compare_mean(a[12],[index('j-pop'),index('k-pop'),index('pop')])"
   ]
  },
  {
   "cell_type": "markdown",
   "metadata": {},
   "source": [
    "### pop, hip-hop and dance"
   ]
  },
  {
   "cell_type": "code",
   "execution_count": 27,
   "metadata": {},
   "outputs": [
    {
     "name": "stdout",
     "output_type": "stream",
     "text": [
      "acousticness :\n",
      "\n",
      "conduct Kruskal-Wallis Test\n",
      "\n",
      "statistics = 4.442836, p = 0.108455\n",
      "\n",
      "\n"
     ]
    },
    {
     "data": {
      "image/png": "[encoded data removed]",
      "text/plain": [
       "<Figure size 432x288 with 1 Axes>"
      ]
     },
     "metadata": {
      "needs_background": "light"
     },
     "output_type": "display_data"
    }
   ],
   "source": [
    "compare_mean(a[1],[index('pop'),index('hip-hop'),index('dance')])"
   ]
  },
  {
   "cell_type": "code",
   "execution_count": 28,
   "metadata": {},
   "outputs": [
    {
     "name": "stdout",
     "output_type": "stream",
     "text": [
      "danceability :\n",
      "\n",
      "conduct Kruskal-Wallis Test\n",
      "\n",
      "statistics = 23.731290, p = 0.000007\n",
      "\n",
      "\n"
     ]
    },
    {
     "data": {
      "image/png": "[encoded data removed]",
      "text/plain": [
       "<Figure size 432x288 with 1 Axes>"
      ]
     },
     "metadata": {
      "needs_background": "light"
     },
     "output_type": "display_data"
    },
    {
     "name": "stdout",
     "output_type": "stream",
     "text": [
      "\n",
      "\n",
      "conduct Wilcoxon rank sum test\n",
      "\n",
      "Null hypothesis: the population location(distribution) of danceability of hip-hop and pop music are the same\n",
      "Alternative hypothesis: danceability of hip-hop music is greater than pop music\n",
      "\n",
      "statistics = 4780.000000, p = 0.000032\n",
      "\n",
      "conduct Wilcoxon rank sum test\n",
      "\n",
      "Null hypothesis: the population location(distribution) of danceability of hip-hop and dance music are the same\n",
      "Alternative hypothesis: danceability of hip-hop music is greater than dance music\n",
      "\n",
      "statistics = 5036.500000, p = 0.000004\n",
      "\n"
     ]
    }
   ],
   "source": [
    "compare_mean(a[2],[index('pop'),index('hip-hop'),index('dance')])"
   ]
  },
  {
   "cell_type": "code",
   "execution_count": 29,
   "metadata": {},
   "outputs": [
    {
     "name": "stdout",
     "output_type": "stream",
     "text": [
      "energy :\n",
      "\n",
      "conduct Kruskal-Wallis Test\n",
      "\n",
      "statistics = 9.270552, p = 0.009703\n",
      "\n",
      "\n"
     ]
    },
    {
     "data": {
      "image/png": "[encoded data removed]",
      "text/plain": [
       "<Figure size 432x288 with 1 Axes>"
      ]
     },
     "metadata": {
      "needs_background": "light"
     },
     "output_type": "display_data"
    },
    {
     "name": "stdout",
     "output_type": "stream",
     "text": [
      "\n",
      "\n",
      "conduct Wilcoxon rank sum test\n",
      "\n",
      "Null hypothesis: the population location(distribution) of energy of dance and pop music are the same\n",
      "Alternative hypothesis: energy of dance music is greater than pop music\n",
      "\n",
      "statistics = 4753.500000, p = 0.010522\n",
      "\n",
      "conduct Wilcoxon rank sum test\n",
      "\n",
      "Null hypothesis: the population location(distribution) of energy of dance and hip-hop music are the same\n",
      "Alternative hypothesis: energy of dance music is greater than hip-hop music\n",
      "\n",
      "statistics = 4535.000000, p = 0.001764\n",
      "\n"
     ]
    }
   ],
   "source": [
    "compare_mean(a[3],[index('pop'),index('hip-hop'),index('dance')])"
   ]
  },
  {
   "cell_type": "code",
   "execution_count": 30,
   "metadata": {},
   "outputs": [
    {
     "name": "stdout",
     "output_type": "stream",
     "text": [
      "instrumentalness :\n",
      "\n",
      "conduct Kruskal-Wallis Test\n",
      "\n",
      "statistics = 1.475383, p = 0.478217\n",
      "\n",
      "\n"
     ]
    },
    {
     "data": {
      "image/png": "[encoded data removed]",
      "text/plain": [
       "<Figure size 432x288 with 1 Axes>"
      ]
     },
     "metadata": {
      "needs_background": "light"
     },
     "output_type": "display_data"
    }
   ],
   "source": [
    "compare_mean(a[4],[index('pop'),index('hip-hop'),index('dance')])"
   ]
  },
  {
   "cell_type": "code",
   "execution_count": 31,
   "metadata": {},
   "outputs": [
    {
     "name": "stdout",
     "output_type": "stream",
     "text": [
      "liveness :\n",
      "\n",
      "conduct Kruskal-Wallis Test\n",
      "\n",
      "statistics = 5.416807, p = 0.066643\n",
      "\n",
      "\n"
     ]
    },
    {
     "data": {
      "image/png": "[encoded data removed]",
      "text/plain": [
       "<Figure size 432x288 with 1 Axes>"
      ]
     },
     "metadata": {
      "needs_background": "light"
     },
     "output_type": "display_data"
    }
   ],
   "source": [
    "compare_mean(a[5],[index('pop'),index('hip-hop'),index('dance')])"
   ]
  },
  {
   "cell_type": "code",
   "execution_count": 32,
   "metadata": {},
   "outputs": [
    {
     "name": "stdout",
     "output_type": "stream",
     "text": [
      "speechiness :\n",
      "\n",
      "conduct Kruskal-Wallis Test\n",
      "\n",
      "statistics = 60.357961, p = 0.000000\n",
      "\n",
      "\n"
     ]
    },
    {
     "data": {
      "image/png": "[encoded data removed]",
      "text/plain": [
       "<Figure size 432x288 with 1 Axes>"
      ]
     },
     "metadata": {
      "needs_background": "light"
     },
     "output_type": "display_data"
    },
    {
     "name": "stdout",
     "output_type": "stream",
     "text": [
      "\n",
      "\n",
      "conduct Wilcoxon rank sum test\n",
      "\n",
      "Null hypothesis: the population location(distribution) of speechiness of hip-hop and pop music are the same\n",
      "Alternative hypothesis: speechiness of hip-hop music is greater than pop music\n",
      "\n",
      "statistics = 5488.500000, p = 0.000000\n",
      "\n",
      "conduct Wilcoxon rank sum test\n",
      "\n",
      "Null hypothesis: the population location(distribution) of speechiness of hip-hop and dance music are the same\n",
      "Alternative hypothesis: speechiness of hip-hop music is greater than dance music\n",
      "\n",
      "statistics = 5898.500000, p = 0.000000\n",
      "\n"
     ]
    }
   ],
   "source": [
    "compare_mean(a[6],[index('pop'),index('hip-hop'),index('dance')])"
   ]
  },
  {
   "cell_type": "code",
   "execution_count": 33,
   "metadata": {},
   "outputs": [
    {
     "name": "stdout",
     "output_type": "stream",
     "text": [
      "duration_ms :\n",
      "\n",
      "conduct Kruskal-Wallis Test\n",
      "\n",
      "statistics = 2.690766, p = 0.260440\n",
      "\n",
      "\n"
     ]
    },
    {
     "data": {
      "image/png": "[encoded data removed]",
      "text/plain": [
       "<Figure size 432x288 with 1 Axes>"
      ]
     },
     "metadata": {
      "needs_background": "light"
     },
     "output_type": "display_data"
    }
   ],
   "source": [
    "compare_mean(a[7],[index('pop'),index('hip-hop'),index('dance')])"
   ]
  },
  {
   "cell_type": "code",
   "execution_count": 34,
   "metadata": {},
   "outputs": [
    {
     "name": "stdout",
     "output_type": "stream",
     "text": [
      "key :\n",
      "\n",
      "conduct Kruskal-Wallis Test\n",
      "\n",
      "statistics = 0.991297, p = 0.609176\n",
      "\n",
      "\n"
     ]
    },
    {
     "data": {
      "image/png": "[encoded data removed]",
      "text/plain": [
       "<Figure size 432x288 with 1 Axes>"
      ]
     },
     "metadata": {
      "needs_background": "light"
     },
     "output_type": "display_data"
    }
   ],
   "source": [
    "compare_mean(a[8],[index('pop'),index('hip-hop'),index('dance')])"
   ]
  },
  {
   "cell_type": "code",
   "execution_count": 35,
   "metadata": {},
   "outputs": [
    {
     "name": "stdout",
     "output_type": "stream",
     "text": [
      "loudness :\n",
      "\n",
      "conduct Kruskal-Wallis Test\n",
      "\n",
      "statistics = 9.478825, p = 0.008744\n",
      "\n",
      "\n"
     ]
    },
    {
     "data": {
      "image/png": "[encoded data removed]",
      "text/plain": [
       "<Figure size 432x288 with 1 Axes>"
      ]
     },
     "metadata": {
      "needs_background": "light"
     },
     "output_type": "display_data"
    },
    {
     "name": "stdout",
     "output_type": "stream",
     "text": [
      "\n",
      "\n",
      "conduct Wilcoxon rank sum test\n",
      "\n",
      "Null hypothesis: the population location(distribution) of loudness of dance and pop music are the same\n",
      "Alternative hypothesis: loudness of dance music is greater than pop music\n",
      "\n",
      "statistics = 4657.000000, p = 0.021362\n",
      "\n",
      "conduct Wilcoxon rank sum test\n",
      "\n",
      "Null hypothesis: the population location(distribution) of loudness of dance and hip-hop music are the same\n",
      "Alternative hypothesis: loudness of dance music is greater than hip-hop music\n",
      "\n",
      "statistics = 4569.000000, p = 0.001249\n",
      "\n"
     ]
    }
   ],
   "source": [
    "compare_mean(a[9],[index('pop'),index('hip-hop'),index('dance')])"
   ]
  },
  {
   "cell_type": "code",
   "execution_count": 36,
   "metadata": {},
   "outputs": [
    {
     "name": "stdout",
     "output_type": "stream",
     "text": [
      "tempo :\n",
      "\n",
      "conduct Kruskal-Wallis Test\n",
      "\n",
      "statistics = 2.527845, p = 0.282544\n",
      "\n",
      "\n"
     ]
    },
    {
     "data": {
      "image/png": "[encoded data removed]",
      "text/plain": [
       "<Figure size 432x288 with 1 Axes>"
      ]
     },
     "metadata": {
      "needs_background": "light"
     },
     "output_type": "display_data"
    }
   ],
   "source": [
    "compare_mean(a[10],[index('pop'),index('hip-hop'),index('dance')])"
   ]
  },
  {
   "cell_type": "code",
   "execution_count": 37,
   "metadata": {},
   "outputs": [
    {
     "name": "stdout",
     "output_type": "stream",
     "text": [
      "valence :\n",
      "\n",
      "conduct Kruskal-Wallis Test\n",
      "\n",
      "statistics = 3.607765, p = 0.164658\n",
      "\n",
      "\n"
     ]
    },
    {
     "data": {
      "image/png": "[encoded data removed]",
      "text/plain": [
       "<Figure size 432x288 with 1 Axes>"
      ]
     },
     "metadata": {
      "needs_background": "light"
     },
     "output_type": "display_data"
    }
   ],
   "source": [
    "compare_mean(a[11],[index('pop'),index('hip-hop'),index('dance')])"
   ]
  },
  {
   "cell_type": "code",
   "execution_count": 38,
   "metadata": {},
   "outputs": [
    {
     "name": "stdout",
     "output_type": "stream",
     "text": [
      "available_market :\n",
      "\n",
      "conduct Kruskal-Wallis Test\n",
      "\n",
      "statistics = 5.104112, p = 0.077921\n",
      "\n",
      "\n"
     ]
    },
    {
     "data": {
      "image/png": "[encoded data removed]",
      "text/plain": [
       "<Figure size 432x288 with 1 Axes>"
      ]
     },
     "metadata": {
      "needs_background": "light"
     },
     "output_type": "display_data"
    }
   ],
   "source": [
    "compare_mean(a[12],[index('pop'),index('hip-hop'),index('dance')])"
   ]
  },
  {
   "cell_type": "markdown",
   "metadata": {},
   "source": [
    "### jazz, blues and country"
   ]
  },
  {
   "cell_type": "code",
   "execution_count": 39,
   "metadata": {},
   "outputs": [
    {
     "name": "stdout",
     "output_type": "stream",
     "text": [
      "acousticness :\n",
      "\n",
      "conduct Kruskal-Wallis Test\n",
      "\n",
      "statistics = 61.744256, p = 0.000000\n",
      "\n",
      "\n"
     ]
    },
    {
     "data": {
      "image/png": "[encoded data removed]",
      "text/plain": [
       "<Figure size 432x288 with 1 Axes>"
      ]
     },
     "metadata": {
      "needs_background": "light"
     },
     "output_type": "display_data"
    },
    {
     "name": "stdout",
     "output_type": "stream",
     "text": [
      "\n",
      "\n",
      "conduct Wilcoxon rank sum test\n",
      "\n",
      "Null hypothesis: the population location(distribution) of acousticness of jazz and blues music are the same\n",
      "Alternative hypothesis: acousticness of jazz music is greater than blues music\n",
      "\n",
      "statistics = 6816.000000, p = 0.000000\n",
      "\n",
      "conduct Wilcoxon rank sum test\n",
      "\n",
      "Null hypothesis: the population location(distribution) of acousticness of jazz and country music are the same\n",
      "Alternative hypothesis: acousticness of jazz music is greater than country music\n",
      "\n",
      "statistics = 7538.500000, p = 0.000000\n",
      "\n"
     ]
    }
   ],
   "source": [
    "compare_mean(a[1],[index('jazz'),index('blues'),index('country')])"
   ]
  },
  {
   "cell_type": "code",
   "execution_count": 40,
   "metadata": {},
   "outputs": [
    {
     "name": "stdout",
     "output_type": "stream",
     "text": [
      "danceability :\n",
      "\n",
      "conduct Kruskal-Wallis Test\n",
      "\n",
      "statistics = 8.411256, p = 0.014911\n",
      "\n",
      "\n"
     ]
    },
    {
     "data": {
      "image/png": "[encoded data removed]",
      "text/plain": [
       "<Figure size 432x288 with 1 Axes>"
      ]
     },
     "metadata": {
      "needs_background": "light"
     },
     "output_type": "display_data"
    },
    {
     "name": "stdout",
     "output_type": "stream",
     "text": [
      "\n",
      "\n",
      "conduct Wilcoxon rank sum test\n",
      "\n",
      "Null hypothesis: the population location(distribution) of danceability of country and blues music are the same\n",
      "Alternative hypothesis: danceability of country music is greater than blues music\n",
      "\n",
      "statistics = 5495.500000, p = 0.001158\n",
      "\n"
     ]
    }
   ],
   "source": [
    "compare_mean(a[2],[index('jazz'),index('blues'),index('country')])"
   ]
  },
  {
   "cell_type": "code",
   "execution_count": 41,
   "metadata": {},
   "outputs": [
    {
     "name": "stdout",
     "output_type": "stream",
     "text": [
      "energy :\n",
      "\n",
      "conduct Kruskal-Wallis Test\n",
      "\n",
      "statistics = 73.070551, p = 0.000000\n",
      "\n",
      "\n"
     ]
    },
    {
     "data": {
      "image/png": "[encoded data removed]",
      "text/plain": [
       "<Figure size 432x288 with 1 Axes>"
      ]
     },
     "metadata": {
      "needs_background": "light"
     },
     "output_type": "display_data"
    },
    {
     "name": "stdout",
     "output_type": "stream",
     "text": [
      "\n",
      "\n",
      "conduct Wilcoxon rank sum test\n",
      "\n",
      "Null hypothesis: the population location(distribution) of energy of blues and jazz music are the same\n",
      "Alternative hypothesis: energy of blues music is greater than jazz music\n",
      "\n",
      "statistics = 6843.500000, p = 0.000000\n",
      "\n",
      "conduct Wilcoxon rank sum test\n",
      "\n",
      "Null hypothesis: the population location(distribution) of energy of country and jazz music are the same\n",
      "Alternative hypothesis: energy of country music is greater than jazz music\n",
      "\n",
      "statistics = 7863.500000, p = 0.000000\n",
      "\n",
      "conduct Wilcoxon rank sum test\n",
      "\n",
      "Null hypothesis: the population location(distribution) of energy of country and blues music are the same\n",
      "Alternative hypothesis: energy of country music is greater than blues music\n",
      "\n",
      "statistics = 4980.000000, p = 0.049172\n",
      "\n"
     ]
    }
   ],
   "source": [
    "compare_mean(a[3],[index('jazz'),index('blues'),index('country')])"
   ]
  },
  {
   "cell_type": "code",
   "execution_count": 42,
   "metadata": {},
   "outputs": [
    {
     "name": "stdout",
     "output_type": "stream",
     "text": [
      "instrumentalness :\n",
      "\n",
      "conduct Kruskal-Wallis Test\n",
      "\n",
      "statistics = 80.266330, p = 0.000000\n",
      "\n",
      "\n"
     ]
    },
    {
     "data": {
      "image/png": "[encoded data removed]",
      "text/plain": [
       "<Figure size 432x288 with 1 Axes>"
      ]
     },
     "metadata": {
      "needs_background": "light"
     },
     "output_type": "display_data"
    },
    {
     "name": "stdout",
     "output_type": "stream",
     "text": [
      "\n",
      "\n",
      "conduct Wilcoxon rank sum test\n",
      "\n",
      "Null hypothesis: the population location(distribution) of instrumentalness of jazz and blues music are the same\n",
      "Alternative hypothesis: instrumentalness of jazz music is greater than blues music\n",
      "\n",
      "statistics = 6364.500000, p = 0.000000\n",
      "\n",
      "conduct Wilcoxon rank sum test\n",
      "\n",
      "Null hypothesis: the population location(distribution) of instrumentalness of jazz and country music are the same\n",
      "Alternative hypothesis: instrumentalness of jazz music is greater than country music\n",
      "\n",
      "statistics = 7980.500000, p = 0.000000\n",
      "\n",
      "conduct Wilcoxon rank sum test\n",
      "\n",
      "Null hypothesis: the population location(distribution) of instrumentalness of blues and country music are the same\n",
      "Alternative hypothesis: instrumentalness of blues music is greater than country music\n",
      "\n",
      "statistics = 6045.500000, p = 0.000001\n",
      "\n"
     ]
    }
   ],
   "source": [
    "compare_mean(a[4],[index('jazz'),index('blues'),index('country')])"
   ]
  },
  {
   "cell_type": "code",
   "execution_count": 43,
   "metadata": {},
   "outputs": [
    {
     "name": "stdout",
     "output_type": "stream",
     "text": [
      "liveness :\n",
      "\n",
      "conduct Kruskal-Wallis Test\n",
      "\n",
      "statistics = 1.549111, p = 0.460909\n",
      "\n",
      "\n"
     ]
    },
    {
     "data": {
      "image/png": "[encoded data removed]",
      "text/plain": [
       "<Figure size 432x288 with 1 Axes>"
      ]
     },
     "metadata": {
      "needs_background": "light"
     },
     "output_type": "display_data"
    }
   ],
   "source": [
    "compare_mean(a[5],[index('jazz'),index('blues'),index('country')])"
   ]
  },
  {
   "cell_type": "code",
   "execution_count": 44,
   "metadata": {},
   "outputs": [
    {
     "name": "stdout",
     "output_type": "stream",
     "text": [
      "speechiness :\n",
      "\n",
      "conduct Kruskal-Wallis Test\n",
      "\n",
      "statistics = 30.689468, p = 0.000000\n",
      "\n",
      "\n"
     ]
    },
    {
     "data": {
      "image/png": "[encoded data removed]",
      "text/plain": [
       "<Figure size 432x288 with 1 Axes>"
      ]
     },
     "metadata": {
      "needs_background": "light"
     },
     "output_type": "display_data"
    },
    {
     "name": "stdout",
     "output_type": "stream",
     "text": [
      "\n",
      "\n",
      "conduct Wilcoxon rank sum test\n",
      "\n",
      "Null hypothesis: the population location(distribution) of speechiness of jazz and country music are the same\n",
      "Alternative hypothesis: speechiness of jazz music is greater than country music\n",
      "\n",
      "statistics = 6669.000000, p = 0.000000\n",
      "\n",
      "conduct Wilcoxon rank sum test\n",
      "\n",
      "Null hypothesis: the population location(distribution) of speechiness of blues and country music are the same\n",
      "Alternative hypothesis: speechiness of blues music is greater than country music\n",
      "\n",
      "statistics = 6042.500000, p = 0.000003\n",
      "\n"
     ]
    }
   ],
   "source": [
    "compare_mean(a[6],[index('jazz'),index('blues'),index('country')])"
   ]
  },
  {
   "cell_type": "code",
   "execution_count": 45,
   "metadata": {},
   "outputs": [
    {
     "name": "stdout",
     "output_type": "stream",
     "text": [
      "duration_ms :\n",
      "\n",
      "conduct Kruskal-Wallis Test\n",
      "\n",
      "statistics = 2.283789, p = 0.319214\n",
      "\n",
      "\n"
     ]
    },
    {
     "data": {
      "image/png": "[encoded data removed]",
      "text/plain": [
       "<Figure size 432x288 with 1 Axes>"
      ]
     },
     "metadata": {
      "needs_background": "light"
     },
     "output_type": "display_data"
    }
   ],
   "source": [
    "compare_mean(a[7],[index('jazz'),index('blues'),index('country')])"
   ]
  },
  {
   "cell_type": "code",
   "execution_count": 46,
   "metadata": {},
   "outputs": [
    {
     "name": "stdout",
     "output_type": "stream",
     "text": [
      "key :\n",
      "\n",
      "conduct Kruskal-Wallis Test\n",
      "\n",
      "statistics = 0.321903, p = 0.851333\n",
      "\n",
      "\n"
     ]
    },
    {
     "data": {
      "image/png": "[encoded data removed]",
      "text/plain": [
       "<Figure size 432x288 with 1 Axes>"
      ]
     },
     "metadata": {
      "needs_background": "light"
     },
     "output_type": "display_data"
    }
   ],
   "source": [
    "compare_mean(a[8],[index('jazz'),index('blues'),index('country')])"
   ]
  },
  {
   "cell_type": "code",
   "execution_count": 47,
   "metadata": {},
   "outputs": [
    {
     "name": "stdout",
     "output_type": "stream",
     "text": [
      "loudness :\n",
      "\n",
      "conduct Kruskal-Wallis Test\n",
      "\n",
      "statistics = 73.603009, p = 0.000000\n",
      "\n",
      "\n"
     ]
    },
    {
     "data": {
      "image/png": "[encoded data removed]",
      "text/plain": [
       "<Figure size 432x288 with 1 Axes>"
      ]
     },
     "metadata": {
      "needs_background": "light"
     },
     "output_type": "display_data"
    },
    {
     "name": "stdout",
     "output_type": "stream",
     "text": [
      "\n",
      "\n",
      "conduct Wilcoxon rank sum test\n",
      "\n",
      "Null hypothesis: the population location(distribution) of loudness of blues and jazz music are the same\n",
      "Alternative hypothesis: loudness of blues music is greater than jazz music\n",
      "\n",
      "statistics = 6819.000000, p = 0.000000\n",
      "\n",
      "conduct Wilcoxon rank sum test\n",
      "\n",
      "Null hypothesis: the population location(distribution) of loudness of country and jazz music are the same\n",
      "Alternative hypothesis: loudness of country music is greater than jazz music\n",
      "\n",
      "statistics = 7818.000000, p = 0.000000\n",
      "\n",
      "conduct Wilcoxon rank sum test\n",
      "\n",
      "Null hypothesis: the population location(distribution) of loudness of country and blues music are the same\n",
      "Alternative hypothesis: loudness of country music is greater than blues music\n",
      "\n",
      "statistics = 5323.500000, p = 0.004920\n",
      "\n"
     ]
    }
   ],
   "source": [
    "compare_mean(a[9],[index('jazz'),index('blues'),index('country')])"
   ]
  },
  {
   "cell_type": "code",
   "execution_count": 48,
   "metadata": {},
   "outputs": [
    {
     "name": "stdout",
     "output_type": "stream",
     "text": [
      "tempo :\n",
      "\n",
      "conduct Kruskal-Wallis Test\n",
      "\n",
      "statistics = 7.323996, p = 0.025681\n",
      "\n",
      "\n"
     ]
    },
    {
     "data": {
      "image/png": "[encoded data removed]",
      "text/plain": [
       "<Figure size 432x288 with 1 Axes>"
      ]
     },
     "metadata": {
      "needs_background": "light"
     },
     "output_type": "display_data"
    },
    {
     "name": "stdout",
     "output_type": "stream",
     "text": [
      "\n",
      "\n",
      "conduct Wilcoxon rank sum test\n",
      "\n",
      "Null hypothesis: the population location(distribution) of tempo of blues and jazz music are the same\n",
      "Alternative hypothesis: tempo of blues music is greater than jazz music\n",
      "\n",
      "statistics = 5259.000000, p = 0.016683\n",
      "\n",
      "conduct Wilcoxon rank sum test\n",
      "\n",
      "Null hypothesis: the population location(distribution) of tempo of country and jazz music are the same\n",
      "Alternative hypothesis: tempo of country music is greater than jazz music\n",
      "\n",
      "statistics = 5680.000000, p = 0.006300\n",
      "\n"
     ]
    }
   ],
   "source": [
    "compare_mean(a[10],[index('jazz'),index('blues'),index('country')])"
   ]
  },
  {
   "cell_type": "code",
   "execution_count": 49,
   "metadata": {},
   "outputs": [
    {
     "name": "stdout",
     "output_type": "stream",
     "text": [
      "valence :\n",
      "\n",
      "conduct Kruskal-Wallis Test\n",
      "\n",
      "statistics = 9.776861, p = 0.007533\n",
      "\n",
      "\n"
     ]
    },
    {
     "data": {
      "image/png": "[encoded data removed]",
      "text/plain": [
       "<Figure size 432x288 with 1 Axes>"
      ]
     },
     "metadata": {
      "needs_background": "light"
     },
     "output_type": "display_data"
    },
    {
     "name": "stdout",
     "output_type": "stream",
     "text": [
      "\n",
      "\n",
      "conduct Wilcoxon rank sum test\n",
      "\n",
      "Null hypothesis: the population location(distribution) of valence of blues and jazz music are the same\n",
      "Alternative hypothesis: valence of blues music is greater than jazz music\n",
      "\n",
      "statistics = 5212.000000, p = 0.022611\n",
      "\n",
      "conduct Wilcoxon rank sum test\n",
      "\n",
      "Null hypothesis: the population location(distribution) of valence of country and jazz music are the same\n",
      "Alternative hypothesis: valence of country music is greater than jazz music\n",
      "\n",
      "statistics = 5890.500000, p = 0.001210\n",
      "\n"
     ]
    }
   ],
   "source": [
    "compare_mean(a[11],[index('jazz'),index('blues'),index('country')])"
   ]
  },
  {
   "cell_type": "code",
   "execution_count": 50,
   "metadata": {},
   "outputs": [
    {
     "name": "stdout",
     "output_type": "stream",
     "text": [
      "available_market :\n",
      "\n",
      "conduct Kruskal-Wallis Test\n",
      "\n",
      "statistics = 5.092192, p = 0.078387\n",
      "\n",
      "\n"
     ]
    },
    {
     "data": {
      "image/png": "[encoded data removed]",
      "text/plain": [
       "<Figure size 432x288 with 1 Axes>"
      ]
     },
     "metadata": {
      "needs_background": "light"
     },
     "output_type": "display_data"
    }
   ],
   "source": [
    "compare_mean(a[12],[index('jazz'),index('blues'),index('country')])"
   ]
  },
  {
   "cell_type": "markdown",
   "metadata": {},
   "source": [
    "**<font face=\"微軟正黑體\">結論與建議</font>**\n",
    "---"
   ]
  },
  {
   "cell_type": "code",
   "execution_count": null,
   "metadata": {},
   "outputs": [],
   "source": []
  },
  {
   "cell_type": "code",
   "execution_count": null,
   "metadata": {},
   "outputs": [],
   "source": []
  },
  {
   "cell_type": "code",
   "execution_count": null,
   "metadata": {},
   "outputs": [],
   "source": []
  }
 ],
 "metadata": {
  "kernelspec": {
   "display_name": "Python 3",
   "language": "python",
   "name": "python3"
  },
  "language_info": {
   "codemirror_mode": {
    "name": "ipython",
    "version": 3
   },
   "file_extension": ".py",
   "mimetype": "text/x-python",
   "name": "python",
   "nbconvert_exporter": "python",
   "pygments_lexer": "ipython3",
   "version": "3.7.5"
  }
 },
 "nbformat": 4,
 "nbformat_minor": 4
}
