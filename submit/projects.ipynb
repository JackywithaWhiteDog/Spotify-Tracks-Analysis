{
 "cells": [
  {
   "cell_type": "markdown",
   "metadata": {},
   "source": [
    "Statistics (I)(2) Final Project\n",
    "===\n",
    "\n",
    "<font face=\"微軟正黑體\">\n",
    "<b>組長</b> : 劉鎮霆 B07705015 <br>\n",
    "<b>組員</b> : 黃煒勛 B07705010 | 黃　心 B07705013 | 康　崴 B07705014 | 張宇承 B07705017 | 李旻叡 B07705037\n",
    "</font>"
   ]
  },
  {
   "cell_type": "markdown",
   "metadata": {},
   "source": [
    "## <center>Table of Contents</center>\n",
    "\n",
    "---\n",
    "\n",
    "[<center><font face=\"微軟正黑體\">分析主題</font></center>](#分析主題)\n",
    "[<center><font face=\"微軟正黑體\">動機</font></center>](#動機)\n",
    "[<center><font face=\"微軟正黑體\">敘述統計 & 視覺化</font></center>](#分析主題)\n",
    "[<center><font face=\"微軟正黑體\">假設檢定</font></center>](#動機)\n",
    "[<center><font face=\"微軟正黑體\">迴歸分析</font></center>](#分析主題)\n",
    "[<center><font face=\"微軟正黑體\">結論與建議</font></center>](#動機)\n",
    "\n",
    "---\n"
   ]
  },
  {
   "cell_type": "markdown",
   "metadata": {},
   "source": [
    "**<font face=\"微軟正黑體\">分析主題</font>**\n",
    "---"
   ]
  },
  {
   "cell_type": "markdown",
   "metadata": {},
   "source": [
    "<font face=\"微軟正黑體\">Spotify 串流平台中歌曲特性對熱門程度的影響</font>"
   ]
  },
  {
   "cell_type": "markdown",
   "metadata": {},
   "source": [
    "**<font face=\"微軟正黑體\">前言</font>**\n",
    "---"
   ]
  },
  {
   "cell_type": "markdown",
   "metadata": {},
   "source": [
    "<font face=\"微軟正黑體\">\n",
    "&emsp;&emsp;現今社會串流音樂蔚為主流，全世界有數億人在使用這類的服務。而在眾多的串流服務中又以 Spotify 為箇中翹楚，它有著 2.86 億個使用者，想必各個音樂發行商的競爭也是十分激烈。我們這些平時熱愛音樂的學生不禁好奇，一首歌要有怎麼樣的特性才可以在 Spotify 的使用環境中脫穎而出，得到較高的熱門程度。若是知道熱門程度與歌曲各項特性的關係，或許發行商可以根據此關係調整策略，獲得較高的觸及率和收益。我們先由敘述統計觀察不同曲風熱門程度分佈，接著做回歸分析發現曲風影響熱門程度，最後由假設檢定看曲風的差異性是怎麼決定熱門程度以及曲風之間哪些特性有差異。\n",
    "</font>"
   ]
  },
  {
   "cell_type": "markdown",
   "metadata": {},
   "source": [
    "**<font face=\"微軟正黑體\">資料集</font>**\n",
    "---"
   ]
  },
  {
   "cell_type": "markdown",
   "metadata": {},
   "source": [
    "### 1. **<font face=\"微軟正黑體\">資料蒐集</font>**\n",
    "\n",
    "<font face=\"微軟正黑體\">\n",
    "    &emsp;&emsp;我們首先在 kaggle 上找到\n",
    "    <a href='https://www.kaggle.com/zaheenhamidani/ultimate-spotify-tracks-db'>Spotify 歌曲資料集</a>,\n",
    "    其中包含了每一首歌的曲風、歌手、流行度 (popularity)、原聲性 (acousticness) 等數據。\n",
    "    由於 kaggle 上的資料比較舊 (2019年3月)，再加上其中的曲風有經過人為處理 (例如將 kids 與 children 合併為一種曲風)，因此我們決定參考它蒐集資料的方法，重新蒐集歌曲資料。<br>\n",
    "    &emsp;&emsp;抽樣時，我們採用 stratified sampling，透過 Soptipy 函式庫搜尋 Spotify 上各個曲風的歌曲 (會回傳歌曲資料的list)，再各自隨機抽樣出 100 首歌，程式碼如下：<br>\n",
    "    (由於不同時間的搜尋結果會不一樣，因此即使設定相同的 random seeds 也無法 reproduce)\n",
    "</font>"
   ]
  },
  {
   "cell_type": "markdown",
   "metadata": {},
   "source": [
    "### 2. **<font face=\"微軟正黑體\">欄位介紹</font>**\n",
    "\n",
    "- name: 歌曲名稱<br>\n",
    "- available_market: 歌曲在多少地區可以被取得<br>\n",
    "- explicit: 是否有明確的歌詞 (由提供者標示)<br>\n",
    "- genre: 歌曲種類，共 112 種 (每種各 100 首歌)<br>\n",
    "- popularity: 流行程度，數值範圍為 0到100。評分標準主要基於播放總數及近期播放數。一般來說，最近常播放的歌曲比過去常播放的歌曲有更高的流行度。<br>\n",
    "- acousticness: 原聲性，數值範圍為 0到1。1 代表有很高的信心認定這首歌是不經過電子音效處理，可以聽到最直接的樂音及人聲。<br>\n",
    "- danceability: 舞蹈性，數值範圍為 0到1。根據拍子、節奏和整體規律來決定是否適合跳舞。<br>\n",
    "- duration_ms: 歌曲長度，以毫秒為單位。<br>\n",
    "- energy: 能量，數值範圍為 0到1。代表感受上的強度與活力。一般來說，從有能量的歌曲會感受到快、大聲與嘈雜，而評分的特徵包含dynamic range、 perceived loudness, timbre, onset rate, 和general entropy。<br>\n",
    "- instrumentalness: 樂器性，數值範圍為 0到1。偵測歌曲是否沒有人聲 (哼唱算樂器，而說唱或言語則為人聲)，此數值 >0.5 即可代表純樂器，不過越接近 1 信心水準越高。<br>\n",
    "- key: 調，代表不同 standard Pitch Class notation，如 0=C, 1=C♯/D♭, 2=D，若無則為-1。<br>\n",
    "- liveness: 數值範圍為 0到1。越高代表現場演奏的可能性高，>0.8表示極有可能為現場演奏。<br>\n",
    "- loudness: 歌曲整體的響度，單位為分貝 (dB)，數值為整首歌的平均值，大部分在 -60至0。<br>\n",
    "- mode: 調式，大調為1，小調為0。<br>\n",
    "- speechiness: 言語性，數值範圍為 0到1。越接近純粹的言語 (如:脫口秀、有聲書、誦詩)，此數值越接近 1，>0.66 代表很有可能皆為言語所構成，0.33到0.66 則可能有部分為言語(如:說唱)，<0.33 為音樂或其他非言語性歌曲。<br>\n",
    "- tempo: 節奏，單位為 beats per minute (BPM)。<br>\n",
    "- time_signature: 歌曲整體的拍子。<br>\n",
    "- valence: 正向性，數值範圍為 0到1，較高代表此音樂聽起來較為正面，較低則為負面。"
   ]
  },
  {
   "cell_type": "markdown",
   "metadata": {},
   "source": [
    "**<font face=\"微軟正黑體\">敘述統計 & 視覺化</font>**\n",
    "---"
   ]
  },
  {
   "cell_type": "code",
   "execution_count": 5,
   "metadata": {},
   "outputs": [],
   "source": [
    "import numpy as np\n",
    "import pandas as pd\n",
    "import matplotlib.pyplot as plt\n",
    "import seaborn as sns\n",
    "import scipy.stats as stats\n",
    "import statsmodels.api as sm\n",
    "import statsmodels.stats.api as sms\n",
    "import statsmodels.formula.api as smf\n",
    "import statsmodels.stats.multicomp as smm\n",
    "import statsmodels\n",
    "import statsmodels.stats.outliers_influence as sso\n",
    "pd.options.display.max_rows = 999\n",
    "\n",
    "df = pd.read_csv(\"tracks_no_may.csv\")"
   ]
  },
  {
   "cell_type": "markdown",
   "metadata": {},
   "source": [
    "### 2. **<font face=\"微軟正黑體\">歌曲類型選擇與熱門度觀察</font>**"
   ]
  },
  {
   "cell_type": "code",
   "execution_count": 6,
   "metadata": {},
   "outputs": [],
   "source": [
    "cato = [ 'j-pop', 'k-pop', 'hip-hop','country', 'dance', 'jazz', 'pop', 'blues']"
   ]
  },
  {
   "cell_type": "markdown",
   "metadata": {},
   "source": [
    "我們選擇了'j-pop', 'k-pop', 'hip-hop','country', 'dance', 'jazz', 'pop', 'blues'共8種歌曲類型"
   ]
  },
  {
   "cell_type": "code",
   "execution_count": 7,
   "metadata": {},
   "outputs": [
    {
     "data": {
      "image/png": "[encoded data removed]",
      "text/plain": [
       "<Figure size 432x288 with 1 Axes>"
      ]
     },
     "metadata": {
      "needs_background": "light"
     },
     "output_type": "display_data"
    },
    {
     "name": "stdout",
     "output_type": "stream",
     "text": [
      "('mean of popularity ', 49.291666666666664)\n",
      "('min of popularity ', 39.0)\n",
      "('max of popularity ', 69.0)\n",
      "('standard deviation of popularity ', 7.346917243474037)\n",
      "('skewness of popularity ', 0.6929780661163695)\n",
      "('kurtosis of popularity ', -0.4024851529691178)\n"
     ]
    },
    {
     "data": {
      "image/png": "[encoded data removed]",
      "text/plain": [
       "<Figure size 432x288 with 1 Axes>"
      ]
     },
     "metadata": {
      "needs_background": "light"
     },
     "output_type": "display_data"
    },
    {
     "name": "stdout",
     "output_type": "stream",
     "text": [
      "('mean of popularity ', 57.54255319148936)\n",
      "('min of popularity ', 47.0)\n",
      "('max of popularity ', 77.0)\n",
      "('standard deviation of popularity ', 6.559348403281751)\n",
      "('skewness of popularity ', 0.7978654828632658)\n",
      "('kurtosis of popularity ', 0.423048458697024)\n"
     ]
    },
    {
     "data": {
      "image/png": "[encoded data removed]",
      "text/plain": [
       "<Figure size 432x288 with 1 Axes>"
      ]
     },
     "metadata": {
      "needs_background": "light"
     },
     "output_type": "display_data"
    },
    {
     "name": "stdout",
     "output_type": "stream",
     "text": [
      "('mean of popularity ', 68.9125)\n",
      "('min of popularity ', 60.0)\n",
      "('max of popularity ', 86.0)\n",
      "('standard deviation of popularity ', 5.774658190333854)\n",
      "('skewness of popularity ', 0.8799568929287541)\n",
      "('kurtosis of popularity ', 0.45772898318637845)\n"
     ]
    },
    {
     "data": {
      "image/png": "[encoded data removed]",
      "text/plain": [
       "<Figure size 432x288 with 1 Axes>"
      ]
     },
     "metadata": {
      "needs_background": "light"
     },
     "output_type": "display_data"
    },
    {
     "name": "stdout",
     "output_type": "stream",
     "text": [
      "('mean of popularity ', 61.989583333333336)\n",
      "('min of popularity ', 54.0)\n",
      "('max of popularity ', 82.0)\n",
      "('standard deviation of popularity ', 6.072361530854658)\n",
      "('skewness of popularity ', 0.9170206175208505)\n",
      "('kurtosis of popularity ', 0.34562439793597965)\n"
     ]
    },
    {
     "data": {
      "image/png": "[encoded data removed]",
      "text/plain": [
       "<Figure size 432x288 with 1 Axes>"
      ]
     },
     "metadata": {
      "needs_background": "light"
     },
     "output_type": "display_data"
    },
    {
     "name": "stdout",
     "output_type": "stream",
     "text": [
      "('mean of popularity ', 69.23333333333333)\n",
      "('min of popularity ', 57.0)\n",
      "('max of popularity ', 89.0)\n",
      "('standard deviation of popularity ', 6.14625125538991)\n",
      "('skewness of popularity ', 0.5013524717490567)\n",
      "('kurtosis of popularity ', 0.6098109940109495)\n"
     ]
    },
    {
     "data": {
      "image/png": "[encoded data removed]",
      "text/plain": [
       "<Figure size 432x288 with 1 Axes>"
      ]
     },
     "metadata": {
      "needs_background": "light"
     },
     "output_type": "display_data"
    },
    {
     "name": "stdout",
     "output_type": "stream",
     "text": [
      "('mean of popularity ', 51.45918367346939)\n",
      "('min of popularity ', 39.0)\n",
      "('max of popularity ', 65.0)\n",
      "('standard deviation of popularity ', 5.133613440414755)\n",
      "('skewness of popularity ', 0.25965050179938787)\n",
      "('kurtosis of popularity ', 0.0816017783148899)\n"
     ]
    },
    {
     "data": {
      "image/png": "[encoded data removed]",
      "text/plain": [
       "<Figure size 432x288 with 1 Axes>"
      ]
     },
     "metadata": {
      "needs_background": "light"
     },
     "output_type": "display_data"
    },
    {
     "name": "stdout",
     "output_type": "stream",
     "text": [
      "('mean of popularity ', 74.19318181818181)\n",
      "('min of popularity ', 66.0)\n",
      "('max of popularity ', 94.0)\n",
      "('standard deviation of popularity ', 5.014594686972034)\n",
      "('skewness of popularity ', 1.3484128528030743)\n",
      "('kurtosis of popularity ', 2.8739840419693037)\n"
     ]
    },
    {
     "data": {
      "image/png": "[encoded data removed]",
      "text/plain": [
       "<Figure size 432x288 with 1 Axes>"
      ]
     },
     "metadata": {
      "needs_background": "light"
     },
     "output_type": "display_data"
    },
    {
     "name": "stdout",
     "output_type": "stream",
     "text": [
      "('mean of popularity ', 51.34065934065934)\n",
      "('min of popularity ', 38.0)\n",
      "('max of popularity ', 74.0)\n",
      "('standard deviation of popularity ', 7.820514021497537)\n",
      "('skewness of popularity ', 1.0877268284029413)\n",
      "('kurtosis of popularity ', 0.9821078346370067)\n"
     ]
    }
   ],
   "source": [
    "data_collect = pd.DataFrame(columns=df.columns) \n",
    "\n",
    "for i in range(0,len(cato)):\n",
    "    data_cato = df[df['genre'] == cato[i]]\n",
    "    #display(data_cato.head())\n",
    "        \n",
    "    #作圖，繪出popularity散佈圖\n",
    "    plt.hist(data_cato['popularity'],bins = 10) \n",
    "    plt.xlabel(\"popularity\")\n",
    "    plt.ylabel(\"numbers of song\")\n",
    "    title = \"popularity distribution for \"+cato[i]\n",
    "    plt.title(title)\n",
    "    plt.show()\n",
    "    \n",
    "    mean = data_cato['popularity'].mean()\n",
    "    minimum = min(data_cato['popularity'])\n",
    "    maximum = max(data_cato['popularity'])\n",
    "    kurtosis = stats.kurtosis(data_cato['popularity'].values)\n",
    "    skewness = stats.skew(data_cato['popularity'].values)\n",
    "    std = data_cato['popularity'].std()\n",
    "    \n",
    "\n",
    "    print(\"mean of popularity \",mean)\n",
    "    print(\"min of popularity \",minimum)\n",
    "    print(\"max of popularity \",maximum)\n",
    "    print(\"standard deviation of popularity \",std)\n",
    "    print(\"skewness of popularity \",skewness)\n",
    "    print(\"kurtosis of popularity \",kurtosis)\n",
    "    \n",
    "    data_collect = pd.concat([data_collect,data_cato])\n",
    "    \n",
    "# 看每種歌曲的popularity相關資料\n",
    "summary = data_collect[['popularity','genre']].groupby('genre').describe()"
   ]
  },
  {
   "cell_type": "code",
   "execution_count": 8,
   "metadata": {},
   "outputs": [
    {
     "data": {
      "text/html": [
       "<div>\n",
       "<style scoped>\n",
       "    .dataframe tbody tr th:only-of-type {\n",
       "        vertical-align: middle;\n",
       "    }\n",
       "\n",
       "    .dataframe tbody tr th {\n",
       "        vertical-align: top;\n",
       "    }\n",
       "\n",
       "    .dataframe thead tr th {\n",
       "        text-align: left;\n",
       "    }\n",
       "\n",
       "    .dataframe thead tr:last-of-type th {\n",
       "        text-align: right;\n",
       "    }\n",
       "</style>\n",
       "<table border=\"1\" class=\"dataframe\">\n",
       "  <thead>\n",
       "    <tr>\n",
       "      <th></th>\n",
       "      <th colspan=\"8\" halign=\"left\">popularity</th>\n",
       "    </tr>\n",
       "    <tr>\n",
       "      <th></th>\n",
       "      <th>count</th>\n",
       "      <th>mean</th>\n",
       "      <th>std</th>\n",
       "      <th>min</th>\n",
       "      <th>25%</th>\n",
       "      <th>50%</th>\n",
       "      <th>75%</th>\n",
       "      <th>max</th>\n",
       "    </tr>\n",
       "    <tr>\n",
       "      <th>genre</th>\n",
       "      <th></th>\n",
       "      <th></th>\n",
       "      <th></th>\n",
       "      <th></th>\n",
       "      <th></th>\n",
       "      <th></th>\n",
       "      <th></th>\n",
       "      <th></th>\n",
       "    </tr>\n",
       "  </thead>\n",
       "  <tbody>\n",
       "    <tr>\n",
       "      <th>blues</th>\n",
       "      <td>91.0</td>\n",
       "      <td>51.340659</td>\n",
       "      <td>7.820514</td>\n",
       "      <td>38.0</td>\n",
       "      <td>46.00</td>\n",
       "      <td>50.0</td>\n",
       "      <td>55.0</td>\n",
       "      <td>74.0</td>\n",
       "    </tr>\n",
       "    <tr>\n",
       "      <th>country</th>\n",
       "      <td>96.0</td>\n",
       "      <td>61.989583</td>\n",
       "      <td>6.072362</td>\n",
       "      <td>54.0</td>\n",
       "      <td>58.00</td>\n",
       "      <td>61.0</td>\n",
       "      <td>66.0</td>\n",
       "      <td>82.0</td>\n",
       "    </tr>\n",
       "    <tr>\n",
       "      <th>dance</th>\n",
       "      <td>90.0</td>\n",
       "      <td>69.233333</td>\n",
       "      <td>6.146251</td>\n",
       "      <td>57.0</td>\n",
       "      <td>65.00</td>\n",
       "      <td>69.0</td>\n",
       "      <td>73.0</td>\n",
       "      <td>89.0</td>\n",
       "    </tr>\n",
       "    <tr>\n",
       "      <th>hip-hop</th>\n",
       "      <td>80.0</td>\n",
       "      <td>68.912500</td>\n",
       "      <td>5.774658</td>\n",
       "      <td>60.0</td>\n",
       "      <td>64.75</td>\n",
       "      <td>68.0</td>\n",
       "      <td>72.0</td>\n",
       "      <td>86.0</td>\n",
       "    </tr>\n",
       "    <tr>\n",
       "      <th>j-pop</th>\n",
       "      <td>96.0</td>\n",
       "      <td>49.291667</td>\n",
       "      <td>7.346917</td>\n",
       "      <td>39.0</td>\n",
       "      <td>44.00</td>\n",
       "      <td>47.5</td>\n",
       "      <td>55.0</td>\n",
       "      <td>69.0</td>\n",
       "    </tr>\n",
       "    <tr>\n",
       "      <th>jazz</th>\n",
       "      <td>98.0</td>\n",
       "      <td>51.459184</td>\n",
       "      <td>5.133613</td>\n",
       "      <td>39.0</td>\n",
       "      <td>48.00</td>\n",
       "      <td>51.0</td>\n",
       "      <td>55.0</td>\n",
       "      <td>65.0</td>\n",
       "    </tr>\n",
       "    <tr>\n",
       "      <th>k-pop</th>\n",
       "      <td>94.0</td>\n",
       "      <td>57.542553</td>\n",
       "      <td>6.559348</td>\n",
       "      <td>47.0</td>\n",
       "      <td>52.00</td>\n",
       "      <td>57.0</td>\n",
       "      <td>61.0</td>\n",
       "      <td>77.0</td>\n",
       "    </tr>\n",
       "    <tr>\n",
       "      <th>pop</th>\n",
       "      <td>88.0</td>\n",
       "      <td>74.193182</td>\n",
       "      <td>5.014595</td>\n",
       "      <td>66.0</td>\n",
       "      <td>71.00</td>\n",
       "      <td>73.0</td>\n",
       "      <td>77.0</td>\n",
       "      <td>94.0</td>\n",
       "    </tr>\n",
       "  </tbody>\n",
       "</table>\n",
       "</div>"
      ],
      "text/plain": [
       "        popularity                                                    \n",
       "             count       mean       std   min    25%   50%   75%   max\n",
       "genre                                                                 \n",
       "blues         91.0  51.340659  7.820514  38.0  46.00  50.0  55.0  74.0\n",
       "country       96.0  61.989583  6.072362  54.0  58.00  61.0  66.0  82.0\n",
       "dance         90.0  69.233333  6.146251  57.0  65.00  69.0  73.0  89.0\n",
       "hip-hop       80.0  68.912500  5.774658  60.0  64.75  68.0  72.0  86.0\n",
       "j-pop         96.0  49.291667  7.346917  39.0  44.00  47.5  55.0  69.0\n",
       "jazz          98.0  51.459184  5.133613  39.0  48.00  51.0  55.0  65.0\n",
       "k-pop         94.0  57.542553  6.559348  47.0  52.00  57.0  61.0  77.0\n",
       "pop           88.0  74.193182  5.014595  66.0  71.00  73.0  77.0  94.0"
      ]
     },
     "execution_count": 8,
     "metadata": {},
     "output_type": "execute_result"
    }
   ],
   "source": [
    "summary"
   ]
  },
  {
   "cell_type": "markdown",
   "metadata": {},
   "source": [
    "### 2.1 觀察每個歌曲類型的熱門程度平均數"
   ]
  },
  {
   "cell_type": "code",
   "execution_count": 9,
   "metadata": {},
   "outputs": [
    {
     "name": "stdout",
     "output_type": "stream",
     "text": [
      "genre\n",
      "j-pop      49.291667\n",
      "blues      51.340659\n",
      "jazz       51.459184\n",
      "k-pop      57.542553\n",
      "country    61.989583\n",
      "hip-hop    68.912500\n",
      "dance      69.233333\n",
      "pop        74.193182\n",
      "Name: (popularity, mean), dtype: float64\n"
     ]
    }
   ],
   "source": [
    "data_mean = summary.iloc[:,1] #取mean欄位\n",
    "data_mean = data_mean.sort_values() #由小到大排序\n",
    "print(data_mean)"
   ]
  },
  {
   "cell_type": "markdown",
   "metadata": {},
   "source": [
    "我們發現pop的平均熱門程度最高，j-pop最低。這個結果顯示各分類的熱門程度的平均數有明顯的差異，而不同分類的歌曲在各項特性會有差異，這讓我們好奇不同的特性會對歌曲的熱門程度造成什麼影響"
   ]
  },
  {
   "cell_type": "markdown",
   "metadata": {},
   "source": [
    "### 2.2 觀察每個歌曲類型的熱門程度標準差"
   ]
  },
  {
   "cell_type": "code",
   "execution_count": 10,
   "metadata": {},
   "outputs": [
    {
     "name": "stdout",
     "output_type": "stream",
     "text": [
      "genre\n",
      "pop        5.014595\n",
      "jazz       5.133613\n",
      "hip-hop    5.774658\n",
      "country    6.072362\n",
      "dance      6.146251\n",
      "k-pop      6.559348\n",
      "j-pop      7.346917\n",
      "blues      7.820514\n",
      "Name: (popularity, std), dtype: float64\n"
     ]
    }
   ],
   "source": [
    "data_std = summary.iloc[:,2] #取std欄位\n",
    "data_std = data_std.sort_values() #由小到大排序\n",
    "print(data_std)"
   ]
  },
  {
   "cell_type": "markdown",
   "metadata": {},
   "source": [
    "我們發現pop的標準差最低，blues最高，這邊有一個十分有趣的現象，先前mean較高的歌曲類型通常會有較低的標準差"
   ]
  },
  {
   "cell_type": "markdown",
   "metadata": {},
   "source": [
    "### 2.3 skewness and kurtosis"
   ]
  },
  {
   "cell_type": "markdown",
   "metadata": {},
   "source": [
    "我們發現大部分的歌曲類型的熱門程度分佈都具備right-skewed的性質，而在kurtosis方面，只有pop超過1和blues接近1，顯示他們的分佈較為集中"
   ]
  },
  {
   "cell_type": "markdown",
   "metadata": {},
   "source": [
    "### 2.4 檢查Outliers"
   ]
  },
  {
   "cell_type": "code",
   "execution_count": 12,
   "metadata": {},
   "outputs": [
    {
     "data": {
      "image/png": "[encoded data removed]",
      "text/plain": [
       "<Figure size 720x2880 with 8 Axes>"
      ]
     },
     "metadata": {
      "needs_background": "light"
     },
     "output_type": "display_data"
    }
   ],
   "source": [
    "fig, axs = plt.subplots(int(len(cato)/2), 2, figsize=(10,40))\n",
    "\n",
    "for i in range(0,len(cato)):\n",
    "    data_cato = df[df['genre'] == cato[i]]\n",
    "    #display(data_cato.head())\n",
    "    \n",
    "    #作圖，繪出popularity盒狀圖\n",
    "    #data_cato['popularity'].plot(kind=\"box\")\n",
    "    axs[int(i/2), i%2].boxplot(data_cato['popularity'])\n",
    "    title = \"boxplot for \"+cato[i]\n",
    "    axs[int(i/2), i%2].set_title(title)\n",
    "\n",
    "plt.show()"
   ]
  },
  {
   "cell_type": "markdown",
   "metadata": {},
   "source": [
    "從各個歌曲分類的boxplot來看，outliers並不多"
   ]
  },
  {
   "cell_type": "markdown",
   "metadata": {},
   "source": [
    "**<font face=\"微軟正黑體\">假設檢定</font>**\n",
    "---"
   ]
  },
  {
   "cell_type": "code",
   "execution_count": null,
   "metadata": {},
   "outputs": [],
   "source": []
  },
  {
   "cell_type": "markdown",
   "metadata": {},
   "source": [
    "**<font face=\"微軟正黑體\">迴歸分析</font>**\n",
    "---"
   ]
  },
  {
   "cell_type": "code",
   "execution_count": null,
   "metadata": {},
   "outputs": [],
   "source": []
  },
  {
   "cell_type": "markdown",
   "metadata": {},
   "source": [
    "**<font face=\"微軟正黑體\">結論與建議</font>**\n",
    "---"
   ]
  },
  {
   "cell_type": "code",
   "execution_count": null,
   "metadata": {},
   "outputs": [],
   "source": []
  }
 ],
 "metadata": {
  "kernelspec": {
   "display_name": "Python 2",
   "language": "python",
   "name": "python2"
  },
  "language_info": {
   "codemirror_mode": {
    "name": "ipython",
    "version": 2
   },
   "file_extension": ".py",
   "mimetype": "text/x-python",
   "name": "python",
   "nbconvert_exporter": "python",
   "pygments_lexer": "ipython2",
   "version": "2.7.16"
  }
 },
 "nbformat": 4,
 "nbformat_minor": 4
}
