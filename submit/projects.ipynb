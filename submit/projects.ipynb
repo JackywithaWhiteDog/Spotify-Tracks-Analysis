{
 "cells": [
  {
   "cell_type": "markdown",
   "metadata": {},
   "source": [
    "Statistics (I)(2) Final Project\n",
    "===\n",
    "\n",
    "<font face=\"微軟正黑體\">\n",
    "<b>組長</b> : 劉鎮霆 B07705015 <br>\n",
    "<b>組員</b> : 黃煒勛 B07705010 | 黃　心 B07705013 | 康　崴 B07705014 | 張宇承 B07705017 | 李旻叡 B07705037\n",
    "</font>"
   ]
  },
  {
   "cell_type": "markdown",
   "metadata": {},
   "source": [
    "<font face=\"微軟正黑體\">\n",
    "讀取函式庫\n",
    "</font>"
   ]
  },
  {
   "cell_type": "code",
   "execution_count": 27,
   "metadata": {},
   "outputs": [],
   "source": [
    "import os\n",
    "import sys\n",
    "import random\n",
    "\n",
    "import spotipy\n",
    "from spotipy.oauth2 import SpotifyClientCredentials\n",
    "\n",
    "import numpy as np\n",
    "import pandas as pd\n",
    "pd.options.display.max_rows = 999\n",
    "\n",
    "import matplotlib.pyplot as plt\n",
    "%matplotlib inline\n",
    "plt.style.use('ggplot')\n",
    "\n",
    "import seaborn as sns\n",
    "import scipy.stats as stats\n",
    "import statsmodels.api as sm\n",
    "import statsmodels.stats.api as sms\n",
    "import statsmodels.formula.api as smf\n",
    "import statsmodels.stats.multicomp as smm\n",
    "import statsmodels\n",
    "import statsmodels.stats.outliers_influence as sso"
   ]
  },
  {
   "cell_type": "markdown",
   "metadata": {},
   "source": [
    "## <center>Table of Contents</center>\n",
    "\n",
    "---\n",
    "\n",
    "[<center><font face=\"微軟正黑體\">分析主題</font></center>](#分析主題)\n",
    "[<center><font face=\"微軟正黑體\">動機</font></center>](#動機)\n",
    "[<center><font face=\"微軟正黑體\">敘述統計 & 視覺化</font></center>](#分析主題)\n",
    "[<center><font face=\"微軟正黑體\">假設檢定</font></center>](#動機)\n",
    "[<center><font face=\"微軟正黑體\">迴歸分析</font></center>](#分析主題)\n",
    "[<center><font face=\"微軟正黑體\">結論與建議</font></center>](#動機)\n",
    "\n",
    "---\n"
   ]
  },
  {
   "cell_type": "markdown",
   "metadata": {},
   "source": [
    "**<font face=\"微軟正黑體\">分析主題</font>**\n",
    "---"
   ]
  },
  {
   "cell_type": "markdown",
   "metadata": {},
   "source": [
    "<font face=\"微軟正黑體\">Spotify 串流平台中歌曲特性對熱門程度的影響</font>"
   ]
  },
  {
   "cell_type": "markdown",
   "metadata": {},
   "source": [
    "**<font face=\"微軟正黑體\">動機</font>**\n",
    "---"
   ]
  },
  {
   "cell_type": "markdown",
   "metadata": {},
   "source": [
    "<font face=\"微軟正黑體\">\n",
    "&emsp;&emsp;現今社會串流音樂蔚為主流，全世界有數億人在使用這類的服務。而在眾多的串流服務中又以 Spotify 為箇中翹楚，它有著 2.86 億個使用者，想必各個音樂發行商的競爭也是十分激烈。我們這些平時熱愛音樂的學生不禁好奇，一首歌要有怎麼樣的特性才可以在 Spotify 的使用環境中脫穎而出，得到較高的熱門程度。若是知道熱門程度與歌曲各項特性的關係，或許發行商可以根據此關係調整策略，獲得較高的觸及率和收益。\n",
    "</font>"
   ]
  },
  {
   "cell_type": "markdown",
   "metadata": {},
   "source": [
    "**<font face=\"微軟正黑體\">資料集</font>**\n",
    "---"
   ]
  },
  {
   "cell_type": "markdown",
   "metadata": {},
   "source": [
    "### 1. **<font face=\"微軟正黑體\">資料蒐集</font>**\n",
    "\n",
    "<font face=\"微軟正黑體\">\n",
    "    &emsp;&emsp;我們首先在 kaggle 上找到\n",
    "    <a href='https://www.kaggle.com/zaheenhamidani/ultimate-spotify-tracks-db'>Spotify 歌曲資料集</a>,\n",
    "    其中包含了每一首歌的歌曲類型、歌手、流行度 (popularity)、原聲性 (acousticness) 等數據。\n",
    "    由於 kaggle 上的資料比較舊 (2019 年 3 月)，再加上其中的歌曲類型有經過人為處理 (例如將 kids 與 children 合併為一種類型)，因此我們決定參考它蒐集資料的方法，重新蒐集歌曲資料。<br>\n",
    "    &emsp;&emsp;抽樣時，我們採用 stratified sampling，透過 Soptipy 函式庫搜尋 Spotify 上各個類型的歌曲 (會回傳歌曲資料的 list)，再各自隨機抽樣出 100 首歌，程式碼如下：<br>\n",
    "    (由於不同時間的搜尋結果會不一樣，因此即使設定相同的 random seeds 也無法 reproduce，因此底下只是展示 api 的程式碼)\n",
    "</font>"
   ]
  },
  {
   "cell_type": "markdown",
   "metadata": {},
   "source": [
    "<font face=\"微軟正黑體\">\n",
    "    取得授權 (考量安全性問題，我們將用戶資料以 dictionary 的形式存在 <b>auth.npy</b>，資料的取得方式見此\n",
    "    <a href='https://developer.spotify.com/documentation/general/guides/app-settings/'>連結</a>)\n",
    "</font>"
   ]
  },
  {
   "cell_type": "code",
   "execution_count": 2,
   "metadata": {},
   "outputs": [],
   "source": [
    "auth = np.load('auth.npy', allow_pickle=True)\n",
    "os.environ[\"SPOTIPY_CLIENT_ID\"] = auth.item().get('id')\n",
    "os.environ[\"SPOTIPY_CLIENT_SECRET\"] = auth.item().get('secret')\n",
    "sp = spotipy.Spotify(client_credentials_manager=SpotifyClientCredentials(requests_timeout=None))"
   ]
  },
  {
   "cell_type": "markdown",
   "metadata": {},
   "source": [
    "<font face=\"微軟正黑體\">\n",
    "    定義搜尋歌曲的函數\n",
    "</font>"
   ]
  },
  {
   "cell_type": "code",
   "execution_count": 4,
   "metadata": {},
   "outputs": [],
   "source": [
    "def search_genre(genre, offset=0, max_n=None):\n",
    "    if max_n is None:\n",
    "        max_n = sp.search(q=f'genre:\"{genre}\"', offset=0, limit=1, type='track').get('tracks').get('total')\n",
    "    if max_n <= 50:\n",
    "        search = sp.search(q=f'genre:\"{genre}\"', offset=offset, limit=max_n, type='track').get('tracks')\n",
    "    else:\n",
    "        search = {}\n",
    "        search['total'] = 0\n",
    "        search['items'] = []\n",
    "        while search['total'] < max_n:\n",
    "            step = search['total']+1\n",
    "            print(f'\\r[{step}/{max_n}] (search)', end='')\n",
    "            num = min(50, max_n-search['total'])\n",
    "            try:\n",
    "                tmp = sp.search(q=f'genre:\"{genre}\"', offset=offset+search['total'], limit=num, type='track').get('tracks')\n",
    "            except:\n",
    "                break\n",
    "            search['items'].extend(tmp.get('items'))\n",
    "            search['total'] += len(tmp.get('items'))\n",
    "    return search\n",
    "\n",
    "def crawl(genres):\n",
    "    variables = ['id', \n",
    "                 'name', \n",
    "                 'genre', \n",
    "                 'url', \n",
    "                 'popularity', \n",
    "                 'acousticness', \n",
    "                 'danceability',\n",
    "                 'energy',\n",
    "                 'instrumentalness',\n",
    "                 'liveness',\n",
    "                 'speechiness',\n",
    "                 'duration_ms',\n",
    "                 'key',\n",
    "                 'loudness',\n",
    "                 'mode',\n",
    "                 'tempo',\n",
    "                 'valence',\n",
    "                 'available_market',\n",
    "                 'release_date',\n",
    "                 'explicit']\n",
    "    columns = {v:[] for v in variables}\n",
    "    data = pd.DataFrame(data=columns)\n",
    "    for i, genre in enumerate(genres):\n",
    "        n = sp.search(q=f'genre:\"{genre}\"', offset=0, limit=1, type='track').get('tracks').get('total')\n",
    "        if n == 0:\n",
    "            continue\n",
    "        offsets = random.sample(list(np.arange(min(n-1, 1999))), k=min(n, 100))\n",
    "        for j, offset in enumerate(offsets):\n",
    "            print(f'\\r[{j+1}/{len(offsets)}] (process)', end='')\n",
    "            items = search_genre(genre, offset=offset, max_n=1).get('items')\n",
    "            if items is None:\n",
    "                continue\n",
    "            result = items[0]\n",
    "            feature = sp.audio_features(result.get('id'))[0]\n",
    "            row = {\n",
    "                'id': result.get('id') or '', \n",
    "                'name': result.get('name') or '', \n",
    "                'genre': genre, \n",
    "                'url': result.get('external_urls').get('spotify') or result.get('external_urls').get(list(result.get('external_urls').keys())[0]) or '',\n",
    "                'popularity': result.get('popularity'),\n",
    "                'available_market': len(result.get('available_markets')),\n",
    "                'duration_ms': result.get('duration_ms'),\n",
    "                'explicit': result.get('explicit'), # has explicit lyrics\n",
    "                'release_date': result.get('album').get('release_date'),\n",
    "                'acousticness': feature.get('acousticness'), \n",
    "                'danceability': feature.get('danceability'),\n",
    "                'energy': feature.get('energy'),\n",
    "                'instrumentalness': feature.get('instrumentalness'),\n",
    "                'liveness': feature.get('liveness'),\n",
    "                'speechiness': feature.get('speechiness'),\n",
    "                'key': feature.get('key'),\n",
    "                'loudness': feature.get('loudness'),\n",
    "                'mode': feature.get('mode'),\n",
    "                'tempo': feature.get('tempo'),\n",
    "                'valence': feature.get('valence')\n",
    "            }\n",
    "            \n",
    "            data = data.append(row, ignore_index=True)\n",
    "        print(f'\\r[{i+1}/{len(genres)}] genre: {genre}'.rjust(20, ' '))\n",
    "    return data"
   ]
  },
  {
   "cell_type": "markdown",
   "metadata": {},
   "source": [
    "<font face=\"微軟正黑體\">\n",
    "    開始搜尋，每項歌曲類型取 100 首歌\n",
    "</font>"
   ]
  },
  {
   "cell_type": "code",
   "execution_count": 5,
   "metadata": {},
   "outputs": [
    {
     "name": "stdout",
     "output_type": "stream",
     "text": [
      "[1/126] genre: acoustic\n",
      "[2/126] genre: afrobeat\n",
      "[3/126] genre: alt-rock\n",
      "[4/126] genre: alternative\n",
      "[5/126] genre: ambient\n",
      "[6/126] genre: anime\n",
      "[7/126] genre: black-metal\n",
      "[8/126] genre: bluegrass\n",
      "[9/126] genre: blues\n",
      "[11/126] genre: brazil\n",
      "[12/126] genre: breakbeat\n",
      "[13/126] genre: british\n",
      "[14/126] genre: cantopop\n",
      "[15/126] genre: chicago-house\n",
      "[16/126] genre: children\n",
      "[17/126] genre: chill\n",
      "[18/126] genre: classical\n",
      "[19/126] genre: club\n",
      "[20/126] genre: comedy\n",
      "[21/126] genre: country\n",
      "[22/126] genre: dance\n",
      "[23/126] genre: dancehall\n",
      "[24/126] genre: death-metal\n",
      "[25/126] genre: deep-house\n",
      "[26/126] genre: detroit-techno\n",
      "[27/126] genre: disco\n",
      "[28/126] genre: disney\n",
      "[29/126] genre: drum-and-bass\n",
      "[30/126] genre: dub\n",
      "[31/126] genre: dubstep\n",
      "[32/126] genre: edm\n",
      "[33/126] genre: electro\n",
      "[34/126] genre: electronic\n",
      "[35/126] genre: emo\n",
      "[36/126] genre: folk\n",
      "[37/126] genre: forro\n",
      "[38/126] genre: french\n",
      "[39/126] genre: funk\n",
      "[40/126] genre: garage\n",
      "[41/126] genre: german\n",
      "[42/126] genre: gospel\n",
      "[43/126] genre: goth\n",
      "[44/126] genre: grindcore\n",
      "[45/126] genre: groove\n",
      "[46/126] genre: grunge\n",
      "[47/126] genre: guitar\n",
      "[48/126] genre: happy\n",
      "[49/126] genre: hard-rock\n",
      "[50/126] genre: hardcore\n",
      "[51/126] genre: hardstyle\n",
      "[52/126] genre: heavy-metal\n",
      "[53/126] genre: hip-hop\n",
      "[55/126] genre: honky-tonk\n",
      "[56/126] genre: house\n",
      "[57/126] genre: idm\n",
      "[58/126] genre: indian\n",
      "[59/126] genre: indie\n",
      "[60/126] genre: indie-pop\n",
      "[61/126] genre: industrial\n",
      "[62/126] genre: iranian\n",
      "[63/126] genre: j-dance\n",
      "[64/126] genre: j-idol\n",
      "[65/126] genre: j-pop\n",
      "[66/126] genre: j-rock\n",
      "[67/126] genre: jazz\n",
      "[68/126] genre: k-pop\n",
      "[69/126] genre: kids\n",
      "[70/126] genre: latin\n",
      "[71/126] genre: latino\n",
      "[72/126] genre: malay\n",
      "[73/126] genre: mandopop\n",
      "[74/126] genre: metal\n",
      "[76/126] genre: metalcore\n",
      "[77/126] genre: minimal-techno\n",
      "[79/126] genre: mpb\n",
      "[80/126] genre: new-age\n",
      "[82/126] genre: opera\n",
      "[83/126] genre: pagode\n",
      "[84/126] genre: party\n",
      "[86/126] genre: piano\n",
      "[87/126] genre: pop\n",
      "[88/126] genre: pop-film\n",
      "[90/126] genre: power-pop\n",
      "[91/126] genre: progressive-house\n",
      "[92/126] genre: psych-rock\n",
      "[93/126] genre: punk\n",
      "[94/126] genre: punk-rock\n",
      "[95/126] genre: r-n-b\n",
      "[97/126] genre: reggae\n",
      "[98/126] genre: reggaeton\n",
      "[100/126] genre: rock\n",
      "[101/126] genre: rock-n-roll\n",
      "[102/126] genre: rockabilly\n",
      "[103/126] genre: romance\n",
      "[105/126] genre: salsa\n",
      "[106/126] genre: samba\n",
      "[107/126] genre: sertanejo\n",
      "[108/126] genre: show-tunes\n",
      "[109/126] genre: singer-songwriter\n",
      "[110/126] genre: ska\n",
      "[111/126] genre: sleep\n",
      "[112/126] genre: songwriter\n",
      "[113/126] genre: soul\n",
      "[115/126] genre: spanish\n",
      "[118/126] genre: swedish\n",
      "[119/126] genre: synth-pop\n",
      "[120/126] genre: tango\n",
      "[121/126] genre: techno\n",
      "[122/126] genre: trance\n",
      "[123/126] genre: trip-hop\n",
      "[124/126] genre: turkish\n",
      "[126/126] genre: world-music\n"
     ]
    }
   ],
   "source": [
    "random.seed(113)\n",
    "np.random.seed(113)\n",
    "allGenres = sp.recommendation_genre_seeds()['genres']\n",
    "data = crawl(allGenres)"
   ]
  },
  {
   "cell_type": "markdown",
   "metadata": {},
   "source": [
    "<font face=\"微軟正黑體\">\n",
    "    檢查搜尋結果\n",
    "</font>"
   ]
  },
  {
   "cell_type": "code",
   "execution_count": 20,
   "metadata": {},
   "outputs": [
    {
     "name": "stdout",
     "output_type": "stream",
     "text": [
      "head:\n"
     ]
    },
    {
     "data": {
      "text/html": [
       "<div>\n",
       "<style scoped>\n",
       "    .dataframe tbody tr th:only-of-type {\n",
       "        vertical-align: middle;\n",
       "    }\n",
       "\n",
       "    .dataframe tbody tr th {\n",
       "        vertical-align: top;\n",
       "    }\n",
       "\n",
       "    .dataframe thead th {\n",
       "        text-align: right;\n",
       "    }\n",
       "</style>\n",
       "<table border=\"1\" class=\"dataframe\">\n",
       "  <thead>\n",
       "    <tr style=\"text-align: right;\">\n",
       "      <th></th>\n",
       "      <th>id</th>\n",
       "      <th>name</th>\n",
       "      <th>genre</th>\n",
       "      <th>url</th>\n",
       "      <th>popularity</th>\n",
       "      <th>acousticness</th>\n",
       "      <th>danceability</th>\n",
       "      <th>energy</th>\n",
       "      <th>instrumentalness</th>\n",
       "      <th>liveness</th>\n",
       "      <th>...</th>\n",
       "      <th>duration_ms</th>\n",
       "      <th>key</th>\n",
       "      <th>loudness</th>\n",
       "      <th>mode</th>\n",
       "      <th>tempo</th>\n",
       "      <th>valence</th>\n",
       "      <th>available_market</th>\n",
       "      <th>release_date</th>\n",
       "      <th>explicit</th>\n",
       "      <th>idx</th>\n",
       "    </tr>\n",
       "  </thead>\n",
       "  <tbody>\n",
       "    <tr>\n",
       "      <th>0</th>\n",
       "      <td>3d3LHam2Lc5ADEyJxG3fXE</td>\n",
       "      <td>Thinking 'Bout Love</td>\n",
       "      <td>acoustic</td>\n",
       "      <td>https://open.spotify.com/track/3d3LHam2Lc5ADEy...</td>\n",
       "      <td>61.0</td>\n",
       "      <td>0.4870</td>\n",
       "      <td>0.732</td>\n",
       "      <td>0.328</td>\n",
       "      <td>0.000000</td>\n",
       "      <td>0.0677</td>\n",
       "      <td>...</td>\n",
       "      <td>199391.0</td>\n",
       "      <td>5.0</td>\n",
       "      <td>-8.130</td>\n",
       "      <td>1.0</td>\n",
       "      <td>141.789</td>\n",
       "      <td>0.385</td>\n",
       "      <td>79.0</td>\n",
       "      <td>2020-05-01</td>\n",
       "      <td>0.0</td>\n",
       "      <td>0</td>\n",
       "    </tr>\n",
       "    <tr>\n",
       "      <th>1</th>\n",
       "      <td>62h7AycdIWjq6uYWC0LBht</td>\n",
       "      <td>River</td>\n",
       "      <td>acoustic</td>\n",
       "      <td>https://open.spotify.com/track/62h7AycdIWjq6uY...</td>\n",
       "      <td>40.0</td>\n",
       "      <td>0.6150</td>\n",
       "      <td>0.322</td>\n",
       "      <td>0.265</td>\n",
       "      <td>0.000313</td>\n",
       "      <td>0.1000</td>\n",
       "      <td>...</td>\n",
       "      <td>323591.0</td>\n",
       "      <td>6.0</td>\n",
       "      <td>-12.899</td>\n",
       "      <td>1.0</td>\n",
       "      <td>176.398</td>\n",
       "      <td>0.236</td>\n",
       "      <td>77.0</td>\n",
       "      <td>2019-03-08</td>\n",
       "      <td>0.0</td>\n",
       "      <td>1</td>\n",
       "    </tr>\n",
       "    <tr>\n",
       "      <th>2</th>\n",
       "      <td>40zCruc5lh9gHw8QgZcNLi</td>\n",
       "      <td>Falling Faster</td>\n",
       "      <td>acoustic</td>\n",
       "      <td>https://open.spotify.com/track/40zCruc5lh9gHw8...</td>\n",
       "      <td>36.0</td>\n",
       "      <td>0.0726</td>\n",
       "      <td>0.580</td>\n",
       "      <td>0.832</td>\n",
       "      <td>0.002790</td>\n",
       "      <td>0.0902</td>\n",
       "      <td>...</td>\n",
       "      <td>266173.0</td>\n",
       "      <td>5.0</td>\n",
       "      <td>-6.180</td>\n",
       "      <td>1.0</td>\n",
       "      <td>121.994</td>\n",
       "      <td>0.676</td>\n",
       "      <td>79.0</td>\n",
       "      <td>2015-10-16</td>\n",
       "      <td>0.0</td>\n",
       "      <td>2</td>\n",
       "    </tr>\n",
       "    <tr>\n",
       "      <th>3</th>\n",
       "      <td>6gvlSiOrZQ4tIWquhRTC2W</td>\n",
       "      <td>Don't Cry For Me</td>\n",
       "      <td>acoustic</td>\n",
       "      <td>https://open.spotify.com/track/6gvlSiOrZQ4tIWq...</td>\n",
       "      <td>35.0</td>\n",
       "      <td>0.1130</td>\n",
       "      <td>0.703</td>\n",
       "      <td>0.651</td>\n",
       "      <td>0.000002</td>\n",
       "      <td>0.2220</td>\n",
       "      <td>...</td>\n",
       "      <td>182826.0</td>\n",
       "      <td>0.0</td>\n",
       "      <td>-5.758</td>\n",
       "      <td>0.0</td>\n",
       "      <td>149.943</td>\n",
       "      <td>0.338</td>\n",
       "      <td>79.0</td>\n",
       "      <td>2018-05-04</td>\n",
       "      <td>0.0</td>\n",
       "      <td>3</td>\n",
       "    </tr>\n",
       "    <tr>\n",
       "      <th>4</th>\n",
       "      <td>0mD8Oey9zR0TR8XyiOx3NO</td>\n",
       "      <td>Nothing More (feat. Lily Costner)</td>\n",
       "      <td>acoustic</td>\n",
       "      <td>https://open.spotify.com/track/0mD8Oey9zR0TR8X...</td>\n",
       "      <td>37.0</td>\n",
       "      <td>0.0589</td>\n",
       "      <td>0.498</td>\n",
       "      <td>0.599</td>\n",
       "      <td>0.000000</td>\n",
       "      <td>0.1170</td>\n",
       "      <td>...</td>\n",
       "      <td>200960.0</td>\n",
       "      <td>0.0</td>\n",
       "      <td>-4.723</td>\n",
       "      <td>1.0</td>\n",
       "      <td>88.068</td>\n",
       "      <td>0.222</td>\n",
       "      <td>79.0</td>\n",
       "      <td>2013-09-30</td>\n",
       "      <td>0.0</td>\n",
       "      <td>4</td>\n",
       "    </tr>\n",
       "  </tbody>\n",
       "</table>\n",
       "<p>5 rows × 21 columns</p>\n",
       "</div>"
      ],
      "text/plain": [
       "                       id                               name     genre  \\\n",
       "0  3d3LHam2Lc5ADEyJxG3fXE                Thinking 'Bout Love  acoustic   \n",
       "1  62h7AycdIWjq6uYWC0LBht                              River  acoustic   \n",
       "2  40zCruc5lh9gHw8QgZcNLi                     Falling Faster  acoustic   \n",
       "3  6gvlSiOrZQ4tIWquhRTC2W                   Don't Cry For Me  acoustic   \n",
       "4  0mD8Oey9zR0TR8XyiOx3NO  Nothing More (feat. Lily Costner)  acoustic   \n",
       "\n",
       "                                                 url  popularity  \\\n",
       "0  https://open.spotify.com/track/3d3LHam2Lc5ADEy...        61.0   \n",
       "1  https://open.spotify.com/track/62h7AycdIWjq6uY...        40.0   \n",
       "2  https://open.spotify.com/track/40zCruc5lh9gHw8...        36.0   \n",
       "3  https://open.spotify.com/track/6gvlSiOrZQ4tIWq...        35.0   \n",
       "4  https://open.spotify.com/track/0mD8Oey9zR0TR8X...        37.0   \n",
       "\n",
       "   acousticness  danceability  energy  instrumentalness  liveness  ...  \\\n",
       "0        0.4870         0.732   0.328          0.000000    0.0677  ...   \n",
       "1        0.6150         0.322   0.265          0.000313    0.1000  ...   \n",
       "2        0.0726         0.580   0.832          0.002790    0.0902  ...   \n",
       "3        0.1130         0.703   0.651          0.000002    0.2220  ...   \n",
       "4        0.0589         0.498   0.599          0.000000    0.1170  ...   \n",
       "\n",
       "   duration_ms  key  loudness  mode    tempo  valence  available_market  \\\n",
       "0     199391.0  5.0    -8.130   1.0  141.789    0.385              79.0   \n",
       "1     323591.0  6.0   -12.899   1.0  176.398    0.236              77.0   \n",
       "2     266173.0  5.0    -6.180   1.0  121.994    0.676              79.0   \n",
       "3     182826.0  0.0    -5.758   0.0  149.943    0.338              79.0   \n",
       "4     200960.0  0.0    -4.723   1.0   88.068    0.222              79.0   \n",
       "\n",
       "   release_date explicit  idx  \n",
       "0    2020-05-01      0.0    0  \n",
       "1    2019-03-08      0.0    1  \n",
       "2    2015-10-16      0.0    2  \n",
       "3    2018-05-04      0.0    3  \n",
       "4    2013-09-30      0.0    4  \n",
       "\n",
       "[5 rows x 21 columns]"
      ]
     },
     "metadata": {},
     "output_type": "display_data"
    },
    {
     "name": "stdout",
     "output_type": "stream",
     "text": [
      "genre counts: 112\n",
      "genre:\n",
      "['acoustic' 'afrobeat' 'alt-rock' 'alternative' 'ambient' 'anime'\n",
      " 'black-metal' 'bluegrass' 'blues' 'brazil' 'breakbeat' 'british'\n",
      " 'cantopop' 'chicago-house' 'children' 'chill' 'classical' 'club' 'comedy'\n",
      " 'country' 'dance' 'dancehall' 'death-metal' 'deep-house' 'detroit-techno'\n",
      " 'disco' 'disney' 'drum-and-bass' 'dub' 'dubstep' 'edm' 'electro'\n",
      " 'electronic' 'emo' 'folk' 'forro' 'french' 'funk' 'garage' 'german'\n",
      " 'gospel' 'goth' 'grindcore' 'groove' 'grunge' 'guitar' 'happy'\n",
      " 'hard-rock' 'hardcore' 'hardstyle' 'heavy-metal' 'hip-hop' 'honky-tonk'\n",
      " 'house' 'idm' 'indian' 'indie' 'indie-pop' 'industrial' 'iranian'\n",
      " 'j-dance' 'j-idol' 'j-pop' 'j-rock' 'jazz' 'k-pop' 'kids' 'latin'\n",
      " 'latino' 'malay' 'mandopop' 'metal' 'metalcore' 'minimal-techno' 'mpb'\n",
      " 'new-age' 'opera' 'pagode' 'party' 'piano' 'pop' 'pop-film' 'power-pop'\n",
      " 'progressive-house' 'psych-rock' 'punk' 'punk-rock' 'r-n-b' 'reggae'\n",
      " 'reggaeton' 'rock' 'rock-n-roll' 'rockabilly' 'romance' 'salsa' 'samba'\n",
      " 'sertanejo' 'show-tunes' 'singer-songwriter' 'ska' 'sleep' 'songwriter'\n",
      " 'soul' 'spanish' 'swedish' 'synth-pop' 'tango' 'techno' 'trance'\n",
      " 'trip-hop' 'turkish' 'world-music']\n"
     ]
    }
   ],
   "source": [
    "data['idx'] = data.index\n",
    "print('head:')\n",
    "display(data.head())\n",
    "print(f'genre counts: {len(data[\"genre\"].unique())}')\n",
    "print('genre:')\n",
    "print(data['genre'].unique())"
   ]
  },
  {
   "cell_type": "markdown",
   "metadata": {},
   "source": [
    "<font face=\"微軟正黑體\">\n",
    "    我們可以看出 126 項歌曲類型中，有 112 項爬取成功，接著檢查每項歌曲種類成功爬取的歌曲數\n",
    "</font>"
   ]
  },
  {
   "cell_type": "code",
   "execution_count": 21,
   "metadata": {},
   "outputs": [
    {
     "data": {
      "text/plain": [
       "electro              100\n",
       "alternative          100\n",
       "alt-rock             100\n",
       "heavy-metal          100\n",
       "turkish              100\n",
       "ambient              100\n",
       "sertanejo            100\n",
       "disco                100\n",
       "comedy               100\n",
       "mandopop             100\n",
       "british              100\n",
       "rock-n-roll          100\n",
       "k-pop                100\n",
       "idm                  100\n",
       "pagode               100\n",
       "j-idol               100\n",
       "opera                100\n",
       "new-age              100\n",
       "guitar               100\n",
       "rockabilly           100\n",
       "sleep                100\n",
       "r-n-b                100\n",
       "minimal-techno       100\n",
       "ska                  100\n",
       "goth                 100\n",
       "reggaeton            100\n",
       "acoustic             100\n",
       "indie-pop            100\n",
       "dubstep              100\n",
       "blues                100\n",
       "mpb                  100\n",
       "swedish              100\n",
       "edm                  100\n",
       "metalcore            100\n",
       "kids                 100\n",
       "emo                  100\n",
       "reggae               100\n",
       "show-tunes           100\n",
       "j-rock               100\n",
       "pop-film             100\n",
       "j-dance              100\n",
       "detroit-techno       100\n",
       "french               100\n",
       "dancehall            100\n",
       "techno               100\n",
       "groove               100\n",
       "brazil               100\n",
       "hardcore             100\n",
       "cantopop             100\n",
       "j-pop                100\n",
       "songwriter           100\n",
       "rock                 100\n",
       "piano                100\n",
       "german               100\n",
       "honky-tonk           100\n",
       "synth-pop            100\n",
       "funk                 100\n",
       "spanish              100\n",
       "dub                  100\n",
       "party                100\n",
       "samba                100\n",
       "jazz                 100\n",
       "grindcore            100\n",
       "trance               100\n",
       "hard-rock            100\n",
       "latin                100\n",
       "dance                100\n",
       "soul                 100\n",
       "trip-hop             100\n",
       "house                100\n",
       "salsa                100\n",
       "pop                  100\n",
       "malay                100\n",
       "forro                100\n",
       "grunge               100\n",
       "club                 100\n",
       "world-music          100\n",
       "metal                100\n",
       "deep-house           100\n",
       "hip-hop              100\n",
       "psych-rock           100\n",
       "indian               100\n",
       "black-metal          100\n",
       "hardstyle            100\n",
       "drum-and-bass        100\n",
       "romance              100\n",
       "folk                 100\n",
       "disney               100\n",
       "classical            100\n",
       "gospel               100\n",
       "indie                100\n",
       "anime                100\n",
       "country              100\n",
       "industrial           100\n",
       "death-metal          100\n",
       "tango                100\n",
       "punk-rock            100\n",
       "breakbeat            100\n",
       "latino               100\n",
       "electronic           100\n",
       "power-pop            100\n",
       "bluegrass            100\n",
       "chill                100\n",
       "garage               100\n",
       "afrobeat             100\n",
       "chicago-house        100\n",
       "iranian              100\n",
       "singer-songwriter    100\n",
       "happy                100\n",
       "punk                 100\n",
       "children             100\n",
       "progressive-house    100\n",
       "Name: genre, dtype: int64"
      ]
     },
     "execution_count": 21,
     "metadata": {},
     "output_type": "execute_result"
    }
   ],
   "source": [
    "data['genre'].value_counts()"
   ]
  },
  {
   "cell_type": "markdown",
   "metadata": {},
   "source": [
    "<font face=\"微軟正黑體\">\n",
    "    112 項歌曲種類皆爬取 100 首歌，我們先將資料存取起來\n",
    "</font>"
   ]
  },
  {
   "cell_type": "code",
   "execution_count": 22,
   "metadata": {},
   "outputs": [],
   "source": [
    "data.to_csv('example.csv', encoding=\"utf-8\", index=False)"
   ]
  },
  {
   "cell_type": "markdown",
   "metadata": {},
   "source": [
    "<font face=\"微軟正黑體\">\n",
    "    由於有些歌可能同時被歸類在多種歌曲類型，因此我們需要刪除重複的項目，在這裡我們使用 <b>random.randint</b> 函數隨機選取要留下的歌曲\n",
    "</font>"
   ]
  },
  {
   "cell_type": "code",
   "execution_count": 49,
   "metadata": {},
   "outputs": [
    {
     "name": "stdout",
     "output_type": "stream",
     "text": [
      "Head of data:\n"
     ]
    },
    {
     "data": {
      "text/html": [
       "<div>\n",
       "<style scoped>\n",
       "    .dataframe tbody tr th:only-of-type {\n",
       "        vertical-align: middle;\n",
       "    }\n",
       "\n",
       "    .dataframe tbody tr th {\n",
       "        vertical-align: top;\n",
       "    }\n",
       "\n",
       "    .dataframe thead th {\n",
       "        text-align: right;\n",
       "    }\n",
       "</style>\n",
       "<table border=\"1\" class=\"dataframe\">\n",
       "  <thead>\n",
       "    <tr style=\"text-align: right;\">\n",
       "      <th></th>\n",
       "      <th>id</th>\n",
       "      <th>name</th>\n",
       "      <th>genre</th>\n",
       "      <th>url</th>\n",
       "      <th>popularity</th>\n",
       "      <th>acousticness</th>\n",
       "      <th>danceability</th>\n",
       "      <th>energy</th>\n",
       "      <th>instrumentalness</th>\n",
       "      <th>liveness</th>\n",
       "      <th>...</th>\n",
       "      <th>duration_ms</th>\n",
       "      <th>key</th>\n",
       "      <th>loudness</th>\n",
       "      <th>mode</th>\n",
       "      <th>tempo</th>\n",
       "      <th>valence</th>\n",
       "      <th>available_market</th>\n",
       "      <th>release_date</th>\n",
       "      <th>explicit</th>\n",
       "      <th>idx</th>\n",
       "    </tr>\n",
       "  </thead>\n",
       "  <tbody>\n",
       "    <tr>\n",
       "      <th>0</th>\n",
       "      <td>3d3LHam2Lc5ADEyJxG3fXE</td>\n",
       "      <td>Thinking 'Bout Love</td>\n",
       "      <td>acoustic</td>\n",
       "      <td>https://open.spotify.com/track/3d3LHam2Lc5ADEy...</td>\n",
       "      <td>61.0</td>\n",
       "      <td>0.4870</td>\n",
       "      <td>0.732</td>\n",
       "      <td>0.328</td>\n",
       "      <td>0.000000</td>\n",
       "      <td>0.0677</td>\n",
       "      <td>...</td>\n",
       "      <td>199391.0</td>\n",
       "      <td>5.0</td>\n",
       "      <td>-8.130</td>\n",
       "      <td>1.0</td>\n",
       "      <td>141.789</td>\n",
       "      <td>0.385</td>\n",
       "      <td>79.0</td>\n",
       "      <td>2020-05-01</td>\n",
       "      <td>0.0</td>\n",
       "      <td>0</td>\n",
       "    </tr>\n",
       "    <tr>\n",
       "      <th>1</th>\n",
       "      <td>62h7AycdIWjq6uYWC0LBht</td>\n",
       "      <td>River</td>\n",
       "      <td>acoustic</td>\n",
       "      <td>https://open.spotify.com/track/62h7AycdIWjq6uY...</td>\n",
       "      <td>40.0</td>\n",
       "      <td>0.6150</td>\n",
       "      <td>0.322</td>\n",
       "      <td>0.265</td>\n",
       "      <td>0.000313</td>\n",
       "      <td>0.1000</td>\n",
       "      <td>...</td>\n",
       "      <td>323591.0</td>\n",
       "      <td>6.0</td>\n",
       "      <td>-12.899</td>\n",
       "      <td>1.0</td>\n",
       "      <td>176.398</td>\n",
       "      <td>0.236</td>\n",
       "      <td>77.0</td>\n",
       "      <td>2019-03-08</td>\n",
       "      <td>0.0</td>\n",
       "      <td>1</td>\n",
       "    </tr>\n",
       "    <tr>\n",
       "      <th>2</th>\n",
       "      <td>40zCruc5lh9gHw8QgZcNLi</td>\n",
       "      <td>Falling Faster</td>\n",
       "      <td>acoustic</td>\n",
       "      <td>https://open.spotify.com/track/40zCruc5lh9gHw8...</td>\n",
       "      <td>36.0</td>\n",
       "      <td>0.0726</td>\n",
       "      <td>0.580</td>\n",
       "      <td>0.832</td>\n",
       "      <td>0.002790</td>\n",
       "      <td>0.0902</td>\n",
       "      <td>...</td>\n",
       "      <td>266173.0</td>\n",
       "      <td>5.0</td>\n",
       "      <td>-6.180</td>\n",
       "      <td>1.0</td>\n",
       "      <td>121.994</td>\n",
       "      <td>0.676</td>\n",
       "      <td>79.0</td>\n",
       "      <td>2015-10-16</td>\n",
       "      <td>0.0</td>\n",
       "      <td>2</td>\n",
       "    </tr>\n",
       "    <tr>\n",
       "      <th>3</th>\n",
       "      <td>6gvlSiOrZQ4tIWquhRTC2W</td>\n",
       "      <td>Don't Cry For Me</td>\n",
       "      <td>acoustic</td>\n",
       "      <td>https://open.spotify.com/track/6gvlSiOrZQ4tIWq...</td>\n",
       "      <td>35.0</td>\n",
       "      <td>0.1130</td>\n",
       "      <td>0.703</td>\n",
       "      <td>0.651</td>\n",
       "      <td>0.000002</td>\n",
       "      <td>0.2220</td>\n",
       "      <td>...</td>\n",
       "      <td>182826.0</td>\n",
       "      <td>0.0</td>\n",
       "      <td>-5.758</td>\n",
       "      <td>0.0</td>\n",
       "      <td>149.943</td>\n",
       "      <td>0.338</td>\n",
       "      <td>79.0</td>\n",
       "      <td>2018-05-04</td>\n",
       "      <td>0.0</td>\n",
       "      <td>3</td>\n",
       "    </tr>\n",
       "    <tr>\n",
       "      <th>4</th>\n",
       "      <td>0mD8Oey9zR0TR8XyiOx3NO</td>\n",
       "      <td>Nothing More (feat. Lily Costner)</td>\n",
       "      <td>acoustic</td>\n",
       "      <td>https://open.spotify.com/track/0mD8Oey9zR0TR8X...</td>\n",
       "      <td>37.0</td>\n",
       "      <td>0.0589</td>\n",
       "      <td>0.498</td>\n",
       "      <td>0.599</td>\n",
       "      <td>0.000000</td>\n",
       "      <td>0.1170</td>\n",
       "      <td>...</td>\n",
       "      <td>200960.0</td>\n",
       "      <td>0.0</td>\n",
       "      <td>-4.723</td>\n",
       "      <td>1.0</td>\n",
       "      <td>88.068</td>\n",
       "      <td>0.222</td>\n",
       "      <td>79.0</td>\n",
       "      <td>2013-09-30</td>\n",
       "      <td>0.0</td>\n",
       "      <td>4</td>\n",
       "    </tr>\n",
       "  </tbody>\n",
       "</table>\n",
       "<p>5 rows × 21 columns</p>\n",
       "</div>"
      ],
      "text/plain": [
       "                       id                               name     genre  \\\n",
       "0  3d3LHam2Lc5ADEyJxG3fXE                Thinking 'Bout Love  acoustic   \n",
       "1  62h7AycdIWjq6uYWC0LBht                              River  acoustic   \n",
       "2  40zCruc5lh9gHw8QgZcNLi                     Falling Faster  acoustic   \n",
       "3  6gvlSiOrZQ4tIWquhRTC2W                   Don't Cry For Me  acoustic   \n",
       "4  0mD8Oey9zR0TR8XyiOx3NO  Nothing More (feat. Lily Costner)  acoustic   \n",
       "\n",
       "                                                 url  popularity  \\\n",
       "0  https://open.spotify.com/track/3d3LHam2Lc5ADEy...        61.0   \n",
       "1  https://open.spotify.com/track/62h7AycdIWjq6uY...        40.0   \n",
       "2  https://open.spotify.com/track/40zCruc5lh9gHw8...        36.0   \n",
       "3  https://open.spotify.com/track/6gvlSiOrZQ4tIWq...        35.0   \n",
       "4  https://open.spotify.com/track/0mD8Oey9zR0TR8X...        37.0   \n",
       "\n",
       "   acousticness  danceability  energy  instrumentalness  liveness  ...  \\\n",
       "0        0.4870         0.732   0.328          0.000000    0.0677  ...   \n",
       "1        0.6150         0.322   0.265          0.000313    0.1000  ...   \n",
       "2        0.0726         0.580   0.832          0.002790    0.0902  ...   \n",
       "3        0.1130         0.703   0.651          0.000002    0.2220  ...   \n",
       "4        0.0589         0.498   0.599          0.000000    0.1170  ...   \n",
       "\n",
       "   duration_ms  key  loudness  mode    tempo  valence  available_market  \\\n",
       "0     199391.0  5.0    -8.130   1.0  141.789    0.385              79.0   \n",
       "1     323591.0  6.0   -12.899   1.0  176.398    0.236              77.0   \n",
       "2     266173.0  5.0    -6.180   1.0  121.994    0.676              79.0   \n",
       "3     182826.0  0.0    -5.758   0.0  149.943    0.338              79.0   \n",
       "4     200960.0  0.0    -4.723   1.0   88.068    0.222              79.0   \n",
       "\n",
       "   release_date explicit  idx  \n",
       "0    2020-05-01      0.0    0  \n",
       "1    2019-03-08      0.0    1  \n",
       "2    2015-10-16      0.0    2  \n",
       "3    2018-05-04      0.0    3  \n",
       "4    2013-09-30      0.0    4  \n",
       "\n",
       "[5 rows x 21 columns]"
      ]
     },
     "metadata": {},
     "output_type": "display_data"
    }
   ],
   "source": [
    "data = pd.read_csv('example.csv', encoding=\"utf-8\", index_col=False)\n",
    "duplicates = data['id'].value_counts()[data['id'].value_counts() > 1].index\n",
    "tmp = data.loc[[n in duplicates for n in data['id']]]\n",
    "tmp = tmp.sort_values(by=['id', 'idx'])\n",
    "\n",
    "random.seed(113)\n",
    "n = len(tmp['id'].unique())\n",
    "for i, ID in enumerate(tmp['id'].unique()):\n",
    "    print(f'[{i+1}/{n}]', end='\\r')\n",
    "    remove = tmp[tmp['id'] == ID]['idx'].values\n",
    "    leave = random.randint(0, len(tmp[tmp['id'] == ID])-1)\n",
    "    remove = np.delete(remove, leave)\n",
    "    data = data[[i not in remove for i in data['idx']]]\n",
    "print('Head of data:')\n",
    "display(data.head())"
   ]
  },
  {
   "cell_type": "code",
   "execution_count": 24,
   "metadata": {},
   "outputs": [],
   "source": [
    "data.to_csv('example_no_duplicate.csv', encoding=\"utf-8\", index=False)"
   ]
  },
  {
   "cell_type": "markdown",
   "metadata": {},
   "source": [
    "<font face=\"微軟正黑體\">\n",
    "    接著，我們發現 2020 年 5 月份以後的熱門度普遍偏低，且分布呈現 right-skewed，有可能是因為 Spotify 使用歌曲的總播放數與近期播放數衡量它的熱門程度，導致新出的歌曲熱門度不高，如下：\n",
    "</font>"
   ]
  },
  {
   "cell_type": "code",
   "execution_count": 46,
   "metadata": {},
   "outputs": [
    {
     "data": {
      "image/png": "[encoded data removed]",
      "text/plain": [
       "<Figure size 432x288 with 1 Axes>"
      ]
     },
     "metadata": {},
     "output_type": "display_data"
    },
    {
     "data": {
      "image/png": "[encoded data removed]",
      "text/plain": [
       "<Figure size 1152x288 with 2 Axes>"
      ]
     },
     "metadata": {},
     "output_type": "display_data"
    }
   ],
   "source": [
    "data = pd.read_csv('example_no_duplicate.csv', encoding=\"utf-8\", index_col=False)\n",
    "data['popularity'].hist()\n",
    "plt.title('Popularity All the Time')\n",
    "plt.xlabel('Popularity')\n",
    "plt.ylabel('Frequency')\n",
    "plt.show()\n",
    "\n",
    "fig, axs = plt.subplots(1, 2, figsize=(16, 4))\n",
    "data.loc[np.array([d < '2020-05' for d in data['release_date']]), 'popularity'].hist(ax=axs[0])\n",
    "axs[0].set_title('Popularity Before May, 2020')\n",
    "axs[0].set_xlabel('Popularity')\n",
    "axs[0].set_ylabel('Frequency')\n",
    "data.loc[np.array([d >= '2020-05' for d in data['release_date']]), 'popularity'].hist(ax=axs[1])\n",
    "axs[1].set_title('Popularity After May, 2020')\n",
    "axs[1].set_xlabel('Popularity')\n",
    "axs[1].set_ylabel('Frequency')\n",
    "plt.show()"
   ]
  },
  {
   "cell_type": "markdown",
   "metadata": {},
   "source": [
    "<font face=\"微軟正黑體\">\n",
    "    基於以上因素，我們認為 2020 年 5 月以後歌曲的熱門程度可能沒辦法代表這首歌真實的熱門度，因此我們選擇將這些歌曲移除，並檢查移除後每個歌曲類型剩下的歌曲數\n",
    "</font>"
   ]
  },
  {
   "cell_type": "code",
   "execution_count": 48,
   "metadata": {},
   "outputs": [
    {
     "data": {
      "text/plain": [
       "goth                 100\n",
       "grindcore            100\n",
       "show-tunes           100\n",
       "kids                 100\n",
       "gospel                99\n",
       "trip-hop              99\n",
       "j-rock                99\n",
       "disney                99\n",
       "comedy                98\n",
       "iranian               98\n",
       "heavy-metal           98\n",
       "j-idol                98\n",
       "mandopop              97\n",
       "breakbeat             97\n",
       "club                  97\n",
       "ambient               97\n",
       "detroit-techno        97\n",
       "new-age               97\n",
       "sleep                 97\n",
       "romance               97\n",
       "honky-tonk            97\n",
       "bluegrass             97\n",
       "cantopop              97\n",
       "rockabilly            97\n",
       "hardcore              96\n",
       "idm                   96\n",
       "industrial            96\n",
       "ska                   96\n",
       "afrobeat              96\n",
       "dub                   96\n",
       "malay                 96\n",
       "children              96\n",
       "piano                 95\n",
       "chicago-house         95\n",
       "tango                 95\n",
       "j-dance               95\n",
       "singer-songwriter     95\n",
       "anime                 95\n",
       "dubstep               94\n",
       "drum-and-bass         94\n",
       "happy                 94\n",
       "country               93\n",
       "power-pop             93\n",
       "garage                93\n",
       "swedish               92\n",
       "world-music           92\n",
       "blues                 92\n",
       "french                92\n",
       "k-pop                 92\n",
       "turkish               92\n",
       "j-pop                 92\n",
       "pop                   92\n",
       "songwriter            92\n",
       "rock-n-roll           92\n",
       "sertanejo             92\n",
       "hardstyle             91\n",
       "minimal-techno        91\n",
       "black-metal           91\n",
       "acoustic              91\n",
       "synth-pop             91\n",
       "metalcore             91\n",
       "guitar                91\n",
       "brazil                91\n",
       "salsa                 91\n",
       "hard-rock             91\n",
       "latino                91\n",
       "death-metal           90\n",
       "pop-film              90\n",
       "party                 90\n",
       "grunge                90\n",
       "soul                  90\n",
       "chill                 90\n",
       "rock                  90\n",
       "pagode                90\n",
       "reggaeton             89\n",
       "dance                 88\n",
       "emo                   88\n",
       "alt-rock              88\n",
       "jazz                  88\n",
       "forro                 88\n",
       "dancehall             88\n",
       "punk                  87\n",
       "r-n-b                 87\n",
       "psych-rock            87\n",
       "groove                87\n",
       "techno                87\n",
       "indie-pop             87\n",
       "metal                 87\n",
       "british               86\n",
       "funk                  86\n",
       "electronic            86\n",
       "samba                 86\n",
       "folk                  86\n",
       "alternative           85\n",
       "deep-house            85\n",
       "punk-rock             85\n",
       "house                 84\n",
       "disco                 84\n",
       "indie                 84\n",
       "mpb                   83\n",
       "electro               83\n",
       "progressive-house     83\n",
       "opera                 82\n",
       "spanish               82\n",
       "hip-hop               82\n",
       "indian                81\n",
       "edm                   77\n",
       "latin                 76\n",
       "reggae                74\n",
       "trance                74\n",
       "german                26\n",
       "classical              3\n",
       "Name: genre, dtype: int64"
      ]
     },
     "execution_count": 48,
     "metadata": {},
     "output_type": "execute_result"
    }
   ],
   "source": [
    "data = data.iloc[np.array(data['release_date'] < '2020-05'), :]\n",
    "data['genre'].value_counts()"
   ]
  },
  {
   "cell_type": "markdown",
   "metadata": {},
   "source": [
    "<font face=\"微軟正黑體\">\n",
    "    可以發現大多數歌曲都還有 70 首以上的歌，但是 german 與 classical 的歌只剩下 26 首與 3 首\n",
    "</font>"
   ]
  },
  {
   "cell_type": "markdown",
   "metadata": {},
   "source": [
    "<font face=\"微軟正黑體\">\n",
    "    將資料存取起來\n",
    "</font>"
   ]
  },
  {
   "cell_type": "code",
   "execution_count": 50,
   "metadata": {},
   "outputs": [],
   "source": [
    "data.to_csv('example_no_may.csv', encoding=\"utf-8\", index=False)"
   ]
  },
  {
   "cell_type": "markdown",
   "metadata": {},
   "source": [
    "**<font face=\"微軟正黑體\">敘述統計 & 視覺化</font>**\n",
    "---"
   ]
  },
  {
   "cell_type": "code",
   "execution_count": 58,
   "metadata": {},
   "outputs": [],
   "source": [
    "df = pd.read_csv(\"tracks.csv\")"
   ]
  },
  {
   "cell_type": "markdown",
   "metadata": {},
   "source": [
    "### 1. **<font face=\"微軟正黑體\">欄位介紹</font>**"
   ]
  },
  {
   "cell_type": "markdown",
   "metadata": {},
   "source": [
    "- name: 歌曲名稱<br>\n",
    "- available_market: 歌曲在多少地區可以被取得<br>\n",
    "- explicit: 是否有明確的歌詞 (由提供者標示)<br>\n",
    "- genre: 歌曲種類，共 112 種 (每種各 100 首歌)<br>\n",
    "- popularity: 流行程度，數值範圍為 0到100。評分標準主要基於播放總數及近期播放數。一般來說，最近常播放的歌曲比過去常播放的歌曲有更高的流行度。<br>\n",
    "- acousticness: 原聲性，數值範圍為 0到1。1 代表有很高的信心認定這首歌是不經過電子音效處理，可以聽到最直接的樂音及人聲。<br>\n",
    "- danceability: 舞蹈性，數值範圍為 0到1。根據拍子、節奏和整體規律來決定是否適合跳舞。<br>\n",
    "- duration_ms: 歌曲長度，以毫秒為單位。<br>\n",
    "- energy: 能量，數值範圍為 0到1。代表感受上的強度與活力。一般來說，從有能量的歌曲會感受到快、大聲與嘈雜，而評分的特徵包含dynamic range、 perceived loudness, timbre, onset rate, 和general entropy。<br>\n",
    "- instrumentalness: 樂器性，數值範圍為 0到1。偵測歌曲是否沒有人聲 (哼唱算樂器，而說唱或言語則為人聲)，此數值 >0.5 即可代表純樂器，不過越接近 1 信心水準越高。<br>\n",
    "- key: 調，代表不同 standard Pitch Class notation，如 0=C, 1=C♯/D♭, 2=D，若無則為-1。<br>\n",
    "- liveness: 數值範圍為 0到1。越高代表現場演奏的可能性高，>0.8表示極有可能為現場演奏。<br>\n",
    "- loudness: 歌曲整體的響度，單位為分貝 (dB)，數值為整首歌的平均值，大部分在 -60至0。<br>\n",
    "- mode: 調式，大調為1，小調為0。<br>\n",
    "- speechiness: 言語性，數值範圍為 0到1。越接近純粹的言語 (如:脫口秀、有聲書、誦詩)，此數值越接近 1，>0.66 代表很有可能皆為言語所構成，0.33到0.66 則可能有部分為言語(如:說唱)，<0.33 為音樂或其他非言語性歌曲。<br>\n",
    "- tempo: 節奏，單位為 beats per minute (BPM)。<br>\n",
    "- valence: 正向性，數值範圍為 0到1，較高代表此音樂聽起來較為正面，較低則為負面。"
   ]
  },
  {
   "cell_type": "markdown",
   "metadata": {},
   "source": [
    "### 2. **<font face=\"微軟正黑體\">歌曲類型選擇與熱門度觀察</font>**"
   ]
  },
  {
   "cell_type": "code",
   "execution_count": 21,
   "metadata": {},
   "outputs": [],
   "source": [
    "cato = [ 'j-pop', 'k-pop', 'rock', 'metal', 'hip-hop', 'opera', 'country', 'dance', 'jazz', 'pop', 'blues', 'j-idol', 'disney']"
   ]
  },
  {
   "cell_type": "markdown",
   "metadata": {},
   "source": [
    "我們選擇了'j-pop', 'k-pop', 'rock', 'metal', 'hip-hop', 'opera', 'country', 'dance', 'jazz', 'pop', 'blues',  'j-idol', 'disney'共13種歌曲類型"
   ]
  },
  {
   "cell_type": "code",
   "execution_count": 22,
   "metadata": {},
   "outputs": [
    {
     "data": {
      "image/png": "[encoded data removed]",
      "text/plain": [
       "<Figure size 432x288 with 1 Axes>"
      ]
     },
     "metadata": {
      "needs_background": "light"
     },
     "output_type": "display_data"
    },
    {
     "name": "stdout",
     "output_type": "stream",
     "text": [
      "mean of popularity  49.291666666666664\n",
      "min of popularity  39.0\n",
      "max of popularity  69.0\n",
      "standard deviation of popularity  7.346917243474037\n",
      "skewness of popularity  0.6929780661163695\n",
      "kurtosis of popularity  -0.4024851529691178\n"
     ]
    },
    {
     "data": {
      "image/png": "[encoded data removed]",
      "text/plain": [
       "<Figure size 432x288 with 1 Axes>"
      ]
     },
     "metadata": {
      "needs_background": "light"
     },
     "output_type": "display_data"
    },
    {
     "name": "stdout",
     "output_type": "stream",
     "text": [
      "mean of popularity  57.54255319148936\n",
      "min of popularity  47.0\n",
      "max of popularity  77.0\n",
      "standard deviation of popularity  6.559348403281751\n",
      "skewness of popularity  0.7978654828632658\n",
      "kurtosis of popularity  0.423048458697024\n"
     ]
    },
    {
     "data": {
      "image/png": "[encoded data removed]",
      "text/plain": [
       "<Figure size 432x288 with 1 Axes>"
      ]
     },
     "metadata": {
      "needs_background": "light"
     },
     "output_type": "display_data"
    },
    {
     "name": "stdout",
     "output_type": "stream",
     "text": [
      "mean of popularity  68.47311827956989\n",
      "min of popularity  60.0\n",
      "max of popularity  83.0\n",
      "standard deviation of popularity  5.339743109456512\n",
      "skewness of popularity  0.756332009344692\n",
      "kurtosis of popularity  0.1210006505595227\n"
     ]
    },
    {
     "data": {
      "image/png": "[encoded data removed]",
      "text/plain": [
       "<Figure size 432x288 with 1 Axes>"
      ]
     },
     "metadata": {
      "needs_background": "light"
     },
     "output_type": "display_data"
    },
    {
     "name": "stdout",
     "output_type": "stream",
     "text": [
      "mean of popularity  60.07692307692308\n",
      "min of popularity  50.0\n",
      "max of popularity  81.0\n",
      "standard deviation of popularity  6.384409429280343\n",
      "skewness of popularity  0.8519002270976225\n",
      "kurtosis of popularity  0.6004357095681678\n"
     ]
    },
    {
     "data": {
      "image/png": "[encoded data removed]",
      "text/plain": [
       "<Figure size 432x288 with 1 Axes>"
      ]
     },
     "metadata": {
      "needs_background": "light"
     },
     "output_type": "display_data"
    },
    {
     "name": "stdout",
     "output_type": "stream",
     "text": [
      "mean of popularity  68.9125\n",
      "min of popularity  60.0\n",
      "max of popularity  86.0\n",
      "standard deviation of popularity  5.774658190333854\n",
      "skewness of popularity  0.8799568929287541\n",
      "kurtosis of popularity  0.45772898318637845\n"
     ]
    },
    {
     "data": {
      "image/png": "[encoded data removed]",
      "text/plain": [
       "<Figure size 432x288 with 1 Axes>"
      ]
     },
     "metadata": {
      "needs_background": "light"
     },
     "output_type": "display_data"
    },
    {
     "name": "stdout",
     "output_type": "stream",
     "text": [
      "mean of popularity  37.25925925925926\n",
      "min of popularity  21.0\n",
      "max of popularity  53.0\n",
      "standard deviation of popularity  7.461195912482425\n",
      "skewness of popularity  -0.09303452227746001\n",
      "kurtosis of popularity  -0.33878830792962455\n"
     ]
    },
    {
     "data": {
      "image/png": "[encoded data removed]",
      "text/plain": [
       "<Figure size 432x288 with 1 Axes>"
      ]
     },
     "metadata": {
      "needs_background": "light"
     },
     "output_type": "display_data"
    },
    {
     "name": "stdout",
     "output_type": "stream",
     "text": [
      "mean of popularity  61.989583333333336\n",
      "min of popularity  54.0\n",
      "max of popularity  82.0\n",
      "standard deviation of popularity  6.072361530854658\n",
      "skewness of popularity  0.9170206175208505\n",
      "kurtosis of popularity  0.34562439793597965\n"
     ]
    },
    {
     "data": {
      "image/png": "[encoded data removed]",
      "text/plain": [
       "<Figure size 432x288 with 1 Axes>"
      ]
     },
     "metadata": {
      "needs_background": "light"
     },
     "output_type": "display_data"
    },
    {
     "name": "stdout",
     "output_type": "stream",
     "text": [
      "mean of popularity  69.23333333333333\n",
      "min of popularity  57.0\n",
      "max of popularity  89.0\n",
      "standard deviation of popularity  6.14625125538991\n",
      "skewness of popularity  0.5013524717490567\n",
      "kurtosis of popularity  0.6098109940109495\n"
     ]
    },
    {
     "data": {
      "image/png": "[encoded data removed]",
      "text/plain": [
       "<Figure size 432x288 with 1 Axes>"
      ]
     },
     "metadata": {
      "needs_background": "light"
     },
     "output_type": "display_data"
    },
    {
     "name": "stdout",
     "output_type": "stream",
     "text": [
      "mean of popularity  51.45918367346939\n",
      "min of popularity  39.0\n",
      "max of popularity  65.0\n",
      "standard deviation of popularity  5.133613440414755\n",
      "skewness of popularity  0.25965050179938787\n",
      "kurtosis of popularity  0.0816017783148899\n"
     ]
    },
    {
     "data": {
      "image/png": "[encoded data removed]",
      "text/plain": [
       "<Figure size 432x288 with 1 Axes>"
      ]
     },
     "metadata": {
      "needs_background": "light"
     },
     "output_type": "display_data"
    },
    {
     "name": "stdout",
     "output_type": "stream",
     "text": [
      "mean of popularity  74.19318181818181\n",
      "min of popularity  66.0\n",
      "max of popularity  94.0\n",
      "standard deviation of popularity  5.014594686972034\n",
      "skewness of popularity  1.3484128528030743\n",
      "kurtosis of popularity  2.8739840419693037\n"
     ]
    },
    {
     "data": {
      "image/png": "[encoded data removed]",
      "text/plain": [
       "<Figure size 432x288 with 1 Axes>"
      ]
     },
     "metadata": {
      "needs_background": "light"
     },
     "output_type": "display_data"
    },
    {
     "name": "stdout",
     "output_type": "stream",
     "text": [
      "mean of popularity  51.34065934065934\n",
      "min of popularity  38.0\n",
      "max of popularity  74.0\n",
      "standard deviation of popularity  7.820514021497537\n",
      "skewness of popularity  1.0877268284029413\n",
      "kurtosis of popularity  0.9821078346370067\n"
     ]
    },
    {
     "data": {
      "image/png": "[encoded data removed]",
      "text/plain": [
       "<Figure size 432x288 with 1 Axes>"
      ]
     },
     "metadata": {
      "needs_background": "light"
     },
     "output_type": "display_data"
    },
    {
     "name": "stdout",
     "output_type": "stream",
     "text": [
      "mean of popularity  30.47\n",
      "min of popularity  13.0\n",
      "max of popularity  53.0\n",
      "standard deviation of popularity  9.82622239035157\n",
      "skewness of popularity  0.5664259121595978\n",
      "kurtosis of popularity  -0.42453877024001985\n"
     ]
    },
    {
     "data": {
      "image/png": "[encoded data removed]",
      "text/plain": [
       "<Figure size 432x288 with 1 Axes>"
      ]
     },
     "metadata": {
      "needs_background": "light"
     },
     "output_type": "display_data"
    },
    {
     "name": "stdout",
     "output_type": "stream",
     "text": [
      "mean of popularity  26.07070707070707\n",
      "min of popularity  8.0\n",
      "max of popularity  68.0\n",
      "standard deviation of popularity  12.784120032491622\n",
      "skewness of popularity  1.048023482053721\n",
      "kurtosis of popularity  0.7835789220041547\n"
     ]
    }
   ],
   "source": [
    "data_collect = pd.DataFrame(columns=df.columns) \n",
    "\n",
    "for i in range(0,len(cato)):\n",
    "    data_cato = df[df['genre'] == cato[i]]\n",
    "    #display(data_cato.head())\n",
    "        \n",
    "    #作圖，繪出popularity散佈圖\n",
    "    plt.hist(data_cato['popularity'],bins = 10) \n",
    "    plt.xlabel(\"popularity\")\n",
    "    plt.ylabel(\"numbers of song\")\n",
    "    title = \"popularity distribution for \"+cato[i]\n",
    "    plt.title(title)\n",
    "    plt.show()\n",
    "    \n",
    "    mean = data_cato['popularity'].mean()\n",
    "    minimum = min(data_cato['popularity'])\n",
    "    maximum = max(data_cato['popularity'])\n",
    "    kurtosis = stats.kurtosis(data_cato['popularity'].values)\n",
    "    skewness = stats.skew(data_cato['popularity'].values)\n",
    "    std = data_cato['popularity'].std()\n",
    "    \n",
    "\n",
    "    print(\"mean of popularity \",mean)\n",
    "    print(\"min of popularity \",minimum)\n",
    "    print(\"max of popularity \",maximum)\n",
    "    print(\"standard deviation of popularity \",std)\n",
    "    print(\"skewness of popularity \",skewness)\n",
    "    print(\"kurtosis of popularity \",kurtosis)\n",
    "    \n",
    "    data_collect = pd.concat([data_collect,data_cato])\n",
    "    \n",
    "# 看每種歌曲的popularity相關資料\n",
    "summary = data_collect[['popularity','genre']].groupby('genre').describe()"
   ]
  },
  {
   "cell_type": "code",
   "execution_count": 32,
   "metadata": {},
   "outputs": [
    {
     "data": {
      "text/html": [
       "<div>\n",
       "<style scoped>\n",
       "    .dataframe tbody tr th:only-of-type {\n",
       "        vertical-align: middle;\n",
       "    }\n",
       "\n",
       "    .dataframe tbody tr th {\n",
       "        vertical-align: top;\n",
       "    }\n",
       "\n",
       "    .dataframe thead tr th {\n",
       "        text-align: left;\n",
       "    }\n",
       "\n",
       "    .dataframe thead tr:last-of-type th {\n",
       "        text-align: right;\n",
       "    }\n",
       "</style>\n",
       "<table border=\"1\" class=\"dataframe\">\n",
       "  <thead>\n",
       "    <tr>\n",
       "      <th></th>\n",
       "      <th colspan=\"8\" halign=\"left\">popularity</th>\n",
       "    </tr>\n",
       "    <tr>\n",
       "      <th></th>\n",
       "      <th>count</th>\n",
       "      <th>mean</th>\n",
       "      <th>std</th>\n",
       "      <th>min</th>\n",
       "      <th>25%</th>\n",
       "      <th>50%</th>\n",
       "      <th>75%</th>\n",
       "      <th>max</th>\n",
       "    </tr>\n",
       "    <tr>\n",
       "      <th>genre</th>\n",
       "      <th></th>\n",
       "      <th></th>\n",
       "      <th></th>\n",
       "      <th></th>\n",
       "      <th></th>\n",
       "      <th></th>\n",
       "      <th></th>\n",
       "      <th></th>\n",
       "    </tr>\n",
       "  </thead>\n",
       "  <tbody>\n",
       "    <tr>\n",
       "      <th>blues</th>\n",
       "      <td>91.0</td>\n",
       "      <td>51.340659</td>\n",
       "      <td>7.820514</td>\n",
       "      <td>38.0</td>\n",
       "      <td>46.00</td>\n",
       "      <td>50.0</td>\n",
       "      <td>55.00</td>\n",
       "      <td>74.0</td>\n",
       "    </tr>\n",
       "    <tr>\n",
       "      <th>country</th>\n",
       "      <td>96.0</td>\n",
       "      <td>61.989583</td>\n",
       "      <td>6.072362</td>\n",
       "      <td>54.0</td>\n",
       "      <td>58.00</td>\n",
       "      <td>61.0</td>\n",
       "      <td>66.00</td>\n",
       "      <td>82.0</td>\n",
       "    </tr>\n",
       "    <tr>\n",
       "      <th>dance</th>\n",
       "      <td>90.0</td>\n",
       "      <td>69.233333</td>\n",
       "      <td>6.146251</td>\n",
       "      <td>57.0</td>\n",
       "      <td>65.00</td>\n",
       "      <td>69.0</td>\n",
       "      <td>73.00</td>\n",
       "      <td>89.0</td>\n",
       "    </tr>\n",
       "    <tr>\n",
       "      <th>disney</th>\n",
       "      <td>99.0</td>\n",
       "      <td>26.070707</td>\n",
       "      <td>12.784120</td>\n",
       "      <td>8.0</td>\n",
       "      <td>16.50</td>\n",
       "      <td>23.0</td>\n",
       "      <td>33.50</td>\n",
       "      <td>68.0</td>\n",
       "    </tr>\n",
       "    <tr>\n",
       "      <th>hip-hop</th>\n",
       "      <td>80.0</td>\n",
       "      <td>68.912500</td>\n",
       "      <td>5.774658</td>\n",
       "      <td>60.0</td>\n",
       "      <td>64.75</td>\n",
       "      <td>68.0</td>\n",
       "      <td>72.00</td>\n",
       "      <td>86.0</td>\n",
       "    </tr>\n",
       "    <tr>\n",
       "      <th>j-idol</th>\n",
       "      <td>100.0</td>\n",
       "      <td>30.470000</td>\n",
       "      <td>9.826222</td>\n",
       "      <td>13.0</td>\n",
       "      <td>23.75</td>\n",
       "      <td>28.5</td>\n",
       "      <td>35.25</td>\n",
       "      <td>53.0</td>\n",
       "    </tr>\n",
       "    <tr>\n",
       "      <th>j-pop</th>\n",
       "      <td>96.0</td>\n",
       "      <td>49.291667</td>\n",
       "      <td>7.346917</td>\n",
       "      <td>39.0</td>\n",
       "      <td>44.00</td>\n",
       "      <td>47.5</td>\n",
       "      <td>55.00</td>\n",
       "      <td>69.0</td>\n",
       "    </tr>\n",
       "    <tr>\n",
       "      <th>jazz</th>\n",
       "      <td>98.0</td>\n",
       "      <td>51.459184</td>\n",
       "      <td>5.133613</td>\n",
       "      <td>39.0</td>\n",
       "      <td>48.00</td>\n",
       "      <td>51.0</td>\n",
       "      <td>55.00</td>\n",
       "      <td>65.0</td>\n",
       "    </tr>\n",
       "    <tr>\n",
       "      <th>k-pop</th>\n",
       "      <td>94.0</td>\n",
       "      <td>57.542553</td>\n",
       "      <td>6.559348</td>\n",
       "      <td>47.0</td>\n",
       "      <td>52.00</td>\n",
       "      <td>57.0</td>\n",
       "      <td>61.00</td>\n",
       "      <td>77.0</td>\n",
       "    </tr>\n",
       "    <tr>\n",
       "      <th>metal</th>\n",
       "      <td>91.0</td>\n",
       "      <td>60.076923</td>\n",
       "      <td>6.384409</td>\n",
       "      <td>50.0</td>\n",
       "      <td>55.00</td>\n",
       "      <td>59.0</td>\n",
       "      <td>63.50</td>\n",
       "      <td>81.0</td>\n",
       "    </tr>\n",
       "    <tr>\n",
       "      <th>opera</th>\n",
       "      <td>81.0</td>\n",
       "      <td>37.259259</td>\n",
       "      <td>7.461196</td>\n",
       "      <td>21.0</td>\n",
       "      <td>33.00</td>\n",
       "      <td>38.0</td>\n",
       "      <td>41.00</td>\n",
       "      <td>53.0</td>\n",
       "    </tr>\n",
       "    <tr>\n",
       "      <th>pop</th>\n",
       "      <td>88.0</td>\n",
       "      <td>74.193182</td>\n",
       "      <td>5.014595</td>\n",
       "      <td>66.0</td>\n",
       "      <td>71.00</td>\n",
       "      <td>73.0</td>\n",
       "      <td>77.00</td>\n",
       "      <td>94.0</td>\n",
       "    </tr>\n",
       "    <tr>\n",
       "      <th>rock</th>\n",
       "      <td>93.0</td>\n",
       "      <td>68.473118</td>\n",
       "      <td>5.339743</td>\n",
       "      <td>60.0</td>\n",
       "      <td>65.00</td>\n",
       "      <td>67.0</td>\n",
       "      <td>71.00</td>\n",
       "      <td>83.0</td>\n",
       "    </tr>\n",
       "  </tbody>\n",
       "</table>\n",
       "</div>"
      ],
      "text/plain": [
       "        popularity                                                      \n",
       "             count       mean        std   min    25%   50%    75%   max\n",
       "genre                                                                   \n",
       "blues         91.0  51.340659   7.820514  38.0  46.00  50.0  55.00  74.0\n",
       "country       96.0  61.989583   6.072362  54.0  58.00  61.0  66.00  82.0\n",
       "dance         90.0  69.233333   6.146251  57.0  65.00  69.0  73.00  89.0\n",
       "disney        99.0  26.070707  12.784120   8.0  16.50  23.0  33.50  68.0\n",
       "hip-hop       80.0  68.912500   5.774658  60.0  64.75  68.0  72.00  86.0\n",
       "j-idol       100.0  30.470000   9.826222  13.0  23.75  28.5  35.25  53.0\n",
       "j-pop         96.0  49.291667   7.346917  39.0  44.00  47.5  55.00  69.0\n",
       "jazz          98.0  51.459184   5.133613  39.0  48.00  51.0  55.00  65.0\n",
       "k-pop         94.0  57.542553   6.559348  47.0  52.00  57.0  61.00  77.0\n",
       "metal         91.0  60.076923   6.384409  50.0  55.00  59.0  63.50  81.0\n",
       "opera         81.0  37.259259   7.461196  21.0  33.00  38.0  41.00  53.0\n",
       "pop           88.0  74.193182   5.014595  66.0  71.00  73.0  77.00  94.0\n",
       "rock          93.0  68.473118   5.339743  60.0  65.00  67.0  71.00  83.0"
      ]
     },
     "execution_count": 32,
     "metadata": {},
     "output_type": "execute_result"
    }
   ],
   "source": [
    "summary"
   ]
  },
  {
   "cell_type": "markdown",
   "metadata": {},
   "source": [
    "### 2.1 觀察每個歌曲類型的熱門程度平均數"
   ]
  },
  {
   "cell_type": "code",
   "execution_count": 31,
   "metadata": {},
   "outputs": [
    {
     "name": "stdout",
     "output_type": "stream",
     "text": [
      "genre\n",
      "disney     26.070707\n",
      "j-idol     30.470000\n",
      "opera      37.259259\n",
      "j-pop      49.291667\n",
      "blues      51.340659\n",
      "jazz       51.459184\n",
      "k-pop      57.542553\n",
      "metal      60.076923\n",
      "country    61.989583\n",
      "rock       68.473118\n",
      "hip-hop    68.912500\n",
      "dance      69.233333\n",
      "pop        74.193182\n",
      "Name: (popularity, mean), dtype: float64\n"
     ]
    }
   ],
   "source": [
    "data_mean = summary.iloc[:,1] #取mean欄位\n",
    "data_mean = data_mean.sort_values() #由小到大排序\n",
    "print(data_mean)"
   ]
  },
  {
   "cell_type": "markdown",
   "metadata": {},
   "source": [
    "我們發現pop的平均熱門程度最高，disney最低。這個結果顯示各分類的熱門程度的平均數有明顯的差異，而不同分類的歌曲在各項特性會有差異，這讓我們好奇不同的特性會對歌曲的熱門程度造成什麼影響"
   ]
  },
  {
   "cell_type": "markdown",
   "metadata": {},
   "source": [
    "### 2.2 觀察每個歌曲類型的熱門程度標準差"
   ]
  },
  {
   "cell_type": "code",
   "execution_count": 20,
   "metadata": {},
   "outputs": [
    {
     "name": "stdout",
     "output_type": "stream",
     "text": [
      "genre\n",
      "pop         5.014595\n",
      "jazz        5.133613\n",
      "rock        5.339743\n",
      "hip-hop     5.774658\n",
      "country     6.072362\n",
      "dance       6.146251\n",
      "metal       6.384409\n",
      "k-pop       6.559348\n",
      "j-pop       7.346917\n",
      "opera       7.461196\n",
      "blues       7.820514\n",
      "j-idol      9.826222\n",
      "disney     12.784120\n",
      "Name: (popularity, std), dtype: float64\n"
     ]
    }
   ],
   "source": [
    "data_std = summary.iloc[:,2] #取std欄位\n",
    "data_std = data_std.sort_values() #由小到大排序\n",
    "print(data_std)"
   ]
  },
  {
   "cell_type": "markdown",
   "metadata": {},
   "source": [
    "我們發現pop的標準差最低，disney最高，這邊有一個十分有趣的現象，先前mean較高的歌曲類型通常會有較低的標準差"
   ]
  },
  {
   "cell_type": "markdown",
   "metadata": {},
   "source": [
    "### 2.3 skewness and kurtosis"
   ]
  },
  {
   "cell_type": "markdown",
   "metadata": {},
   "source": [
    "我們發現大部分的歌曲類型的熱門程度分佈都具備right-skewed的性質，而在kurtosis方面，只有pop超過1和blues接近1，顯示他們的分佈較為集中"
   ]
  },
  {
   "cell_type": "markdown",
   "metadata": {},
   "source": [
    "### 2.4 檢查Outliers"
   ]
  },
  {
   "cell_type": "code",
   "execution_count": 48,
   "metadata": {},
   "outputs": [
    {
     "data": {
      "image/png": "[encoded data removed]",
      "text/plain": [
       "<Figure size 720x2880 with 14 Axes>"
      ]
     },
     "metadata": {
      "needs_background": "light"
     },
     "output_type": "display_data"
    }
   ],
   "source": [
    "fig, axs = plt.subplots(int(len(cato)/2+1), 2, figsize=(10,40))\n",
    "\n",
    "for i in range(0,len(cato)):\n",
    "    data_cato = df[df['genre'] == cato[i]]\n",
    "    #display(data_cato.head())\n",
    "    \n",
    "    #作圖，繪出popularity盒狀圖\n",
    "    #data_cato['popularity'].plot(kind=\"box\")\n",
    "    axs[int(i/2), i%2].boxplot(data_cato['popularity'])\n",
    "    title = \"boxplot for \"+cato[i]\n",
    "    axs[int(i/2), i%2].set_title(title)\n",
    "\n",
    "plt.show()"
   ]
  },
  {
   "cell_type": "markdown",
   "metadata": {},
   "source": [
    "從各個歌曲分類的boxplot來看，outliers並不多"
   ]
  },
  {
   "cell_type": "markdown",
   "metadata": {},
   "source": [
    "**<font face=\"微軟正黑體\">假設檢定</font>**\n",
    "---"
   ]
  },
  {
   "cell_type": "code",
   "execution_count": null,
   "metadata": {},
   "outputs": [],
   "source": []
  },
  {
   "cell_type": "markdown",
   "metadata": {},
   "source": [
    "**<font face=\"微軟正黑體\">迴歸分析</font>**\n",
    "---"
   ]
  },
  {
   "cell_type": "code",
   "execution_count": null,
   "metadata": {},
   "outputs": [],
   "source": []
  },
  {
   "cell_type": "markdown",
   "metadata": {},
   "source": [
    "**<font face=\"微軟正黑體\">結論與建議</font>**\n",
    "---"
   ]
  },
  {
   "cell_type": "code",
   "execution_count": null,
   "metadata": {},
   "outputs": [],
   "source": []
  }
 ],
 "metadata": {
  "kernelspec": {
   "display_name": "Python 3",
   "language": "python",
   "name": "python3"
  },
  "language_info": {
   "codemirror_mode": {
    "name": "ipython",
    "version": 3
   },
   "file_extension": ".py",
   "mimetype": "text/x-python",
   "name": "python",
   "nbconvert_exporter": "python",
   "pygments_lexer": "ipython3",
   "version": "3.7.5"
  }
 },
 "nbformat": 4,
 "nbformat_minor": 4
}
