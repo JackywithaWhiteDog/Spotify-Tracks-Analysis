{
 "cells": [
  {
   "cell_type": "markdown",
   "metadata": {},
   "source": [
    "Statistics (I)(2) Final Project\n",
    "===\n",
    "\n",
    "<font face=\"微軟正黑體\">\n",
    "<b>組長</b> : 劉鎮霆 B07705015 <br>\n",
    "<b>組員</b> : 黃煒勛 B07705010 | 黃　心 B07705013 | 康　崴 B07705014 | 張宇承 B07705017 | 李旻叡 B07705037\n",
    "</font>"
   ]
  },
  {
   "cell_type": "markdown",
   "metadata": {},
   "source": [
    "## <center>Table of Contents</center>\n",
    "\n",
    "---\n",
    "\n",
    "[<center><font face=\"微軟正黑體\">分析主題</font></center>](#分析主題)\n",
    "[<center><font face=\"微軟正黑體\">前言</font></center>](#前言)\n",
    "[<center><font face=\"微軟正黑體\">敘述統計 & 視覺化</font></center>](#敘述統計-&-視覺化)\n",
    "[<center><font face=\"微軟正黑體\">迴歸分析</font></center>](#迴歸分析)\n",
    "[<center><font face=\"微軟正黑體\">假設檢定</font></center>](#假設檢定)\n",
    "[<center><font face=\"微軟正黑體\">結論與建議</font></center>](#結論與建議)\n",
    "\n",
    "---\n"
   ]
  },
  {
   "cell_type": "markdown",
   "metadata": {},
   "source": [
    "**<font face=\"微軟正黑體\">分析主題</font>**\n",
    "---"
   ]
  },
  {
   "cell_type": "markdown",
   "metadata": {},
   "source": [
    "<font face=\"微軟正黑體\">Spotify 串流平台中歌曲特性對熱門程度的影響</font>"
   ]
  },
  {
   "cell_type": "markdown",
   "metadata": {},
   "source": [
    "**<font face=\"微軟正黑體\">前言</font>**\n",
    "---"
   ]
  },
  {
   "cell_type": "markdown",
   "metadata": {},
   "source": [
    "<font face=\"微軟正黑體\">\n",
    "&emsp;&emsp;現今社會串流音樂蔚為主流，全世界有數億人在使用這類的服務。而在眾多的串流服務中又以 Spotify 為箇中翹楚，它有著 2.86 億個使用者，想必各個音樂發行商的競爭也是十分激烈。我們這些平時熱愛音樂的學生不禁好奇，一首歌要有怎麼樣的特性才可以在 Spotify 的使用環境中脫穎而出，得到較高的熱門程度。若是知道熱門程度與歌曲各項特性的關係，或許發行商可以根據此關係調整策略，獲得較高的觸及率和收益。我們先由敘述統計觀察不同曲風熱門程度分佈，接著做回歸分析發現曲風影響熱門程度，最後由假設檢定看曲風的差異性是怎麼決定熱門程度以及曲風之間哪些特性有差異。\n",
    "</font>"
   ]
  },
  {
   "cell_type": "markdown",
   "metadata": {},
   "source": [
    "**<font face=\"微軟正黑體\">資料集</font>**\n",
    "---"
   ]
  },
  {
   "cell_type": "markdown",
   "metadata": {},
   "source": [
    "### 1. **<font face=\"微軟正黑體\">資料蒐集</font>**\n",
    "\n",
    "<font face=\"微軟正黑體\">\n",
    "    &emsp;&emsp;我們首先在 kaggle 上找到\n",
    "    <a href='https://www.kaggle.com/zaheenhamidani/ultimate-spotify-tracks-db'>Spotify 歌曲資料集</a>,\n",
    "    其中包含了每一首歌的曲風、歌手、流行度 (popularity)、原聲性 (acousticness) 等數據。\n",
    "    由於 kaggle 上的資料比較舊 (2019年3月)，再加上其中的曲風有經過人為處理 (例如將 kids 與 children 合併為一種曲風)，因此我們決定參考它蒐集資料的方法，重新蒐集歌曲資料。<br>\n",
    "    &emsp;&emsp;抽樣時，我們採用 stratified sampling，透過 Soptipy 函式庫搜尋 Spotify 上各個曲風的歌曲 (會回傳歌曲資料的list)，再各自隨機抽樣出 100 首歌，程式碼如下：<br>\n",
    "    (由於不同時間的搜尋結果會不一樣，因此即使設定相同的 random seeds 也無法 reproduce)\n",
    "</font>"
   ]
  },
  {
   "cell_type": "markdown",
   "metadata": {},
   "source": [
    "### 2. **<font face=\"微軟正黑體\">欄位介紹</font>**\n",
    "\n",
    "- name: 歌曲名稱<br>\n",
    "- available_market: 歌曲在多少地區可以被取得<br>\n",
    "- explicit: 是否有明確的歌詞 (由提供者標示)<br>\n",
    "- genre: 歌曲種類，共 112 種 (每種各 100 首歌)<br>\n",
    "- popularity: 流行程度，數值範圍為 0到100。評分標準主要基於播放總數及近期播放數。一般來說，最近常播放的歌曲比過去常播放的歌曲有更高的流行度。<br>\n",
    "- acousticness: 原聲性，數值範圍為 0到1。1 代表有很高的信心認定這首歌是不經過電子音效處理，可以聽到最直接的樂音及人聲。<br>\n",
    "- danceability: 舞蹈性，數值範圍為 0到1。根據拍子、節奏和整體規律來決定是否適合跳舞。<br>\n",
    "- duration_ms: 歌曲長度，以毫秒為單位。<br>\n",
    "- energy: 能量，數值範圍為 0到1。代表感受上的強度與活力。一般來說，從有能量的歌曲會感受到快、大聲與嘈雜，而評分的特徵包含dynamic range、 perceived loudness, timbre, onset rate, 和general entropy。<br>\n",
    "- instrumentalness: 樂器性，數值範圍為 0到1。偵測歌曲是否沒有人聲 (哼唱算樂器，而說唱或言語則為人聲)，此數值 >0.5 即可代表純樂器，不過越接近 1 信心水準越高。<br>\n",
    "- key: 調，代表不同 standard Pitch Class notation，如 0=C, 1=C♯/D♭, 2=D，若無則為-1。<br>\n",
    "- liveness: 數值範圍為 0到1。越高代表現場演奏的可能性高，>0.8表示極有可能為現場演奏。<br>\n",
    "- loudness: 歌曲整體的響度，單位為分貝 (dB)，數值為整首歌的平均值，大部分在 -60至0。<br>\n",
    "- mode: 調式，大調為1，小調為0。<br>\n",
    "- speechiness: 言語性，數值範圍為 0到1。越接近純粹的言語 (如:脫口秀、有聲書、誦詩)，此數值越接近 1，>0.66 代表很有可能皆為言語所構成，0.33到0.66 則可能有部分為言語(如:說唱)，<0.33 為音樂或其他非言語性歌曲。<br>\n",
    "- tempo: 節奏，單位為 beats per minute (BPM)。<br>\n",
    "- time_signature: 歌曲整體的拍子。<br>\n",
    "- valence: 正向性，數值範圍為 0到1，較高代表此音樂聽起來較為正面，較低則為負面。"
   ]
  },
  {
   "cell_type": "markdown",
   "metadata": {},
   "source": [
    "**<font face=\"微軟正黑體\">敘述統計 & 視覺化</font>**\n",
    "---"
   ]
  },
  {
   "cell_type": "code",
   "execution_count": 1,
   "metadata": {},
   "outputs": [],
   "source": [
    "import numpy as np\n",
    "import pandas as pd\n",
    "import matplotlib.pyplot as plt\n",
    "import seaborn as sns\n",
    "import scipy.stats as stats\n",
    "import statsmodels.api as sm\n",
    "import statsmodels.stats.api as sms\n",
    "import statsmodels.formula.api as smf\n",
    "import statsmodels.stats.multicomp as smm\n",
    "import statsmodels\n",
    "import statsmodels.stats.outliers_influence as sso\n",
    "pd.options.display.max_rows = 999\n",
    "\n",
    "df = pd.read_csv(\"tracks_no_may.csv\")\n",
    "df = df.rename(columns = {'loadness': 'loudness'})"
   ]
  },
  {
   "cell_type": "markdown",
   "metadata": {},
   "source": [
    "### 2. **<font face=\"微軟正黑體\">歌曲類型選擇與熱門度觀察</font>**"
   ]
  },
  {
   "cell_type": "code",
   "execution_count": 2,
   "metadata": {},
   "outputs": [],
   "source": [
    "cato = [ 'j-pop', 'k-pop', 'hip-hop','country', 'dance', 'jazz', 'pop', 'blues']"
   ]
  },
  {
   "cell_type": "markdown",
   "metadata": {},
   "source": [
    "我們選擇了'j-pop', 'k-pop', 'hip-hop','country', 'dance', 'jazz', 'pop', 'blues'共8種歌曲類型"
   ]
  },
  {
   "cell_type": "code",
   "execution_count": 3,
   "metadata": {},
   "outputs": [
    {
     "data": {
      "image/png": "[encoded data removed]",
      "text/plain": [
       "<Figure size 432x288 with 1 Axes>"
      ]
     },
     "metadata": {
      "needs_background": "light"
     },
     "output_type": "display_data"
    },
    {
     "name": "stdout",
     "output_type": "stream",
     "text": [
      "mean of popularity  49.291666666666664\n",
      "min of popularity  39.0\n",
      "max of popularity  69.0\n",
      "standard deviation of popularity  7.346917243474037\n",
      "skewness of popularity  0.6929780661163695\n",
      "kurtosis of popularity  -0.4024851529691178\n"
     ]
    },
    {
     "data": {
      "image/png": "[encoded data removed]",
      "text/plain": [
       "<Figure size 432x288 with 1 Axes>"
      ]
     },
     "metadata": {
      "needs_background": "light"
     },
     "output_type": "display_data"
    },
    {
     "name": "stdout",
     "output_type": "stream",
     "text": [
      "mean of popularity  57.54255319148936\n",
      "min of popularity  47.0\n",
      "max of popularity  77.0\n",
      "standard deviation of popularity  6.559348403281751\n",
      "skewness of popularity  0.7978654828632658\n",
      "kurtosis of popularity  0.423048458697024\n"
     ]
    },
    {
     "data": {
      "image/png": "[encoded data removed]",
      "text/plain": [
       "<Figure size 432x288 with 1 Axes>"
      ]
     },
     "metadata": {
      "needs_background": "light"
     },
     "output_type": "display_data"
    },
    {
     "name": "stdout",
     "output_type": "stream",
     "text": [
      "mean of popularity  68.9125\n",
      "min of popularity  60.0\n",
      "max of popularity  86.0\n",
      "standard deviation of popularity  5.774658190333854\n",
      "skewness of popularity  0.8799568929287541\n",
      "kurtosis of popularity  0.45772898318637845\n"
     ]
    },
    {
     "data": {
      "image/png": "[encoded data removed]",
      "text/plain": [
       "<Figure size 432x288 with 1 Axes>"
      ]
     },
     "metadata": {
      "needs_background": "light"
     },
     "output_type": "display_data"
    },
    {
     "name": "stdout",
     "output_type": "stream",
     "text": [
      "mean of popularity  61.989583333333336\n",
      "min of popularity  54.0\n",
      "max of popularity  82.0\n",
      "standard deviation of popularity  6.072361530854658\n",
      "skewness of popularity  0.9170206175208505\n",
      "kurtosis of popularity  0.34562439793597965\n"
     ]
    },
    {
     "data": {
      "image/png": "[encoded data removed]",
      "text/plain": [
       "<Figure size 432x288 with 1 Axes>"
      ]
     },
     "metadata": {
      "needs_background": "light"
     },
     "output_type": "display_data"
    },
    {
     "name": "stdout",
     "output_type": "stream",
     "text": [
      "mean of popularity  69.23333333333333\n",
      "min of popularity  57.0\n",
      "max of popularity  89.0\n",
      "standard deviation of popularity  6.14625125538991\n",
      "skewness of popularity  0.5013524717490567\n",
      "kurtosis of popularity  0.6098109940109495\n"
     ]
    },
    {
     "data": {
      "image/png": "[encoded data removed]",
      "text/plain": [
       "<Figure size 432x288 with 1 Axes>"
      ]
     },
     "metadata": {
      "needs_background": "light"
     },
     "output_type": "display_data"
    },
    {
     "name": "stdout",
     "output_type": "stream",
     "text": [
      "mean of popularity  51.45918367346939\n",
      "min of popularity  39.0\n",
      "max of popularity  65.0\n",
      "standard deviation of popularity  5.133613440414755\n",
      "skewness of popularity  0.25965050179938787\n",
      "kurtosis of popularity  0.0816017783148899\n"
     ]
    },
    {
     "data": {
      "image/png": "[encoded data removed]",
      "text/plain": [
       "<Figure size 432x288 with 1 Axes>"
      ]
     },
     "metadata": {
      "needs_background": "light"
     },
     "output_type": "display_data"
    },
    {
     "name": "stdout",
     "output_type": "stream",
     "text": [
      "mean of popularity  74.19318181818181\n",
      "min of popularity  66.0\n",
      "max of popularity  94.0\n",
      "standard deviation of popularity  5.014594686972034\n",
      "skewness of popularity  1.3484128528030743\n",
      "kurtosis of popularity  2.8739840419693037\n"
     ]
    },
    {
     "data": {
      "image/png": "[encoded data removed]",
      "text/plain": [
       "<Figure size 432x288 with 1 Axes>"
      ]
     },
     "metadata": {
      "needs_background": "light"
     },
     "output_type": "display_data"
    },
    {
     "name": "stdout",
     "output_type": "stream",
     "text": [
      "mean of popularity  51.34065934065934\n",
      "min of popularity  38.0\n",
      "max of popularity  74.0\n",
      "standard deviation of popularity  7.820514021497537\n",
      "skewness of popularity  1.0877268284029413\n",
      "kurtosis of popularity  0.9821078346370067\n"
     ]
    }
   ],
   "source": [
    "data_collect = pd.DataFrame(columns=df.columns) \n",
    "\n",
    "for i in range(0,len(cato)):\n",
    "    data_cato = df[df['genre'] == cato[i]]\n",
    "    #display(data_cato.head())\n",
    "        \n",
    "    #作圖，繪出popularity散佈圖\n",
    "    plt.hist(data_cato['popularity'],bins = 10) \n",
    "    plt.xlabel(\"popularity\")\n",
    "    plt.ylabel(\"numbers of song\")\n",
    "    title = \"popularity distribution for \"+cato[i]\n",
    "    plt.title(title)\n",
    "    plt.show()\n",
    "    \n",
    "    mean = data_cato['popularity'].mean()\n",
    "    minimum = min(data_cato['popularity'])\n",
    "    maximum = max(data_cato['popularity'])\n",
    "    kurtosis = stats.kurtosis(data_cato['popularity'].values)\n",
    "    skewness = stats.skew(data_cato['popularity'].values)\n",
    "    std = data_cato['popularity'].std()\n",
    "    \n",
    "\n",
    "    print(\"mean of popularity \",mean)\n",
    "    print(\"min of popularity \",minimum)\n",
    "    print(\"max of popularity \",maximum)\n",
    "    print(\"standard deviation of popularity \",std)\n",
    "    print(\"skewness of popularity \",skewness)\n",
    "    print(\"kurtosis of popularity \",kurtosis)\n",
    "    \n",
    "    data_collect = pd.concat([data_collect,data_cato])\n",
    "    \n",
    "# 看每種歌曲的popularity相關資料\n",
    "summary = data_collect[['popularity','genre']].groupby('genre').describe()"
   ]
  },
  {
   "cell_type": "code",
   "execution_count": 4,
   "metadata": {},
   "outputs": [
    {
     "data": {
      "text/html": [
       "<div>\n",
       "<style scoped>\n",
       "    .dataframe tbody tr th:only-of-type {\n",
       "        vertical-align: middle;\n",
       "    }\n",
       "\n",
       "    .dataframe tbody tr th {\n",
       "        vertical-align: top;\n",
       "    }\n",
       "\n",
       "    .dataframe thead tr th {\n",
       "        text-align: left;\n",
       "    }\n",
       "\n",
       "    .dataframe thead tr:last-of-type th {\n",
       "        text-align: right;\n",
       "    }\n",
       "</style>\n",
       "<table border=\"1\" class=\"dataframe\">\n",
       "  <thead>\n",
       "    <tr>\n",
       "      <th></th>\n",
       "      <th colspan=\"8\" halign=\"left\">popularity</th>\n",
       "    </tr>\n",
       "    <tr>\n",
       "      <th></th>\n",
       "      <th>count</th>\n",
       "      <th>mean</th>\n",
       "      <th>std</th>\n",
       "      <th>min</th>\n",
       "      <th>25%</th>\n",
       "      <th>50%</th>\n",
       "      <th>75%</th>\n",
       "      <th>max</th>\n",
       "    </tr>\n",
       "    <tr>\n",
       "      <th>genre</th>\n",
       "      <th></th>\n",
       "      <th></th>\n",
       "      <th></th>\n",
       "      <th></th>\n",
       "      <th></th>\n",
       "      <th></th>\n",
       "      <th></th>\n",
       "      <th></th>\n",
       "    </tr>\n",
       "  </thead>\n",
       "  <tbody>\n",
       "    <tr>\n",
       "      <td>blues</td>\n",
       "      <td>91.0</td>\n",
       "      <td>51.340659</td>\n",
       "      <td>7.820514</td>\n",
       "      <td>38.0</td>\n",
       "      <td>46.00</td>\n",
       "      <td>50.0</td>\n",
       "      <td>55.0</td>\n",
       "      <td>74.0</td>\n",
       "    </tr>\n",
       "    <tr>\n",
       "      <td>country</td>\n",
       "      <td>96.0</td>\n",
       "      <td>61.989583</td>\n",
       "      <td>6.072362</td>\n",
       "      <td>54.0</td>\n",
       "      <td>58.00</td>\n",
       "      <td>61.0</td>\n",
       "      <td>66.0</td>\n",
       "      <td>82.0</td>\n",
       "    </tr>\n",
       "    <tr>\n",
       "      <td>dance</td>\n",
       "      <td>90.0</td>\n",
       "      <td>69.233333</td>\n",
       "      <td>6.146251</td>\n",
       "      <td>57.0</td>\n",
       "      <td>65.00</td>\n",
       "      <td>69.0</td>\n",
       "      <td>73.0</td>\n",
       "      <td>89.0</td>\n",
       "    </tr>\n",
       "    <tr>\n",
       "      <td>hip-hop</td>\n",
       "      <td>80.0</td>\n",
       "      <td>68.912500</td>\n",
       "      <td>5.774658</td>\n",
       "      <td>60.0</td>\n",
       "      <td>64.75</td>\n",
       "      <td>68.0</td>\n",
       "      <td>72.0</td>\n",
       "      <td>86.0</td>\n",
       "    </tr>\n",
       "    <tr>\n",
       "      <td>j-pop</td>\n",
       "      <td>96.0</td>\n",
       "      <td>49.291667</td>\n",
       "      <td>7.346917</td>\n",
       "      <td>39.0</td>\n",
       "      <td>44.00</td>\n",
       "      <td>47.5</td>\n",
       "      <td>55.0</td>\n",
       "      <td>69.0</td>\n",
       "    </tr>\n",
       "    <tr>\n",
       "      <td>jazz</td>\n",
       "      <td>98.0</td>\n",
       "      <td>51.459184</td>\n",
       "      <td>5.133613</td>\n",
       "      <td>39.0</td>\n",
       "      <td>48.00</td>\n",
       "      <td>51.0</td>\n",
       "      <td>55.0</td>\n",
       "      <td>65.0</td>\n",
       "    </tr>\n",
       "    <tr>\n",
       "      <td>k-pop</td>\n",
       "      <td>94.0</td>\n",
       "      <td>57.542553</td>\n",
       "      <td>6.559348</td>\n",
       "      <td>47.0</td>\n",
       "      <td>52.00</td>\n",
       "      <td>57.0</td>\n",
       "      <td>61.0</td>\n",
       "      <td>77.0</td>\n",
       "    </tr>\n",
       "    <tr>\n",
       "      <td>pop</td>\n",
       "      <td>88.0</td>\n",
       "      <td>74.193182</td>\n",
       "      <td>5.014595</td>\n",
       "      <td>66.0</td>\n",
       "      <td>71.00</td>\n",
       "      <td>73.0</td>\n",
       "      <td>77.0</td>\n",
       "      <td>94.0</td>\n",
       "    </tr>\n",
       "  </tbody>\n",
       "</table>\n",
       "</div>"
      ],
      "text/plain": [
       "        popularity                                                    \n",
       "             count       mean       std   min    25%   50%   75%   max\n",
       "genre                                                                 \n",
       "blues         91.0  51.340659  7.820514  38.0  46.00  50.0  55.0  74.0\n",
       "country       96.0  61.989583  6.072362  54.0  58.00  61.0  66.0  82.0\n",
       "dance         90.0  69.233333  6.146251  57.0  65.00  69.0  73.0  89.0\n",
       "hip-hop       80.0  68.912500  5.774658  60.0  64.75  68.0  72.0  86.0\n",
       "j-pop         96.0  49.291667  7.346917  39.0  44.00  47.5  55.0  69.0\n",
       "jazz          98.0  51.459184  5.133613  39.0  48.00  51.0  55.0  65.0\n",
       "k-pop         94.0  57.542553  6.559348  47.0  52.00  57.0  61.0  77.0\n",
       "pop           88.0  74.193182  5.014595  66.0  71.00  73.0  77.0  94.0"
      ]
     },
     "execution_count": 4,
     "metadata": {},
     "output_type": "execute_result"
    }
   ],
   "source": [
    "summary"
   ]
  },
  {
   "cell_type": "markdown",
   "metadata": {},
   "source": [
    "### 2.1 觀察每個歌曲類型的熱門程度平均數"
   ]
  },
  {
   "cell_type": "code",
   "execution_count": 5,
   "metadata": {},
   "outputs": [
    {
     "name": "stdout",
     "output_type": "stream",
     "text": [
      "genre\n",
      "j-pop      49.291667\n",
      "blues      51.340659\n",
      "jazz       51.459184\n",
      "k-pop      57.542553\n",
      "country    61.989583\n",
      "hip-hop    68.912500\n",
      "dance      69.233333\n",
      "pop        74.193182\n",
      "Name: (popularity, mean), dtype: float64\n"
     ]
    }
   ],
   "source": [
    "data_mean = summary.iloc[:,1] #取mean欄位\n",
    "data_mean = data_mean.sort_values() #由小到大排序\n",
    "print(data_mean)"
   ]
  },
  {
   "cell_type": "markdown",
   "metadata": {},
   "source": [
    "我們發現pop的平均熱門程度最高，j-pop最低。這個結果顯示各分類的熱門程度的平均數有明顯的差異，而不同分類的歌曲在各項特性會有差異，這讓我們好奇不同的特性會對歌曲的熱門程度造成什麼影響"
   ]
  },
  {
   "cell_type": "markdown",
   "metadata": {},
   "source": [
    "### 2.2 觀察每個歌曲類型的熱門程度標準差"
   ]
  },
  {
   "cell_type": "code",
   "execution_count": 6,
   "metadata": {},
   "outputs": [
    {
     "name": "stdout",
     "output_type": "stream",
     "text": [
      "genre\n",
      "pop        5.014595\n",
      "jazz       5.133613\n",
      "hip-hop    5.774658\n",
      "country    6.072362\n",
      "dance      6.146251\n",
      "k-pop      6.559348\n",
      "j-pop      7.346917\n",
      "blues      7.820514\n",
      "Name: (popularity, std), dtype: float64\n"
     ]
    }
   ],
   "source": [
    "data_std = summary.iloc[:,2] #取std欄位\n",
    "data_std = data_std.sort_values() #由小到大排序\n",
    "print(data_std)"
   ]
  },
  {
   "cell_type": "markdown",
   "metadata": {},
   "source": [
    "我們發現pop的標準差最低，blues最高，這邊有一個十分有趣的現象，先前mean較高的歌曲類型通常會有較低的標準差"
   ]
  },
  {
   "cell_type": "markdown",
   "metadata": {},
   "source": [
    "### 2.3 skewness and kurtosis"
   ]
  },
  {
   "cell_type": "markdown",
   "metadata": {},
   "source": [
    "我們發現大部分的歌曲類型的熱門程度分佈都具備right-skewed的性質，而在kurtosis方面，只有pop超過1和blues接近1，顯示他們的分佈較為集中"
   ]
  },
  {
   "cell_type": "markdown",
   "metadata": {},
   "source": [
    "### 2.4 檢查Outliers"
   ]
  },
  {
   "cell_type": "code",
   "execution_count": 7,
   "metadata": {},
   "outputs": [
    {
     "data": {
      "image/png": "[encoded data removed]",
      "text/plain": [
       "<Figure size 720x2880 with 8 Axes>"
      ]
     },
     "metadata": {
      "needs_background": "light"
     },
     "output_type": "display_data"
    }
   ],
   "source": [
    "fig, axs = plt.subplots(int(len(cato)/2), 2, figsize=(10,40))\n",
    "\n",
    "for i in range(0,len(cato)):\n",
    "    data_cato = df[df['genre'] == cato[i]]\n",
    "    #display(data_cato.head())\n",
    "    \n",
    "    #作圖，繪出popularity盒狀圖\n",
    "    #data_cato['popularity'].plot(kind=\"box\")\n",
    "    axs[int(i/2), i%2].boxplot(data_cato['popularity'])\n",
    "    title = \"boxplot for \"+cato[i]\n",
    "    axs[int(i/2), i%2].set_title(title)\n",
    "\n",
    "plt.show()"
   ]
  },
  {
   "cell_type": "markdown",
   "metadata": {},
   "source": [
    "從各個歌曲分類的boxplot來看，outliers並不多"
   ]
  },
  {
   "cell_type": "markdown",
   "metadata": {},
   "source": [
    "**<font face=\"微軟正黑體\">迴歸分析</font>**\n",
    "---"
   ]
  },
  {
   "cell_type": "code",
   "execution_count": null,
   "metadata": {},
   "outputs": [],
   "source": []
  },
  {
   "cell_type": "markdown",
   "metadata": {},
   "source": [
    "**<font face=\"微軟正黑體\">假設檢定</font>**\n",
    "---"
   ]
  },
  {
   "cell_type": "markdown",
   "metadata": {},
   "source": [
    "### 1.檢驗各種歌曲類型的熱們程度及各項獨立變數是否為常態分佈"
   ]
  },
  {
   "cell_type": "markdown",
   "metadata": {},
   "source": [
    "### 對每個歌曲類型的每個獨立變數的 shapiro-wilk test:\n",
    "### $H_0$:此項變數為常態分佈\n",
    "### $H_1$:此變數非常態分佈"
   ]
  },
  {
   "cell_type": "code",
   "execution_count": 8,
   "metadata": {},
   "outputs": [
    {
     "name": "stderr",
     "output_type": "stream",
     "text": [
      "D:\\STATISTIC\\WPy64-3741\\python-3.7.4.amd64\\lib\\site-packages\\ipykernel_launcher.py:18: SettingWithCopyWarning: \n",
      "A value is trying to be set on a copy of a slice from a DataFrame\n",
      "\n",
      "See the caveats in the documentation: http://pandas.pydata.org/pandas-docs/stable/user_guide/indexing.html#returning-a-view-versus-a-copy\n"
     ]
    }
   ],
   "source": [
    "a = ['popularity', 'acousticness', 'danceability', 'energy', 'instrumentalness', 'liveness', 'speechiness', 'duration_ms', 'key', 'loudness', 'tempo', 'valence', 'available_market']\n",
    "\n",
    "group = []\n",
    "group.append(' ')\n",
    "group.append('j-pop')\n",
    "group.append('k-pop')\n",
    "group.append('pop')\n",
    "group.append('hip-hop')\n",
    "group.append('dance')\n",
    "group.append('jazz')\n",
    "group.append('blues')\n",
    "group.append('country')\n",
    "\n",
    "df['group'] = 0\n",
    "for i in range(df.shape[0]):\n",
    "    for j in range(len(group)):\n",
    "        if df['genre'][i] in group[j]:\n",
    "            df['group'][i] = j\n",
    "df_group = []\n",
    "for i in range(len(group) + 1):\n",
    "    df_group.append(df[df['group'] == i])"
   ]
  },
  {
   "cell_type": "code",
   "execution_count": 9,
   "metadata": {},
   "outputs": [],
   "source": [
    "def all_normality_test(print_all):\n",
    "    pri = 1000\n",
    "    if print_all == False:\n",
    "        pri = 5\n",
    "    count = 0\n",
    "    for i in range(1,len(group)):\n",
    "        if pri > 0:\n",
    "            print('\\n\\nfor %s:\\ntest normality of all attribute\\n' % (group[i]))\n",
    "        for j in range(len(a)):\n",
    "            if pri > 0:\n",
    "                print('%s of %s' % (a[j], group[i]))\n",
    "                fig, axs = plt.subplots(1, 2, figsize=(10,3))\n",
    "                axs[0].hist(df_group[i][a[j]])\n",
    "                sm.qqplot(df_group[i][a[j]], stats.norm, fit=True, line='45', ax=axs[1])\n",
    "                plt.show()\n",
    "            stat, p = stats.shapiro(df_group[i][a[j]])\n",
    "            if pri > 0:\n",
    "                print(f'Shapiro test: statistics = {stat:.4f}, p = {p:.4f}\\n')\n",
    "            if p < 0.05 :\n",
    "                count = count + 1\n",
    "            pri = pri - 1\n",
    "            if pri == 0:\n",
    "                print('*************************************************************************************************************************\\n')\n",
    "                print('******************* we only show five results of the normality test since there are too many of them. *******************\\n')\n",
    "                print('*************************** modify the only input \\'print_all\\' to TRUE to see all results. *****************************\\n')\n",
    "                print('*************************************************************************************************************************\\n')\n",
    "    print('%d/%d of variables are not normally distributed' % (count, len(a)*(len(group)-1)))"
   ]
  },
  {
   "cell_type": "code",
   "execution_count": 10,
   "metadata": {},
   "outputs": [
    {
     "name": "stdout",
     "output_type": "stream",
     "text": [
      "\n",
      "\n",
      "for j-pop:\n",
      "test normality of all attribute\n",
      "\n",
      "popularity of j-pop\n"
     ]
    },
    {
     "data": {
      "image/png": "[encoded data removed]",
      "text/plain": [
       "<Figure size 720x216 with 2 Axes>"
      ]
     },
     "metadata": {
      "needs_background": "light"
     },
     "output_type": "display_data"
    },
    {
     "name": "stdout",
     "output_type": "stream",
     "text": [
      "Shapiro test: statistics = 0.9347, p = 0.0001\n",
      "\n",
      "acousticness of j-pop\n"
     ]
    },
    {
     "data": {
      "image/png": "[encoded data removed]",
      "text/plain": [
       "<Figure size 720x216 with 2 Axes>"
      ]
     },
     "metadata": {
      "needs_background": "light"
     },
     "output_type": "display_data"
    },
    {
     "name": "stdout",
     "output_type": "stream",
     "text": [
      "Shapiro test: statistics = 0.8441, p = 0.0000\n",
      "\n",
      "danceability of j-pop\n"
     ]
    },
    {
     "data": {
      "image/png": "[encoded data removed]",
      "text/plain": [
       "<Figure size 720x216 with 2 Axes>"
      ]
     },
     "metadata": {
      "needs_background": "light"
     },
     "output_type": "display_data"
    },
    {
     "name": "stdout",
     "output_type": "stream",
     "text": [
      "Shapiro test: statistics = 0.9872, p = 0.4843\n",
      "\n",
      "energy of j-pop\n"
     ]
    },
    {
     "data": {
      "image/png": "[encoded data removed]",
      "text/plain": [
       "<Figure size 720x216 with 2 Axes>"
      ]
     },
     "metadata": {
      "needs_background": "light"
     },
     "output_type": "display_data"
    },
    {
     "name": "stdout",
     "output_type": "stream",
     "text": [
      "Shapiro test: statistics = 0.9579, p = 0.0036\n",
      "\n",
      "instrumentalness of j-pop\n"
     ]
    },
    {
     "data": {
      "image/png": "[encoded data removed]",
      "text/plain": [
       "<Figure size 720x216 with 2 Axes>"
      ]
     },
     "metadata": {
      "needs_background": "light"
     },
     "output_type": "display_data"
    },
    {
     "name": "stdout",
     "output_type": "stream",
     "text": [
      "Shapiro test: statistics = 0.1550, p = 0.0000\n",
      "\n",
      "*************************************************************************************************************************\n",
      "\n",
      "******************* we only show five results of the normality test since there are too many of them. *******************\n",
      "\n",
      "*************************** modify the only input 'print_all' to TRUE to see all results. *****************************\n",
      "\n",
      "*************************************************************************************************************************\n",
      "\n",
      "84/104 of variables are not normally distributed\n"
     ]
    }
   ],
   "source": [
    "all_normality_test(False) #因為總共有104個dataset要測試，這裡只列出前5個做為範例，若要檢查所有normality test，將函數的input改成False即可"
   ]
  },
  {
   "cell_type": "markdown",
   "metadata": {},
   "source": [
    "有84/104的獨立變數並非常態分佈，因此我們後面都會使用nonparamatric statistic來做假設檢定"
   ]
  },
  {
   "cell_type": "markdown",
   "metadata": {},
   "source": [
    "### 2.檢驗各種歌曲類型之間的熱門程度是否有差\n",
    "### $H_0$:所有的歌曲類型有相同的熱門程度\n",
    "### $H_1$:有些歌曲類型的熱門程度與其他類型不同"
   ]
  },
  {
   "cell_type": "code",
   "execution_count": 11,
   "metadata": {},
   "outputs": [],
   "source": [
    "def compare_mean(attribute, index, alt = 'greater'):\n",
    "    if len(index) == 2:\n",
    "        stat, p = stats.mannwhitneyu(df_group[index[0]][attribute],df_group[index[1]][attribute],alternative = alt)\n",
    "        if p < 0.05:\n",
    "            print('conduct Wilcoxon rank sum test\\n')\n",
    "            print('Null hypothesis: the population location(distribution) of %s of %s and %s music are the same' % (attribute, group[index[0]], group[index[1]]))\n",
    "            print('Alternative hypothesis: %s of %s music is %s than %s music\\n' % (attribute, group[index[0]], alt, group[index[1]]))\n",
    "            print('statistics = %f, p = %f\\n' % (stat, p))\n",
    "    elif len(index) == 3:\n",
    "        print(attribute,':\\n')\n",
    "        print('conduct Kruskal-Wallis Test\\n')\n",
    "        Group1 = []\n",
    "        Group2 = []\n",
    "        for i in range(len(index)):\n",
    "            Group1.append(df_group[index[i]][attribute])\n",
    "            Group2.append(group[index[i]])\n",
    "        stat, p = stats.kruskal(Group1[0], Group1[1],Group1[2])\n",
    "        print('statistics = %f, p = %f\\n\\n' % (stat, p))\n",
    "        plt.boxplot(Group1, labels = Group2,vert = 0)\n",
    "        plt.show()\n",
    "        if p < 0.05:\n",
    "            print('\\n')\n",
    "            for j in range(3):\n",
    "                for k in range(3):\n",
    "                    if j != k:\n",
    "                        compare_mean(attribute,[index[j],index[k]])\n",
    "    else :\n",
    "        print('len(index) must be less than 4')\n",
    "def compare(index):\n",
    "    for i in range(len(a)):\n",
    "        compare_mean(a[i], index)\n",
    "        print('\\n\\n')"
   ]
  },
  {
   "cell_type": "code",
   "execution_count": 12,
   "metadata": {},
   "outputs": [],
   "source": [
    "def compare_all_mean(attribute):\n",
    "    print(attribute,':\\n')\n",
    "    print('conduct Kruskal-Wallis Test\\n')\n",
    "    Group1 = []\n",
    "    Group2 = []\n",
    "    for i in range(1,len(group)):\n",
    "        Group1.append(df_group[i][attribute])\n",
    "        Group2.append(group[i])\n",
    "    stat, p = stats.kruskal(Group1[0], Group1[1], Group1[2], Group1[3], Group1[3], Group1[4], Group1[5], Group1[6], Group1[7])\n",
    "    print('statistics = %f, p = %f\\n\\n' % (stat, p))\n",
    "    plt.boxplot(Group1, labels = Group2,vert = 0)\n",
    "    plt.show()\n",
    "def compare_all():\n",
    "    for i in range(len(a)):\n",
    "        compare_all_mean(a[i])\n",
    "        print('\\n\\n')"
   ]
  },
  {
   "cell_type": "code",
   "execution_count": 13,
   "metadata": {},
   "outputs": [],
   "source": [
    "def index(genre):\n",
    "    for i in range(len(group)):\n",
    "        if group[i] == genre:\n",
    "            return i"
   ]
  },
  {
   "cell_type": "code",
   "execution_count": 14,
   "metadata": {},
   "outputs": [
    {
     "name": "stdout",
     "output_type": "stream",
     "text": [
      "popularity :\n",
      "\n",
      "conduct Kruskal-Wallis Test\n",
      "\n",
      "statistics = 559.168151, p = 0.000000\n",
      "\n",
      "\n"
     ]
    },
    {
     "data": {
      "image/png": "[encoded data removed]",
      "text/plain": [
       "<Figure size 432x288 with 1 Axes>"
      ]
     },
     "metadata": {
      "needs_background": "light"
     },
     "output_type": "display_data"
    }
   ],
   "source": [
    "compare_all_mean('popularity')"
   ]
  },
  {
   "cell_type": "markdown",
   "metadata": {},
   "source": [
    "### 3.檢驗相近歌曲類型的獨立變數差異"
   ]
  },
  {
   "cell_type": "markdown",
   "metadata": {},
   "source": [
    "### 1. j-pop, k-pop and pop"
   ]
  },
  {
   "cell_type": "code",
   "execution_count": 15,
   "metadata": {},
   "outputs": [
    {
     "name": "stdout",
     "output_type": "stream",
     "text": [
      "acousticness :\n",
      "\n",
      "conduct Kruskal-Wallis Test\n",
      "\n",
      "statistics = 0.876115, p = 0.645289\n",
      "\n",
      "\n"
     ]
    },
    {
     "data": {
      "image/png": "[encoded data removed]",
      "text/plain": [
       "<Figure size 432x288 with 1 Axes>"
      ]
     },
     "metadata": {
      "needs_background": "light"
     },
     "output_type": "display_data"
    }
   ],
   "source": [
    "compare_mean(a[1],[index('j-pop'),index('k-pop'),index('pop')])"
   ]
  },
  {
   "cell_type": "code",
   "execution_count": 16,
   "metadata": {},
   "outputs": [
    {
     "name": "stdout",
     "output_type": "stream",
     "text": [
      "danceability :\n",
      "\n",
      "conduct Kruskal-Wallis Test\n",
      "\n",
      "statistics = 4.267493, p = 0.118393\n",
      "\n",
      "\n"
     ]
    },
    {
     "data": {
      "image/png": "[encoded data removed]",
      "text/plain": [
       "<Figure size 432x288 with 1 Axes>"
      ]
     },
     "metadata": {
      "needs_background": "light"
     },
     "output_type": "display_data"
    }
   ],
   "source": [
    "compare_mean(a[2],[index('j-pop'),index('k-pop'),index('pop')])"
   ]
  },
  {
   "cell_type": "code",
   "execution_count": 17,
   "metadata": {},
   "outputs": [
    {
     "name": "stdout",
     "output_type": "stream",
     "text": [
      "energy :\n",
      "\n",
      "conduct Kruskal-Wallis Test\n",
      "\n",
      "statistics = 20.080653, p = 0.000044\n",
      "\n",
      "\n"
     ]
    },
    {
     "data": {
      "image/png": "[encoded data removed]",
      "text/plain": [
       "<Figure size 432x288 with 1 Axes>"
      ]
     },
     "metadata": {
      "needs_background": "light"
     },
     "output_type": "display_data"
    },
    {
     "name": "stdout",
     "output_type": "stream",
     "text": [
      "\n",
      "\n",
      "conduct Wilcoxon rank sum test\n",
      "\n",
      "Null hypothesis: the population location(distribution) of energy of k-pop and j-pop music are the same\n",
      "Alternative hypothesis: energy of k-pop music is greater than j-pop music\n",
      "\n",
      "statistics = 5765.500000, p = 0.000473\n",
      "\n",
      "conduct Wilcoxon rank sum test\n",
      "\n",
      "Null hypothesis: the population location(distribution) of energy of k-pop and pop music are the same\n",
      "Alternative hypothesis: energy of k-pop music is greater than pop music\n",
      "\n",
      "statistics = 5700.500000, p = 0.000005\n",
      "\n"
     ]
    }
   ],
   "source": [
    "compare_mean(a[3],[index('j-pop'),index('k-pop'),index('pop')])"
   ]
  },
  {
   "cell_type": "code",
   "execution_count": 18,
   "metadata": {},
   "outputs": [
    {
     "name": "stdout",
     "output_type": "stream",
     "text": [
      "instrumentalness :\n",
      "\n",
      "conduct Kruskal-Wallis Test\n",
      "\n",
      "statistics = 8.882891, p = 0.011779\n",
      "\n",
      "\n"
     ]
    },
    {
     "data": {
      "image/png": "[encoded data removed]",
      "text/plain": [
       "<Figure size 432x288 with 1 Axes>"
      ]
     },
     "metadata": {
      "needs_background": "light"
     },
     "output_type": "display_data"
    },
    {
     "name": "stdout",
     "output_type": "stream",
     "text": [
      "\n",
      "\n",
      "conduct Wilcoxon rank sum test\n",
      "\n",
      "Null hypothesis: the population location(distribution) of instrumentalness of j-pop and k-pop music are the same\n",
      "Alternative hypothesis: instrumentalness of j-pop music is greater than k-pop music\n",
      "\n",
      "statistics = 5480.500000, p = 0.001447\n",
      "\n",
      "conduct Wilcoxon rank sum test\n",
      "\n",
      "Null hypothesis: the population location(distribution) of instrumentalness of pop and k-pop music are the same\n",
      "Alternative hypothesis: instrumentalness of pop music is greater than k-pop music\n",
      "\n",
      "statistics = 4612.000000, p = 0.049713\n",
      "\n"
     ]
    }
   ],
   "source": [
    "compare_mean(a[4],[index('j-pop'),index('k-pop'),index('pop')])"
   ]
  },
  {
   "cell_type": "code",
   "execution_count": 19,
   "metadata": {},
   "outputs": [
    {
     "name": "stdout",
     "output_type": "stream",
     "text": [
      "liveness :\n",
      "\n",
      "conduct Kruskal-Wallis Test\n",
      "\n",
      "statistics = 6.829741, p = 0.032881\n",
      "\n",
      "\n"
     ]
    },
    {
     "data": {
      "image/png": "[encoded data removed]",
      "text/plain": [
       "<Figure size 432x288 with 1 Axes>"
      ]
     },
     "metadata": {
      "needs_background": "light"
     },
     "output_type": "display_data"
    },
    {
     "name": "stdout",
     "output_type": "stream",
     "text": [
      "\n",
      "\n",
      "conduct Wilcoxon rank sum test\n",
      "\n",
      "Null hypothesis: the population location(distribution) of liveness of k-pop and pop music are the same\n",
      "Alternative hypothesis: liveness of k-pop music is greater than pop music\n",
      "\n",
      "statistics = 5076.000000, p = 0.004081\n",
      "\n"
     ]
    }
   ],
   "source": [
    "compare_mean(a[5],[index('j-pop'),index('k-pop'),index('pop')])"
   ]
  },
  {
   "cell_type": "code",
   "execution_count": 20,
   "metadata": {},
   "outputs": [
    {
     "name": "stdout",
     "output_type": "stream",
     "text": [
      "speechiness :\n",
      "\n",
      "conduct Kruskal-Wallis Test\n",
      "\n",
      "statistics = 7.598574, p = 0.022387\n",
      "\n",
      "\n"
     ]
    },
    {
     "data": {
      "image/png": "[encoded data removed]",
      "text/plain": [
       "<Figure size 432x288 with 1 Axes>"
      ]
     },
     "metadata": {
      "needs_background": "light"
     },
     "output_type": "display_data"
    },
    {
     "name": "stdout",
     "output_type": "stream",
     "text": [
      "\n",
      "\n",
      "conduct Wilcoxon rank sum test\n",
      "\n",
      "Null hypothesis: the population location(distribution) of speechiness of k-pop and j-pop music are the same\n",
      "Alternative hypothesis: speechiness of k-pop music is greater than j-pop music\n",
      "\n",
      "statistics = 5546.000000, p = 0.003195\n",
      "\n",
      "conduct Wilcoxon rank sum test\n",
      "\n",
      "Null hypothesis: the population location(distribution) of speechiness of k-pop and pop music are the same\n",
      "Alternative hypothesis: speechiness of k-pop music is greater than pop music\n",
      "\n",
      "statistics = 4732.500000, p = 0.046667\n",
      "\n"
     ]
    }
   ],
   "source": [
    "compare_mean(a[6],[index('j-pop'),index('k-pop'),index('pop')])"
   ]
  },
  {
   "cell_type": "code",
   "execution_count": 21,
   "metadata": {},
   "outputs": [
    {
     "name": "stdout",
     "output_type": "stream",
     "text": [
      "duration_ms :\n",
      "\n",
      "conduct Kruskal-Wallis Test\n",
      "\n",
      "statistics = 42.508532, p = 0.000000\n",
      "\n",
      "\n"
     ]
    },
    {
     "data": {
      "image/png": "[encoded data removed]",
      "text/plain": [
       "<Figure size 432x288 with 1 Axes>"
      ]
     },
     "metadata": {
      "needs_background": "light"
     },
     "output_type": "display_data"
    },
    {
     "name": "stdout",
     "output_type": "stream",
     "text": [
      "\n",
      "\n",
      "conduct Wilcoxon rank sum test\n",
      "\n",
      "Null hypothesis: the population location(distribution) of duration_ms of j-pop and k-pop music are the same\n",
      "Alternative hypothesis: duration_ms of j-pop music is greater than k-pop music\n",
      "\n",
      "statistics = 6550.000000, p = 0.000000\n",
      "\n",
      "conduct Wilcoxon rank sum test\n",
      "\n",
      "Null hypothesis: the population location(distribution) of duration_ms of j-pop and pop music are the same\n",
      "Alternative hypothesis: duration_ms of j-pop music is greater than pop music\n",
      "\n",
      "statistics = 6279.000000, p = 0.000000\n",
      "\n"
     ]
    }
   ],
   "source": [
    "compare_mean(a[7],[index('j-pop'),index('k-pop'),index('pop')])"
   ]
  },
  {
   "cell_type": "code",
   "execution_count": 22,
   "metadata": {},
   "outputs": [
    {
     "name": "stdout",
     "output_type": "stream",
     "text": [
      "key :\n",
      "\n",
      "conduct Kruskal-Wallis Test\n",
      "\n",
      "statistics = 0.254362, p = 0.880574\n",
      "\n",
      "\n"
     ]
    },
    {
     "data": {
      "image/png": "[encoded data removed]",
      "text/plain": [
       "<Figure size 432x288 with 1 Axes>"
      ]
     },
     "metadata": {
      "needs_background": "light"
     },
     "output_type": "display_data"
    }
   ],
   "source": [
    "compare_mean(a[8],[index('j-pop'),index('k-pop'),index('pop')])"
   ]
  },
  {
   "cell_type": "code",
   "execution_count": 23,
   "metadata": {},
   "outputs": [
    {
     "name": "stdout",
     "output_type": "stream",
     "text": [
      "loudness :\n",
      "\n",
      "conduct Kruskal-Wallis Test\n",
      "\n",
      "statistics = 54.270956, p = 0.000000\n",
      "\n",
      "\n"
     ]
    },
    {
     "data": {
      "image/png": "[encoded data removed]",
      "text/plain": [
       "<Figure size 432x288 with 1 Axes>"
      ]
     },
     "metadata": {
      "needs_background": "light"
     },
     "output_type": "display_data"
    },
    {
     "name": "stdout",
     "output_type": "stream",
     "text": [
      "\n",
      "\n",
      "conduct Wilcoxon rank sum test\n",
      "\n",
      "Null hypothesis: the population location(distribution) of loudness of k-pop and j-pop music are the same\n",
      "Alternative hypothesis: loudness of k-pop music is greater than j-pop music\n",
      "\n",
      "statistics = 6981.500000, p = 0.000000\n",
      "\n",
      "conduct Wilcoxon rank sum test\n",
      "\n",
      "Null hypothesis: the population location(distribution) of loudness of k-pop and pop music are the same\n",
      "Alternative hypothesis: loudness of k-pop music is greater than pop music\n",
      "\n",
      "statistics = 6175.000000, p = 0.000000\n",
      "\n",
      "conduct Wilcoxon rank sum test\n",
      "\n",
      "Null hypothesis: the population location(distribution) of loudness of pop and j-pop music are the same\n",
      "Alternative hypothesis: loudness of pop music is greater than j-pop music\n",
      "\n",
      "statistics = 5158.000000, p = 0.004845\n",
      "\n"
     ]
    }
   ],
   "source": [
    "compare_mean(a[9],[index('j-pop'),index('k-pop'),index('pop')])"
   ]
  },
  {
   "cell_type": "code",
   "execution_count": 24,
   "metadata": {},
   "outputs": [
    {
     "name": "stdout",
     "output_type": "stream",
     "text": [
      "tempo :\n",
      "\n",
      "conduct Kruskal-Wallis Test\n",
      "\n",
      "statistics = 0.413623, p = 0.813173\n",
      "\n",
      "\n"
     ]
    },
    {
     "data": {
      "image/png": "[encoded data removed]",
      "text/plain": [
       "<Figure size 432x288 with 1 Axes>"
      ]
     },
     "metadata": {
      "needs_background": "light"
     },
     "output_type": "display_data"
    }
   ],
   "source": [
    "compare_mean(a[10],[index('j-pop'),index('k-pop'),index('pop')])"
   ]
  },
  {
   "cell_type": "code",
   "execution_count": 25,
   "metadata": {},
   "outputs": [
    {
     "name": "stdout",
     "output_type": "stream",
     "text": [
      "valence :\n",
      "\n",
      "conduct Kruskal-Wallis Test\n",
      "\n",
      "statistics = 14.205258, p = 0.000823\n",
      "\n",
      "\n"
     ]
    },
    {
     "data": {
      "image/png": "[encoded data removed]",
      "text/plain": [
       "<Figure size 432x288 with 1 Axes>"
      ]
     },
     "metadata": {
      "needs_background": "light"
     },
     "output_type": "display_data"
    },
    {
     "name": "stdout",
     "output_type": "stream",
     "text": [
      "\n",
      "\n",
      "conduct Wilcoxon rank sum test\n",
      "\n",
      "Null hypothesis: the population location(distribution) of valence of j-pop and k-pop music are the same\n",
      "Alternative hypothesis: valence of j-pop music is greater than k-pop music\n",
      "\n",
      "statistics = 5304.500000, p = 0.018318\n",
      "\n",
      "conduct Wilcoxon rank sum test\n",
      "\n",
      "Null hypothesis: the population location(distribution) of valence of j-pop and pop music are the same\n",
      "Alternative hypothesis: valence of j-pop music is greater than pop music\n",
      "\n",
      "statistics = 5548.500000, p = 0.000122\n",
      "\n",
      "conduct Wilcoxon rank sum test\n",
      "\n",
      "Null hypothesis: the population location(distribution) of valence of k-pop and pop music are the same\n",
      "Alternative hypothesis: valence of k-pop music is greater than pop music\n",
      "\n",
      "statistics = 4800.500000, p = 0.030775\n",
      "\n"
     ]
    }
   ],
   "source": [
    "compare_mean(a[11],[index('j-pop'),index('k-pop'),index('pop')])"
   ]
  },
  {
   "cell_type": "code",
   "execution_count": 26,
   "metadata": {},
   "outputs": [
    {
     "name": "stdout",
     "output_type": "stream",
     "text": [
      "available_market :\n",
      "\n",
      "conduct Kruskal-Wallis Test\n",
      "\n",
      "statistics = 2.952772, p = 0.228462\n",
      "\n",
      "\n"
     ]
    },
    {
     "data": {
      "image/png": "[encoded data removed]",
      "text/plain": [
       "<Figure size 432x288 with 1 Axes>"
      ]
     },
     "metadata": {
      "needs_background": "light"
     },
     "output_type": "display_data"
    }
   ],
   "source": [
    "compare_mean(a[12],[index('j-pop'),index('k-pop'),index('pop')])"
   ]
  },
  {
   "cell_type": "markdown",
   "metadata": {},
   "source": [
    "### pop, hip-hop and dance"
   ]
  },
  {
   "cell_type": "code",
   "execution_count": 27,
   "metadata": {},
   "outputs": [
    {
     "name": "stdout",
     "output_type": "stream",
     "text": [
      "acousticness :\n",
      "\n",
      "conduct Kruskal-Wallis Test\n",
      "\n",
      "statistics = 4.442836, p = 0.108455\n",
      "\n",
      "\n"
     ]
    },
    {
     "data": {
      "image/png": "[encoded data removed]",
      "text/plain": [
       "<Figure size 432x288 with 1 Axes>"
      ]
     },
     "metadata": {
      "needs_background": "light"
     },
     "output_type": "display_data"
    }
   ],
   "source": [
    "compare_mean(a[1],[index('pop'),index('hip-hop'),index('dance')])"
   ]
  },
  {
   "cell_type": "code",
   "execution_count": 28,
   "metadata": {},
   "outputs": [
    {
     "name": "stdout",
     "output_type": "stream",
     "text": [
      "danceability :\n",
      "\n",
      "conduct Kruskal-Wallis Test\n",
      "\n",
      "statistics = 23.731290, p = 0.000007\n",
      "\n",
      "\n"
     ]
    },
    {
     "data": {
      "image/png": "[encoded data removed]",
      "text/plain": [
       "<Figure size 432x288 with 1 Axes>"
      ]
     },
     "metadata": {
      "needs_background": "light"
     },
     "output_type": "display_data"
    },
    {
     "name": "stdout",
     "output_type": "stream",
     "text": [
      "\n",
      "\n",
      "conduct Wilcoxon rank sum test\n",
      "\n",
      "Null hypothesis: the population location(distribution) of danceability of hip-hop and pop music are the same\n",
      "Alternative hypothesis: danceability of hip-hop music is greater than pop music\n",
      "\n",
      "statistics = 4780.000000, p = 0.000032\n",
      "\n",
      "conduct Wilcoxon rank sum test\n",
      "\n",
      "Null hypothesis: the population location(distribution) of danceability of hip-hop and dance music are the same\n",
      "Alternative hypothesis: danceability of hip-hop music is greater than dance music\n",
      "\n",
      "statistics = 5036.500000, p = 0.000004\n",
      "\n"
     ]
    }
   ],
   "source": [
    "compare_mean(a[2],[index('pop'),index('hip-hop'),index('dance')])"
   ]
  },
  {
   "cell_type": "code",
   "execution_count": 29,
   "metadata": {},
   "outputs": [
    {
     "name": "stdout",
     "output_type": "stream",
     "text": [
      "energy :\n",
      "\n",
      "conduct Kruskal-Wallis Test\n",
      "\n",
      "statistics = 9.270552, p = 0.009703\n",
      "\n",
      "\n"
     ]
    },
    {
     "data": {
      "image/png": "[encoded data removed]",
      "text/plain": [
       "<Figure size 432x288 with 1 Axes>"
      ]
     },
     "metadata": {
      "needs_background": "light"
     },
     "output_type": "display_data"
    },
    {
     "name": "stdout",
     "output_type": "stream",
     "text": [
      "\n",
      "\n",
      "conduct Wilcoxon rank sum test\n",
      "\n",
      "Null hypothesis: the population location(distribution) of energy of dance and pop music are the same\n",
      "Alternative hypothesis: energy of dance music is greater than pop music\n",
      "\n",
      "statistics = 4753.500000, p = 0.010522\n",
      "\n",
      "conduct Wilcoxon rank sum test\n",
      "\n",
      "Null hypothesis: the population location(distribution) of energy of dance and hip-hop music are the same\n",
      "Alternative hypothesis: energy of dance music is greater than hip-hop music\n",
      "\n",
      "statistics = 4535.000000, p = 0.001764\n",
      "\n"
     ]
    }
   ],
   "source": [
    "compare_mean(a[3],[index('pop'),index('hip-hop'),index('dance')])"
   ]
  },
  {
   "cell_type": "code",
   "execution_count": 30,
   "metadata": {},
   "outputs": [
    {
     "name": "stdout",
     "output_type": "stream",
     "text": [
      "instrumentalness :\n",
      "\n",
      "conduct Kruskal-Wallis Test\n",
      "\n",
      "statistics = 1.475383, p = 0.478217\n",
      "\n",
      "\n"
     ]
    },
    {
     "data": {
      "image/png": "[encoded data removed]",
      "text/plain": [
       "<Figure size 432x288 with 1 Axes>"
      ]
     },
     "metadata": {
      "needs_background": "light"
     },
     "output_type": "display_data"
    }
   ],
   "source": [
    "compare_mean(a[4],[index('pop'),index('hip-hop'),index('dance')])"
   ]
  },
  {
   "cell_type": "code",
   "execution_count": 31,
   "metadata": {},
   "outputs": [
    {
     "name": "stdout",
     "output_type": "stream",
     "text": [
      "liveness :\n",
      "\n",
      "conduct Kruskal-Wallis Test\n",
      "\n",
      "statistics = 5.416807, p = 0.066643\n",
      "\n",
      "\n"
     ]
    },
    {
     "data": {
      "image/png": "[encoded data removed]",
      "text/plain": [
       "<Figure size 432x288 with 1 Axes>"
      ]
     },
     "metadata": {
      "needs_background": "light"
     },
     "output_type": "display_data"
    }
   ],
   "source": [
    "compare_mean(a[5],[index('pop'),index('hip-hop'),index('dance')])"
   ]
  },
  {
   "cell_type": "code",
   "execution_count": 32,
   "metadata": {},
   "outputs": [
    {
     "name": "stdout",
     "output_type": "stream",
     "text": [
      "speechiness :\n",
      "\n",
      "conduct Kruskal-Wallis Test\n",
      "\n",
      "statistics = 60.357961, p = 0.000000\n",
      "\n",
      "\n"
     ]
    },
    {
     "data": {
      "image/png": "[encoded data removed]",
      "text/plain": [
       "<Figure size 432x288 with 1 Axes>"
      ]
     },
     "metadata": {
      "needs_background": "light"
     },
     "output_type": "display_data"
    },
    {
     "name": "stdout",
     "output_type": "stream",
     "text": [
      "\n",
      "\n",
      "conduct Wilcoxon rank sum test\n",
      "\n",
      "Null hypothesis: the population location(distribution) of speechiness of hip-hop and pop music are the same\n",
      "Alternative hypothesis: speechiness of hip-hop music is greater than pop music\n",
      "\n",
      "statistics = 5488.500000, p = 0.000000\n",
      "\n",
      "conduct Wilcoxon rank sum test\n",
      "\n",
      "Null hypothesis: the population location(distribution) of speechiness of hip-hop and dance music are the same\n",
      "Alternative hypothesis: speechiness of hip-hop music is greater than dance music\n",
      "\n",
      "statistics = 5898.500000, p = 0.000000\n",
      "\n"
     ]
    }
   ],
   "source": [
    "compare_mean(a[6],[index('pop'),index('hip-hop'),index('dance')])"
   ]
  },
  {
   "cell_type": "code",
   "execution_count": 33,
   "metadata": {},
   "outputs": [
    {
     "name": "stdout",
     "output_type": "stream",
     "text": [
      "duration_ms :\n",
      "\n",
      "conduct Kruskal-Wallis Test\n",
      "\n",
      "statistics = 2.690766, p = 0.260440\n",
      "\n",
      "\n"
     ]
    },
    {
     "data": {
      "image/png": "[encoded data removed]",
      "text/plain": [
       "<Figure size 432x288 with 1 Axes>"
      ]
     },
     "metadata": {
      "needs_background": "light"
     },
     "output_type": "display_data"
    }
   ],
   "source": [
    "compare_mean(a[7],[index('pop'),index('hip-hop'),index('dance')])"
   ]
  },
  {
   "cell_type": "code",
   "execution_count": 34,
   "metadata": {},
   "outputs": [
    {
     "name": "stdout",
     "output_type": "stream",
     "text": [
      "key :\n",
      "\n",
      "conduct Kruskal-Wallis Test\n",
      "\n",
      "statistics = 0.991297, p = 0.609176\n",
      "\n",
      "\n"
     ]
    },
    {
     "data": {
      "image/png": "[encoded data removed]",
      "text/plain": [
       "<Figure size 432x288 with 1 Axes>"
      ]
     },
     "metadata": {
      "needs_background": "light"
     },
     "output_type": "display_data"
    }
   ],
   "source": [
    "compare_mean(a[8],[index('pop'),index('hip-hop'),index('dance')])"
   ]
  },
  {
   "cell_type": "code",
   "execution_count": 35,
   "metadata": {},
   "outputs": [
    {
     "name": "stdout",
     "output_type": "stream",
     "text": [
      "loudness :\n",
      "\n",
      "conduct Kruskal-Wallis Test\n",
      "\n",
      "statistics = 9.478825, p = 0.008744\n",
      "\n",
      "\n"
     ]
    },
    {
     "data": {
      "image/png": "[encoded data removed]",
      "text/plain": [
       "<Figure size 432x288 with 1 Axes>"
      ]
     },
     "metadata": {
      "needs_background": "light"
     },
     "output_type": "display_data"
    },
    {
     "name": "stdout",
     "output_type": "stream",
     "text": [
      "\n",
      "\n",
      "conduct Wilcoxon rank sum test\n",
      "\n",
      "Null hypothesis: the population location(distribution) of loudness of dance and pop music are the same\n",
      "Alternative hypothesis: loudness of dance music is greater than pop music\n",
      "\n",
      "statistics = 4657.000000, p = 0.021362\n",
      "\n",
      "conduct Wilcoxon rank sum test\n",
      "\n",
      "Null hypothesis: the population location(distribution) of loudness of dance and hip-hop music are the same\n",
      "Alternative hypothesis: loudness of dance music is greater than hip-hop music\n",
      "\n",
      "statistics = 4569.000000, p = 0.001249\n",
      "\n"
     ]
    }
   ],
   "source": [
    "compare_mean(a[9],[index('pop'),index('hip-hop'),index('dance')])"
   ]
  },
  {
   "cell_type": "code",
   "execution_count": 36,
   "metadata": {},
   "outputs": [
    {
     "name": "stdout",
     "output_type": "stream",
     "text": [
      "tempo :\n",
      "\n",
      "conduct Kruskal-Wallis Test\n",
      "\n",
      "statistics = 2.527845, p = 0.282544\n",
      "\n",
      "\n"
     ]
    },
    {
     "data": {
      "image/png": "[encoded data removed]",
      "text/plain": [
       "<Figure size 432x288 with 1 Axes>"
      ]
     },
     "metadata": {
      "needs_background": "light"
     },
     "output_type": "display_data"
    }
   ],
   "source": [
    "compare_mean(a[10],[index('pop'),index('hip-hop'),index('dance')])"
   ]
  },
  {
   "cell_type": "code",
   "execution_count": 37,
   "metadata": {},
   "outputs": [
    {
     "name": "stdout",
     "output_type": "stream",
     "text": [
      "valence :\n",
      "\n",
      "conduct Kruskal-Wallis Test\n",
      "\n",
      "statistics = 3.607765, p = 0.164658\n",
      "\n",
      "\n"
     ]
    },
    {
     "data": {
      "image/png": "[encoded data removed]",
      "text/plain": [
       "<Figure size 432x288 with 1 Axes>"
      ]
     },
     "metadata": {
      "needs_background": "light"
     },
     "output_type": "display_data"
    }
   ],
   "source": [
    "compare_mean(a[11],[index('pop'),index('hip-hop'),index('dance')])"
   ]
  },
  {
   "cell_type": "code",
   "execution_count": 38,
   "metadata": {},
   "outputs": [
    {
     "name": "stdout",
     "output_type": "stream",
     "text": [
      "available_market :\n",
      "\n",
      "conduct Kruskal-Wallis Test\n",
      "\n",
      "statistics = 5.104112, p = 0.077921\n",
      "\n",
      "\n"
     ]
    },
    {
     "data": {
      "image/png": "[encoded data removed]",
      "text/plain": [
       "<Figure size 432x288 with 1 Axes>"
      ]
     },
     "metadata": {
      "needs_background": "light"
     },
     "output_type": "display_data"
    }
   ],
   "source": [
    "compare_mean(a[12],[index('pop'),index('hip-hop'),index('dance')])"
   ]
  },
  {
   "cell_type": "markdown",
   "metadata": {},
   "source": [
    "### jazz, blues and country"
   ]
  },
  {
   "cell_type": "code",
   "execution_count": 39,
   "metadata": {},
   "outputs": [
    {
     "name": "stdout",
     "output_type": "stream",
     "text": [
      "acousticness :\n",
      "\n",
      "conduct Kruskal-Wallis Test\n",
      "\n",
      "statistics = 61.744256, p = 0.000000\n",
      "\n",
      "\n"
     ]
    },
    {
     "data": {
      "image/png": "[encoded data removed]",
      "text/plain": [
       "<Figure size 432x288 with 1 Axes>"
      ]
     },
     "metadata": {
      "needs_background": "light"
     },
     "output_type": "display_data"
    },
    {
     "name": "stdout",
     "output_type": "stream",
     "text": [
      "\n",
      "\n",
      "conduct Wilcoxon rank sum test\n",
      "\n",
      "Null hypothesis: the population location(distribution) of acousticness of jazz and blues music are the same\n",
      "Alternative hypothesis: acousticness of jazz music is greater than blues music\n",
      "\n",
      "statistics = 6816.000000, p = 0.000000\n",
      "\n",
      "conduct Wilcoxon rank sum test\n",
      "\n",
      "Null hypothesis: the population location(distribution) of acousticness of jazz and country music are the same\n",
      "Alternative hypothesis: acousticness of jazz music is greater than country music\n",
      "\n",
      "statistics = 7538.500000, p = 0.000000\n",
      "\n"
     ]
    }
   ],
   "source": [
    "compare_mean(a[1],[index('jazz'),index('blues'),index('country')])"
   ]
  },
  {
   "cell_type": "code",
   "execution_count": 40,
   "metadata": {},
   "outputs": [
    {
     "name": "stdout",
     "output_type": "stream",
     "text": [
      "danceability :\n",
      "\n",
      "conduct Kruskal-Wallis Test\n",
      "\n",
      "statistics = 8.411256, p = 0.014911\n",
      "\n",
      "\n"
     ]
    },
    {
     "data": {
      "image/png": "[encoded data removed]",
      "text/plain": [
       "<Figure size 432x288 with 1 Axes>"
      ]
     },
     "metadata": {
      "needs_background": "light"
     },
     "output_type": "display_data"
    },
    {
     "name": "stdout",
     "output_type": "stream",
     "text": [
      "\n",
      "\n",
      "conduct Wilcoxon rank sum test\n",
      "\n",
      "Null hypothesis: the population location(distribution) of danceability of country and blues music are the same\n",
      "Alternative hypothesis: danceability of country music is greater than blues music\n",
      "\n",
      "statistics = 5495.500000, p = 0.001158\n",
      "\n"
     ]
    }
   ],
   "source": [
    "compare_mean(a[2],[index('jazz'),index('blues'),index('country')])"
   ]
  },
  {
   "cell_type": "code",
   "execution_count": 41,
   "metadata": {},
   "outputs": [
    {
     "name": "stdout",
     "output_type": "stream",
     "text": [
      "energy :\n",
      "\n",
      "conduct Kruskal-Wallis Test\n",
      "\n",
      "statistics = 73.070551, p = 0.000000\n",
      "\n",
      "\n"
     ]
    },
    {
     "data": {
      "image/png": "[encoded data removed]",
      "text/plain": [
       "<Figure size 432x288 with 1 Axes>"
      ]
     },
     "metadata": {
      "needs_background": "light"
     },
     "output_type": "display_data"
    },
    {
     "name": "stdout",
     "output_type": "stream",
     "text": [
      "\n",
      "\n",
      "conduct Wilcoxon rank sum test\n",
      "\n",
      "Null hypothesis: the population location(distribution) of energy of blues and jazz music are the same\n",
      "Alternative hypothesis: energy of blues music is greater than jazz music\n",
      "\n",
      "statistics = 6843.500000, p = 0.000000\n",
      "\n",
      "conduct Wilcoxon rank sum test\n",
      "\n",
      "Null hypothesis: the population location(distribution) of energy of country and jazz music are the same\n",
      "Alternative hypothesis: energy of country music is greater than jazz music\n",
      "\n",
      "statistics = 7863.500000, p = 0.000000\n",
      "\n",
      "conduct Wilcoxon rank sum test\n",
      "\n",
      "Null hypothesis: the population location(distribution) of energy of country and blues music are the same\n",
      "Alternative hypothesis: energy of country music is greater than blues music\n",
      "\n",
      "statistics = 4980.000000, p = 0.049172\n",
      "\n"
     ]
    }
   ],
   "source": [
    "compare_mean(a[3],[index('jazz'),index('blues'),index('country')])"
   ]
  },
  {
   "cell_type": "code",
   "execution_count": 42,
   "metadata": {},
   "outputs": [
    {
     "name": "stdout",
     "output_type": "stream",
     "text": [
      "instrumentalness :\n",
      "\n",
      "conduct Kruskal-Wallis Test\n",
      "\n",
      "statistics = 80.266330, p = 0.000000\n",
      "\n",
      "\n"
     ]
    },
    {
     "data": {
      "image/png": "[encoded data removed]",
      "text/plain": [
       "<Figure size 432x288 with 1 Axes>"
      ]
     },
     "metadata": {
      "needs_background": "light"
     },
     "output_type": "display_data"
    },
    {
     "name": "stdout",
     "output_type": "stream",
     "text": [
      "\n",
      "\n",
      "conduct Wilcoxon rank sum test\n",
      "\n",
      "Null hypothesis: the population location(distribution) of instrumentalness of jazz and blues music are the same\n",
      "Alternative hypothesis: instrumentalness of jazz music is greater than blues music\n",
      "\n",
      "statistics = 6364.500000, p = 0.000000\n",
      "\n",
      "conduct Wilcoxon rank sum test\n",
      "\n",
      "Null hypothesis: the population location(distribution) of instrumentalness of jazz and country music are the same\n",
      "Alternative hypothesis: instrumentalness of jazz music is greater than country music\n",
      "\n",
      "statistics = 7980.500000, p = 0.000000\n",
      "\n",
      "conduct Wilcoxon rank sum test\n",
      "\n",
      "Null hypothesis: the population location(distribution) of instrumentalness of blues and country music are the same\n",
      "Alternative hypothesis: instrumentalness of blues music is greater than country music\n",
      "\n",
      "statistics = 6045.500000, p = 0.000001\n",
      "\n"
     ]
    }
   ],
   "source": [
    "compare_mean(a[4],[index('jazz'),index('blues'),index('country')])"
   ]
  },
  {
   "cell_type": "code",
   "execution_count": 43,
   "metadata": {},
   "outputs": [
    {
     "name": "stdout",
     "output_type": "stream",
     "text": [
      "liveness :\n",
      "\n",
      "conduct Kruskal-Wallis Test\n",
      "\n",
      "statistics = 1.549111, p = 0.460909\n",
      "\n",
      "\n"
     ]
    },
    {
     "data": {
      "image/png": "[encoded data removed]",
      "text/plain": [
       "<Figure size 432x288 with 1 Axes>"
      ]
     },
     "metadata": {
      "needs_background": "light"
     },
     "output_type": "display_data"
    }
   ],
   "source": [
    "compare_mean(a[5],[index('jazz'),index('blues'),index('country')])"
   ]
  },
  {
   "cell_type": "code",
   "execution_count": 44,
   "metadata": {},
   "outputs": [
    {
     "name": "stdout",
     "output_type": "stream",
     "text": [
      "speechiness :\n",
      "\n",
      "conduct Kruskal-Wallis Test\n",
      "\n",
      "statistics = 30.689468, p = 0.000000\n",
      "\n",
      "\n"
     ]
    },
    {
     "data": {
      "image/png": "[encoded data removed]",
      "text/plain": [
       "<Figure size 432x288 with 1 Axes>"
      ]
     },
     "metadata": {
      "needs_background": "light"
     },
     "output_type": "display_data"
    },
    {
     "name": "stdout",
     "output_type": "stream",
     "text": [
      "\n",
      "\n",
      "conduct Wilcoxon rank sum test\n",
      "\n",
      "Null hypothesis: the population location(distribution) of speechiness of jazz and country music are the same\n",
      "Alternative hypothesis: speechiness of jazz music is greater than country music\n",
      "\n",
      "statistics = 6669.000000, p = 0.000000\n",
      "\n",
      "conduct Wilcoxon rank sum test\n",
      "\n",
      "Null hypothesis: the population location(distribution) of speechiness of blues and country music are the same\n",
      "Alternative hypothesis: speechiness of blues music is greater than country music\n",
      "\n",
      "statistics = 6042.500000, p = 0.000003\n",
      "\n"
     ]
    }
   ],
   "source": [
    "compare_mean(a[6],[index('jazz'),index('blues'),index('country')])"
   ]
  },
  {
   "cell_type": "code",
   "execution_count": 45,
   "metadata": {},
   "outputs": [
    {
     "name": "stdout",
     "output_type": "stream",
     "text": [
      "duration_ms :\n",
      "\n",
      "conduct Kruskal-Wallis Test\n",
      "\n",
      "statistics = 2.283789, p = 0.319214\n",
      "\n",
      "\n"
     ]
    },
    {
     "data": {
      "image/png": "[encoded data removed]",
      "text/plain": [
       "<Figure size 432x288 with 1 Axes>"
      ]
     },
     "metadata": {
      "needs_background": "light"
     },
     "output_type": "display_data"
    }
   ],
   "source": [
    "compare_mean(a[7],[index('jazz'),index('blues'),index('country')])"
   ]
  },
  {
   "cell_type": "code",
   "execution_count": 46,
   "metadata": {},
   "outputs": [
    {
     "name": "stdout",
     "output_type": "stream",
     "text": [
      "key :\n",
      "\n",
      "conduct Kruskal-Wallis Test\n",
      "\n",
      "statistics = 0.321903, p = 0.851333\n",
      "\n",
      "\n"
     ]
    },
    {
     "data": {
      "image/png": "[encoded data removed]",
      "text/plain": [
       "<Figure size 432x288 with 1 Axes>"
      ]
     },
     "metadata": {
      "needs_background": "light"
     },
     "output_type": "display_data"
    }
   ],
   "source": [
    "compare_mean(a[8],[index('jazz'),index('blues'),index('country')])"
   ]
  },
  {
   "cell_type": "code",
   "execution_count": 47,
   "metadata": {},
   "outputs": [
    {
     "name": "stdout",
     "output_type": "stream",
     "text": [
      "loudness :\n",
      "\n",
      "conduct Kruskal-Wallis Test\n",
      "\n",
      "statistics = 73.603009, p = 0.000000\n",
      "\n",
      "\n"
     ]
    },
    {
     "data": {
      "image/png": "[encoded data removed]",
      "text/plain": [
       "<Figure size 432x288 with 1 Axes>"
      ]
     },
     "metadata": {
      "needs_background": "light"
     },
     "output_type": "display_data"
    },
    {
     "name": "stdout",
     "output_type": "stream",
     "text": [
      "\n",
      "\n",
      "conduct Wilcoxon rank sum test\n",
      "\n",
      "Null hypothesis: the population location(distribution) of loudness of blues and jazz music are the same\n",
      "Alternative hypothesis: loudness of blues music is greater than jazz music\n",
      "\n",
      "statistics = 6819.000000, p = 0.000000\n",
      "\n",
      "conduct Wilcoxon rank sum test\n",
      "\n",
      "Null hypothesis: the population location(distribution) of loudness of country and jazz music are the same\n",
      "Alternative hypothesis: loudness of country music is greater than jazz music\n",
      "\n",
      "statistics = 7818.000000, p = 0.000000\n",
      "\n",
      "conduct Wilcoxon rank sum test\n",
      "\n",
      "Null hypothesis: the population location(distribution) of loudness of country and blues music are the same\n",
      "Alternative hypothesis: loudness of country music is greater than blues music\n",
      "\n",
      "statistics = 5323.500000, p = 0.004920\n",
      "\n"
     ]
    }
   ],
   "source": [
    "compare_mean(a[9],[index('jazz'),index('blues'),index('country')])"
   ]
  },
  {
   "cell_type": "code",
   "execution_count": 48,
   "metadata": {},
   "outputs": [
    {
     "name": "stdout",
     "output_type": "stream",
     "text": [
      "tempo :\n",
      "\n",
      "conduct Kruskal-Wallis Test\n",
      "\n",
      "statistics = 7.323996, p = 0.025681\n",
      "\n",
      "\n"
     ]
    },
    {
     "data": {
      "image/png": "[encoded data removed]",
      "text/plain": [
       "<Figure size 432x288 with 1 Axes>"
      ]
     },
     "metadata": {
      "needs_background": "light"
     },
     "output_type": "display_data"
    },
    {
     "name": "stdout",
     "output_type": "stream",
     "text": [
      "\n",
      "\n",
      "conduct Wilcoxon rank sum test\n",
      "\n",
      "Null hypothesis: the population location(distribution) of tempo of blues and jazz music are the same\n",
      "Alternative hypothesis: tempo of blues music is greater than jazz music\n",
      "\n",
      "statistics = 5259.000000, p = 0.016683\n",
      "\n",
      "conduct Wilcoxon rank sum test\n",
      "\n",
      "Null hypothesis: the population location(distribution) of tempo of country and jazz music are the same\n",
      "Alternative hypothesis: tempo of country music is greater than jazz music\n",
      "\n",
      "statistics = 5680.000000, p = 0.006300\n",
      "\n"
     ]
    }
   ],
   "source": [
    "compare_mean(a[10],[index('jazz'),index('blues'),index('country')])"
   ]
  },
  {
   "cell_type": "code",
   "execution_count": 49,
   "metadata": {},
   "outputs": [
    {
     "name": "stdout",
     "output_type": "stream",
     "text": [
      "valence :\n",
      "\n",
      "conduct Kruskal-Wallis Test\n",
      "\n",
      "statistics = 9.776861, p = 0.007533\n",
      "\n",
      "\n"
     ]
    },
    {
     "data": {
      "image/png": "[encoded data removed]",
      "text/plain": [
       "<Figure size 432x288 with 1 Axes>"
      ]
     },
     "metadata": {
      "needs_background": "light"
     },
     "output_type": "display_data"
    },
    {
     "name": "stdout",
     "output_type": "stream",
     "text": [
      "\n",
      "\n",
      "conduct Wilcoxon rank sum test\n",
      "\n",
      "Null hypothesis: the population location(distribution) of valence of blues and jazz music are the same\n",
      "Alternative hypothesis: valence of blues music is greater than jazz music\n",
      "\n",
      "statistics = 5212.000000, p = 0.022611\n",
      "\n",
      "conduct Wilcoxon rank sum test\n",
      "\n",
      "Null hypothesis: the population location(distribution) of valence of country and jazz music are the same\n",
      "Alternative hypothesis: valence of country music is greater than jazz music\n",
      "\n",
      "statistics = 5890.500000, p = 0.001210\n",
      "\n"
     ]
    }
   ],
   "source": [
    "compare_mean(a[11],[index('jazz'),index('blues'),index('country')])"
   ]
  },
  {
   "cell_type": "code",
   "execution_count": 50,
   "metadata": {},
   "outputs": [
    {
     "name": "stdout",
     "output_type": "stream",
     "text": [
      "available_market :\n",
      "\n",
      "conduct Kruskal-Wallis Test\n",
      "\n",
      "statistics = 5.092192, p = 0.078387\n",
      "\n",
      "\n"
     ]
    },
    {
     "data": {
      "image/png": "[encoded data removed]",
      "text/plain": [
       "<Figure size 432x288 with 1 Axes>"
      ]
     },
     "metadata": {
      "needs_background": "light"
     },
     "output_type": "display_data"
    }
   ],
   "source": [
    "compare_mean(a[12],[index('jazz'),index('blues'),index('country')])"
   ]
  },
  {
   "cell_type": "markdown",
   "metadata": {},
   "source": [
    "**<font face=\"微軟正黑體\">結論與建議</font>**\n",
    "---"
   ]
  },
  {
   "cell_type": "code",
   "execution_count": null,
   "metadata": {},
   "outputs": [],
   "source": []
  },
  {
   "cell_type": "code",
   "execution_count": null,
   "metadata": {},
   "outputs": [],
   "source": []
  },
  {
   "cell_type": "code",
   "execution_count": null,
   "metadata": {},
   "outputs": [],
   "source": []
  }
 ],
 "metadata": {
  "kernelspec": {
   "display_name": "Python 3",
   "language": "python",
   "name": "python3"
  },
  "language_info": {
   "codemirror_mode": {
    "name": "ipython",
    "version": 3
   },
   "file_extension": ".py",
   "mimetype": "text/x-python",
   "name": "python",
   "nbconvert_exporter": "python",
   "pygments_lexer": "ipython3",
   "version": "3.7.4"
  }
 },
 "nbformat": 4,
 "nbformat_minor": 4
}
